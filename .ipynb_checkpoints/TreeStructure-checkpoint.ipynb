{
 "cells": [
  {
   "cell_type": "code",
   "execution_count": 1,
   "id": "99017f0e",
   "metadata": {},
   "outputs": [],
   "source": [
    "from openbabel import openbabel"
   ]
  },
  {
   "cell_type": "code",
   "execution_count": 2,
   "id": "3456a4d6",
   "metadata": {},
   "outputs": [],
   "source": [
    "from rdkit import Chem\n",
    "from rdkit.Chem import rdBase\n",
    "from rdkit.Chem import Draw\n",
    "from rdkit.Chem.Draw import IPythonConsole\n",
    "from rdkit.Chem import Descriptors\n",
    "from rdkit.Chem import Crippen"
   ]
  },
  {
   "cell_type": "code",
   "execution_count": 3,
   "id": "3dd9631d",
   "metadata": {},
   "outputs": [],
   "source": [
    "import pandas as pd\n",
    "import matplotlib.pyplot as plt\n",
    "import numpy as np\n",
    "import scipy.stats as ss"
   ]
  },
  {
   "cell_type": "code",
   "execution_count": 4,
   "id": "8d2ae830",
   "metadata": {},
   "outputs": [],
   "source": [
    "#pip install treelib"
   ]
  },
  {
   "cell_type": "code",
   "execution_count": 5,
   "id": "41eb468f",
   "metadata": {},
   "outputs": [],
   "source": [
    "from treelib import Node, Tree"
   ]
  },
  {
   "cell_type": "code",
   "execution_count": 6,
   "id": "693b265a",
   "metadata": {},
   "outputs": [],
   "source": [
    "tree = Tree()"
   ]
  },
  {
   "cell_type": "code",
   "execution_count": 7,
   "id": "d1f99777",
   "metadata": {},
   "outputs": [],
   "source": [
    "class Molecule(object):\n",
    "    def __init__(self, path):\n",
    "        self.path = path"
   ]
  },
  {
   "cell_type": "code",
   "execution_count": 8,
   "id": "f3fae8bc",
   "metadata": {},
   "outputs": [
    {
     "data": {
      "text/plain": [
       "Node(tag=H, identifier=H, data=<__main__.Molecule object at 0x10374c7f0>)"
      ]
     },
     "execution_count": 8,
     "metadata": {},
     "output_type": "execute_result"
    }
   ],
   "source": [
    "tree.create_node('H', 'H', data=Molecule(''))"
   ]
  },
  {
   "cell_type": "code",
   "execution_count": 9,
   "id": "c50fcfd8",
   "metadata": {},
   "outputs": [
    {
     "data": {
      "text/plain": [
       "Node(tag=F, identifier=F, data=<__main__.Molecule object at 0x13a683340>)"
      ]
     },
     "execution_count": 9,
     "metadata": {},
     "output_type": "execute_result"
    }
   ],
   "source": [
    "tree.create_node('F', 'F', parent='H', data=Molecule('H'))"
   ]
  },
  {
   "cell_type": "code",
   "execution_count": 10,
   "id": "369a1813",
   "metadata": {},
   "outputs": [
    {
     "data": {
      "text/plain": [
       "Node(tag=A, identifier=A, data=<__main__.Molecule object at 0x13a6830a0>)"
      ]
     },
     "execution_count": 10,
     "metadata": {},
     "output_type": "execute_result"
    }
   ],
   "source": [
    "tree.create_node('A', 'A', parent='H', data=Molecule('H'))"
   ]
  },
  {
   "cell_type": "code",
   "execution_count": 11,
   "id": "b036a254",
   "metadata": {},
   "outputs": [
    {
     "data": {
      "text/plain": [
       "Node(tag=G, identifier=G, data=<__main__.Molecule object at 0x13a6831f0>)"
      ]
     },
     "execution_count": 11,
     "metadata": {},
     "output_type": "execute_result"
    }
   ],
   "source": [
    "tree.create_node('G', 'G', parent='H', data=Molecule('H'))"
   ]
  },
  {
   "cell_type": "code",
   "execution_count": 12,
   "id": "2a58b63d",
   "metadata": {},
   "outputs": [
    {
     "name": "stdout",
     "output_type": "stream",
     "text": [
      "H\n",
      "├── A\n",
      "├── F\n",
      "└── G\n",
      "\n"
     ]
    }
   ],
   "source": [
    "tree.show()"
   ]
  },
  {
   "cell_type": "code",
   "execution_count": 13,
   "id": "946561e3",
   "metadata": {
    "scrolled": true
   },
   "outputs": [
    {
     "name": "stdout",
     "output_type": "stream",
     "text": [
      "\n",
      "├── H\n",
      "├── H\n",
      "└── H\n",
      "\n"
     ]
    }
   ],
   "source": [
    "tree.show(data_property=\"path\")"
   ]
  },
  {
   "cell_type": "code",
   "execution_count": 14,
   "id": "6f2043e0",
   "metadata": {},
   "outputs": [],
   "source": [
    "node = tree.get_node('G')"
   ]
  },
  {
   "cell_type": "code",
   "execution_count": 393,
   "id": "e595a316",
   "metadata": {},
   "outputs": [
    {
     "data": {
      "text/plain": [
       "True"
      ]
     },
     "execution_count": 393,
     "metadata": {},
     "output_type": "execute_result"
    }
   ],
   "source": [
    "type(node.data.path) == str"
   ]
  },
  {
   "cell_type": "code",
   "execution_count": 43,
   "id": "4eed361a",
   "metadata": {},
   "outputs": [],
   "source": [
    "b = tree.all_nodes()"
   ]
  },
  {
   "cell_type": "code",
   "execution_count": 129,
   "id": "8ad1dd63",
   "metadata": {},
   "outputs": [
    {
     "data": {
      "text/plain": [
       "Node(tag=H, identifier=H, data=<__main__.Molecule object at 0x13a7bfb80>)"
      ]
     },
     "execution_count": 129,
     "metadata": {},
     "output_type": "execute_result"
    }
   ],
   "source": [
    "b[0]"
   ]
  },
  {
   "cell_type": "code",
   "execution_count": 280,
   "id": "4ec9a3ad",
   "metadata": {},
   "outputs": [],
   "source": [
    "def split(word):\n",
    "    return[char for char in word]"
   ]
  },
  {
   "cell_type": "code",
   "execution_count": 339,
   "id": "d3528f8d",
   "metadata": {},
   "outputs": [],
   "source": [
    "def index_finder(Product, rels, path):\n",
    "    index = 0\n",
    "    for i in range(len(rels['Reagent'])):\n",
    "        found_index = False\n",
    "        if rels['Reagent'][i] == Product and rels['Formed/Produced'][i] == 1:\n",
    "            valid = True\n",
    "            precursors = precursor_finder(rels['Index'][i], rels)\n",
    "            print(rels['Index'][i])\n",
    "            print(precursors)\n",
    "            for j in range(len(precursors)):\n",
    "                if precursors[j] in path:\n",
    "                    valid = False\n",
    "                    break\n",
    "            if valid == True:\n",
    "                found_index = True\n",
    "        if found_index == True:\n",
    "            index = rels['Index'][i]\n",
    "            return(index)\n",
    "            break"
   ]
  },
  {
   "cell_type": "code",
   "execution_count": 340,
   "id": "80123cf6",
   "metadata": {},
   "outputs": [],
   "source": [
    "def precursor_finder(index, rels):\n",
    "    precursors = []\n",
    "    for i in range(len(rels['Index'])):\n",
    "        if rels['Index'][i] == index and rels['Formed/Produced'][i] == -1:\n",
    "            precursors.append(rels['Reagent'][i])\n",
    "    return(precursors)"
   ]
  },
  {
   "cell_type": "code",
   "execution_count": 347,
   "id": "83650c40",
   "metadata": {},
   "outputs": [],
   "source": [
    "def find_component(node, rels):\n",
    "    Product = node.tag\n",
    "    path = (node.data).path\n",
    "    index = index_finder(Product, rels, path)\n",
    "    precursors = precursor_finder(index, rels)\n",
    "    return(precursors)"
   ]
  },
  {
   "cell_type": "code",
   "execution_count": 413,
   "id": "eeb242e2",
   "metadata": {},
   "outputs": [],
   "source": [
    "def map_tree(Smiles, rels):\n",
    "    rels = pd.read_csv(rels, sep='\\t')\n",
    "    base_molecules = ['N', 'C=O', 'C(CO)=O', 'O']\n",
    "    tree = Tree()\n",
    "    tree.create_node(Smiles, 0, data=Molecule([Smiles]))\n",
    "    finished = False\n",
    "    level_counter = 0\n",
    "    node_counter = 0\n",
    "    while finished == False:\n",
    "        print(level_counter)\n",
    "        nodes = tree.all_nodes()\n",
    "        active_nodes = []\n",
    "        for i in range(len(nodes)):\n",
    "            tag = nodes[i].tag\n",
    "            level = tree.depth(nodes[i])\n",
    "            if level == level_counter and tag not in base_molecules:\n",
    "                active_nodes.append(nodes[i])\n",
    "        if active_nodes == []:\n",
    "            finished = True\n",
    "            break\n",
    "        else:\n",
    "            for i in range(len(active_nodes)):\n",
    "                precursors = find_component(active_nodes[i], rels)\n",
    "                product = active_nodes[i].identifier\n",
    "                dummy = (active_nodes[i].data).path\n",
    "                place = []\n",
    "                for k in range(len(dummy)):\n",
    "                    place.append(dummy[k])\n",
    "                for j in range(len(precursors)):\n",
    "                    node_counter +=1\n",
    "                    tree.create_node(precursors[j], node_counter, parent=product, data=Molecule(place + [precursors[j]]))\n",
    "            level_counter+=1\n",
    "    return(tree)"
   ]
  },
  {
   "cell_type": "code",
   "execution_count": 430,
   "id": "f8da44a9",
   "metadata": {},
   "outputs": [
    {
     "name": "stdout",
     "output_type": "stream",
     "text": [
      "0\n",
      "1614_0\n",
      "['C(CN)(O)=O', 'C(C(C(CO)N)O)=O']\n",
      "1\n",
      "63_0\n",
      "['C=O', 'O', 'C(CN)=O']\n",
      "106_0\n",
      "['N', 'C(C(C(CO)O)O)=O']\n",
      "2\n",
      "10_0\n",
      "['N', 'C(CO)=O']\n",
      "7_0\n",
      "['C(CO)=O', 'C(CO)=O']\n",
      "3\n",
      "CPU times: user 25.2 s, sys: 64.1 ms, total: 25.2 s\n",
      "Wall time: 25.3 s\n"
     ]
    }
   ],
   "source": [
    "%%time\n",
    "a = map_tree('C(C(C(C(C(CO)N)O)O)N)(O)=O', './FormoseAmmData/FormoseAmm_rels.tsv')"
   ]
  },
  {
   "cell_type": "code",
   "execution_count": 431,
   "id": "736c45e2",
   "metadata": {},
   "outputs": [
    {
     "name": "stdout",
     "output_type": "stream",
     "text": [
      "C(C(C(C(C(CO)N)O)O)N)(O)=O\n",
      "├── C(C(C(CO)N)O)=O\n",
      "│   ├── C(C(C(CO)O)O)=O\n",
      "│   │   ├── C(CO)=O\n",
      "│   │   └── C(CO)=O\n",
      "│   └── N\n",
      "└── C(CN)(O)=O\n",
      "    ├── C(CN)=O\n",
      "    │   ├── C(CO)=O\n",
      "    │   └── N\n",
      "    ├── C=O\n",
      "    └── O\n",
      "\n"
     ]
    }
   ],
   "source": [
    "a.show()"
   ]
  },
  {
   "cell_type": "code",
   "execution_count": 427,
   "id": "711246e7",
   "metadata": {
    "scrolled": true
   },
   "outputs": [
    {
     "name": "stdout",
     "output_type": "stream",
     "text": [
      "['C(C(C(C(CN)O)O)=O)(O)=O']\n",
      "├── ['C(C(C(C(CN)O)O)=O)(O)=O', 'C(C(C(C(CN)O)O)N)(O)=O']\n",
      "│   ├── ['C(C(C(C(CN)O)O)=O)(O)=O', 'C(C(C(C(CN)O)O)N)(O)=O', 'C(C(CN)O)=O']\n",
      "│   │   ├── ['C(C(C(C(CN)O)O)=O)(O)=O', 'C(C(C(C(CN)O)O)N)(O)=O', 'C(C(CN)O)=O', 'C(C(CO)O)=O']\n",
      "│   │   │   ├── ['C(C(C(C(CN)O)O)=O)(O)=O', 'C(C(C(C(CN)O)O)N)(O)=O', 'C(C(CN)O)=O', 'C(C(CO)O)=O', 'C(CO)=O']\n",
      "│   │   │   └── ['C(C(C(C(CN)O)O)=O)(O)=O', 'C(C(C(C(CN)O)O)N)(O)=O', 'C(C(CN)O)=O', 'C(C(CO)O)=O', 'C=O']\n",
      "│   │   └── ['C(C(C(C(CN)O)O)=O)(O)=O', 'C(C(C(C(CN)O)O)N)(O)=O', 'C(C(CN)O)=O', 'N']\n",
      "│   └── ['C(C(C(C(CN)O)O)=O)(O)=O', 'C(C(C(C(CN)O)O)N)(O)=O', 'C(CN)(O)=O']\n",
      "│       ├── ['C(C(C(C(CN)O)O)=O)(O)=O', 'C(C(C(C(CN)O)O)N)(O)=O', 'C(CN)(O)=O', 'C(CN)=O']\n",
      "│       │   ├── ['C(C(C(C(CN)O)O)=O)(O)=O', 'C(C(C(C(CN)O)O)N)(O)=O', 'C(CN)(O)=O', 'C(CN)=O', 'C(CO)=O']\n",
      "│       │   └── ['C(C(C(C(CN)O)O)=O)(O)=O', 'C(C(C(C(CN)O)O)N)(O)=O', 'C(CN)(O)=O', 'C(CN)=O', 'N']\n",
      "│       ├── ['C(C(C(C(CN)O)O)=O)(O)=O', 'C(C(C(C(CN)O)O)N)(O)=O', 'C(CN)(O)=O', 'C=O']\n",
      "│       └── ['C(C(C(C(CN)O)O)=O)(O)=O', 'C(C(C(C(CN)O)O)N)(O)=O', 'C(CN)(O)=O', 'O']\n",
      "└── ['C(C(C(C(CN)O)O)=O)(O)=O', 'C(C(O)=O)=O']\n",
      "    ├── ['C(C(C(C(CN)O)O)=O)(O)=O', 'C(C(O)=O)=O', 'C(C=O)=O']\n",
      "    │   └── ['C(C(C(C(CN)O)O)=O)(O)=O', 'C(C(O)=O)=O', 'C(C=O)=O', 'C(CO)(O)=O']\n",
      "    │       ├── ['C(C(C(C(CN)O)O)=O)(O)=O', 'C(C(O)=O)=O', 'C(C=O)=O', 'C(CO)(O)=O', 'C(CO)=O']\n",
      "    │       ├── ['C(C(C(C(CN)O)O)=O)(O)=O', 'C(C(O)=O)=O', 'C(C=O)=O', 'C(CO)(O)=O', 'C=O']\n",
      "    │       └── ['C(C(C(C(CN)O)O)=O)(O)=O', 'C(C(O)=O)=O', 'C(C=O)=O', 'C(CO)(O)=O', 'O']\n",
      "    ├── ['C(C(C(C(CN)O)O)=O)(O)=O', 'C(C(O)=O)=O', 'C=O']\n",
      "    └── ['C(C(C(C(CN)O)O)=O)(O)=O', 'C(C(O)=O)=O', 'O']\n",
      "\n"
     ]
    }
   ],
   "source": [
    "a.show(data_property='path')"
   ]
  },
  {
   "cell_type": "code",
   "execution_count": null,
   "id": "461444e8",
   "metadata": {},
   "outputs": [],
   "source": []
  }
 ],
 "metadata": {
  "kernelspec": {
   "display_name": "Python 3",
   "language": "python",
   "name": "python3"
  },
  "language_info": {
   "codemirror_mode": {
    "name": "ipython",
    "version": 3
   },
   "file_extension": ".py",
   "mimetype": "text/x-python",
   "name": "python",
   "nbconvert_exporter": "python",
   "pygments_lexer": "ipython3",
   "version": "3.9.4"
  }
 },
 "nbformat": 4,
 "nbformat_minor": 5
}
