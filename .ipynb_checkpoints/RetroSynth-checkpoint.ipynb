{
 "cells": [
  {
   "cell_type": "code",
   "execution_count": 1,
   "id": "042717cf",
   "metadata": {},
   "outputs": [],
   "source": [
    "from openbabel import openbabel"
   ]
  },
  {
   "cell_type": "code",
   "execution_count": 2,
   "id": "2715eef9",
   "metadata": {},
   "outputs": [],
   "source": [
    "from rdkit import Chem\n",
    "from rdkit.Chem import rdBase\n",
    "from rdkit.Chem import Draw\n",
    "from rdkit.Chem.Draw import IPythonConsole\n",
    "from rdkit.Chem import Descriptors\n",
    "from rdkit.Chem import Crippen"
   ]
  },
  {
   "cell_type": "code",
   "execution_count": 3,
   "id": "3ec456a6",
   "metadata": {},
   "outputs": [],
   "source": [
    "import pandas as pd\n",
    "import matplotlib.pyplot as plt\n",
    "import numpy as np\n",
    "import scipy.stats as ss"
   ]
  },
  {
   "cell_type": "code",
   "execution_count": 117,
   "id": "dd510eb7",
   "metadata": {},
   "outputs": [],
   "source": [
    "matches_data = pd.read_csv('./MatchedDataNoStereo/FormoseAmm/NoStereoFormoseAmm.tsv', sep='\\t')"
   ]
  },
  {
   "cell_type": "code",
   "execution_count": 118,
   "id": "a94bc655",
   "metadata": {},
   "outputs": [],
   "source": [
    "FormoseAmm_rels = pd.read_csv('./FormoseAmmData/FormoseAmm_rels.tsv', sep='\\t')"
   ]
  },
  {
   "cell_type": "code",
   "execution_count": 119,
   "id": "19a65103",
   "metadata": {},
   "outputs": [],
   "source": [
    "def index_finder(Smiles, pathway):\n",
    "    index = 0\n",
    "    rule = 0\n",
    "    for i in range(len(FormoseAmm_rels['Reagent'])):\n",
    "        if FormoseAmm_rels['Reagent'][i] == Smiles and FormoseAmm_rels['Formed/Produced'][i] == 1 and precursor_finder(FormoseAmm_rels['Index'][i]) not in pathway and precursor_finder(FormoseAmm_rels['Index'][i]) != FormoseAmm_rels['Reagent'][i]:\n",
    "            index = FormoseAmm_rels['Index'][i] \n",
    "            rule = FormoseAmm_rels['Rule'][i]\n",
    "            break\n",
    "    return(index, rule)"
   ]
  },
  {
   "cell_type": "code",
   "execution_count": 120,
   "id": "d049aede",
   "metadata": {},
   "outputs": [],
   "source": [
    "def precursor_finder(index):\n",
    "    precursor = 0\n",
    "    for i in range(len(FormoseAmm_rels['Index'])):\n",
    "        if FormoseAmm_rels['Index'][i] == index and FormoseAmm_rels['Formed/Produced'][i] == -1:\n",
    "            precursor = FormoseAmm_rels['Reagent'][i]\n",
    "            break\n",
    "    return(precursor)"
   ]
  },
  {
   "cell_type": "code",
   "execution_count": 121,
   "id": "61ccd4de",
   "metadata": {},
   "outputs": [],
   "source": [
    "def pathway_finder(Smiles):\n",
    "    pathway = [Smiles]\n",
    "    G0 = ['N', 'C=O', 'C(CO)=O', 'O']\n",
    "    pathway_complete = False\n",
    "    while pathway_complete == False:\n",
    "        index = 0\n",
    "        rule = 0\n",
    "        index, rule = index_finder(pathway[-1], pathway)\n",
    "        if index == 0 or pathway[-1] in G0:\n",
    "            pathway_complete == True\n",
    "            break\n",
    "        else:\n",
    "            precursor = precursor_finder(index)\n",
    "            pathway.append([index, rule])\n",
    "            pathway.append(precursor_finder(index))\n",
    "    return(pathway)"
   ]
  },
  {
   "cell_type": "code",
   "execution_count": 124,
   "id": "b011b280",
   "metadata": {},
   "outputs": [
    {
     "name": "stdout",
     "output_type": "stream",
     "text": [
      "500\n",
      "1000\n",
      "1500\n",
      "2000\n",
      "2500\n",
      "3000\n",
      "3500\n",
      "4000\n",
      "4500\n",
      "5000\n",
      "CPU times: user 2h 32min 2s, sys: 29.1 s, total: 2h 32min 31s\n",
      "Wall time: 2h 33min 55s\n"
     ]
    }
   ],
   "source": [
    "%%time\n",
    "pathways = []\n",
    "checkpoints = [500, 1000, 1500, 2000, 2500, 3000, 3500, 4000, 4500, 5000]\n",
    "for i in range(len(matches_data['Smiles'])): \n",
    "    pathways.append(pathway_finder(matches_data['Smiles'][i]))\n",
    "    if i in checkpoints:\n",
    "        print(i)"
   ]
  },
  {
   "cell_type": "code",
   "execution_count": 125,
   "id": "c6ebd8ef",
   "metadata": {},
   "outputs": [
    {
     "name": "stdout",
     "output_type": "stream",
     "text": [
      "0\n",
      "5106\n"
     ]
    }
   ],
   "source": [
    "G0 = ['N', 'C=O', 'C(CO)=O', 'O']\n",
    "counter = 0\n",
    "for i in range(len(pathways)):\n",
    "    if pathways[i][-1] not in G0:\n",
    "        counter +=1\n",
    "print(counter)\n",
    "print(len(pathways))"
   ]
  },
  {
   "cell_type": "code",
   "execution_count": 127,
   "id": "4ca34223",
   "metadata": {},
   "outputs": [],
   "source": [
    "matches_data['Pathways'] = pathways"
   ]
  },
  {
   "cell_type": "code",
   "execution_count": 128,
   "id": "0dea1345",
   "metadata": {},
   "outputs": [
    {
     "data": {
      "text/html": [
       "<div>\n",
       "<style scoped>\n",
       "    .dataframe tbody tr th:only-of-type {\n",
       "        vertical-align: middle;\n",
       "    }\n",
       "\n",
       "    .dataframe tbody tr th {\n",
       "        vertical-align: top;\n",
       "    }\n",
       "\n",
       "    .dataframe thead th {\n",
       "        text-align: right;\n",
       "    }\n",
       "</style>\n",
       "<table border=\"1\" class=\"dataframe\">\n",
       "  <thead>\n",
       "    <tr style=\"text-align: right;\">\n",
       "      <th></th>\n",
       "      <th>Generation</th>\n",
       "      <th>Inchi</th>\n",
       "      <th>Smiles</th>\n",
       "      <th>Pathways</th>\n",
       "    </tr>\n",
       "  </thead>\n",
       "  <tbody>\n",
       "    <tr>\n",
       "      <th>0</th>\n",
       "      <td>G1</td>\n",
       "      <td>YTBSYETUWUMLBZ</td>\n",
       "      <td>C(C(C(CO)O)O)=O</td>\n",
       "      <td>[C(C(C(CO)O)O)=O, [7_0, Aldol Condensation], C...</td>\n",
       "    </tr>\n",
       "    <tr>\n",
       "      <th>1</th>\n",
       "      <td>G2</td>\n",
       "      <td>RNZJRDIKDNXKIJ</td>\n",
       "      <td>C(C(C(C(CO)O)O)N)=O</td>\n",
       "      <td>[C(C(C(C(CO)O)O)N)=O, [19_0, Aldol Condensatio...</td>\n",
       "    </tr>\n",
       "    <tr>\n",
       "      <th>2</th>\n",
       "      <td>G2</td>\n",
       "      <td>PYMYPHUHKUWMLA</td>\n",
       "      <td>C(C(C(C(CO)O)O)O)=O</td>\n",
       "      <td>[C(C(C(C(CO)O)O)O)=O, [27_0, Aldol Condensatio...</td>\n",
       "    </tr>\n",
       "    <tr>\n",
       "      <th>3</th>\n",
       "      <td>G2</td>\n",
       "      <td>JIDVIMQFVJVPPX</td>\n",
       "      <td>C(C(C(CN)O)O)=O</td>\n",
       "      <td>[C(C(C(CN)O)O)=O, [31_0, Aldol Condensation], ...</td>\n",
       "    </tr>\n",
       "    <tr>\n",
       "      <th>4</th>\n",
       "      <td>G2</td>\n",
       "      <td>UQNPMNUVBRVOCQ</td>\n",
       "      <td>C(C(C(CO)O)N)=O</td>\n",
       "      <td>[C(C(C(CO)O)N)=O, [33_0, Aldol Condensation], ...</td>\n",
       "    </tr>\n",
       "    <tr>\n",
       "      <th>...</th>\n",
       "      <td>...</td>\n",
       "      <td>...</td>\n",
       "      <td>...</td>\n",
       "      <td>...</td>\n",
       "    </tr>\n",
       "    <tr>\n",
       "      <th>5101</th>\n",
       "      <td>G4</td>\n",
       "      <td>ZDOOXLMAGFYHGN</td>\n",
       "      <td>C(CNC(CO)CCO)=O</td>\n",
       "      <td>[C(CNC(CO)CCO)=O, [164219_0, Strecker Degradat...</td>\n",
       "    </tr>\n",
       "    <tr>\n",
       "      <th>5102</th>\n",
       "      <td>G4</td>\n",
       "      <td>RIVOSRXZPBCYBI</td>\n",
       "      <td>C(CC(CO)NCC=O)(O)=O</td>\n",
       "      <td>[C(CC(CO)NCC=O)(O)=O, [164223_0, Strecker Degr...</td>\n",
       "    </tr>\n",
       "    <tr>\n",
       "      <th>5103</th>\n",
       "      <td>G4</td>\n",
       "      <td>WTORPHDZWQHEKH</td>\n",
       "      <td>C(CNC(CN)CCO)=O</td>\n",
       "      <td>[C(CNC(CN)CCO)=O, [164242_0, Strecker Degradat...</td>\n",
       "    </tr>\n",
       "    <tr>\n",
       "      <th>5104</th>\n",
       "      <td>G4</td>\n",
       "      <td>JEPJTNFZHHKCLY</td>\n",
       "      <td>C(CNC(CN)CC(O)=O)=O</td>\n",
       "      <td>[C(CNC(CN)CC(O)=O)=O, [164257_0, Strecker Degr...</td>\n",
       "    </tr>\n",
       "    <tr>\n",
       "      <th>5105</th>\n",
       "      <td>G4</td>\n",
       "      <td>AGXNFKLBJSNQJE</td>\n",
       "      <td>C(CNC(CO)CCN)=O</td>\n",
       "      <td>[C(CNC(CO)CCN)=O, [164267_0, Strecker Degradat...</td>\n",
       "    </tr>\n",
       "  </tbody>\n",
       "</table>\n",
       "<p>5106 rows × 4 columns</p>\n",
       "</div>"
      ],
      "text/plain": [
       "     Generation           Inchi               Smiles  \\\n",
       "0            G1  YTBSYETUWUMLBZ      C(C(C(CO)O)O)=O   \n",
       "1            G2  RNZJRDIKDNXKIJ  C(C(C(C(CO)O)O)N)=O   \n",
       "2            G2  PYMYPHUHKUWMLA  C(C(C(C(CO)O)O)O)=O   \n",
       "3            G2  JIDVIMQFVJVPPX      C(C(C(CN)O)O)=O   \n",
       "4            G2  UQNPMNUVBRVOCQ      C(C(C(CO)O)N)=O   \n",
       "...         ...             ...                  ...   \n",
       "5101         G4  ZDOOXLMAGFYHGN      C(CNC(CO)CCO)=O   \n",
       "5102         G4  RIVOSRXZPBCYBI  C(CC(CO)NCC=O)(O)=O   \n",
       "5103         G4  WTORPHDZWQHEKH      C(CNC(CN)CCO)=O   \n",
       "5104         G4  JEPJTNFZHHKCLY  C(CNC(CN)CC(O)=O)=O   \n",
       "5105         G4  AGXNFKLBJSNQJE      C(CNC(CO)CCN)=O   \n",
       "\n",
       "                                               Pathways  \n",
       "0     [C(C(C(CO)O)O)=O, [7_0, Aldol Condensation], C...  \n",
       "1     [C(C(C(C(CO)O)O)N)=O, [19_0, Aldol Condensatio...  \n",
       "2     [C(C(C(C(CO)O)O)O)=O, [27_0, Aldol Condensatio...  \n",
       "3     [C(C(C(CN)O)O)=O, [31_0, Aldol Condensation], ...  \n",
       "4     [C(C(C(CO)O)N)=O, [33_0, Aldol Condensation], ...  \n",
       "...                                                 ...  \n",
       "5101  [C(CNC(CO)CCO)=O, [164219_0, Strecker Degradat...  \n",
       "5102  [C(CC(CO)NCC=O)(O)=O, [164223_0, Strecker Degr...  \n",
       "5103  [C(CNC(CN)CCO)=O, [164242_0, Strecker Degradat...  \n",
       "5104  [C(CNC(CN)CC(O)=O)=O, [164257_0, Strecker Degr...  \n",
       "5105  [C(CNC(CO)CCN)=O, [164267_0, Strecker Degradat...  \n",
       "\n",
       "[5106 rows x 4 columns]"
      ]
     },
     "execution_count": 128,
     "metadata": {},
     "output_type": "execute_result"
    }
   ],
   "source": [
    "matches_data"
   ]
  },
  {
   "cell_type": "code",
   "execution_count": 129,
   "id": "adf52fac",
   "metadata": {},
   "outputs": [],
   "source": [
    "matches_data.to_csv(r'FormoseAmmPathways.tsv', header=None, index=None, sep='\\t', mode='a') "
   ]
  },
  {
   "cell_type": "code",
   "execution_count": null,
   "id": "a7f82da8",
   "metadata": {},
   "outputs": [],
   "source": []
  }
 ],
 "metadata": {
  "kernelspec": {
   "display_name": "Python 3",
   "language": "python",
   "name": "python3"
  },
  "language_info": {
   "codemirror_mode": {
    "name": "ipython",
    "version": 3
   },
   "file_extension": ".py",
   "mimetype": "text/x-python",
   "name": "python",
   "nbconvert_exporter": "python",
   "pygments_lexer": "ipython3",
   "version": "3.9.4"
  }
 },
 "nbformat": 4,
 "nbformat_minor": 5
}
