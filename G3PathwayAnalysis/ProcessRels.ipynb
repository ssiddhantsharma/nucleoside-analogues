{
 "cells": [
  {
   "cell_type": "code",
   "execution_count": null,
   "id": "6111390b",
   "metadata": {},
   "outputs": [],
   "source": [
    "from rdkit import Chem\n",
    "from rdkit.Chem import rdBase\n",
    "from rdkit.Chem import Draw\n",
    "from rdkit.Chem.Draw import IPythonConsole\n",
    "from rdkit.Chem import Descriptors\n",
    "from rdkit.Chem import Crippen\n",
    "import pandas as pd\n",
    "import matplotlib.pyplot as plt\n",
    "import numpy as np\n",
    "import scipy.stats as ss\n",
    "import csv\n",
    "\n",
    "def indices(lst, element):\n",
    "    result = []\n",
    "    offset = -1\n",
    "    while True:\n",
    "        try:\n",
    "            offset = lst.index(element, offset+1)\n",
    "        except ValueError:\n",
    "            return result\n",
    "        result.append(offset)"
   ]
  },
  {
   "cell_type": "code",
   "execution_count": null,
   "id": "ea254afc",
   "metadata": {},
   "outputs": [],
   "source": [
    "def ProcessRels(path, title):\n",
    "    Rels_data = pd.read_csv(path, sep='\\t')\n",
    "    indexes = []\n",
    "    rules = []\n",
    "    for i in range(len(Rels_data['Index'])):\n",
    "        if Rels_data['Index'][i] not in indexes:\n",
    "            indexes.append(Rels_data['Index'][i])\n",
    "            rules.append(Rels_data['Rule'][i])\n",
    "        if i%10000 == 0:\n",
    "            print(i)\n",
    "    print('Checkpoint')\n",
    "    reactions = []\n",
    "    reagents = []\n",
    "    products = []\n",
    "    for i in range(len(Rels_data['Index'])):\n",
    "        reactions.append(Rels_data['Index'][i])\n",
    "    print('Checkpoint 2')\n",
    "    print(len(indexes))\n",
    "    for i in range(len(indexes)):\n",
    "        if i%5000 == 0:\n",
    "            print(i)\n",
    "        molecules = []\n",
    "        coefficients = []\n",
    "        dummy = indices(reactions, indexes[i])\n",
    "        for j in range(len(dummy)):\n",
    "            molecules.append(Rels_data['Reagent'][dummy[j]])\n",
    "            coefficients.append(Rels_data['Formed/Produced'][dummy[j]])\n",
    "        used = []\n",
    "        made = []\n",
    "        for k in range(len(coefficients)):\n",
    "            if coefficients[k] == 1:\n",
    "                made.append(molecules[k])\n",
    "            else:\n",
    "                used.append(molecules[k])\n",
    "        reagents.append(used)\n",
    "        products.append(made)\n",
    "    data = {'Index': indexes, 'Reagents': reagents, 'Products': products, 'Rule': rules}\n",
    "    df = pd.DataFrame(data)\n",
    "    df.to_csv(f'{title}G3ProcessedRels.tsv', header=None, index=None, sep='\\t', mode='a')\n",
    "    return(df)"
   ]
  },
  {
   "cell_type": "code",
   "execution_count": null,
   "id": "f04d719f",
   "metadata": {},
   "outputs": [],
   "source": [
    "%%time\n",
    "b = ProcessRels('GlucoseAmmoniarels_3.tsv', 'GlucoseAmmonia')"
   ]
  },
  {
   "cell_type": "code",
   "execution_count": null,
   "id": "893c0c47",
   "metadata": {},
   "outputs": [],
   "source": [
    "b"
   ]
  }
 ],
 "metadata": {
  "kernelspec": {
   "display_name": "Python [conda env:my-rdkit-env] *",
   "language": "python",
   "name": "conda-env-my-rdkit-env-py"
  },
  "language_info": {
   "codemirror_mode": {
    "name": "ipython",
    "version": 3
   },
   "file_extension": ".py",
   "mimetype": "text/x-python",
   "name": "python",
   "nbconvert_exporter": "python",
   "pygments_lexer": "ipython3",
   "version": "3.10.12"
  }
 },
 "nbformat": 4,
 "nbformat_minor": 5
}
