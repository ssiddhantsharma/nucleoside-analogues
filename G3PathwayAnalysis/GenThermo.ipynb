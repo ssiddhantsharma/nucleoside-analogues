{
 "cells": [
  {
   "cell_type": "code",
   "execution_count": null,
   "id": "823f0554",
   "metadata": {},
   "outputs": [],
   "source": [
    "import numpy as np"
   ]
  },
  {
   "cell_type": "code",
   "execution_count": null,
   "id": "7aa26eb0",
   "metadata": {},
   "outputs": [],
   "source": [
    "import pandas as pd"
   ]
  },
  {
   "cell_type": "code",
   "execution_count": null,
   "id": "682dc726",
   "metadata": {},
   "outputs": [],
   "source": [
    "from equilibrator_api import ComponentContribution, Q_\n",
    "CC = ComponentContribution()"
   ]
  },
  {
   "cell_type": "code",
   "execution_count": null,
   "id": "2586295b",
   "metadata": {
    "scrolled": false
   },
   "outputs": [],
   "source": [
    "from equilibrator_assets.generate_compound import create_compound, get_or_create_compound"
   ]
  },
  {
   "cell_type": "code",
   "execution_count": null,
   "id": "72ae31cc",
   "metadata": {},
   "outputs": [],
   "source": [
    "from ast import literal_eval"
   ]
  },
  {
   "cell_type": "code",
   "execution_count": null,
   "id": "17e0e929",
   "metadata": {},
   "outputs": [],
   "source": [
    "def ThermoGen(filepath, compound_cache, compounds, name):\n",
    "    rels = pd.read_csv(filepath, sep='\\t')\n",
    "    indexes = []\n",
    "    rules = []\n",
    "    Reagents = []\n",
    "    Products = []\n",
    "    for i in range(len(rels['Index'])):\n",
    "        indexes.append(rels['Index'][i])\n",
    "        rules.append(rels['Rule'][i])\n",
    "        reagents = literal_eval(rels['Reagents'][i])\n",
    "        Reagents.append(reagents)\n",
    "        products = literal_eval(rels['Products'][i])\n",
    "        Products.append(products)\n",
    "        \n",
    "    mus = []\n",
    "    sigma_vecs = []\n",
    "    for c in compound_cache:\n",
    "        mu = (CC.predictor.preprocess.get_compound_prediction(c))[0]\n",
    "        sigma_vec = (CC.predictor.preprocess.get_compound_prediction(c))[1]\n",
    "        mus.append(mu)\n",
    "        sigma_vecs.append(sigma_vec)\n",
    "    \n",
    "    error_log = pd.read_csv('./ErrorLog.tsv', sep='\\t')\n",
    "    final_compounds = []\n",
    "    for i in range(len(compounds)):\n",
    "        if error_log['status'][i] == 'valid':\n",
    "            final_compounds.append(compounds[i])\n",
    "\n",
    "    print(len(mus))\n",
    "    print(len(final_compounds))\n",
    "    \n",
    "    EnergyChanges = []\n",
    "    for i in range(len(rels['Index'])):\n",
    "        dummy_mus = []\n",
    "        dummy_sigma_vecs = []\n",
    "        dummy_compounds = []\n",
    "        dummy_coefficients = []\n",
    "        reagents = literal_eval(rels['Reagents'][i])\n",
    "        products = literal_eval(rels['Products'][i])\n",
    "        for j in range(len(reagents)):\n",
    "            dummy_compounds.append(reagents[j])\n",
    "            dummy_coefficients.append(-1)\n",
    "        for k in range(len(products)):\n",
    "            dummy_compounds.append(products[k])\n",
    "            dummy_coefficients.append(1)\n",
    "        valid_reaction = True\n",
    "        for m in range(len(dummy_compounds)):\n",
    "            if dummy_compounds[m] not in final_compounds:\n",
    "                valid_reaction = False\n",
    "                break\n",
    "            else: \n",
    "                dummy_mus.append(mus[final_compounds.index(dummy_compounds[m])])\n",
    "                dummy_sigma_vecs.append(sigma_vecs[final_compounds.index(dummy_compounds[m])])\n",
    "        if valid_reaction == True:\n",
    "            S = np.zeros(len(dummy_compounds))\n",
    "            for n in range(len(dummy_coefficients)):\n",
    "                S[n] = dummy_coefficients[n]\n",
    "            dummy_mus = Q_(dummy_mus, \"kJ/mol\")\n",
    "            dummy_sigma_vecs = Q_(dummy_sigma_vecs, \"kJ/mol\")\n",
    "            standard_dgs = S.T @ dummy_mus\n",
    "            U = S.T @ dummy_sigma_vecs\n",
    "            EnergyChanges.append(standard_dgs._magnitude.round(2))\n",
    "        else:\n",
    "            EnergyChanges.append('NaN')\n",
    "    \n",
    "    outputdata = {'Index':indexes, 'Reagents':Reagents, 'Products':Products, 'Rule':rules, 'Energy Change':EnergyChanges}\n",
    "    outputdf = pd.DataFrame(outputdata)\n",
    "    outputdf.to_csv(f'{name}RelsThermo.tsv', header=None, index=None, sep='\\t', mode='a')\n",
    "    return(outputdf)"
   ]
  },
  {
   "cell_type": "code",
   "execution_count": null,
   "id": "64289f85",
   "metadata": {},
   "outputs": [],
   "source": [
    "def CacheGen(filepath):\n",
    "    df = pd.read_csv(filepath, sep='\\t') \n",
    "    \n",
    "    compounds = []\n",
    "    Reagents = []\n",
    "    Products = []\n",
    "    \n",
    "    for i in range(len(df['Index'])):\n",
    "        reagents = literal_eval(df['Reagents'][i])\n",
    "        Reagents.append(reagents)\n",
    "        products = literal_eval(df['Products'][i])\n",
    "        Products.append(products)\n",
    "\n",
    "        for j in range(len(reagents)):\n",
    "            if reagents[j] not in compounds:\n",
    "                compounds.append(reagents[j])\n",
    "        for k in range(len(products)):\n",
    "            if products[k] not in compounds:\n",
    "                compounds.append(products[k])\n",
    "        print(i)\n",
    "                    \n",
    "    compound_cache = get_or_create_compound(CC.ccache, compounds, mol_format=\"smiles\", error_log='./ErrorLog.tsv')\n",
    "    \n",
    "    return(compound_cache, compounds)"
   ]
  },
  {
   "cell_type": "code",
   "execution_count": null,
   "id": "402222a6",
   "metadata": {},
   "outputs": [],
   "source": [
    "%%time\n",
    "a, b = CacheGen('FormoseG3processedrels.tsv')"
   ]
  },
  {
   "cell_type": "code",
   "execution_count": null,
   "id": "0101f7be",
   "metadata": {},
   "outputs": [],
   "source": [
    "%%time\n",
    "a = ThermoGen('FormoseG3processedrels.tsv', a, b, 'Formose')"
   ]
  }
 ],
 "metadata": {
  "kernelspec": {
   "display_name": "Python [conda env:my-rdkit-env] *",
   "language": "python",
   "name": "conda-env-my-rdkit-env-py"
  },
  "language_info": {
   "codemirror_mode": {
    "name": "ipython",
    "version": 3
   },
   "file_extension": ".py",
   "mimetype": "text/x-python",
   "name": "python",
   "nbconvert_exporter": "python",
   "pygments_lexer": "ipython3",
   "version": "3.10.12"
  }
 },
 "nbformat": 4,
 "nbformat_minor": 5
}
