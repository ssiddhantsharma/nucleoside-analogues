{
 "cells": [
  {
   "cell_type": "code",
   "execution_count": null,
   "id": "6a6878be",
   "metadata": {},
   "outputs": [],
   "source": [
    "import pandas as pd\n",
    "import numpy as np\n",
    "\n",
    "def spontaneous_filter(Network, Generation):\n",
    "    df = pd.read_csv(f'{Network}G3RelsWithThermo.tsv', sep='\\t')\n",
    "    Indexes = []\n",
    "    Reagents = []\n",
    "    Products = []\n",
    "    Rules = []\n",
    "    Energy_Changes = []\n",
    "    for i in range(len(df['Index'])):\n",
    "        if df['Energy Change'][i] <= 0:\n",
    "            Indexes.append(df['Index'][i])\n",
    "            Reagents.append(df['Reagents'][i])\n",
    "            Products.append(df['Products'][i])\n",
    "            Rules.append(df['Rule'][i])\n",
    "            Energy_Changes.append(df['Energy Change'][i])\n",
    "    data = {'Index':Indexes, 'Reagents':Reagents, 'Products':Products, 'Rule':Rules, 'Energy Change':Energy_Changes}\n",
    "    output = pd.DataFrame(data)\n",
    "    output.to_csv(f'Spontaneous_{Network}G3RelsWithThermo.tsv', header=None, index=None, sep='\\t', mode='a')\n",
    "    return(output)"
   ]
  },
  {
   "cell_type": "code",
   "execution_count": null,
   "id": "1ae3548a",
   "metadata": {},
   "outputs": [],
   "source": [
    "%%time\n",
    "spontaneous_filter('PyruvicAcid', '3')"
   ]
  }
 ],
 "metadata": {
  "kernelspec": {
   "display_name": "Python [conda env:my-rdkit-env] *",
   "language": "python",
   "name": "conda-env-my-rdkit-env-py"
  },
  "language_info": {
   "codemirror_mode": {
    "name": "ipython",
    "version": 3
   },
   "file_extension": ".py",
   "mimetype": "text/x-python",
   "name": "python",
   "nbconvert_exporter": "python",
   "pygments_lexer": "ipython3",
   "version": "3.10.12"
  }
 },
 "nbformat": 4,
 "nbformat_minor": 5
}
