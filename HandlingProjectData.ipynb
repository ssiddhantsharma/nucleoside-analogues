{
 "cells": [
  {
   "cell_type": "code",
   "execution_count": 2,
   "id": "e542e45f",
   "metadata": {},
   "outputs": [],
   "source": [
    "from openbabel import openbabel"
   ]
  },
  {
   "cell_type": "code",
   "execution_count": 3,
   "id": "c34b688c",
   "metadata": {},
   "outputs": [],
   "source": [
    "from rdkit import Chem\n",
    "from rdkit.Chem import rdBase\n",
    "from rdkit.Chem import Draw\n",
    "from rdkit.Chem.Draw import IPythonConsole\n",
    "from rdkit.Chem import Descriptors\n",
    "from rdkit.Chem import Crippen"
   ]
  },
  {
   "cell_type": "code",
   "execution_count": 4,
   "id": "d7e6d041",
   "metadata": {},
   "outputs": [],
   "source": [
    "import pandas as pd\n",
    "import matplotlib.pyplot as plt\n",
    "import numpy as np\n",
    "import scipy.stats as ss"
   ]
  },
  {
   "cell_type": "markdown",
   "id": "c152e60f",
   "metadata": {},
   "source": [
    "## Defining functions"
   ]
  },
  {
   "cell_type": "code",
   "execution_count": 5,
   "id": "37dee5d8",
   "metadata": {},
   "outputs": [],
   "source": [
    "def molweight(array):\n",
    "    Smiles = array[0]\n",
    "    molweight = Chem.Descriptors.MolWt(Chem.MolFromSmiles(Smiles))\n",
    "    return(molweight)"
   ]
  },
  {
   "cell_type": "code",
   "execution_count": 6,
   "id": "53e289c1",
   "metadata": {},
   "outputs": [],
   "source": [
    "def CLogP(array):\n",
    "    Smiles = array[0]\n",
    "    CLogP = Chem.Crippen.MolLogP(Chem.MolFromSmiles(Smiles))\n",
    "    return(CLogP)"
   ]
  },
  {
   "cell_type": "code",
   "execution_count": 7,
   "id": "7fde46f7",
   "metadata": {},
   "outputs": [],
   "source": [
    "def TPSA(array):\n",
    "    Smiles = array[0]\n",
    "    TPSA = Chem.Descriptors.TPSA(Chem.MolFromSmiles(Smiles))\n",
    "    return(TPSA)"
   ]
  },
  {
   "cell_type": "code",
   "execution_count": 8,
   "id": "7ca21e3f",
   "metadata": {},
   "outputs": [],
   "source": [
    "def num_bins(data): \n",
    "    q25, q75 = np.percentile(data,[25,75]) \n",
    "    bin_width = 2*(q75 - q25)*len(data)**(-1/3) \n",
    "    bins = int(round((data.max() - data.min())/bin_width)) \n",
    "    return(bins) "
   ]
  },
  {
   "cell_type": "code",
   "execution_count": 9,
   "id": "fb8d9292",
   "metadata": {},
   "outputs": [],
   "source": [
    "def trimean(array): \n",
    "    trimean = (np.percentile(array, 25) + 2*np.percentile(array, 50) + np.percentile(array, 75)) / 4\n",
    "    return(trimean) "
   ]
  },
  {
   "cell_type": "code",
   "execution_count": 10,
   "id": "eb0e0709",
   "metadata": {},
   "outputs": [],
   "source": [
    "def MAD(array): \n",
    "    median = np.median(array) \n",
    "    data = np.zeros(len(array)) \n",
    "    for i in range(len(data)): \n",
    "        data[i] = abs(array[i] - median)\n",
    "    MAD = np.median(data) \n",
    "    return(MAD) "
   ]
  },
  {
   "cell_type": "code",
   "execution_count": 11,
   "id": "e6a2466d",
   "metadata": {},
   "outputs": [],
   "source": [
    "def array_location(array): \n",
    "    Mean = np.mean(array)\n",
    "    Median = np.median(array)\n",
    "    Trimean = trimean(array)\n",
    "    return (Mean, Median, Trimean) "
   ]
  },
  {
   "cell_type": "code",
   "execution_count": 12,
   "id": "8af540d8",
   "metadata": {},
   "outputs": [],
   "source": [
    "def array_spread(array): \n",
    "    SD = np.std(array)\n",
    "    IQR = ss.iqr(array)\n",
    "    median = np.median(array)\n",
    "    Median_absolute_deviation = MAD(array)\n",
    "    return (SD, IQR, Median_absolute_deviation) "
   ]
  },
  {
   "cell_type": "markdown",
   "id": "12fdd584",
   "metadata": {},
   "source": [
    "## Importing data"
   ]
  },
  {
   "cell_type": "code",
   "execution_count": 13,
   "id": "a0c354cc",
   "metadata": {},
   "outputs": [],
   "source": [
    "#data_CHNO_OH = pd.read_csv('./CHNO_Data/OH_Prepped_CHNO_Smiles.tsv', sep='\\t')"
   ]
  },
  {
   "cell_type": "code",
   "execution_count": 14,
   "id": "016c3603",
   "metadata": {},
   "outputs": [],
   "source": [
    "#data_CHO_OH = pd.read_csv('./CHO_Data/OH_Prepped_CHO_Smiles.tsv', sep='\\t')"
   ]
  },
  {
   "cell_type": "code",
   "execution_count": 15,
   "id": "80b539c7",
   "metadata": {},
   "outputs": [],
   "source": [
    "#%%time\n",
    "#data_CHNO_OH['Molecular Weight'] = data_CHNO_OH.apply(molweight, axis=1, raw=True, result_type='expand')"
   ]
  },
  {
   "cell_type": "code",
   "execution_count": 16,
   "id": "930ce2b5",
   "metadata": {},
   "outputs": [],
   "source": [
    "#%%time\n",
    "#data_CHNO_OH['CLogP'] = data_CHNO_OH.apply(CLogP, axis=1, raw=True, result_type='expand')"
   ]
  },
  {
   "cell_type": "code",
   "execution_count": 17,
   "id": "e3f121e9",
   "metadata": {},
   "outputs": [],
   "source": [
    "#%%time\n",
    "#data_CHNO_OH['TPSA'] = data_CHNO_OH.apply(TPSA, axis=1, raw=True, result_type='expand')"
   ]
  },
  {
   "cell_type": "code",
   "execution_count": 18,
   "id": "b83aa3ab",
   "metadata": {},
   "outputs": [],
   "source": [
    "#%%time\n",
    "#data_CHO_OH['Molecular Weight'] = data_CHO_OH.apply(molweight, axis=1, raw=True, result_type='expand')"
   ]
  },
  {
   "cell_type": "code",
   "execution_count": 19,
   "id": "02578586",
   "metadata": {},
   "outputs": [],
   "source": [
    "#%%time\n",
    "#data_CHO_OH['CLogP'] = data_CHO_OH.apply(CLogP, axis=1, raw=True, result_type='expand')"
   ]
  },
  {
   "cell_type": "code",
   "execution_count": 20,
   "id": "df5a1981",
   "metadata": {},
   "outputs": [],
   "source": [
    "#%%time\n",
    "#data_CHO_OH['TPSA'] = data_CHO_OH.apply(TPSA, axis=1, raw=True, result_type='expand')"
   ]
  },
  {
   "cell_type": "code",
   "execution_count": 21,
   "id": "b41420a0",
   "metadata": {},
   "outputs": [],
   "source": [
    "#data_CHNO_OH.to_csv(r'c:\\data\\pandas.txt', header=None, index=None, sep='\\t', mode='a')"
   ]
  },
  {
   "cell_type": "code",
   "execution_count": 22,
   "id": "07891e79",
   "metadata": {},
   "outputs": [],
   "source": [
    "data_CHNO_OH = pd.read_csv('./CHNO_Data/CHNO_Analysed.tsv', sep='\\t')"
   ]
  },
  {
   "cell_type": "code",
   "execution_count": 23,
   "id": "4c61e55b",
   "metadata": {},
   "outputs": [],
   "source": [
    "#data_CHO_OH.to_csv(r'c:\\data\\pandas.txt', header=None, index=None, sep='\\t', mode='a')"
   ]
  },
  {
   "cell_type": "code",
   "execution_count": 24,
   "id": "3aae1250",
   "metadata": {},
   "outputs": [],
   "source": [
    "data_CHO_OH = pd.read_csv('./CHO_Data/CHO_Analysed.tsv', sep='\\t')"
   ]
  },
  {
   "cell_type": "markdown",
   "id": "43153601",
   "metadata": {},
   "source": [
    "## Data plots"
   ]
  },
  {
   "cell_type": "code",
   "execution_count": 25,
   "id": "8310b002",
   "metadata": {},
   "outputs": [
    {
     "data": {
      "text/plain": [
       "<matplotlib.legend.Legend at 0x10283aee0>"
      ]
     },
     "execution_count": 25,
     "metadata": {},
     "output_type": "execute_result"
    },
    {
     "data": {
      "image/png": "[encoded data removed]",
      "text/plain": [
       "<Figure size 720x720 with 1 Axes>"
      ]
     },
     "metadata": {
      "needs_background": "light"
     },
     "output_type": "display_data"
    }
   ],
   "source": [
    "plt.figure(figsize = (10,10))\n",
    "plt.scatter(data_CHO_OH['Molecular Weight'], data_CHO_OH['CLogP'])\n",
    "plt.scatter(data_CHNO_OH['Molecular Weight'], data_CHNO_OH['CLogP'])\n",
    "plt.xlabel('Molecular Weight')\n",
    "plt.ylabel('CLogP')\n",
    "plt.legend(['CHO', 'CHNO'])"
   ]
  },
  {
   "cell_type": "code",
   "execution_count": 26,
   "id": "8e295e10",
   "metadata": {},
   "outputs": [
    {
     "data": {
      "text/plain": [
       "<matplotlib.legend.Legend at 0x150143f70>"
      ]
     },
     "execution_count": 26,
     "metadata": {},
     "output_type": "execute_result"
    },
    {
     "data": {
      "image/png": "[encoded data removed]",
      "text/plain": [
       "<Figure size 720x720 with 1 Axes>"
      ]
     },
     "metadata": {
      "needs_background": "light"
     },
     "output_type": "display_data"
    }
   ],
   "source": [
    "plt.figure(figsize = (10,10))\n",
    "plt.scatter(data_CHO_OH['Molecular Weight'], data_CHO_OH['TPSA'])\n",
    "plt.scatter(data_CHNO_OH['Molecular Weight'], data_CHNO_OH['TPSA'])\n",
    "plt.xlabel('Molecular Weight')\n",
    "plt.ylabel('TPSA')\n",
    "plt.legend(['CHO', 'CHNO'])"
   ]
  },
  {
   "cell_type": "code",
   "execution_count": 27,
   "id": "4676c2d5",
   "metadata": {},
   "outputs": [
    {
     "data": {
      "text/plain": [
       "<matplotlib.legend.Legend at 0x13b749760>"
      ]
     },
     "execution_count": 27,
     "metadata": {},
     "output_type": "execute_result"
    },
    {
     "data": {
      "image/png": "[encoded data removed]",
      "text/plain": [
       "<Figure size 720x720 with 1 Axes>"
      ]
     },
     "metadata": {
      "needs_background": "light"
     },
     "output_type": "display_data"
    }
   ],
   "source": [
    "plt.figure(figsize = (10,10))\n",
    "plt.scatter(data_CHO_OH['TPSA'], data_CHO_OH['CLogP'])\n",
    "plt.scatter(data_CHNO_OH['TPSA'], data_CHNO_OH['CLogP'])\n",
    "plt.xlabel('TPSA')\n",
    "plt.ylabel('CLogP')\n",
    "plt.legend(['CHO', 'CHNO'])"
   ]
  },
  {
   "cell_type": "code",
   "execution_count": 28,
   "id": "c60638cc",
   "metadata": {},
   "outputs": [
    {
     "data": {
      "text/plain": [
       "Text(0.5, 0, 'TPSA')"
      ]
     },
     "execution_count": 28,
     "metadata": {},
     "output_type": "execute_result"
    },
    {
     "data": {
      "text/plain": [
       "<Figure size 432x288 with 0 Axes>"
      ]
     },
     "metadata": {},
     "output_type": "display_data"
    },
    {
     "data": {
      "image/png": "[encoded data removed]",
      "text/plain": [
       "<Figure size 1656x1440 with 6 Axes>"
      ]
     },
     "metadata": {
      "needs_background": "light"
     },
     "output_type": "display_data"
    }
   ],
   "source": [
    "plt.figure()\n",
    "fig, axes = plt.subplots(nrows=3, ncols=2, figsize = (23,20))\n",
    "\n",
    "hplot1 = axes[0][0].hist(data_CHO_OH['Molecular Weight'], density=True, bins=num_bins(data_CHO_OH['Molecular Weight']))\n",
    "hplot2 = axes[1][0].hist(data_CHO_OH['CLogP'], density=True, bins=num_bins(data_CHO_OH['CLogP']))\n",
    "hplot3 = axes[2][0].hist(data_CHO_OH['TPSA'], density=True, bins=num_bins(data_CHO_OH['TPSA']))\n",
    "\n",
    "hplot4 = axes[0][1].hist(data_CHNO_OH['Molecular Weight'], density=True, bins=num_bins(data_CHNO_OH['Molecular Weight']))\n",
    "hplot5 = axes[1][1].hist(data_CHNO_OH['CLogP'], density=True, bins=num_bins(data_CHNO_OH['CLogP']))\n",
    "hplot6 = axes[2][1].hist(data_CHNO_OH['TPSA'], density=True, bins=num_bins(data_CHNO_OH['TPSA']))\n",
    "\n",
    "axes[0][0].set_ylabel('CHO Frequency density')\n",
    "axes[0][0].set_xlabel('Molecular Weight')\n",
    "\n",
    "axes[1][0].set_ylabel('CHO Frequency density')\n",
    "axes[1][0].set_xlabel('CLogP')\n",
    "\n",
    "axes[2][0].set_ylabel('CHO Frequency density')\n",
    "axes[2][0].set_xlabel('TPSA')\n",
    "\n",
    "axes[0][1].set_ylabel('CHNO Frequency density')\n",
    "axes[0][1].set_xlabel('Molecular Weight')\n",
    "\n",
    "axes[1][1].set_ylabel('CHNO Frequency density')\n",
    "axes[1][1].set_xlabel('CLogP')\n",
    "\n",
    "axes[2][1].set_ylabel('CHNO Frequency density')\n",
    "axes[2][1].set_xlabel('TPSA')"
   ]
  },
  {
   "cell_type": "markdown",
   "id": "b9b7c4fb",
   "metadata": {},
   "source": [
    "## Data Analysis"
   ]
  },
  {
   "cell_type": "markdown",
   "id": "b77f90e3",
   "metadata": {},
   "source": [
    "### Mean, Median, Trimean"
   ]
  },
  {
   "cell_type": "code",
   "execution_count": 29,
   "id": "174f337a",
   "metadata": {},
   "outputs": [
    {
     "data": {
      "text/plain": [
       "(168.18060431058493, 174.15599999999998, 171.41025)"
      ]
     },
     "execution_count": 29,
     "metadata": {},
     "output_type": "execute_result"
    }
   ],
   "source": [
    "array_location(data_CHO_OH['Molecular Weight'])"
   ]
  },
  {
   "cell_type": "code",
   "execution_count": 30,
   "id": "49759aee",
   "metadata": {},
   "outputs": [
    {
     "data": {
      "text/plain": [
       "(170.53996994717335, 174.15200000000002, 171.66425)"
      ]
     },
     "execution_count": 30,
     "metadata": {},
     "output_type": "execute_result"
    }
   ],
   "source": [
    "array_location(data_CHNO_OH['Molecular Weight'])"
   ]
  },
  {
   "cell_type": "code",
   "execution_count": 31,
   "id": "3a2ab61a",
   "metadata": {},
   "outputs": [
    {
     "data": {
      "text/plain": [
       "(-2.1254834838945804, -2.1612, -2.1475499999999994)"
      ]
     },
     "execution_count": 31,
     "metadata": {},
     "output_type": "execute_result"
    }
   ],
   "source": [
    "array_location(data_CHO_OH['CLogP'])"
   ]
  },
  {
   "cell_type": "code",
   "execution_count": 32,
   "id": "82c2d3ba",
   "metadata": {},
   "outputs": [
    {
     "data": {
      "text/plain": [
       "(-1.4195021291807932, -1.5286, -1.495125)"
      ]
     },
     "execution_count": 32,
     "metadata": {},
     "output_type": "execute_result"
    }
   ],
   "source": [
    "array_location(data_CHNO_OH['CLogP'])"
   ]
  },
  {
   "cell_type": "code",
   "execution_count": 33,
   "id": "270eb32f",
   "metadata": {},
   "outputs": [
    {
     "data": {
      "text/plain": [
       "(106.03764038865701, 106.86, 106.45)"
      ]
     },
     "execution_count": 33,
     "metadata": {},
     "output_type": "execute_result"
    }
   ],
   "source": [
    "array_location(data_CHO_OH['TPSA'])"
   ]
  },
  {
   "cell_type": "code",
   "execution_count": 34,
   "id": "079edb9c",
   "metadata": {},
   "outputs": [
    {
     "data": {
      "text/plain": [
       "(84.39087540802649, 86.99000000000001, 85.82000000000001)"
      ]
     },
     "execution_count": 34,
     "metadata": {},
     "output_type": "execute_result"
    }
   ],
   "source": [
    "array_location(data_CHNO_OH['TPSA'])"
   ]
  },
  {
   "cell_type": "markdown",
   "id": "a3afc597",
   "metadata": {},
   "source": [
    "### SD, IQR, Median"
   ]
  },
  {
   "cell_type": "code",
   "execution_count": 35,
   "id": "7c7e94cf",
   "metadata": {},
   "outputs": [
    {
     "data": {
      "text/plain": [
       "(14.80496561860308, 16.983000000000004, 11.966999999999985)"
      ]
     },
     "execution_count": 35,
     "metadata": {},
     "output_type": "execute_result"
    }
   ],
   "source": [
    "array_spread(data_CHO_OH['Molecular Weight'])"
   ]
  },
  {
   "cell_type": "code",
   "execution_count": 36,
   "id": "9c033a32",
   "metadata": {},
   "outputs": [
    {
     "data": {
      "text/plain": [
       "(9.230559385914137, 13.983000000000004, 2.016000000000048)"
      ]
     },
     "execution_count": 36,
     "metadata": {},
     "output_type": "execute_result"
    }
   ],
   "source": [
    "array_spread(data_CHNO_OH['Molecular Weight'])"
   ]
  },
  {
   "cell_type": "code",
   "execution_count": 37,
   "id": "c3fea338",
   "metadata": {},
   "outputs": [
    {
     "data": {
      "text/plain": [
       "(0.7387911992154222, 0.9790000000000016, 0.4783700000000013)"
      ]
     },
     "execution_count": 37,
     "metadata": {},
     "output_type": "execute_result"
    }
   ],
   "source": [
    "array_spread(data_CHO_OH['CLogP'])"
   ]
  },
  {
   "cell_type": "code",
   "execution_count": 38,
   "id": "bb965306",
   "metadata": {},
   "outputs": [
    {
     "data": {
      "text/plain": [
       "(0.6228448549619688, 0.9140999999999999, 0.41759999999999975)"
      ]
     },
     "execution_count": 38,
     "metadata": {},
     "output_type": "execute_result"
    }
   ],
   "source": [
    "array_spread(data_CHNO_OH['CLogP'])"
   ]
  },
  {
   "cell_type": "code",
   "execution_count": 39,
   "id": "d740e3f6",
   "metadata": {},
   "outputs": [
    {
     "data": {
      "text/plain": [
       "(19.504740692260494, 26.519999999999996, 13.989999999999995)"
      ]
     },
     "execution_count": 39,
     "metadata": {},
     "output_type": "execute_result"
    }
   ],
   "source": [
    "array_spread(data_CHO_OH['TPSA'])"
   ]
  },
  {
   "cell_type": "code",
   "execution_count": 40,
   "id": "9169f7bc",
   "metadata": {},
   "outputs": [
    {
     "data": {
      "text/plain": [
       "(9.247652258303647, 11.0, 7.839999999999989)"
      ]
     },
     "execution_count": 40,
     "metadata": {},
     "output_type": "execute_result"
    }
   ],
   "source": [
    "array_spread(data_CHNO_OH['TPSA'])"
   ]
  },
  {
   "cell_type": "markdown",
   "id": "abb7c052",
   "metadata": {},
   "source": [
    "## Comparison with network output"
   ]
  },
  {
   "cell_type": "code",
   "execution_count": 74,
   "id": "c40c9a28",
   "metadata": {},
   "outputs": [],
   "source": [
    "data_canonical_CHNO = pd.read_csv('./CHNO_Data/Canonical_CHNO.tsv', sep='\\t')"
   ]
  },
  {
   "cell_type": "code",
   "execution_count": 75,
   "id": "a487ca39",
   "metadata": {},
   "outputs": [],
   "source": [
    "data_canonical_CHO = pd.read_csv('./CHO_Data/Canonical_CHO.tsv', sep='\\t')"
   ]
  },
  {
   "cell_type": "code",
   "execution_count": 76,
   "id": "27c82aa1",
   "metadata": {},
   "outputs": [],
   "source": [
    "data_canonical_formose = pd.read_csv('./Formose_Canonical.tsv', sep='\\t')"
   ]
  },
  {
   "cell_type": "code",
   "execution_count": 77,
   "id": "73731949",
   "metadata": {},
   "outputs": [],
   "source": [
    "data_canonical_glucose = pd.read_csv('./Glucose_Canonical.tsv', sep='\\t')"
   ]
  },
  {
   "cell_type": "code",
   "execution_count": 87,
   "id": "535177bc",
   "metadata": {},
   "outputs": [],
   "source": [
    "formose_codes = []\n",
    "for i in range(len(data_canonical_formose['Canonical Code'])):\n",
    "    formose_codes.append(data_canonical_formose['Canonical Code'][i])"
   ]
  },
  {
   "cell_type": "code",
   "execution_count": 136,
   "id": "2613c021",
   "metadata": {},
   "outputs": [],
   "source": [
    "glucose_codes = []\n",
    "for i in range(len(data_canonical_glucose['Canonical Code'])):\n",
    "    glucose_codes.append(data_canonical_glucose['Canonical Code'][i])"
   ]
  },
  {
   "cell_type": "code",
   "execution_count": 95,
   "id": "4d968c23",
   "metadata": {},
   "outputs": [],
   "source": [
    "CHNO_codes = []\n",
    "for i in range(len(data_canonical_CHNO['Canonical Code'])):\n",
    "    CHNO_codes.append(data_canonical_CHNO['Canonical Code'][i])"
   ]
  },
  {
   "cell_type": "code",
   "execution_count": 119,
   "id": "92642be4",
   "metadata": {},
   "outputs": [],
   "source": [
    "CHO_codes = []\n",
    "for i in range(len(data_canonical_CHO['Canonical Code'])):\n",
    "    CHO_codes.append(data_canonical_CHO['Canonical Code'][i])"
   ]
  },
  {
   "cell_type": "code",
   "execution_count": 114,
   "id": "c3bdfd5b",
   "metadata": {},
   "outputs": [
    {
     "name": "stdout",
     "output_type": "stream",
     "text": [
      "CPU times: user 8min 15s, sys: 612 ms, total: 8min 16s\n",
      "Wall time: 8min 17s\n"
     ]
    }
   ],
   "source": [
    "%%time\n",
    "formose_CHNO_matches = []\n",
    "for i in range(len(formose_codes)):\n",
    "    if formose_codes[i] in CHNO_codes:\n",
    "        formose_CHNO_matches.append(formose_codes[i])"
   ]
  },
  {
   "cell_type": "code",
   "execution_count": 121,
   "id": "6308d84f",
   "metadata": {},
   "outputs": [
    {
     "name": "stdout",
     "output_type": "stream",
     "text": [
      "CPU times: user 8.67 s, sys: 18 ms, total: 8.68 s\n",
      "Wall time: 8.75 s\n"
     ]
    }
   ],
   "source": [
    "%%time\n",
    "formose_data = pd.read_csv('Formose_smile.tsv', sep='\\t')\n",
    "formose_CHNO_smiles = []\n",
    "for i in range(len(formose_CHNO_matches)):\n",
    "    for j in range(len(formose_data['Canonical Code'])):\n",
    "        if formose_CHNO_matches[i] == formose_data['Canonical Code'][j]:\n",
    "            formose_CHNO_smiles.append(formose_data['Smiles'][j])"
   ]
  },
  {
   "cell_type": "code",
   "execution_count": 124,
   "id": "2fade000",
   "metadata": {},
   "outputs": [],
   "source": [
    "formose_CHNO_data = {'Smiles': formose_CHNO_smiles, 'Canonical Code': formose_CHNO_matches}\n",
    "formose_CHNO = pd.DataFrame(formose_CHNO_data)"
   ]
  },
  {
   "cell_type": "code",
   "execution_count": 135,
   "id": "66360c5d",
   "metadata": {},
   "outputs": [],
   "source": [
    "#formose_CHNO.to_csv(r'c:\\data\\pandas.txt', header=None, index=None, sep='\\t', mode='a')"
   ]
  },
  {
   "cell_type": "code",
   "execution_count": 120,
   "id": "36a18fc4",
   "metadata": {},
   "outputs": [
    {
     "name": "stdout",
     "output_type": "stream",
     "text": [
      "CPU times: user 9min 56s, sys: 1.5 s, total: 9min 57s\n",
      "Wall time: 10min 2s\n"
     ]
    }
   ],
   "source": [
    "%%time\n",
    "formose_CHO_matches = []\n",
    "for i in range(len(formose_codes)):\n",
    "    if formose_codes[i] in CHO_codes:\n",
    "        formose_CHO_matches.append(formose_codes[i])"
   ]
  },
  {
   "cell_type": "code",
   "execution_count": 123,
   "id": "cb652cc8",
   "metadata": {},
   "outputs": [
    {
     "name": "stdout",
     "output_type": "stream",
     "text": [
      "CPU times: user 5 µs, sys: 0 ns, total: 5 µs\n",
      "Wall time: 7.87 µs\n"
     ]
    }
   ],
   "source": [
    "%%time\n",
    "formose_CHO_smiles = []\n",
    "for i in range(len(formose_CHO_matches)):\n",
    "    for j in range(len(formose_data['Canonical Code'])):\n",
    "        if formose_CHO_matches[i] == formose_data['Canonical Code'][j]:\n",
    "            formose_CHNO_smiles.append(formose_data['Smiles'][j])"
   ]
  },
  {
   "cell_type": "code",
   "execution_count": 125,
   "id": "d6336655",
   "metadata": {},
   "outputs": [],
   "source": [
    "formose_CHO_data = {'Smiles': formose_CHO_smiles, 'Canonical Code': formose_CHO_matches}\n",
    "formose_CHO = pd.DataFrame(formose_CHO_data)"
   ]
  },
  {
   "cell_type": "code",
   "execution_count": 149,
   "id": "1fdc17c2",
   "metadata": {},
   "outputs": [
    {
     "name": "stdout",
     "output_type": "stream",
     "text": [
      "CPU times: user 9min 27s, sys: 1.99 s, total: 9min 29s\n",
      "Wall time: 9min 33s\n"
     ]
    }
   ],
   "source": [
    "%%time\n",
    "glucose_CHNO_matches = []\n",
    "for i in range(len(glucose_codes)):\n",
    "    if glucose_codes[i] in CHNO_codes:\n",
    "        glucose_CHNO_matches.append(glucose_codes[i])"
   ]
  },
  {
   "cell_type": "code",
   "execution_count": 150,
   "id": "4fcd2482",
   "metadata": {},
   "outputs": [
    {
     "name": "stdout",
     "output_type": "stream",
     "text": [
      "CPU times: user 7.61 s, sys: 71.1 ms, total: 7.69 s\n",
      "Wall time: 8.03 s\n"
     ]
    }
   ],
   "source": [
    "%%time\n",
    "glucose_data = pd.read_csv('Glucose_smile.tsv', sep='\\t')\n",
    "glucose_CHNO_smiles = []\n",
    "glucose_CHNO_generations = []\n",
    "for i in range(len(glucose_CHNO_matches)):\n",
    "    for j in range(len(glucose_data['Canonical Code'])):\n",
    "        if glucose_CHNO_matches[i] == glucose_data['Canonical Code'][j]:\n",
    "            glucose_CHNO_smiles.append(glucose_data['Smiles'][j])\n",
    "            glucose_CHNO_generations.append(glucose_data['Generation'][j])"
   ]
  },
  {
   "cell_type": "code",
   "execution_count": 155,
   "id": "2dedec65",
   "metadata": {},
   "outputs": [],
   "source": [
    "glucose_CHNO_data = {'Generation': glucose_CHNO_generations, 'Smiles': glucose_CHNO_smiles, 'Canonical Code': glucose_CHNO_matches}\n",
    "glucose_CHNO = pd.DataFrame(glucose_CHNO_data)"
   ]
  },
  {
   "cell_type": "code",
   "execution_count": 156,
   "id": "4b7357e3",
   "metadata": {},
   "outputs": [],
   "source": [
    "#glucose_CHNO.to_csv(r'c:\\data\\pandas.txt', header=None, index=None, sep='\\t', mode='a')"
   ]
  },
  {
   "cell_type": "code",
   "execution_count": 138,
   "id": "764b6a67",
   "metadata": {},
   "outputs": [
    {
     "name": "stdout",
     "output_type": "stream",
     "text": [
      "CPU times: user 12min 40s, sys: 2.77 s, total: 12min 43s\n",
      "Wall time: 13min 18s\n"
     ]
    }
   ],
   "source": [
    "%%time\n",
    "glucose_CHO_matches = []\n",
    "for i in range(len(glucose_codes)):\n",
    "    if glucose_codes[i] in CHO_codes:\n",
    "        glucose_CHO_matches.append(glucose_codes[i])"
   ]
  },
  {
   "cell_type": "code",
   "execution_count": 143,
   "id": "a90ce4bc",
   "metadata": {},
   "outputs": [
    {
     "name": "stdout",
     "output_type": "stream",
     "text": [
      "CPU times: user 6.24 s, sys: 25.8 ms, total: 6.26 s\n",
      "Wall time: 6.3 s\n"
     ]
    }
   ],
   "source": [
    "%%time\n",
    "glucose_data = pd.read_csv('Glucose_smile.tsv', sep='\\t')\n",
    "glucose_CHO_smiles = []\n",
    "glucose_CHO_generations = []\n",
    "for i in range(len(glucose_CHO_matches)):\n",
    "    for j in range(len(glucose_data['Canonical Code'])):\n",
    "        if glucose_CHO_matches[i] == glucose_data['Canonical Code'][j]:\n",
    "            glucose_CHO_smiles.append(glucose_data['Smiles'][j])\n",
    "            glucose_CHO_generations.append(glucose_data['Generation'][j])"
   ]
  },
  {
   "cell_type": "code",
   "execution_count": 146,
   "id": "c2d24ae6",
   "metadata": {},
   "outputs": [],
   "source": [
    "glucose_CHO_data = {'Generation': glucose_CHO_generations, 'Smiles': glucose_CHO_smiles, 'Canonical Code': glucose_CHO_matches}\n",
    "glucose_CHO = pd.DataFrame(glucose_CHO_data)"
   ]
  },
  {
   "cell_type": "code",
   "execution_count": 148,
   "id": "aa0291b7",
   "metadata": {},
   "outputs": [],
   "source": [
    "#glucose_CHO.to_csv(r'c:\\data\\pandas.txt', header=None, index=None, sep='\\t', mode='a')"
   ]
  },
  {
   "cell_type": "code",
   "execution_count": null,
   "id": "3069bc40",
   "metadata": {},
   "outputs": [],
   "source": []
  }
 ],
 "metadata": {
  "kernelspec": {
   "display_name": "Python 3",
   "language": "python",
   "name": "python3"
  },
  "language_info": {
   "codemirror_mode": {
    "name": "ipython",
    "version": 3
   },
   "file_extension": ".py",
   "mimetype": "text/x-python",
   "name": "python",
   "nbconvert_exporter": "python",
   "pygments_lexer": "ipython3",
   "version": "3.9.4"
  }
 },
 "nbformat": 4,
 "nbformat_minor": 5
}
