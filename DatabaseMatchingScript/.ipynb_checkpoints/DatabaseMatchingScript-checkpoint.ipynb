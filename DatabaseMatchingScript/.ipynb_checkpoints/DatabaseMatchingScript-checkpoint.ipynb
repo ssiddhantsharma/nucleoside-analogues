{
 "cells": [
  {
   "cell_type": "code",
   "execution_count": 2,
   "id": "239ae4f4",
   "metadata": {},
   "outputs": [],
   "source": [
    "from openbabel import openbabel"
   ]
  },
  {
   "cell_type": "code",
   "execution_count": 56,
   "id": "c642b5ca",
   "metadata": {},
   "outputs": [],
   "source": [
    "from rdkit import Chem\n",
    "from rdkit.Chem import rdBase\n",
    "from rdkit.Chem import Draw\n",
    "from rdkit.Chem.Draw import IPythonConsole\n",
    "from rdkit.Chem import Descriptors\n",
    "from rdkit.Chem import Crippen\n",
    "from rdkit import RDLogger    "
   ]
  },
  {
   "cell_type": "code",
   "execution_count": 4,
   "id": "235d7df0",
   "metadata": {},
   "outputs": [],
   "source": [
    "import pandas as pd\n",
    "import matplotlib.pyplot as plt\n",
    "import numpy as np\n",
    "import scipy.stats as ss"
   ]
  },
  {
   "cell_type": "code",
   "execution_count": 57,
   "id": "91504511",
   "metadata": {},
   "outputs": [],
   "source": [
    "RDLogger.DisableLog('rdApp.*')  "
   ]
  },
  {
   "cell_type": "code",
   "execution_count": 27,
   "id": "0d5bfee4",
   "metadata": {},
   "outputs": [],
   "source": [
    "path1 = './NoStereoFormoseAmm.tsv'\n",
    "path2 = './NoStereoFormoseFinal_CHNO.tsv'\n",
    "path3 = './NoStereoGlucoseAmm.txt'\n",
    "path4 = './NoStereoGlucoseFinal_CHNO.txt'\n",
    "path5 = './NoStereoPyruvicAcid_CHNO.txt'"
   ]
  },
  {
   "cell_type": "code",
   "execution_count": 28,
   "id": "f958cebd",
   "metadata": {},
   "outputs": [],
   "source": [
    "hmdbpath = \"./Databases/hmdb.sdf\"\n",
    "hmdb=Chem.SDMolSupplier(hmdbpath)  # Load sdf"
   ]
  },
  {
   "cell_type": "code",
   "execution_count": 29,
   "id": "e51bc8ea",
   "metadata": {},
   "outputs": [],
   "source": [
    "keggpath = './Databases/kegg.tsv'"
   ]
  },
  {
   "cell_type": "code",
   "execution_count": 30,
   "id": "9d79c7a1",
   "metadata": {},
   "outputs": [],
   "source": [
    "ecmdbpath = './Databases/ecmdbResaved.sdf'"
   ]
  },
  {
   "cell_type": "code",
   "execution_count": 31,
   "id": "889376d1",
   "metadata": {},
   "outputs": [],
   "source": [
    "def molweight(array, position):\n",
    "    Smi = array[position]\n",
    "    mol = Chem.MolFromSmiles(Smi)\n",
    "    weight = Descriptors.ExactMolWt(mol)\n",
    "    return(weight)"
   ]
  },
  {
   "cell_type": "code",
   "execution_count": 32,
   "id": "312d2a29",
   "metadata": {},
   "outputs": [],
   "source": [
    "def maximum_mass(matches, position):\n",
    "    matches_data = pd.read_csv(matches, sep='\\t')\n",
    "    matches_data['Molecular Weight'] = matches_data.apply(molweight, axis=1, raw=True, result_type='expand', args=[position])\n",
    "    max_mass = max(matches_data['Molecular Weight'])\n",
    "    return(max_mass)"
   ]
  },
  {
   "cell_type": "code",
   "execution_count": 33,
   "id": "7fd34d34",
   "metadata": {},
   "outputs": [],
   "source": [
    "def db_parse(smiles_list, matches, position):\n",
    "    max_mass = maximum_mass(matches, position)\n",
    "    valid_smiles = []\n",
    "    for i in range(len(smiles_list)):\n",
    "        try:\n",
    "            mol = Chem.MolFromSmiles(smiles_list[i])\n",
    "            weight = Descriptors.ExactMolWt(mol)\n",
    "            if weight <= max_mass:\n",
    "                valid_smiles.append(smiles_list[i])\n",
    "        except:\n",
    "            print()\n",
    "    valid_data = {'Smiles': valid_smiles}\n",
    "    df = pd.DataFrame(valid_data)\n",
    "    return(df)"
   ]
  },
  {
   "cell_type": "code",
   "execution_count": 34,
   "id": "2f5403a2",
   "metadata": {},
   "outputs": [],
   "source": [
    "def split(word):\n",
    "    return[char for char in word]"
   ]
  },
  {
   "cell_type": "code",
   "execution_count": 35,
   "id": "39d27f8d",
   "metadata": {},
   "outputs": [],
   "source": [
    "def inchi(array):\n",
    "    Smiles = array[0] \n",
    "    mol = Chem.MolFromSmiles(Smiles)\n",
    "    dummy = Chem.inchi.MolToInchiKey(mol)#split at first layer (contains everything but stereochemical info)\n",
    "    characters = split(dummy)\n",
    "    dummy = ''\n",
    "    position = 0\n",
    "    for i in range(len(characters)):\n",
    "        if characters[i] == '-':\n",
    "            position = i\n",
    "            break\n",
    "    for i in range(position):\n",
    "        dummy += characters[i]\n",
    "    return(dummy)"
   ]
  },
  {
   "cell_type": "code",
   "execution_count": 36,
   "id": "53bbf339",
   "metadata": {
    "scrolled": true
   },
   "outputs": [],
   "source": [
    "def inchi_generations(array):\n",
    "    Smiles = array[1]\n",
    "    mol = Chem.MolFromSmiles(Smiles)\n",
    "    dummy = Chem.inchi.MolToInchiKey(mol)#split at first layer (contains everything but stereochemical info)\n",
    "    characters = split(dummy)\n",
    "    dummy = ''\n",
    "    position = 0\n",
    "    for i in range(len(characters)):\n",
    "        if characters[i] == '-':\n",
    "            position = i\n",
    "            break\n",
    "    for i in range(position):\n",
    "        dummy += characters[i]\n",
    "    return(dummy)"
   ]
  },
  {
   "cell_type": "code",
   "execution_count": 62,
   "id": "6340543a",
   "metadata": {},
   "outputs": [],
   "source": [
    "def prep_data(library_set, test_set): #input filepaths for the 2 sets as tsv files\n",
    "    test_data = pd.read_csv(test_set, sep='\\t')\n",
    "    library_data = library_set\n",
    "    test_data['Inchi'] = test_data.apply(inchi_generations, axis=1, raw=True, result_type='expand')\n",
    "    library_data['Inchi'] = library_data.apply(inchi, axis=1, raw=True, result_type='expand')\n",
    "    #Using degeneracy removed datasets with Inchikey already found \n",
    "    return(library_data, test_data)"
   ]
  },
  {
   "cell_type": "code",
   "execution_count": 63,
   "id": "85c2f9e4",
   "metadata": {},
   "outputs": [],
   "source": [
    "def find_matches(library_set, test_set):\n",
    "    library_data, test_data = prep_data(library_set, test_set)\n",
    "    test_codes = []\n",
    "    for i in range(len(test_data['Inchi'])):\n",
    "        test_codes.append(test_data['Inchi'][i])\n",
    "    library_codes = []\n",
    "    for i in range(len(library_data['Inchi'])):\n",
    "        library_codes.append(library_data['Inchi'][i])\n",
    "    matches = []\n",
    "    for i in range(len(test_codes)):\n",
    "        if test_codes[i] in library_codes:\n",
    "            matches.append(test_codes[i])\n",
    "    test_smiles = []\n",
    "    library_smiles = []\n",
    "    matches_generations = []\n",
    "    for i in range(len(matches)):\n",
    "        for j in range(len(test_data['Inchi'])):\n",
    "            if matches[i] == test_data['Inchi'][j]:\n",
    "                test_smiles.append(test_data['Smiles'][j])\n",
    "                matches_generations.append(test_data['Generation'][j])\n",
    "                break\n",
    "        #for k in range(len(library_data['Inchi'])):\n",
    "            #if matches[i] == library_data['Inchi'][k]:\n",
    "                #library_smiles.append(library_data['Smiles'][k])\n",
    "    #matches_data = {'Generation': matches_generations, 'Test Smiles': test_smiles, 'Library Smiles': library_smiles, 'Inchi': matches}\n",
    "    matches_data = {'Generation': matches_generations, 'Smiles': test_smiles, 'Inchi': matches}\n",
    "    library_test_matches = pd.DataFrame(matches_data)\n",
    "    return(library_test_matches)"
   ]
  },
  {
   "cell_type": "code",
   "execution_count": 39,
   "id": "60a72837",
   "metadata": {},
   "outputs": [],
   "source": [
    "def prep_databasefromSDF(db_path, matches_path, position):\n",
    "    db = Chem.SDMolSupplier(db_path)\n",
    "    dbsmiles = []\n",
    "    for mol in db:\n",
    "        try:\n",
    "            dbsmiles.append(Chem.MolToSmiles(mol)) \n",
    "        except:\n",
    "            pass\n",
    "    df = db_parse(dbsmiles, matches_path, position)\n",
    "    return(df)"
   ]
  },
  {
   "cell_type": "code",
   "execution_count": 40,
   "id": "2e086274",
   "metadata": {},
   "outputs": [],
   "source": [
    "def prep_databasefromTSV(db_path, matches_path, position):\n",
    "    db = pd.read_csv(db_path, sep='\\t')\n",
    "    dbsmiles = []\n",
    "    for i in range(len(db['Smiles'])):\n",
    "        dbsmiles.append(db['Smiles'][i])\n",
    "    df = db_parse(dbsmiles, matches_path, position)\n",
    "    return(df)"
   ]
  },
  {
   "cell_type": "code",
   "execution_count": 41,
   "id": "a989930b",
   "metadata": {},
   "outputs": [],
   "source": [
    "def generations_counter(input_data, num_generations):\n",
    "    gen_data = np.zeros(num_generations+1)\n",
    "    value_data = np.zeros(num_generations+1)\n",
    "    \n",
    "    for i in range(len(gen_data)):\n",
    "        gen_data[i] = i\n",
    "        \n",
    "    for i in range(len(input_data['Generation'])):\n",
    "        dummy = split(input_data['Generation'][i])\n",
    "        value = int(dummy[-1])\n",
    "        value_data[value]+=1\n",
    "    \n",
    "    final_value_data = np.zeros(num_generations+1)\n",
    "    for i in range(1, len(value_data)):\n",
    "        final_value_data[i] += value_data[i]\n",
    "        for j in range(i):\n",
    "            final_value_data[i] += value_data[j]\n",
    "    \n",
    "    return(gen_data, final_value_data)"
   ]
  },
  {
   "cell_type": "code",
   "execution_count": 42,
   "id": "ce6d9a17",
   "metadata": {},
   "outputs": [],
   "source": [
    "def generations_plot(input_data, num_generations):\n",
    "    gen_data, final_value_data = generations_counter(input_data, num_generations)\n",
    "    plt.plot(gen_data, final_value_data, linestyle='--', marker='o')"
   ]
  },
  {
   "cell_type": "code",
   "execution_count": 50,
   "id": "144d0dde",
   "metadata": {},
   "outputs": [],
   "source": [
    "def database_matches_plot(prepped_db1, prepped_db2, matches_path, num_generations, title):\n",
    "    db_matches1 = find_matches(prepped_db1, matches_path)\n",
    "    db_matches2 = find_matches(prepped_db2, matches_path)\n",
    "    plt.figure(figsize = (10,8))\n",
    "    generations_plot(db_matches1, num_generations)\n",
    "    generations_plot(db_matches2, num_generations)\n",
    "    generations_plot(pd.read_csv(matches_path, sep='\\t'), num_generations)\n",
    "    plt.xlabel('Generation')\n",
    "    plt.ylabel('Cumulative Matches')\n",
    "    plt.legend(['HMDB Matches', 'Kegg Matches', 'Computed set'])\n",
    "    plt.yscale('symlog')\n",
    "    plt.xticks(np.arange(0, num_generations+1, step=1))\n",
    "    plt.title(f'{title}')"
   ]
  },
  {
   "cell_type": "code",
   "execution_count": 51,
   "id": "6da9feba",
   "metadata": {},
   "outputs": [],
   "source": [
    "def database_data(prepped_db1, prepped_db2, prepped_db3, matches_path, num_generations):\n",
    "    db_matches1 = find_matches(prepped_db1, matches_path)\n",
    "    db_matches2 = find_matches(prepped_db2, matches_path)\n",
    "    db_matches3 = find_matches(prepped_db3, matches_path)\n",
    "    \n",
    "    gen_data1, final_value_data1 = generations_counter(db_matches1, num_generations)\n",
    "    gen_data2, final_value_data2 = generations_counter(db_matches2, num_generations)\n",
    "    gen_data3, final_value_data3 = generations_counter(db_matches3, num_generations)\n",
    "    \n",
    "    database = {'Generation': gen_data1, 'HMDB': final_value_data1, 'Kegg': final_value_data2, 'ECMDB': final_value_data3}\n",
    "    df = pd.DataFrame(database)\n",
    "    return(df, db_matches1, db_matches2, db_matches3)"
   ]
  },
  {
   "cell_type": "code",
   "execution_count": 65,
   "id": "b5302202",
   "metadata": {},
   "outputs": [],
   "source": [
    "def database_maker(matches_path, num_generations, network_title):\n",
    "    prepped_db1 = prep_databasefromSDF(hmdbpath, matches_path, 1)\n",
    "    prepped_db2 = prep_databasefromTSV(keggpath, matches_path, 1)\n",
    "    prepped_db3 = prep_databasefromSDF(ecmdbpath, matches_path, 1)\n",
    "    \n",
    "    df, db_matches1, db_matches2, db_matches3 = database_data(prepped_db1, prepped_db2, prepped_db3, matches_path, num_generations)\n",
    "    df.to_csv(f'{network_title}DatabaseMatches.tsv', header=None, index=None, sep='\\t', mode='a')\n",
    "    \n",
    "    plt.figure(figsize = (10,8))\n",
    "    generations_plot(db_matches1, num_generations)\n",
    "    generations_plot(db_matches2, num_generations)\n",
    "    generations_plot(db_matches3, num_generations)\n",
    "    generations_plot(pd.read_csv(matches_path, sep='\\t'), num_generations)\n",
    "    \n",
    "    plt.xlabel('Generation')\n",
    "    plt.ylabel('Cumulative Matches')\n",
    "    plt.legend(['HMDB Matches', 'Kegg Matches', 'ECMDB Matches', 'Computed set'])\n",
    "    plt.yscale('symlog')\n",
    "    plt.xticks(np.arange(0, num_generations+1, step=1))\n",
    "    plt.title(f'Plot of {network_title} matches hits with HMDB, Kegg and ECMDB databases')\n",
    "    \n",
    "    return(df)"
   ]
  },
  {
   "cell_type": "code",
   "execution_count": 71,
   "id": "fea33fdf",
   "metadata": {},
   "outputs": [
    {
     "name": "stdout",
     "output_type": "stream",
     "text": [
      "\n",
      "\n",
      "\n",
      "\n",
      "\n",
      "\n",
      "\n",
      "CPU times: user 2min 29s, sys: 1.25 s, total: 2min 30s\n",
      "Wall time: 2min 31s\n"
     ]
    },
    {
     "data": {
      "image/png": "[encoded data removed]",
      "text/plain": [
       "<Figure size 720x576 with 1 Axes>"
      ]
     },
     "metadata": {
      "needs_background": "light"
     },
     "output_type": "display_data"
    }
   ],
   "source": [
    "%%time\n",
    "df = database_maker(path5, 6, 'PyruvicAcid')"
   ]
  },
  {
   "cell_type": "code",
   "execution_count": null,
   "id": "a3b0f5e1",
   "metadata": {},
   "outputs": [],
   "source": []
  }
 ],
 "metadata": {
  "kernelspec": {
   "display_name": "Python 3",
   "language": "python",
   "name": "python3"
  },
  "language_info": {
   "codemirror_mode": {
    "name": "ipython",
    "version": 3
   },
   "file_extension": ".py",
   "mimetype": "text/x-python",
   "name": "python",
   "nbconvert_exporter": "python",
   "pygments_lexer": "ipython3",
   "version": "3.9.4"
  }
 },
 "nbformat": 4,
 "nbformat_minor": 5
}
