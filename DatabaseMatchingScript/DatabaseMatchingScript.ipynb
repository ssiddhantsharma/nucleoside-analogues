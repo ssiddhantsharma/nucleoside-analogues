{
 "cells": [
  {
   "cell_type": "code",
   "execution_count": 7,
   "id": "239ae4f4",
   "metadata": {},
   "outputs": [],
   "source": [
    "from openbabel import openbabel"
   ]
  },
  {
   "cell_type": "code",
   "execution_count": 8,
   "id": "c642b5ca",
   "metadata": {},
   "outputs": [],
   "source": [
    "from rdkit import Chem\n",
    "from rdkit.Chem import rdBase\n",
    "from rdkit.Chem import Draw\n",
    "from rdkit.Chem.Draw import IPythonConsole\n",
    "from rdkit.Chem import Descriptors\n",
    "from rdkit.Chem import Crippen"
   ]
  },
  {
   "cell_type": "code",
   "execution_count": 9,
   "id": "235d7df0",
   "metadata": {},
   "outputs": [],
   "source": [
    "import pandas as pd\n",
    "import matplotlib.pyplot as plt\n",
    "import numpy as np\n",
    "import scipy.stats as ss"
   ]
  },
  {
   "cell_type": "code",
   "execution_count": 82,
   "id": "0d5bfee4",
   "metadata": {},
   "outputs": [],
   "source": [
    "path1 = './NoStereoFormoseAmm.tsv'\n",
    "path2 = './NoStereoFormoseFinal_CHNO.tsv'\n",
    "path3 = './NoStereoGlucoseAmm.txt'\n",
    "path4 = './NoStereoGlucoseFinal_CHNO.txt'\n",
    "path5 = './NoStereoPyruvicAcid_CHNO.txt'"
   ]
  },
  {
   "cell_type": "code",
   "execution_count": 42,
   "id": "f958cebd",
   "metadata": {},
   "outputs": [],
   "source": [
    "hmdbpath = \"./Databases/hmdb.sdf\"\n",
    "hmdb=Chem.SDMolSupplier(hmdbpath)  # Load sdf"
   ]
  },
  {
   "cell_type": "code",
   "execution_count": 43,
   "id": "bcea8a41",
   "metadata": {},
   "outputs": [],
   "source": [
    "keggpath = './Databases/kegg.tsv'"
   ]
  },
  {
   "cell_type": "code",
   "execution_count": 13,
   "id": "889376d1",
   "metadata": {},
   "outputs": [],
   "source": [
    "def molweight(array, position):\n",
    "    Smi = array[position]\n",
    "    mol = Chem.MolFromSmiles(Smi)\n",
    "    weight = Descriptors.ExactMolWt(mol)\n",
    "    return(weight)"
   ]
  },
  {
   "cell_type": "code",
   "execution_count": 14,
   "id": "312d2a29",
   "metadata": {},
   "outputs": [],
   "source": [
    "def maximum_mass(matches, position):\n",
    "    matches_data = pd.read_csv(matches, sep='\\t')\n",
    "    matches_data['Molecular Weight'] = matches_data.apply(molweight, axis=1, raw=True, result_type='expand', args=[position])\n",
    "    max_mass = max(matches_data['Molecular Weight'])\n",
    "    return(max_mass)"
   ]
  },
  {
   "cell_type": "code",
   "execution_count": 15,
   "id": "7fd34d34",
   "metadata": {},
   "outputs": [],
   "source": [
    "def db_parse(smiles_list, matches, position):\n",
    "    max_mass = maximum_mass(matches, position)\n",
    "    valid_smiles = []\n",
    "    for i in range(len(smiles_list)):\n",
    "        try:\n",
    "            mol = Chem.MolFromSmiles(smiles_list[i])\n",
    "            weight = Descriptors.ExactMolWt(mol)\n",
    "            if weight <= max_mass:\n",
    "                valid_smiles.append(smiles_list[i])\n",
    "        except:\n",
    "            print()\n",
    "    valid_data = {'Smiles': valid_smiles}\n",
    "    df = pd.DataFrame(valid_data)\n",
    "    return(df)"
   ]
  },
  {
   "cell_type": "code",
   "execution_count": 16,
   "id": "2f5403a2",
   "metadata": {},
   "outputs": [],
   "source": [
    "def split(word):\n",
    "    return[char for char in word]"
   ]
  },
  {
   "cell_type": "code",
   "execution_count": 17,
   "id": "39d27f8d",
   "metadata": {},
   "outputs": [],
   "source": [
    "def inchi(array):\n",
    "    Smiles = array[0] \n",
    "    mol = Chem.MolFromSmiles(Smiles)\n",
    "    dummy = Chem.inchi.MolToInchiKey(mol)#split at first layer (contains everything but stereochemical info)\n",
    "    characters = split(dummy)\n",
    "    dummy = ''\n",
    "    position = 0\n",
    "    for i in range(len(characters)):\n",
    "        if characters[i] == '-':\n",
    "            position = i\n",
    "            break\n",
    "    for i in range(position):\n",
    "        dummy += characters[i]\n",
    "    return(dummy)"
   ]
  },
  {
   "cell_type": "code",
   "execution_count": 18,
   "id": "53bbf339",
   "metadata": {
    "scrolled": true
   },
   "outputs": [],
   "source": [
    "def inchi_generations(array):\n",
    "    Smiles = array[1]\n",
    "    mol = Chem.MolFromSmiles(Smiles)\n",
    "    dummy = Chem.inchi.MolToInchiKey(mol)#split at first layer (contains everything but stereochemical info)\n",
    "    characters = split(dummy)\n",
    "    dummy = ''\n",
    "    position = 0\n",
    "    for i in range(len(characters)):\n",
    "        if characters[i] == '-':\n",
    "            position = i\n",
    "            break\n",
    "    for i in range(position):\n",
    "        dummy += characters[i]\n",
    "    return(dummy)"
   ]
  },
  {
   "cell_type": "code",
   "execution_count": 19,
   "id": "6340543a",
   "metadata": {},
   "outputs": [],
   "source": [
    "def prep_data(library_set, test_set): #input filepaths for the 2 sets as tsv files\n",
    "    test_data = pd.read_csv(test_set, sep='\\t')\n",
    "    library_data = library_set\n",
    "    print(1)\n",
    "    test_data['Inchi'] = test_data.apply(inchi_generations, axis=1, raw=True, result_type='expand')\n",
    "    print(2)\n",
    "    library_data['Inchi'] = library_data.apply(inchi, axis=1, raw=True, result_type='expand')\n",
    "    #Using degeneracy removed datasets with Inchikey already found \n",
    "    return(library_data, test_data)"
   ]
  },
  {
   "cell_type": "code",
   "execution_count": 20,
   "id": "85c2f9e4",
   "metadata": {},
   "outputs": [],
   "source": [
    "def find_matches(library_set, test_set):\n",
    "    library_data, test_data = prep_data(library_set, test_set)\n",
    "    print(3)\n",
    "    test_codes = []\n",
    "    for i in range(len(test_data['Inchi'])):\n",
    "        test_codes.append(test_data['Inchi'][i])\n",
    "    library_codes = []\n",
    "    for i in range(len(library_data['Inchi'])):\n",
    "        library_codes.append(library_data['Inchi'][i])\n",
    "    print(4)\n",
    "    matches = []\n",
    "    for i in range(len(test_codes)):\n",
    "        if test_codes[i] in library_codes:\n",
    "            matches.append(test_codes[i])\n",
    "    print(5)\n",
    "    test_smiles = []\n",
    "    library_smiles = []\n",
    "    matches_generations = []\n",
    "    for i in range(len(matches)):\n",
    "        for j in range(len(test_data['Inchi'])):\n",
    "            if matches[i] == test_data['Inchi'][j]:\n",
    "                test_smiles.append(test_data['Smiles'][j])\n",
    "                matches_generations.append(test_data['Generation'][j])\n",
    "                break\n",
    "        #for k in range(len(library_data['Inchi'])):\n",
    "            #if matches[i] == library_data['Inchi'][k]:\n",
    "                #library_smiles.append(library_data['Smiles'][k])\n",
    "    #matches_data = {'Generation': matches_generations, 'Test Smiles': test_smiles, 'Library Smiles': library_smiles, 'Inchi': matches}\n",
    "    matches_data = {'Generation': matches_generations, 'Smiles': test_smiles, 'Inchi': matches}\n",
    "    library_test_matches = pd.DataFrame(matches_data)\n",
    "    return(library_test_matches)"
   ]
  },
  {
   "cell_type": "code",
   "execution_count": 21,
   "id": "60a72837",
   "metadata": {},
   "outputs": [],
   "source": [
    "def prep_databasefromSDF(db_path, matches_path, position):\n",
    "    db = Chem.SDMolSupplier(db_path)\n",
    "    dbsmiles = []\n",
    "    for mol in db:\n",
    "        try:\n",
    "            dbsmiles.append(Chem.MolToSmiles(mol)) \n",
    "        except:\n",
    "            pass\n",
    "    df = db_parse(dbsmiles, matches_path, position)\n",
    "    return(df)"
   ]
  },
  {
   "cell_type": "code",
   "execution_count": 22,
   "id": "3e83eeee",
   "metadata": {},
   "outputs": [],
   "source": [
    "def prep_databasefromTSV(db_path, matches_path, position):\n",
    "    db = pd.read_csv(db_path, sep='\\t')\n",
    "    dbsmiles = []\n",
    "    for i in range(len(db['Smiles'])):\n",
    "        dbsmiles.append(db['Smiles'][i])\n",
    "    df = db_parse(dbsmiles, matches_path, position)\n",
    "    return(df)"
   ]
  },
  {
   "cell_type": "code",
   "execution_count": 83,
   "id": "0aef9ed5",
   "metadata": {},
   "outputs": [
    {
     "name": "stderr",
     "output_type": "stream",
     "text": [
      "RDKit ERROR: [20:10:52] ERROR: Explicit valence for atom # 26 N, 4, is greater than permitted\n",
      "RDKit ERROR: [20:12:25] Explicit valence for atom # 12 N, 4, is greater than permitted\n",
      "RDKit ERROR: [20:12:25] ERROR: Could not sanitize molecule ending on line 103252\n",
      "RDKit ERROR: [20:12:25] ERROR: Explicit valence for atom # 12 N, 4, is greater than permitted\n",
      "RDKit ERROR: [20:12:25] Explicit valence for atom # 1 N, 4, is greater than permitted\n",
      "RDKit ERROR: [20:12:25] ERROR: Could not sanitize molecule ending on line 208352\n",
      "RDKit WARNING: [20:12:26] Warning: conflicting stereochemistry at atom 12 ignored. by rule 1a.\n",
      "RDKit WARNING: [20:12:26] Warning: conflicting stereochemistry at atom 12 ignored. by rule 1a.\n",
      "RDKit ERROR: [20:12:25] ERROR: Explicit valence for atom # 1 N, 4, is greater than permitted\n",
      "RDKit ERROR: [20:12:26] Explicit valence for atom # 0 P, 11, is greater than permitted\n",
      "RDKit ERROR: [20:12:26] ERROR: Could not sanitize molecule ending on line 436746\n",
      "RDKit WARNING: [20:12:26] Warning: conflicting stereochemistry at atom 3 ignored. by rule 1a.\n",
      "RDKit WARNING: [20:12:26] Warning: conflicting stereochemistry at atom 3 ignored. by rule 1a.\n",
      "RDKit WARNING: [20:12:26] Warning: conflicting stereochemistry at atom 29 ignored. by rule 1a.\n",
      "RDKit WARNING: [20:12:26] Warning: conflicting stereochemistry at atom 29 ignored. by rule 1a.\n",
      "RDKit ERROR: [20:12:26] ERROR: Explicit valence for atom # 0 P, 11, is greater than permitted\n",
      "RDKit ERROR: [20:12:26] Explicit valence for atom # 7 N, 4, is greater than permitted\n",
      "RDKit ERROR: [20:12:26] ERROR: Could not sanitize molecule ending on line 493647\n",
      "RDKit WARNING: [20:12:30] Warning: conflicting stereochemistry at atom 1 ignored. by rule 1a.\n",
      "RDKit WARNING: [20:12:30] Warning: conflicting stereochemistry at atom 1 ignored. by rule 1a.\n",
      "RDKit WARNING: [20:12:30] Warning: conflicting stereochemistry at atom 7 ignored. by rule 1a.\n",
      "RDKit WARNING: [20:12:30] Warning: conflicting stereochemistry at atom 7 ignored. by rule 1a.\n",
      "RDKit ERROR: [20:12:26] ERROR: Explicit valence for atom # 7 N, 4, is greater than permitted\n",
      "RDKit ERROR: [20:12:32] Explicit valence for atom # 11 N, 4, is greater than permitted\n",
      "RDKit ERROR: [20:12:32] ERROR: Could not sanitize molecule ending on line 2546537\n",
      "RDKit ERROR: [20:12:32] ERROR: Explicit valence for atom # 11 N, 4, is greater than permitted\n",
      "RDKit ERROR: [20:12:33] Explicit valence for atom # 1 Cl, 4, is greater than permitted\n",
      "RDKit ERROR: [20:12:33] ERROR: Could not sanitize molecule ending on line 2831033\n",
      "RDKit WARNING: [20:12:33] Warning: conflicting stereochemistry at atom 10 ignored. by rule 1a.\n",
      "RDKit WARNING: [20:12:33] Warning: conflicting stereochemistry at atom 10 ignored. by rule 1a.\n",
      "RDKit WARNING: [20:12:33] Warning: conflicting stereochemistry at atom 17 ignored. by rule 1a.\n",
      "RDKit WARNING: [20:12:33] Warning: conflicting stereochemistry at atom 17 ignored. by rule 1a.\n",
      "RDKit WARNING: [20:12:34] Warning: molecule is tagged as 3D, but all Z coords are zero\n",
      "RDKit ERROR: [20:12:33] ERROR: Explicit valence for atom # 1 Cl, 4, is greater than permitted\n",
      "RDKit ERROR: [20:12:34] Explicit valence for atom # 31 N, 4, is greater than permitted\n",
      "RDKit ERROR: [20:12:34] ERROR: Could not sanitize molecule ending on line 3294316\n",
      "RDKit WARNING: [20:12:52] WARNING: not removing hydrogen atom without neighbors\n",
      "RDKit ERROR: [20:12:34] ERROR: Explicit valence for atom # 31 N, 4, is greater than permitted\n",
      "RDKit ERROR: [20:12:53] Explicit valence for atom # 3 C, 5, is greater than permitted\n",
      "RDKit ERROR: [20:12:53] ERROR: Could not sanitize molecule ending on line 8477819\n",
      "RDKit ERROR: [20:12:53] ERROR: Explicit valence for atom # 3 C, 5, is greater than permitted\n",
      "RDKit ERROR: [20:13:28] Explicit valence for atom # 26 N, 4, is greater than permitted\n",
      "RDKit ERROR: [20:13:28] ERROR: Could not sanitize molecule ending on line 17444691\n",
      "RDKit ERROR: [20:13:28] ERROR: Explicit valence for atom # 26 N, 4, is greater than permitted\n",
      "RDKit ERROR: [20:14:00] Explicit valence for atom # 3 N, 4, is greater than permitted\n"
     ]
    },
    {
     "name": "stdout",
     "output_type": "stream",
     "text": [
      "\n"
     ]
    },
    {
     "name": "stderr",
     "output_type": "stream",
     "text": [
      "RDKit WARNING: [20:14:12] WARNING: not removing hydrogen atom without neighbors\n"
     ]
    },
    {
     "name": "stdout",
     "output_type": "stream",
     "text": [
      "\n",
      "CPU times: user 2min 16s, sys: 1.15 s, total: 2min 17s\n",
      "Wall time: 2min 18s\n"
     ]
    },
    {
     "name": "stderr",
     "output_type": "stream",
     "text": [
      "RDKit ERROR: [20:14:43] Explicit valence for atom # 17 O, 3, is greater than permitted\n"
     ]
    }
   ],
   "source": [
    "%%time\n",
    "prepped_db1 = prep_databasefromSDF(hmdbpath, path2, 1)"
   ]
  },
  {
   "cell_type": "code",
   "execution_count": 84,
   "id": "a28d3562",
   "metadata": {},
   "outputs": [
    {
     "name": "stderr",
     "output_type": "stream",
     "text": [
      "RDKit ERROR: [20:14:44] Explicit valence for atom # 1 N, 4, is greater than permitted\n"
     ]
    },
    {
     "name": "stdout",
     "output_type": "stream",
     "text": [
      "\n"
     ]
    },
    {
     "name": "stderr",
     "output_type": "stream",
     "text": [
      "RDKit ERROR: [20:14:45] Explicit valence for atom # 13 N, 4, is greater than permitted\n"
     ]
    },
    {
     "name": "stdout",
     "output_type": "stream",
     "text": [
      "\n"
     ]
    },
    {
     "name": "stderr",
     "output_type": "stream",
     "text": [
      "RDKit ERROR: [20:14:46] Explicit valence for atom # 0 Ca, 4, is greater than permitted\n",
      "RDKit ERROR: [20:14:46] Explicit valence for atom # 0 Mg, 4, is greater than permitted\n"
     ]
    },
    {
     "name": "stdout",
     "output_type": "stream",
     "text": [
      "\n",
      "\n",
      "\n",
      "CPU times: user 3.38 s, sys: 16.6 ms, total: 3.4 s\n",
      "Wall time: 3.41 s\n"
     ]
    },
    {
     "name": "stderr",
     "output_type": "stream",
     "text": [
      "RDKit ERROR: [20:14:46] Explicit valence for atom # 0 Ca, 4, is greater than permitted\n"
     ]
    }
   ],
   "source": [
    "%%time\n",
    "prepped_db2 = prep_databasefromTSV(keggpath, path2, 1)"
   ]
  },
  {
   "cell_type": "code",
   "execution_count": 25,
   "id": "a989930b",
   "metadata": {},
   "outputs": [],
   "source": [
    "def generations_counter(input_data, num_generations):\n",
    "    gen_data = np.zeros(num_generations+1)\n",
    "    value_data = np.zeros(num_generations+1)\n",
    "    \n",
    "    for i in range(len(gen_data)):\n",
    "        gen_data[i] = i\n",
    "        \n",
    "    for i in range(len(input_data['Generation'])):\n",
    "        dummy = split(input_data['Generation'][i])\n",
    "        value = int(dummy[-1])\n",
    "        value_data[value]+=1\n",
    "    \n",
    "    final_value_data = np.zeros(num_generations+1)\n",
    "    for i in range(1, len(value_data)):\n",
    "        final_value_data[i] += value_data[i]\n",
    "        for j in range(i):\n",
    "            final_value_data[i] += value_data[j]\n",
    "    \n",
    "    return(gen_data, final_value_data)"
   ]
  },
  {
   "cell_type": "code",
   "execution_count": 28,
   "id": "ce6d9a17",
   "metadata": {},
   "outputs": [],
   "source": [
    "def generations_plot(input_data, num_generations):\n",
    "    gen_data, final_value_data = generations_counter(input_data, num_generations)\n",
    "    plt.plot(gen_data, final_value_data, linestyle='--', marker='o')"
   ]
  },
  {
   "cell_type": "code",
   "execution_count": 31,
   "id": "144d0dde",
   "metadata": {},
   "outputs": [],
   "source": [
    "def database_matches_plot(prepped_db1, prepped_db2, matches_path, num_generations, title):\n",
    "    db_matches1 = find_matches(prepped_db1, matches_path)\n",
    "    db_matches2 = find_matches(prepped_db2, matches_path)\n",
    "    plt.figure(figsize = (10,8))\n",
    "    generations_plot(db_matches1, num_generations)\n",
    "    generations_plot(db_matches2, num_generations)\n",
    "    generations_plot(pd.read_csv(matches_path, sep='\\t'), num_generations)\n",
    "    plt.xlabel('Generation')\n",
    "    plt.ylabel('Cumulative Matches')\n",
    "    plt.legend(['HMDB Matches', 'Kegg Matches', 'Computed set'])\n",
    "    plt.yscale('symlog')\n",
    "    plt.xticks(np.arange(0, num_generations+1, step=1))\n",
    "    plt.title(f'{title}')"
   ]
  },
  {
   "cell_type": "code",
   "execution_count": 37,
   "id": "28ad2454",
   "metadata": {},
   "outputs": [],
   "source": [
    "def database_data(prepped_db1, prepped_db2, matches_path, num_generations):\n",
    "    db_matches1 = find_matches(prepped_db1, matches_path)\n",
    "    db_matches2 = find_matches(prepped_db2, matches_path)\n",
    "    \n",
    "    gen_data1, final_value_data1 = generations_counter(db_matches1, num_generations)\n",
    "    gen_data2, final_value_data2 = generations_counter(db_matches2, num_generations)\n",
    "    \n",
    "    database = {'Generation': gen_data1, 'HMDB': final_value_data1, 'Kegg': final_value_data2}\n",
    "    df = pd.DataFrame(database)\n",
    "    return(df)"
   ]
  },
  {
   "cell_type": "code",
   "execution_count": 85,
   "id": "cd9f7a3c",
   "metadata": {},
   "outputs": [
    {
     "name": "stdout",
     "output_type": "stream",
     "text": [
      "1\n",
      "2\n"
     ]
    },
    {
     "name": "stderr",
     "output_type": "stream",
     "text": [
      "RDKit WARNING: [20:14:48] WARNING: not removing hydrogen atom without neighbors\n"
     ]
    },
    {
     "name": "stdout",
     "output_type": "stream",
     "text": [
      "3\n",
      "4\n",
      "5\n",
      "1\n",
      "2\n",
      "3\n",
      "4\n",
      "5\n"
     ]
    }
   ],
   "source": [
    "df = database_data(prepped_db1, prepped_db2, path2, 5)"
   ]
  },
  {
   "cell_type": "code",
   "execution_count": 86,
   "id": "7886cdb0",
   "metadata": {},
   "outputs": [
    {
     "data": {
      "text/html": [
       "<div>\n",
       "<style scoped>\n",
       "    .dataframe tbody tr th:only-of-type {\n",
       "        vertical-align: middle;\n",
       "    }\n",
       "\n",
       "    .dataframe tbody tr th {\n",
       "        vertical-align: top;\n",
       "    }\n",
       "\n",
       "    .dataframe thead th {\n",
       "        text-align: right;\n",
       "    }\n",
       "</style>\n",
       "<table border=\"1\" class=\"dataframe\">\n",
       "  <thead>\n",
       "    <tr style=\"text-align: right;\">\n",
       "      <th></th>\n",
       "      <th>Generation</th>\n",
       "      <th>HMDB</th>\n",
       "      <th>Kegg</th>\n",
       "    </tr>\n",
       "  </thead>\n",
       "  <tbody>\n",
       "    <tr>\n",
       "      <th>0</th>\n",
       "      <td>0.0</td>\n",
       "      <td>0.0</td>\n",
       "      <td>0.0</td>\n",
       "    </tr>\n",
       "    <tr>\n",
       "      <th>1</th>\n",
       "      <td>1.0</td>\n",
       "      <td>0.0</td>\n",
       "      <td>0.0</td>\n",
       "    </tr>\n",
       "    <tr>\n",
       "      <th>2</th>\n",
       "      <td>2.0</td>\n",
       "      <td>7.0</td>\n",
       "      <td>7.0</td>\n",
       "    </tr>\n",
       "    <tr>\n",
       "      <th>3</th>\n",
       "      <td>3.0</td>\n",
       "      <td>17.0</td>\n",
       "      <td>16.0</td>\n",
       "    </tr>\n",
       "    <tr>\n",
       "      <th>4</th>\n",
       "      <td>4.0</td>\n",
       "      <td>32.0</td>\n",
       "      <td>28.0</td>\n",
       "    </tr>\n",
       "    <tr>\n",
       "      <th>5</th>\n",
       "      <td>5.0</td>\n",
       "      <td>42.0</td>\n",
       "      <td>41.0</td>\n",
       "    </tr>\n",
       "  </tbody>\n",
       "</table>\n",
       "</div>"
      ],
      "text/plain": [
       "   Generation  HMDB  Kegg\n",
       "0         0.0   0.0   0.0\n",
       "1         1.0   0.0   0.0\n",
       "2         2.0   7.0   7.0\n",
       "3         3.0  17.0  16.0\n",
       "4         4.0  32.0  28.0\n",
       "5         5.0  42.0  41.0"
      ]
     },
     "execution_count": 86,
     "metadata": {},
     "output_type": "execute_result"
    }
   ],
   "source": [
    "df"
   ]
  },
  {
   "cell_type": "code",
   "execution_count": 72,
   "id": "2da328a2",
   "metadata": {},
   "outputs": [],
   "source": [
    "df.to_csv('GlucoseDatabaseMatches.tsv', header=None, index=None, sep='\\t', mode='a')"
   ]
  },
  {
   "cell_type": "code",
   "execution_count": 87,
   "id": "22cc82dd",
   "metadata": {},
   "outputs": [
    {
     "name": "stdout",
     "output_type": "stream",
     "text": [
      "1\n",
      "2\n"
     ]
    },
    {
     "name": "stderr",
     "output_type": "stream",
     "text": [
      "RDKit WARNING: [20:14:53] WARNING: not removing hydrogen atom without neighbors\n"
     ]
    },
    {
     "name": "stdout",
     "output_type": "stream",
     "text": [
      "3\n",
      "4\n",
      "5\n",
      "1\n",
      "2\n",
      "3\n",
      "4\n",
      "5\n"
     ]
    },
    {
     "data": {
      "image/png": "[encoded data removed]",
      "text/plain": [
       "<Figure size 720x576 with 1 Axes>"
      ]
     },
     "metadata": {
      "needs_background": "light"
     },
     "output_type": "display_data"
    }
   ],
   "source": [
    "database_matches_plot(prepped_db1, prepped_db2, path2, 5, 'Plot of formose matches hits with HMDB and Kegg databases')"
   ]
  },
  {
   "cell_type": "code",
   "execution_count": null,
   "id": "a997be69",
   "metadata": {},
   "outputs": [],
   "source": []
  }
 ],
 "metadata": {
  "kernelspec": {
   "display_name": "Python 3",
   "language": "python",
   "name": "python3"
  },
  "language_info": {
   "codemirror_mode": {
    "name": "ipython",
    "version": 3
   },
   "file_extension": ".py",
   "mimetype": "text/x-python",
   "name": "python",
   "nbconvert_exporter": "python",
   "pygments_lexer": "ipython3",
   "version": "3.9.4"
  }
 },
 "nbformat": 4,
 "nbformat_minor": 5
}
