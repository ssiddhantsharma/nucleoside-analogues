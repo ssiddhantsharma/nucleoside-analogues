{
 "cells": [
  {
   "cell_type": "markdown",
   "id": "d8178420",
   "metadata": {},
   "source": [
    "## Automated matching script"
   ]
  },
  {
   "cell_type": "code",
   "execution_count": 19,
   "id": "2103c80b",
   "metadata": {},
   "outputs": [],
   "source": [
    "from openbabel import openbabel"
   ]
  },
  {
   "cell_type": "code",
   "execution_count": 20,
   "id": "fe844c32",
   "metadata": {},
   "outputs": [],
   "source": [
    "from rdkit import Chem\n",
    "from rdkit.Chem import rdBase\n",
    "from rdkit.Chem import Draw\n",
    "from rdkit.Chem.Draw import IPythonConsole\n",
    "from rdkit.Chem import Descriptors\n",
    "from rdkit.Chem import Crippen"
   ]
  },
  {
   "cell_type": "code",
   "execution_count": 21,
   "id": "1faecb42",
   "metadata": {},
   "outputs": [],
   "source": [
    "import pandas as pd\n",
    "import matplotlib.pyplot as plt\n",
    "import numpy as np\n",
    "import scipy.stats as ss"
   ]
  },
  {
   "cell_type": "code",
   "execution_count": 22,
   "id": "695fdefb",
   "metadata": {},
   "outputs": [],
   "source": [
    "def Canonical(array):\n",
    "    Smiles = array[0]\n",
    "    Canonical_smiles = Chem.CanonSmiles(Smiles)\n",
    "    return(Canonical_smiles)"
   ]
  },
  {
   "cell_type": "code",
   "execution_count": 164,
   "id": "8c89ec66",
   "metadata": {},
   "outputs": [],
   "source": [
    "def split(word):\n",
    "    return[char for char in word]"
   ]
  },
  {
   "cell_type": "code",
   "execution_count": 183,
   "id": "7f4cc419",
   "metadata": {},
   "outputs": [],
   "source": [
    "def inchi(array):\n",
    "    #Smiles = array[0] #if no generations\n",
    "    Smiles = array[1] # if generations\n",
    "    mol = Chem.MolFromSmiles(Smiles)\n",
    "    dummy = Chem.inchi.MolToInchiKey(mol)#split at first layer (contains everything but stereochemical info)\n",
    "    characters = split(dummy)\n",
    "    dummy = ''\n",
    "    position = 0\n",
    "    for i in range(len(characters)):\n",
    "        if characters[i] == '-':\n",
    "            position = i\n",
    "            break\n",
    "    for i in range(position):\n",
    "        dummy += characters[i]\n",
    "    return(dummy)"
   ]
  },
  {
   "cell_type": "code",
   "execution_count": 172,
   "id": "679a0684",
   "metadata": {},
   "outputs": [],
   "source": [
    "def parse(column):\n",
    "    #for i in range(len(column)):\n",
    "        #column[i] = column[i].replace('@','')\n",
    "    call(f'sed \"s/@//g\" ./CHNO_Data/Prepped_CHNO_Smiles.tsv > test.tsv')\n",
    "    return(column)"
   ]
  },
  {
   "cell_type": "code",
   "execution_count": 173,
   "id": "c8b5bbc4",
   "metadata": {},
   "outputs": [],
   "source": [
    "def prep_data(library_set, test_set): #input filepaths for the 2 sets as tsv files\n",
    "    library_data = pd.read_csv(library_set, sep='\\t')\n",
    "    test_data = pd.read_csv(test_set, sep='\\t')\n",
    "    print(1)\n",
    "    test_data['Inchi'] = test_data.apply(inchi, axis=1, raw=True, result_type='expand')\n",
    "    print(2)\n",
    "    library_data['Inchi'] = library_data.apply(inchi, axis=1, raw=True, result_type='expand')\n",
    "    #library_data['Canonical Smiles'] = parse(library_data['Canonical Smiles'])\n",
    "    #test_data['Canonical Smiles'] = parse(test_data['Canonical Smiles'])\n",
    "    #print(3)\n",
    "    return(library_data, test_data)"
   ]
  },
  {
   "cell_type": "code",
   "execution_count": 180,
   "id": "7da5d11b",
   "metadata": {},
   "outputs": [],
   "source": [
    "def find_matches(library_set, test_set):\n",
    "    library_data, test_data = prep_data(library_set, test_set)\n",
    "    #return (library_data, test_data)\n",
    "    #print(library_data)\n",
    "    #print(test_data)\n",
    "    print(3)\n",
    "    test_codes = []\n",
    "    for i in range(len(test_data['Inchi'])):\n",
    "        test_codes.append(test_data['Inchi'][i])\n",
    "    library_codes = []\n",
    "    for i in range(len(library_data['Inchi'])):\n",
    "        library_codes.append(library_data['Inchi'][i])\n",
    "    print(4)\n",
    "    matches = []\n",
    "    #for i in range(len(test_data['Inchi'])):\n",
    "        #for j in range(len(library_data['Inchi'])):\n",
    "            #if test_data['Inchi'][i] == library_data['Inchi'][j]:\n",
    "                #matches.append(test_data['Inchi'][i])\n",
    "                #print(i)\n",
    "    for i in range(len(test_codes)):\n",
    "        if test_codes[i] in library_codes:\n",
    "            matches.append(test_codes[i])\n",
    "    #print(matches)\n",
    "    matches_smiles = []\n",
    "    #matches_generations = []\n",
    "    for i in range(len(matches)):\n",
    "        for j in range(len(test_data['Inchi'])):\n",
    "            if matches[i] == test_data['Inchi'][j]:\n",
    "                matches_smiles.append(test_data['Smiles'][j])\n",
    "              #  #matches_generations.append(test_data['Generation'][j])\n",
    "    matches_data = {'Smiles': matches_smiles, 'Inchi': matches}\n",
    "    library_test_matches = pd.DataFrame(matches_data)\n",
    "    return(library_test_matches)"
   ]
  },
  {
   "cell_type": "code",
   "execution_count": 181,
   "id": "ca2928ae",
   "metadata": {},
   "outputs": [
    {
     "name": "stdout",
     "output_type": "stream",
     "text": [
      "1\n",
      "2\n",
      "3\n",
      "4\n",
      "CPU times: user 10min 8s, sys: 5.6 s, total: 10min 13s\n",
      "Wall time: 10min 16s\n"
     ]
    }
   ],
   "source": [
    "%%time\n",
    "#!sed 's/@//g' ./CHO_Data/Prepped_CHO_Smiles.tsv > temp1.tsv\n",
    "#!sed 's/@//g' ./UsingExampleData/formose_5_sep.tsv > temp2.tsv\n",
    "a = find_matches('./CHO_Data/Prepped_CHO_Smiles.tsv', './UsingExampleData/formose_5_sep.tsv')"
   ]
  },
  {
   "cell_type": "code",
   "execution_count": 182,
   "id": "519869b7",
   "metadata": {},
   "outputs": [
    {
     "data": {
      "text/html": [
       "<div>\n",
       "<style scoped>\n",
       "    .dataframe tbody tr th:only-of-type {\n",
       "        vertical-align: middle;\n",
       "    }\n",
       "\n",
       "    .dataframe tbody tr th {\n",
       "        vertical-align: top;\n",
       "    }\n",
       "\n",
       "    .dataframe thead th {\n",
       "        text-align: right;\n",
       "    }\n",
       "</style>\n",
       "<table border=\"1\" class=\"dataframe\">\n",
       "  <thead>\n",
       "    <tr style=\"text-align: right;\">\n",
       "      <th></th>\n",
       "      <th>Smiles</th>\n",
       "      <th>Inchi</th>\n",
       "    </tr>\n",
       "  </thead>\n",
       "  <tbody>\n",
       "  </tbody>\n",
       "</table>\n",
       "</div>"
      ],
      "text/plain": [
       "Empty DataFrame\n",
       "Columns: [Smiles, Inchi]\n",
       "Index: []"
      ]
     },
     "execution_count": 182,
     "metadata": {},
     "output_type": "execute_result"
    }
   ],
   "source": [
    "a"
   ]
  },
  {
   "cell_type": "code",
   "execution_count": 178,
   "id": "a2704f6c",
   "metadata": {},
   "outputs": [],
   "source": [
    "a.to_csv(r'c:\\data\\pandas.txt', header=None, index=None, sep='\\t', mode='a') "
   ]
  },
  {
   "cell_type": "code",
   "execution_count": null,
   "id": "8a0e03f5",
   "metadata": {},
   "outputs": [],
   "source": []
  }
 ],
 "metadata": {
  "kernelspec": {
   "display_name": "Python 3",
   "language": "python",
   "name": "python3"
  },
  "language_info": {
   "codemirror_mode": {
    "name": "ipython",
    "version": 3
   },
   "file_extension": ".py",
   "mimetype": "text/x-python",
   "name": "python",
   "nbconvert_exporter": "python",
   "pygments_lexer": "ipython3",
   "version": "3.9.4"
  }
 },
 "nbformat": 4,
 "nbformat_minor": 5
}
