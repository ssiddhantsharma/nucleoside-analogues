{
 "cells": [
  {
   "cell_type": "code",
   "execution_count": 4,
   "id": "37c97d0e",
   "metadata": {},
   "outputs": [],
   "source": [
    "from openbabel import openbabel"
   ]
  },
  {
   "cell_type": "code",
   "execution_count": 5,
   "id": "bd863c85",
   "metadata": {},
   "outputs": [],
   "source": [
    "from rdkit import Chem\n",
    "from rdkit.Chem import rdBase\n",
    "from rdkit.Chem import Draw\n",
    "from rdkit.Chem.Draw import IPythonConsole\n",
    "from rdkit.Chem import Descriptors\n",
    "from rdkit.Chem import Crippen"
   ]
  },
  {
   "cell_type": "code",
   "execution_count": 6,
   "id": "d55ba704",
   "metadata": {},
   "outputs": [],
   "source": [
    "import pandas as pd\n",
    "import matplotlib.pyplot as plt\n",
    "import numpy as np\n",
    "import scipy.stats as ss"
   ]
  },
  {
   "cell_type": "code",
   "execution_count": 7,
   "id": "c3dc75d7",
   "metadata": {},
   "outputs": [],
   "source": [
    "#matches_data = pd.read_csv('./MatchedDataNoStereo/FormoseAmm/NoStereoFormoseAmm.tsv', sep='\\t')"
   ]
  },
  {
   "cell_type": "code",
   "execution_count": 8,
   "id": "29aefeb6",
   "metadata": {},
   "outputs": [],
   "source": [
    "#FormoseAmm_rels = pd.read_csv('./FormoseAmmData/FormoseAmm_rels.tsv', sep='\\t')"
   ]
  },
  {
   "cell_type": "code",
   "execution_count": 126,
   "id": "4dbe1d9d",
   "metadata": {},
   "outputs": [],
   "source": [
    "def split(word):\n",
    "    return[char for char in word]"
   ]
  },
  {
   "cell_type": "code",
   "execution_count": 127,
   "id": "82cec11b",
   "metadata": {},
   "outputs": [],
   "source": [
    "def index_finder(Smiles, pathway, rels_data):\n",
    "    index = 0\n",
    "    rule = 0\n",
    "    for i in range(len(rels_data['Reagent'])):\n",
    "        if rels_data['Reagent'][i] == Smiles and rels_data['Formed/Produced'][i] == 1 and precursor_finder(rels_data['Index'][i], rels_data) not in pathway and precursor_finder(rels_data['Index'][i], rels_data) != rels_data['Reagent'][i]:\n",
    "            index = rels_data['Index'][i] \n",
    "            rule = rels_data['Rule'][i]\n",
    "            break\n",
    "    return(index, rule)"
   ]
  },
  {
   "cell_type": "code",
   "execution_count": 128,
   "id": "6d8f9c06",
   "metadata": {},
   "outputs": [],
   "source": [
    "def precursor_finder(index, rels_data):\n",
    "    precursor = 0\n",
    "    for i in range(len(rels_data['Index'])):\n",
    "        if rels_data['Index'][i] == index and rels_data['Formed/Produced'][i] == -1:\n",
    "            precursor = rels_data['Reagent'][i]\n",
    "            break\n",
    "    return(precursor)"
   ]
  },
  {
   "cell_type": "code",
   "execution_count": 129,
   "id": "ec4dc8cb",
   "metadata": {},
   "outputs": [],
   "source": [
    "def pathway_finder(Smiles, rels_data):\n",
    "    pathway = [Smiles]\n",
    "    G0 = ['N', 'C=O', 'C(CO)=O', 'O']\n",
    "    #G0 = ['C=O', 'C(CO)=O']\n",
    "    pathway_complete = False\n",
    "    while pathway_complete == False:\n",
    "        index = 0\n",
    "        rule = 0\n",
    "        index, rule = index_finder(pathway[-1], pathway, rels_data)\n",
    "        if index == 0 or pathway[-1] in G0:\n",
    "            pathway_complete == True\n",
    "            break\n",
    "        else:\n",
    "            precursor = precursor_finder(index, rels_data)\n",
    "            precursors = []\n",
    "            products = []\n",
    "            for i in range(len(rels_data['Index'])):\n",
    "                if rels_data['Index'][i] == index and rels_data['Formed/Produced'][i] == -1:\n",
    "                    precursors.append(rels_data['Reagent'][i])\n",
    "                elif rels_data['Index'][i] == index and rels_data['Formed/Produced'][i] == 1:\n",
    "                    products.append(rels_data['Reagent'][i])\n",
    "            reagents = ''\n",
    "            if len(precursors) == 0:\n",
    "                reagents += f'{precursors}[0]'\n",
    "            else:\n",
    "                for i in range(len(precursors)-1):\n",
    "                    reagents += f'{precursors[i]} + '\n",
    "                reagents += f'{precursors[-1]}'\n",
    "            produced = ''\n",
    "            if len(products) == 0:\n",
    "                produced += f'{products}[0]'\n",
    "            else:\n",
    "                for i in range(len(products)-1):\n",
    "                    produced += f'{products[i]} + '\n",
    "                produced += f'{products[-1]}'\n",
    "            pathway.append([index, rule, reagents, '->', produced])\n",
    "            pathway.append(precursor)\n",
    "    return(pathway)"
   ]
  },
  {
   "cell_type": "code",
   "execution_count": 130,
   "id": "a653dfa7",
   "metadata": {},
   "outputs": [],
   "source": [
    "def pathways(matches, rels):\n",
    "    matches_data = pd.read_csv(matches, sep='\\t')\n",
    "    rels_data = pd.read_csv(rels, sep='\\t')\n",
    "    pathways = []\n",
    "    for i in range(1): #len(matches_data['Smiles'])\n",
    "        pathways.append((pathway_finder(matches_data['Smiles'][i], rels_data)))\n",
    "        print(i)\n",
    "    #G0 = ['N', 'C=O', 'C(CO)=O', 'O']\n",
    "    G0 = ['C=O', 'C(CO)=O']\n",
    "    counter = 0\n",
    "    for i in range(len(pathways)): \n",
    "        if pathways[i][-1] not in G0:\n",
    "            counter +=1\n",
    "    print(f'Errors = {counter}')\n",
    "    print(f'No. matches = {len(pathways)}')\n",
    "    #matches_data['Pathways'] = pathways\n",
    "    return(pathways)"
   ]
  },
  {
   "cell_type": "code",
   "execution_count": 131,
   "id": "5aa51797",
   "metadata": {},
   "outputs": [
    {
     "name": "stdout",
     "output_type": "stream",
     "text": [
      "0\n",
      "Errors = 1\n",
      "No. matches = 1\n",
      "CPU times: user 9.53 s, sys: 83.9 ms, total: 9.61 s\n",
      "Wall time: 9.8 s\n"
     ]
    }
   ],
   "source": [
    "%%time\n",
    "a = pathways('./MatchedDataNoStereo/PyruvicAcid/NoStereoPyruvicAcid_CHNO.tsv', './PyruvicAcidData/PyruvicAcid_rels.tsv')\n",
    "#df.to_csv(r'PyruvicAcidPathways.tsv', header=None, index=None, sep='\\t', mode='a') "
   ]
  },
  {
   "cell_type": "code",
   "execution_count": 141,
   "id": "b08360a0",
   "metadata": {},
   "outputs": [
    {
     "data": {
      "text/plain": [
       "['150_0',\n",
       " 'Benzilic Acid Rearrangement',\n",
       " 'O + C(C(O)=O)(CC(C(C)=O)=O)=O',\n",
       " '->',\n",
       " 'C(C(C)(CC(C(O)=O)=O)O)(O)=O']"
      ]
     },
     "execution_count": 141,
     "metadata": {},
     "output_type": "execute_result"
    }
   ],
   "source": [
    "a[0][5]"
   ]
  },
  {
   "cell_type": "code",
   "execution_count": null,
   "id": "5f9975fa",
   "metadata": {},
   "outputs": [],
   "source": []
  }
 ],
 "metadata": {
  "kernelspec": {
   "display_name": "Python 3",
   "language": "python",
   "name": "python3"
  },
  "language_info": {
   "codemirror_mode": {
    "name": "ipython",
    "version": 3
   },
   "file_extension": ".py",
   "mimetype": "text/x-python",
   "name": "python",
   "nbconvert_exporter": "python",
   "pygments_lexer": "ipython3",
   "version": "3.9.4"
  }
 },
 "nbformat": 4,
 "nbformat_minor": 5
}
