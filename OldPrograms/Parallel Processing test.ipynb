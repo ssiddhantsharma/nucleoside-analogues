{
 "cells": [
  {
   "cell_type": "code",
   "execution_count": 1,
   "id": "ad47cfb6",
   "metadata": {},
   "outputs": [],
   "source": [
    "from openbabel import openbabel"
   ]
  },
  {
   "cell_type": "code",
   "execution_count": 31,
   "id": "21db13ad",
   "metadata": {},
   "outputs": [],
   "source": [
    "from rdkit import Chem\n",
    "from rdkit.Chem import rdBase\n",
    "from rdkit.Chem import Draw\n",
    "from rdkit.Chem.Draw import IPythonConsole\n",
    "from rdkit.Chem import Descriptors\n",
    "from rdkit.Chem import Crippen"
   ]
  },
  {
   "cell_type": "code",
   "execution_count": 32,
   "id": "0e156a46",
   "metadata": {},
   "outputs": [],
   "source": [
    "import pandas as pd\n",
    "import matplotlib.pyplot as plt\n",
    "import numpy as np\n",
    "import scipy.stats as ss"
   ]
  },
  {
   "cell_type": "code",
   "execution_count": 33,
   "id": "54920f59",
   "metadata": {},
   "outputs": [],
   "source": [
    "import multiprocessing as mp"
   ]
  },
  {
   "cell_type": "code",
   "execution_count": 34,
   "id": "c6a472ae",
   "metadata": {},
   "outputs": [],
   "source": [
    "def Canonical(row):\n",
    "    Smiles = row[0]\n",
    "    Canonical_smiles = Chem.CanonSmiles(Smiles)\n",
    "    return(Canonical_smiles)"
   ]
  },
  {
   "cell_type": "code",
   "execution_count": 35,
   "id": "a959f5fd",
   "metadata": {},
   "outputs": [],
   "source": [
    "library_data = pd.read_csv('./CHNO_Data/Prepped_CHNO_Smiles.tsv', sep='\\t')\n",
    "test_data = pd.read_csv('./UsingExampleData/formose_5_sep.tsv', sep='\\t')"
   ]
  },
  {
   "cell_type": "code",
   "execution_count": 41,
   "id": "b0b96f40",
   "metadata": {},
   "outputs": [
    {
     "name": "stdout",
     "output_type": "stream",
     "text": [
      "CPU times: user 3min 28s, sys: 345 ms, total: 3min 28s\n",
      "Wall time: 3min 29s\n"
     ]
    }
   ],
   "source": [
    "%%time\n",
    "library_data['Canonical Smiles'] = library_data.apply(Canonical, axis=1, raw=True, result_type='expand')"
   ]
  },
  {
   "cell_type": "code",
   "execution_count": 36,
   "id": "404568cc",
   "metadata": {},
   "outputs": [
    {
     "name": "stdout",
     "output_type": "stream",
     "text": [
      "CPU times: user 3.03 s, sys: 10.8 ms, total: 3.04 s\n",
      "Wall time: 3.05 s\n"
     ]
    }
   ],
   "source": [
    "%%time\n",
    "test_data['Canonical Smiles'] = test_data.apply(Canonical, axis=1, raw=True, result_type='expand')"
   ]
  },
  {
   "cell_type": "code",
   "execution_count": 44,
   "id": "d307d25b",
   "metadata": {},
   "outputs": [],
   "source": [
    "def parse(row):\n",
    "    smi = row[0]\n",
    "    smi = smi.replace('@', '')\n",
    "    return(smi)"
   ]
  },
  {
   "cell_type": "code",
   "execution_count": 38,
   "id": "ae3e05ea",
   "metadata": {},
   "outputs": [
    {
     "name": "stdout",
     "output_type": "stream",
     "text": [
      "CPU times: user 8.53 s, sys: 76.1 ms, total: 8.61 s\n",
      "Wall time: 8.76 s\n"
     ]
    }
   ],
   "source": [
    "%%time\n",
    "test_data['Canonical Smiles'] = parse(test_data['Canonical Smiles'])"
   ]
  },
  {
   "cell_type": "code",
   "execution_count": 49,
   "id": "ffe3f8f2",
   "metadata": {},
   "outputs": [],
   "source": [
    "def Canonical(smi):\n",
    "    Canonical_smiles = Chem.CanonSmiles(smi)\n",
    "    print(Canonical_smiles)"
   ]
  },
  {
   "cell_type": "code",
   "execution_count": 51,
   "id": "ec83c73f",
   "metadata": {},
   "outputs": [
    {
     "name": "stdout",
     "output_type": "stream",
     "text": [
      "O=CC(=O)CC(O)(CO)CO\n"
     ]
    }
   ],
   "source": [
    "Canonical('C(C(CC(CO)(CO)O)=O)=O')"
   ]
  },
  {
   "cell_type": "code",
   "execution_count": 52,
   "id": "416c13c5",
   "metadata": {},
   "outputs": [
    {
     "name": "stdout",
     "output_type": "stream",
     "text": [
      "O=CC(=O)CC(O)(CO)CO\n"
     ]
    }
   ],
   "source": [
    "Canonical('C(=O)C(=O)CC(CO)(CO)O[H]')"
   ]
  },
  {
   "cell_type": "code",
   "execution_count": null,
   "id": "1ab83e46",
   "metadata": {},
   "outputs": [],
   "source": []
  }
 ],
 "metadata": {
  "kernelspec": {
   "display_name": "Python 3",
   "language": "python",
   "name": "python3"
  },
  "language_info": {
   "codemirror_mode": {
    "name": "ipython",
    "version": 3
   },
   "file_extension": ".py",
   "mimetype": "text/x-python",
   "name": "python",
   "nbconvert_exporter": "python",
   "pygments_lexer": "ipython3",
   "version": "3.9.4"
  }
 },
 "nbformat": 4,
 "nbformat_minor": 5
}
