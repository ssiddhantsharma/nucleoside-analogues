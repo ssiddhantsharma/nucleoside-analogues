{
 "cells": [
  {
   "cell_type": "code",
   "execution_count": 1,
   "id": "04470f40",
   "metadata": {},
   "outputs": [],
   "source": [
    "from openbabel import openbabel"
   ]
  },
  {
   "cell_type": "code",
   "execution_count": 2,
   "id": "407d2ea9",
   "metadata": {},
   "outputs": [],
   "source": [
    "from rdkit import Chem\n",
    "from rdkit.Chem import rdBase\n",
    "from rdkit.Chem import Draw\n",
    "from rdkit.Chem.Draw import IPythonConsole\n",
    "from rdkit.Chem import Descriptors\n",
    "from rdkit.Chem import Crippen"
   ]
  },
  {
   "cell_type": "code",
   "execution_count": 3,
   "id": "3003b1a9",
   "metadata": {},
   "outputs": [],
   "source": [
    "import pandas as pd\n",
    "import matplotlib.pyplot as plt\n",
    "import numpy as np\n",
    "import scipy.stats as ss"
   ]
  },
  {
   "cell_type": "code",
   "execution_count": 4,
   "id": "df026010",
   "metadata": {
    "scrolled": true
   },
   "outputs": [],
   "source": [
    "data = pd.read_csv('./FormoseAmmDescriptors.tsv', sep='\\t')"
   ]
  },
  {
   "cell_type": "code",
   "execution_count": 14,
   "id": "146a5776",
   "metadata": {},
   "outputs": [],
   "source": [
    "mol = Chem.MolFromSmiles(data['Smiles'][0])"
   ]
  },
  {
   "cell_type": "code",
   "execution_count": 15,
   "id": "79f038c8",
   "metadata": {},
   "outputs": [
    {
     "data": {
      "image/png": "[encoded data removed]",
      "text/plain": [
       "<rdkit.Chem.rdchem.Mol at 0x1095cb4c0>"
      ]
     },
     "execution_count": 15,
     "metadata": {},
     "output_type": "execute_result"
    }
   ],
   "source": [
    "mol"
   ]
  },
  {
   "cell_type": "code",
   "execution_count": 16,
   "id": "0d4dcb69",
   "metadata": {},
   "outputs": [
    {
     "data": {
      "text/plain": [
       "'YTBSYETUWUMLBZ'"
      ]
     },
     "execution_count": 16,
     "metadata": {},
     "output_type": "execute_result"
    }
   ],
   "source": [
    "data['Inchi'][0]"
   ]
  },
  {
   "cell_type": "code",
   "execution_count": null,
   "id": "7faf301c",
   "metadata": {},
   "outputs": [],
   "source": []
  }
 ],
 "metadata": {
  "kernelspec": {
   "display_name": "Python 3",
   "language": "python",
   "name": "python3"
  },
  "language_info": {
   "codemirror_mode": {
    "name": "ipython",
    "version": 3
   },
   "file_extension": ".py",
   "mimetype": "text/x-python",
   "name": "python",
   "nbconvert_exporter": "python",
   "pygments_lexer": "ipython3",
   "version": "3.9.5"
  }
 },
 "nbformat": 4,
 "nbformat_minor": 5
}
