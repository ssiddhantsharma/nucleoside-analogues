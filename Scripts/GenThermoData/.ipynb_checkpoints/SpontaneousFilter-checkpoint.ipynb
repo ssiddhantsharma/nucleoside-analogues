{
 "cells": [
  {
   "cell_type": "code",
   "execution_count": 1,
   "id": "4b58a66f",
   "metadata": {},
   "outputs": [],
   "source": [
    "import pandas as pd\n",
    "import numpy as np"
   ]
  },
  {
   "cell_type": "code",
   "execution_count": null,
   "id": "872def6a",
   "metadata": {},
   "outputs": [],
   "source": [
    "def spontaneous_filter(Network, Generation):\n",
    "    df = pd.read_csv(f'./RelsDataWithThermo/{Network}/{Network}_{Generation}RelsWithThermo.tsv', sep='\\t')\n",
    "    Indexes = []\n",
    "    Reagents = []\n",
    "    Products = []\n",
    "    Rules = []\n",
    "    Energy_Changes = []\n",
    "    for i in range(len(df['Index'])):\n",
    "        if df['Energy Change'][i] =< 0:\n",
    "        Indexes.append(df['Index'][i])\n",
    "        Reagents.append(df['Reagents'][i])\n",
    "        Products.append(df['Products'][i])\n",
    "        Rules.append(df['Rule'][i])\n",
    "        Energy_Changes.append(df['Energy Change'][i])\n",
    "    data = {'Index':indexes}\n",
    "    "
   ]
  }
 ],
 "metadata": {
  "kernelspec": {
   "display_name": "Python 3",
   "language": "python",
   "name": "python3"
  },
  "language_info": {
   "codemirror_mode": {
    "name": "ipython",
    "version": 3
   },
   "file_extension": ".py",
   "mimetype": "text/x-python",
   "name": "python",
   "nbconvert_exporter": "python",
   "pygments_lexer": "ipython3",
   "version": "3.9.5"
  }
 },
 "nbformat": 4,
 "nbformat_minor": 5
}
