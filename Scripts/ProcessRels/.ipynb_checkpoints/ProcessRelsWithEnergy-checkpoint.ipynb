{
 "cells": [
  {
   "cell_type": "code",
   "execution_count": 1,
   "id": "91b4733b",
   "metadata": {},
   "outputs": [],
   "source": [
    "from openbabel import openbabel"
   ]
  },
  {
   "cell_type": "code",
   "execution_count": 2,
   "id": "7d2b3a3b",
   "metadata": {},
   "outputs": [],
   "source": [
    "from rdkit import Chem\n",
    "from rdkit.Chem import rdBase\n",
    "from rdkit.Chem import Draw\n",
    "from rdkit.Chem.Draw import IPythonConsole\n",
    "from rdkit.Chem import Descriptors\n",
    "from rdkit.Chem import Crippen"
   ]
  },
  {
   "cell_type": "code",
   "execution_count": 3,
   "id": "efe59ed2",
   "metadata": {},
   "outputs": [],
   "source": [
    "import pandas as pd\n",
    "import matplotlib.pyplot as plt\n",
    "import numpy as np\n",
    "import scipy.stats as ss"
   ]
  },
  {
   "cell_type": "code",
   "execution_count": 123,
   "id": "70ced740",
   "metadata": {},
   "outputs": [],
   "source": [
    "FormoseAmmRels = './Rels/FormoseAmm_rels.tsv'\n",
    "FormoseRels = './Rels/Formose_rels.tsv'\n",
    "GlucoseAmmRels = './Rels/GlucoseAmm_rels.tsv'\n",
    "GlucoseRels = './Rels/Glucose_rels.tsv'\n",
    "PyruvicAcidRels = './Rels/PyruvicAcid_rels.tsv'"
   ]
  },
  {
   "cell_type": "code",
   "execution_count": 124,
   "id": "9c58d314",
   "metadata": {},
   "outputs": [],
   "source": [
    "def indices(lst, element):\n",
    "    result = []\n",
    "    offset = -1\n",
    "    while True:\n",
    "        try:\n",
    "            offset = lst.index(element, offset+1)\n",
    "        except ValueError:\n",
    "            return result\n",
    "        result.append(offset)"
   ]
  },
  {
   "cell_type": "code",
   "execution_count": 125,
   "id": "ba8cf655",
   "metadata": {},
   "outputs": [],
   "source": [
    "def ProcessRels(path, title):\n",
    "    Rels_data = pd.read_csv(path, sep='\\t')\n",
    "    indexes = []\n",
    "    rules = []\n",
    "    for i in range(len(Rels_data['Index'])):\n",
    "        if Rels_data['Index'][i] not in indexes:\n",
    "            indexes.append(Rels_data['Index'][i])\n",
    "            rules.append(Rels_data['Rule'][i])\n",
    "        if i%10000 == 0:\n",
    "            print(i)\n",
    "    print('Checkpoint')\n",
    "    reactions = []\n",
    "    reagents = []\n",
    "    products = []\n",
    "    for i in range(len(Rels_data['Index'])):\n",
    "        reactions.append(Rels_data['Index'][i])\n",
    "    print('Checkpoint 2')\n",
    "    print(len(indexes))\n",
    "    for i in range(len(indexes)):\n",
    "        if i%5000 == 0:\n",
    "            print(i)\n",
    "        molecules = []\n",
    "        coefficients = []\n",
    "        dummy = indices(reactions, indexes[i])\n",
    "        for j in range(len(dummy)):\n",
    "            molecules.append(Rels_data['Reagent'][dummy[j]])\n",
    "            coefficients.append(Rels_data['Formed/Produced'][dummy[j]])\n",
    "        used = []\n",
    "        made = []\n",
    "        for k in range(len(coefficients)):\n",
    "            if coefficients[k] == 1:\n",
    "                made.append(molecules[k])\n",
    "            else:\n",
    "                used.append(molecules[k])\n",
    "        reagents.append(used)\n",
    "        products.append(made)\n",
    "    data = {'Index': indexes, 'Reagents': reagents, 'Products': products, 'Rule': rules}\n",
    "    df = pd.DataFrame(data)\n",
    "    df.to_csv(f'{title}ProcessedRels.tsv', header=None, index=None, sep='\\t', mode='a')\n",
    "    return(df)"
   ]
  },
  {
   "cell_type": "code",
   "execution_count": 126,
   "id": "b8735c6d",
   "metadata": {},
   "outputs": [
    {
     "name": "stdout",
     "output_type": "stream",
     "text": [
      "0\n",
      "10000\n",
      "20000\n",
      "30000\n",
      "40000\n",
      "50000\n",
      "60000\n",
      "70000\n",
      "80000\n",
      "90000\n",
      "100000\n",
      "110000\n",
      "120000\n",
      "130000\n",
      "140000\n",
      "150000\n",
      "160000\n",
      "170000\n",
      "180000\n",
      "190000\n",
      "200000\n",
      "210000\n",
      "220000\n",
      "230000\n",
      "240000\n",
      "250000\n",
      "260000\n",
      "270000\n",
      "280000\n",
      "290000\n",
      "300000\n",
      "310000\n",
      "320000\n",
      "330000\n",
      "340000\n",
      "350000\n",
      "360000\n",
      "370000\n",
      "380000\n",
      "390000\n",
      "Checkpoint\n",
      "Checkpoint 2\n",
      "131064\n",
      "0\n",
      "5000\n",
      "10000\n",
      "15000\n",
      "20000\n",
      "25000\n",
      "30000\n",
      "35000\n",
      "40000\n",
      "45000\n",
      "50000\n",
      "55000\n",
      "60000\n",
      "65000\n",
      "70000\n",
      "75000\n",
      "80000\n",
      "85000\n",
      "90000\n",
      "95000\n",
      "100000\n",
      "105000\n",
      "110000\n",
      "115000\n",
      "120000\n",
      "125000\n",
      "130000\n",
      "CPU times: user 18min 15s, sys: 1.57 s, total: 18min 17s\n",
      "Wall time: 18min 20s\n"
     ]
    }
   ],
   "source": [
    "%%time\n",
    "b = ProcessRels(PyruvicAcidRels, 'PyruvicAcid')"
   ]
  },
  {
   "cell_type": "code",
   "execution_count": 60,
   "id": "bdefff69",
   "metadata": {},
   "outputs": [],
   "source": []
  }
 ],
 "metadata": {
  "kernelspec": {
   "display_name": "Python 3",
   "language": "python",
   "name": "python3"
  },
  "language_info": {
   "codemirror_mode": {
    "name": "ipython",
    "version": 3
   },
   "file_extension": ".py",
   "mimetype": "text/x-python",
   "name": "python",
   "nbconvert_exporter": "python",
   "pygments_lexer": "ipython3",
   "version": "3.9.5"
  }
 },
 "nbformat": 4,
 "nbformat_minor": 5
}
