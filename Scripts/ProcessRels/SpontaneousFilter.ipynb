{
 "cells": [
  {
   "cell_type": "code",
   "execution_count": 1,
   "id": "3ed87238",
   "metadata": {},
   "outputs": [],
   "source": [
    "from openbabel import openbabel\n",
    "from rdkit import Chem\n",
    "from rdkit.Chem import rdBase\n",
    "from rdkit.Chem import Draw\n",
    "from rdkit.Chem.Draw import IPythonConsole\n",
    "from rdkit.Chem import Descriptors\n",
    "from rdkit.Chem import Crippen\n",
    "import pandas as pd\n",
    "import matplotlib.pyplot as plt\n",
    "import numpy as np\n",
    "import scipy.stats as ss"
   ]
  },
  {
   "cell_type": "code",
   "execution_count": 3,
   "id": "5cd08b6b",
   "metadata": {},
   "outputs": [
    {
     "data": {
      "text/plain": [
       "-385956.44651605515"
      ]
     },
     "execution_count": 3,
     "metadata": {},
     "output_type": "execute_result"
    }
   ],
   "source": [
    "from GibbsPy import thermodynamics as thermo # import\n",
    "thermo.gibbsAQ('CO2',298, 1)"
   ]
  },
  {
   "cell_type": "code",
   "execution_count": 4,
   "id": "9e69f451",
   "metadata": {},
   "outputs": [],
   "source": [
    "#pip install --user pgradd"
   ]
  },
  {
   "cell_type": "code",
   "execution_count": 14,
   "id": "9067e8d4",
   "metadata": {},
   "outputs": [
    {
     "ename": "PatternMatchError",
     "evalue": "\nSub group not assigned:\n[H]OC([H])(C([H])=O)C([H])(N([H])C([H])([H])C([H])([H])C(=O)C([H])=O)C([H])([H])[H] Atom symbol: N #radicalE: 0\nConnectivity:\nC SINGLE\nC SINGLE\nH SINGLE\n Occured  at atom number 4",
     "output_type": "error",
     "traceback": [
      "\u001b[0;31m---------------------------------------------------------------------------\u001b[0m",
      "\u001b[0;31mPatternMatchError\u001b[0m                         Traceback (most recent call last)",
      "\u001b[0;32m<ipython-input-14-2629646e18c4>\u001b[0m in \u001b[0;36m<module>\u001b[0;34m\u001b[0m\n\u001b[1;32m      2\u001b[0m \u001b[0;32mimport\u001b[0m \u001b[0mpgradd\u001b[0m\u001b[0;34m.\u001b[0m\u001b[0mThermoChem\u001b[0m\u001b[0;34m\u001b[0m\u001b[0;34m\u001b[0m\u001b[0m\n\u001b[1;32m      3\u001b[0m \u001b[0mlib\u001b[0m \u001b[0;34m=\u001b[0m \u001b[0mGroupLibrary\u001b[0m\u001b[0;34m.\u001b[0m\u001b[0mLoad\u001b[0m\u001b[0;34m(\u001b[0m\u001b[0;34m'BensonGA'\u001b[0m\u001b[0;34m)\u001b[0m\u001b[0;34m\u001b[0m\u001b[0;34m\u001b[0m\u001b[0m\n\u001b[0;32m----> 4\u001b[0;31m \u001b[0mdescriptors\u001b[0m \u001b[0;34m=\u001b[0m \u001b[0mlib\u001b[0m\u001b[0;34m.\u001b[0m\u001b[0mGetDescriptors\u001b[0m\u001b[0;34m(\u001b[0m\u001b[0;34m'C(C(C(C)NCCC(C=O)=O)O)=O'\u001b[0m\u001b[0;34m)\u001b[0m\u001b[0;34m\u001b[0m\u001b[0;34m\u001b[0m\u001b[0m\n\u001b[0m\u001b[1;32m      5\u001b[0m \u001b[0mprint\u001b[0m\u001b[0;34m(\u001b[0m\u001b[0mdescriptors\u001b[0m\u001b[0;34m)\u001b[0m\u001b[0;34m\u001b[0m\u001b[0;34m\u001b[0m\u001b[0m\n\u001b[1;32m      6\u001b[0m \u001b[0mthermochem\u001b[0m \u001b[0;34m=\u001b[0m \u001b[0mlib\u001b[0m\u001b[0;34m.\u001b[0m\u001b[0mEstimate\u001b[0m\u001b[0;34m(\u001b[0m\u001b[0mdescriptors\u001b[0m\u001b[0;34m,\u001b[0m\u001b[0;34m'thermochem'\u001b[0m\u001b[0;34m)\u001b[0m\u001b[0;34m\u001b[0m\u001b[0;34m\u001b[0m\u001b[0m\n",
      "\u001b[0;32m~/.local/lib/python3.9/site-packages/pgradd/GroupAdd/Library.py\u001b[0m in \u001b[0;36mGetDescriptors\u001b[0;34m(self, mol)\u001b[0m\n\u001b[1;32m    110\u001b[0m         \"\"\"\n\u001b[1;32m    111\u001b[0m         \u001b[0mself\u001b[0m\u001b[0;34m.\u001b[0m\u001b[0mname\u001b[0m \u001b[0;34m=\u001b[0m \u001b[0mmol\u001b[0m\u001b[0;34m\u001b[0m\u001b[0;34m\u001b[0m\u001b[0m\n\u001b[0;32m--> 112\u001b[0;31m         \u001b[0;32mreturn\u001b[0m \u001b[0mself\u001b[0m\u001b[0;34m.\u001b[0m\u001b[0mscheme\u001b[0m\u001b[0;34m.\u001b[0m\u001b[0mGetDescriptors\u001b[0m\u001b[0;34m(\u001b[0m\u001b[0mmol\u001b[0m\u001b[0;34m)\u001b[0m\u001b[0;34m\u001b[0m\u001b[0;34m\u001b[0m\u001b[0m\n\u001b[0m\u001b[1;32m    113\u001b[0m \u001b[0;34m\u001b[0m\u001b[0m\n\u001b[1;32m    114\u001b[0m     \u001b[0;32mdef\u001b[0m \u001b[0mEstimate\u001b[0m\u001b[0;34m(\u001b[0m\u001b[0mself\u001b[0m\u001b[0;34m,\u001b[0m \u001b[0mgroups\u001b[0m\u001b[0;34m,\u001b[0m \u001b[0mproperty_set_name\u001b[0m\u001b[0;34m)\u001b[0m\u001b[0;34m:\u001b[0m\u001b[0;34m\u001b[0m\u001b[0;34m\u001b[0m\u001b[0m\n",
      "\u001b[0;32m~/.local/lib/python3.9/site-packages/pgradd/GroupAdd/Scheme.py\u001b[0m in \u001b[0;36mGetDescriptors\u001b[0;34m(self, mol, debug)\u001b[0m\n\u001b[1;32m    139\u001b[0m         \u001b[0m_aromatization_Benson\u001b[0m\u001b[0;34m(\u001b[0m\u001b[0mmol\u001b[0m\u001b[0;34m)\u001b[0m\u001b[0;34m\u001b[0m\u001b[0;34m\u001b[0m\u001b[0m\n\u001b[1;32m    140\u001b[0m         \u001b[0;31m# assign groups\u001b[0m\u001b[0;34m\u001b[0m\u001b[0;34m\u001b[0m\u001b[0;34m\u001b[0m\u001b[0m\n\u001b[0;32m--> 141\u001b[0;31m         \u001b[0mself\u001b[0m\u001b[0;34m.\u001b[0m\u001b[0m_AssignCenterPattern\u001b[0m\u001b[0;34m(\u001b[0m\u001b[0mmol\u001b[0m\u001b[0;34m,\u001b[0m \u001b[0mdebug\u001b[0m\u001b[0;34m)\u001b[0m\u001b[0;34m\u001b[0m\u001b[0;34m\u001b[0m\u001b[0m\n\u001b[0m\u001b[1;32m    142\u001b[0m         \u001b[0mgroups\u001b[0m \u001b[0;34m=\u001b[0m \u001b[0mself\u001b[0m\u001b[0;34m.\u001b[0m\u001b[0m_AssignGroup\u001b[0m\u001b[0;34m(\u001b[0m\u001b[0mmol\u001b[0m\u001b[0;34m)\u001b[0m\u001b[0;34m\u001b[0m\u001b[0;34m\u001b[0m\u001b[0m\n\u001b[1;32m    143\u001b[0m         \u001b[0mdescriptors\u001b[0m \u001b[0;34m=\u001b[0m \u001b[0mself\u001b[0m\u001b[0;34m.\u001b[0m\u001b[0m_AssignDescriptor\u001b[0m\u001b[0;34m(\u001b[0m\u001b[0mmol\u001b[0m\u001b[0;34m,\u001b[0m \u001b[0mclean_mol\u001b[0m\u001b[0;34m)\u001b[0m\u001b[0;34m\u001b[0m\u001b[0;34m\u001b[0m\u001b[0m\n",
      "\u001b[0;32m~/.local/lib/python3.9/site-packages/pgradd/GroupAdd/Scheme.py\u001b[0m in \u001b[0;36m_AssignCenterPattern\u001b[0;34m(self, mol, debug)\u001b[0m\n\u001b[1;32m    184\u001b[0m                             \u001b[0mbond\u001b[0m\u001b[0;34m.\u001b[0m\u001b[0mGetBondType\u001b[0m\u001b[0;34m(\u001b[0m\u001b[0;34m)\u001b[0m\u001b[0;34m.\u001b[0m\u001b[0m__str__\u001b[0m\u001b[0;34m(\u001b[0m\u001b[0;34m)\u001b[0m\u001b[0;34m\u001b[0m\u001b[0;34m\u001b[0m\u001b[0m\n\u001b[1;32m    185\u001b[0m                 \u001b[0ms\u001b[0m \u001b[0;34m+=\u001b[0m \u001b[0;34m'\\n Occured '\u001b[0m\u001b[0;34m\u001b[0m\u001b[0;34m\u001b[0m\u001b[0m\n\u001b[0;32m--> 186\u001b[0;31m                 \u001b[0;32mraise\u001b[0m \u001b[0mPatternMatchError\u001b[0m\u001b[0;34m(\u001b[0m\u001b[0ms\u001b[0m\u001b[0;34m,\u001b[0m \u001b[0matom\u001b[0m\u001b[0;34m)\u001b[0m\u001b[0;34m\u001b[0m\u001b[0;34m\u001b[0m\u001b[0m\n\u001b[0m\u001b[1;32m    187\u001b[0m \u001b[0;34m\u001b[0m\u001b[0m\n\u001b[1;32m    188\u001b[0m     \u001b[0;32mdef\u001b[0m \u001b[0m_AssignGroup\u001b[0m\u001b[0;34m(\u001b[0m\u001b[0mself\u001b[0m\u001b[0;34m,\u001b[0m \u001b[0mmol\u001b[0m\u001b[0;34m)\u001b[0m\u001b[0;34m:\u001b[0m\u001b[0;34m\u001b[0m\u001b[0;34m\u001b[0m\u001b[0m\n",
      "\u001b[0;31mPatternMatchError\u001b[0m: \nSub group not assigned:\n[H]OC([H])(C([H])=O)C([H])(N([H])C([H])([H])C([H])([H])C(=O)C([H])=O)C([H])([H])[H] Atom symbol: N #radicalE: 0\nConnectivity:\nC SINGLE\nC SINGLE\nH SINGLE\n Occured  at atom number 4"
     ]
    }
   ],
   "source": [
    "from pgradd.GroupAdd.Library import GroupLibrary\n",
    "import pgradd.ThermoChem\n",
    "lib = GroupLibrary.Load('BensonGA')\n",
    "descriptors = lib.GetDescriptors('C(C(C(C)NCCC(C=O)=O)O)=O')\n",
    "print(descriptors)\n",
    "thermochem = lib.Estimate(descriptors,'thermochem')\n",
    "print(thermochem.get_HoRT(298.15))"
   ]
  },
  {
   "cell_type": "code",
   "execution_count": 62,
   "id": "db0dbe4f",
   "metadata": {},
   "outputs": [],
   "source": [
    "a = !obthermo test.txt"
   ]
  },
  {
   "cell_type": "code",
   "execution_count": 63,
   "id": "c1ed9598",
   "metadata": {},
   "outputs": [
    {
     "name": "stdout",
     "output_type": "stream",
     "text": [
      "[]\n"
     ]
    }
   ],
   "source": [
    "print(a)"
   ]
  },
  {
   "cell_type": "code",
   "execution_count": 26,
   "id": "db3045cc",
   "metadata": {},
   "outputs": [],
   "source": [
    "from rdkit.Chem import PandasTools"
   ]
  },
  {
   "cell_type": "code",
   "execution_count": 36,
   "id": "f702e429",
   "metadata": {},
   "outputs": [],
   "source": [
    "def minimise(matched_data):\n",
    "    matches = pd.read_csv(matched_data, sep='\\t')\n",
    "    PandasTools.AddMoleculeColumnToFrame(matches,'Smiles','Molecule')\n",
    "    PandasTools.WriteSDF(matches, 'pp_out.sdf', molColName='Molecule', properties=list(matches.columns))\n",
    "    !obthermo pp_out.sdf -O Minimised.sdf "
   ]
  },
  {
   "cell_type": "code",
   "execution_count": 37,
   "id": "84aa99ac",
   "metadata": {},
   "outputs": [
    {
     "name": "stdout",
     "output_type": "stream",
     "text": [
      "obthermo: cannot read input file!\r\n"
     ]
    }
   ],
   "source": [
    "minimise('test.tsv')"
   ]
  },
  {
   "cell_type": "code",
   "execution_count": null,
   "id": "bb96603e",
   "metadata": {},
   "outputs": [],
   "source": []
  }
 ],
 "metadata": {
  "kernelspec": {
   "display_name": "Python 3",
   "language": "python",
   "name": "python3"
  },
  "language_info": {
   "codemirror_mode": {
    "name": "ipython",
    "version": 3
   },
   "file_extension": ".py",
   "mimetype": "text/x-python",
   "name": "python",
   "nbconvert_exporter": "python",
   "pygments_lexer": "ipython3",
   "version": "3.9.5"
  }
 },
 "nbformat": 4,
 "nbformat_minor": 5
}
