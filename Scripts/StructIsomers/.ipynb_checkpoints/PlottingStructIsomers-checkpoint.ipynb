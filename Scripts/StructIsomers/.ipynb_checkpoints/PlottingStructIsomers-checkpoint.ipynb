{
 "cells": [
  {
   "cell_type": "code",
   "execution_count": 1,
   "id": "ef5d16df",
   "metadata": {},
   "outputs": [],
   "source": [
    "from openbabel import openbabel"
   ]
  },
  {
   "cell_type": "code",
   "execution_count": 2,
   "id": "5c0ec4a2",
   "metadata": {},
   "outputs": [],
   "source": [
    "from rdkit import Chem\n",
    "from rdkit.Chem import rdBase\n",
    "from rdkit.Chem import Draw\n",
    "from rdkit.Chem.Draw import IPythonConsole\n",
    "from rdkit.Chem import Descriptors\n",
    "from rdkit.Chem import Crippen"
   ]
  },
  {
   "cell_type": "code",
   "execution_count": 3,
   "id": "b3215dba",
   "metadata": {},
   "outputs": [],
   "source": [
    "import pandas as pd\n",
    "import matplotlib.pyplot as plt\n",
    "import numpy as np\n",
    "import scipy.stats as ss"
   ]
  },
  {
   "cell_type": "code",
   "execution_count": 4,
   "id": "c9d84d8e",
   "metadata": {},
   "outputs": [],
   "source": [
    "from ast import literal_eval"
   ]
  },
  {
   "cell_type": "code",
   "execution_count": 5,
   "id": "2d927b50",
   "metadata": {},
   "outputs": [],
   "source": [
    "def split(word):\n",
    "    return[char for char in word]"
   ]
  },
  {
   "cell_type": "code",
   "execution_count": 6,
   "id": "28b1db29",
   "metadata": {},
   "outputs": [],
   "source": [
    "def inchi(array):\n",
    "    Smiles = array[0] \n",
    "    mol = Chem.MolFromSmiles(Smiles)\n",
    "    dummy = Chem.inchi.MolToInchiKey(mol)#split at first layer (contains everything but stereochemical info)\n",
    "    characters = split(dummy)\n",
    "    dummy = ''\n",
    "    position = 0\n",
    "    for i in range(len(characters)):\n",
    "        if characters[i] == '-':\n",
    "            position = i\n",
    "            break\n",
    "    for i in range(position):\n",
    "        dummy += characters[i]\n",
    "    return(dummy)"
   ]
  },
  {
   "cell_type": "code",
   "execution_count": 7,
   "id": "5a0b9489",
   "metadata": {},
   "outputs": [],
   "source": [
    "def inchi_generations(array):\n",
    "    Smiles = array[1]\n",
    "    mol = Chem.MolFromSmiles(Smiles)\n",
    "    dummy = Chem.inchi.MolToInchiKey(mol)#split at first layer (contains everything but stereochemical info)\n",
    "    characters = split(dummy)\n",
    "    dummy = ''\n",
    "    position = 0\n",
    "    for i in range(len(characters)):\n",
    "        if characters[i] == '-':\n",
    "            position = i\n",
    "            break\n",
    "    for i in range(position):\n",
    "        dummy += characters[i]\n",
    "    return(dummy)"
   ]
  },
  {
   "cell_type": "markdown",
   "id": "deb7e543",
   "metadata": {},
   "source": [
    "## Nucleoside matching (with degeneracy)"
   ]
  },
  {
   "cell_type": "code",
   "execution_count": 9,
   "id": "8b89c837",
   "metadata": {},
   "outputs": [],
   "source": [
    "NonDegenerateCHNOpath = './NonDegenerateNucleosideAnalogueData/CHNO_final.tsv'\n",
    "NonDegenerateCHOpath = './NonDegenerateNucleosideAnalogueData/CHO_final.tsv'"
   ]
  },
  {
   "cell_type": "code",
   "execution_count": 10,
   "id": "f12e3c78",
   "metadata": {},
   "outputs": [],
   "source": [
    "FormoseAmmpath = './NetworkData/formose_amm_output.tsv'\n",
    "Formosepath = './NetworkData/formose_output.tsv'\n",
    "GlucoseAmmpath = './NetworkData/glucose_amm_output.tsv'\n",
    "Glucosepath = './NetworkData/glucose_degradation_output.tsv'\n",
    "PyruvicAcidpath = './NetworkData/pyruvic_output.tsv'"
   ]
  },
  {
   "cell_type": "code",
   "execution_count": 11,
   "id": "b8534192",
   "metadata": {},
   "outputs": [],
   "source": [
    "OriginalFormoseAmmpath = './OriginalNetworkData/formose_amm_output.tsv'\n",
    "OriginalFormosepath = './OriginalNetworkData/formose_output.tsv'\n",
    "OriginalGlucoseAmmpath = './OriginalNetworkData/glucose_amm_output.tsv'\n",
    "OriginalGlucosepath = './OriginalNetworkData/glucose_degradation_output.tsv'\n",
    "OriginalPyruvicAcidpath = './OriginalNetworkData/pyruvic_output.tsv'"
   ]
  },
  {
   "cell_type": "code",
   "execution_count": 12,
   "id": "061cd05c",
   "metadata": {},
   "outputs": [],
   "source": [
    "DegenerateCHNOpath = './DegenerateNucleosideAnalogueData/Prepped_CHNO_degenerate.tsv'\n",
    "DegenerateCHOpath = './DegenerateNucleosideAnalogueData/Prepped_CHO_degenerate.tsv'"
   ]
  },
  {
   "cell_type": "code",
   "execution_count": 13,
   "id": "b0c1f059",
   "metadata": {},
   "outputs": [],
   "source": [
    "def apply_inchi(path, title):\n",
    "    data = pd.read_csv(path, sep='\\t')\n",
    "    data['Inchi'] = data.apply(inchi, axis=1, raw=True, result_type='expand')\n",
    "    data.to_csv(f'{title}', header=None, index=None, sep='\\t', mode='a')\n",
    "    return(data)"
   ]
  },
  {
   "cell_type": "code",
   "execution_count": 14,
   "id": "50e6e0f9",
   "metadata": {},
   "outputs": [],
   "source": [
    "def apply_full_inchikey(path, title):\n",
    "    data = pd.read_csv(path, sep='\\t')\n",
    "    data['Full Inchi'] = data.apply(full_inchi, axis=1, raw=True, result_type='expand')\n",
    "    data.to_csv(f'{title}', header=None, index=None, sep='\\t', mode='a')\n",
    "    return(data)"
   ]
  },
  {
   "cell_type": "code",
   "execution_count": 15,
   "id": "65234632",
   "metadata": {},
   "outputs": [],
   "source": [
    "def find_struct_isomers(degenerate_set, nondegenerate_set):\n",
    "    degenerate_data = pd.read_csv(degenerate_set, sep='\\t')\n",
    "    nondegenerate_data = pd.read_csv(nondegenerate_set, sep='\\t')\n",
    "    unique_isomers = []\n",
    "    for i in range(len(nondegenerate_data['Inchi'])):\n",
    "        unique_isomers.append(nondegenerate_data['Inchi'][i])\n",
    "    \n",
    "    struct_isomers = []\n",
    "    for i in range(len(unique_isomers)):\n",
    "        struct_isomers.append([])\n",
    "    print(1) \n",
    "    for i in range(len(degenerate_data['Inchi'])):\n",
    "        value = unique_isomers.index(degenerate_data['Inchi'][i])\n",
    "        struct_isomers[value].append(degenerate_data['Canonical Smiles'][i])\n",
    "        if i%10000 == 0:\n",
    "            print(i)\n",
    "    \n",
    "    data = {'Inchi': unique_isomers, 'All Canonical Smiles': struct_isomers}\n",
    "    df = pd.DataFrame(data)\n",
    "    return(df)"
   ]
  },
  {
   "cell_type": "code",
   "execution_count": 16,
   "id": "2e4f16e7",
   "metadata": {},
   "outputs": [],
   "source": [
    "#%%time\n",
    "#df = find_struct_isomers(DegenerateCHOpath, NonDegenerateCHOpath)"
   ]
  },
  {
   "cell_type": "code",
   "execution_count": 17,
   "id": "3e5a7e19",
   "metadata": {},
   "outputs": [],
   "source": [
    "#data1 = pd.read_csv('./NonDegenerateNucleosideAnalogueData/CHNO_StructIsomers.tsv', sep='\\t')\n",
    "#data2 = pd.read_csv('./NonDegenerateNucleosideAnalogueData/CHO_StructIsomers.tsv', sep='\\t')"
   ]
  },
  {
   "cell_type": "code",
   "execution_count": 18,
   "id": "7f61c1e6",
   "metadata": {},
   "outputs": [],
   "source": [
    "#CHNO_codes = []\n",
    "#CHNO_smiles = []\n",
    "#for i in range(len(data1['Inchi'])):\n",
    "    #CHNO_codes.append(data1['Inchi'][i])\n",
    "    #CHNO_smiles.append(literal_eval(data1['AllSmiles'][i]))"
   ]
  },
  {
   "cell_type": "code",
   "execution_count": 19,
   "id": "b30858bb",
   "metadata": {},
   "outputs": [],
   "source": [
    "#CHO_codes = []\n",
    "#CHO_smiles = []\n",
    "#for i in range(len(data2['Inchi'])):\n",
    "    #CHO_codes.append(data2['Inchi'][i])\n",
    "    #CHO_smiles.append(literal_eval(data2['AllSmiles'][i]))"
   ]
  },
  {
   "cell_type": "code",
   "execution_count": 20,
   "id": "0fd04c68",
   "metadata": {},
   "outputs": [],
   "source": [
    "#%%time\n",
    "#for i in range(len(CHO_codes)):\n",
    "    #if CHO_codes[i] in CHNO_codes:\n",
    "        #value = CHNO_codes.index(CHO_codes[i])\n",
    "        #for j in range(len(CHO_smiles[i])):\n",
    "            #if CHO_smiles[i][j] not in CHNO_smiles[value]:\n",
    "                #CHNO_smiles[value].append(CHO_smiles[i][j])\n",
    "    #else:\n",
    "        #CHNO_codes.append(CHO_codes[i])\n",
    "        #CHNO_smiles.append(CHO_smiles[i])\n",
    "    #if i%1000 == 0:\n",
    "        #print(i)"
   ]
  },
  {
   "cell_type": "code",
   "execution_count": 21,
   "id": "a267e9e7",
   "metadata": {},
   "outputs": [],
   "source": [
    "#nucleoside_data = {'Inchi': CHNO_codes, 'All Smiles': CHNO_smiles}\n",
    "#df = pd.DataFrame(nucleoside_data)\n",
    "#df.to_csv('Nucleoside_Structisomers.tsv', header=None, index=None, sep='\\t', mode='a')"
   ]
  },
  {
   "cell_type": "code",
   "execution_count": 22,
   "id": "5ec00de4",
   "metadata": {},
   "outputs": [],
   "source": [
    "# def find_matches(library_set, test_set, title):\n",
    "#     library_data = pd.read_csv(library_set, sep='\\t')\n",
    "#     test_data = pd.read_csv(test_set, sep='\\t')\n",
    "#     print(3)\n",
    "#     test_codes = []\n",
    "#     for i in range(len(test_data['Inchi'])):\n",
    "#         test_codes.append(test_data['Inchi'][i])\n",
    "#     library_codes = []\n",
    "#     for i in range(len(library_data['Inchi'])):\n",
    "#         library_codes.append(library_data['Inchi'][i])\n",
    "#     print(4)\n",
    "#     matches = []\n",
    "#     library_indexes = []\n",
    "#     for i in range(len(library_codes)):\n",
    "#         if library_codes[i] in test_codes:\n",
    "#             matches.append(library_codes[i])\n",
    "#             library_indexes.append(i)\n",
    "#     print(5)\n",
    "#     print(matches)\n",
    "#     library_smiles = []\n",
    "#     matches_generations = []\n",
    "#     for i in range(len(matches)):\n",
    "#         library_smiles.append(library_data['Smiles'][library_indexes[i]])\n",
    "#         for j in range(len(test_data['Inchi'])):\n",
    "#             if matches[i] == test_data['Inchi'][j]:\n",
    "#                 matches_generations.append(test_data['Generation'][j])\n",
    "#     matches_data = {'Generation': matches_generations, 'Smiles': library_smiles}\n",
    "#     #matches_data = {'Generation': matches_generations, 'Smiles': test_smiles, 'Inchi': matches}\n",
    "#     library_test_matches = pd.DataFrame(matches_data)\n",
    "#     library_test_matches.to_csv(f'{title}', header=None, index=None, sep='\\t', mode='a')\n",
    "#     return(library_test_matches)"
   ]
  },
  {
   "cell_type": "code",
   "execution_count": 23,
   "id": "7c274d4b",
   "metadata": {},
   "outputs": [],
   "source": [
    "# %%time\n",
    "# df = find_matches(CHNOpath, FormoseAmmpath, 'FormoseAmmCHNO.tsv')"
   ]
  },
  {
   "cell_type": "code",
   "execution_count": 58,
   "id": "87b286e5",
   "metadata": {},
   "outputs": [],
   "source": [
    "def isomer_linker(matchespath, nucleoside_library):\n",
    "    matches = pd.read_csv(matchespath, sep='\\t')\n",
    "    nucleoside_isomers = pd.read_csv(nucleoside_library, sep='\\t')\n",
    "    nucleoside_codes = []\n",
    "    nucleoside_smiles = []\n",
    "    for i in range(len(nucleoside_isomers['Inchi'])):\n",
    "        nucleoside_codes.append(nucleoside_isomers['Inchi'][i])\n",
    "        nucleoside_smiles.append(literal_eval(nucleoside_isomers['All Smiles'][i]))\n",
    "    print(nucleoside_smiles)\n",
    "#     gen_data = []\n",
    "#     smiles = []\n",
    "#     for i in range(len(matches['Inchi'])):\n",
    "#         for j in range(len(nucleoside_isomers['Inchi'])):\n",
    "#             if nucleoside_isomers['Inchi'][j] == matches['Inchi'][i]:\n",
    "#                 for k in range(len(nucleoside_isomers['All Smiles'][j])):\n",
    "#                     gen_data.append(matches['Generation'][i])\n",
    "#                     smiles.append(nucleoside_isomers['All Smiles'][j][k])\n",
    "#         print(i)\n",
    "#     data = {'Generation': gen_data, 'Smiles': smiles}\n",
    "#     df = pd.DataFrame(data)\n",
    "#     return(df)"
   ]
  },
  {
   "cell_type": "code",
   "execution_count": 61,
   "id": "0d04b6d8",
   "metadata": {},
   "outputs": [
    {
     "ename": "NameError",
     "evalue": "name 'NotebookApp' is not defined",
     "output_type": "error",
     "traceback": [
      "\u001b[0;31m---------------------------------------------------------------------------\u001b[0m",
      "\u001b[0;31mNameError\u001b[0m                                 Traceback (most recent call last)",
      "\u001b[0;32m<ipython-input-61-385a7a44f3d6>\u001b[0m in \u001b[0;36m<module>\u001b[0;34m\u001b[0m\n\u001b[0;32m----> 1\u001b[0;31m \u001b[0mNotebookApp\u001b[0m\u001b[0;34m.\u001b[0m\u001b[0miopub_data_rate_limit\u001b[0m\u001b[0;34m=\u001b[0m\u001b[0;36m1.0e10\u001b[0m\u001b[0;34m\u001b[0m\u001b[0;34m\u001b[0m\u001b[0m\n\u001b[0m",
      "\u001b[0;31mNameError\u001b[0m: name 'NotebookApp' is not defined"
     ]
    }
   ],
   "source": [
    "--NotebookApp.iopub_data_rate_limit=1.0e10"
   ]
  },
  {
   "cell_type": "code",
   "execution_count": 59,
   "id": "aff2204b",
   "metadata": {},
   "outputs": [
    {
     "name": "stderr",
     "output_type": "stream",
     "text": [
      "IOPub data rate exceeded.\n",
      "The notebook server will temporarily stop sending output\n",
      "to the client in order to avoid crashing it.\n",
      "To change this limit, set the config variable\n",
      "`--NotebookApp.iopub_data_rate_limit`.\n",
      "\n",
      "Current values:\n",
      "NotebookApp.iopub_data_rate_limit=1000000.0 (bytes/sec)\n",
      "NotebookApp.rate_limit_window=3.0 (secs)\n",
      "\n"
     ]
    }
   ],
   "source": [
    "%%time\n",
    "df = isomer_linker('./MatchesFiles/FormoseAmmMatches.tsv', './Nucleoside_Structisomers.tsv')"
   ]
  },
  {
   "cell_type": "code",
   "execution_count": 24,
   "id": "d4c5bea0",
   "metadata": {},
   "outputs": [],
   "source": [
    "import matplotlib.pyplot as plt\n",
    "import matplotlib.gridspec as gspec"
   ]
  },
  {
   "cell_type": "code",
   "execution_count": 25,
   "id": "8ccd9e9f",
   "metadata": {},
   "outputs": [],
   "source": [
    "from rdkit.Chem.rdMolDescriptors import CalcMolFormula\n",
    "from rdkit.Chem.Descriptors import ExactMolWt\n",
    "from rdkit.Chem import MolFromSmiles"
   ]
  },
  {
   "cell_type": "code",
   "execution_count": 26,
   "id": "18d7385c",
   "metadata": {},
   "outputs": [],
   "source": [
    "def count_struct_isomers(smiles_list):\n",
    "\tdict_isomers = {}\n",
    "\tdict_smiles = {}\n",
    "\tdict_exactwt = {}\n",
    "\t\n",
    "\tfor mol_smiles in smiles_list:\n",
    "\t\tmol = MolFromSmiles(mol_smiles)\n",
    "\t\tformula = CalcMolFormula(mol)\n",
    "\t\tweight = ExactMolWt(mol)\n",
    "\t\tif formula in dict_isomers.keys():\n",
    "\t\t\tdict_isomers[formula] += 1 # increase the isomer count by 1\n",
    "\t\t\tdict_smiles[formula].append(mol_smiles) # These are MOD's smiles, not RDKit's\n",
    "\t\t\tdict_exactwt[weight] += 1 # Weight calculated by RDKit, not MOD's in-built\n",
    "\t\telse:\n",
    "\t\t\tdict_isomers[formula] = 1\n",
    "\t\t\tdict_smiles[formula] = [mol_smiles]\n",
    "\t\t\tdict_exactwt[weight] = 1\n",
    "\treturn dict_exactwt # modify this as per your needs"
   ]
  },
  {
   "cell_type": "code",
   "execution_count": 27,
   "id": "8e1bb481",
   "metadata": {},
   "outputs": [],
   "source": [
    "def plot_lollipop(exactwt_freq_dict, gen, shared_axis=True):\n",
    "\t\"\"\"\n",
    "\tMake a (shared axis) lollipop plot of the spectrum.\n",
    "\t\"\"\"\n",
    "\t# which marker (dot) color to use for which generation\n",
    "\tgen_colors = [\"blue\", \"red\", \"cyan\", \"green\", \"magenta\"]\n",
    "\t\n",
    "\tweights = list(exactwt_freq_dict.keys())\n",
    "\t# normalized freqs\n",
    "\tfreqs = list(exactwt_freq_dict.values())\n",
    "\t# custom ticks (avoid overlapping, increase tick range for certain subplots, etc.)\n",
    "\taxis_ticks = [\n",
    "\t\t[10, 100],\n",
    "\t\t[1,10,100],\n",
    "\t\t[10,100],\n",
    "\t\t[1,10,100,1000],\n",
    "\t\t[1,10,100,1000]\n",
    "\t]\n",
    "\tif shared_axis == True:\n",
    "\t\t# if basefmt is not \" \" it will draw a coloured horizontal baseline at y=0\n",
    "\t\t(markers, stemlines, baseline) = axes[gen-1].stem(weights, freqs, basefmt=\" \",\n",
    "\t\t\t\t markerfmt=f\"ko\", use_line_collection=True) # replace 'k' by {gen_colors[gen-1][0]} for color by geneartion\n",
    "\t\t#axes[gen-1].bar(weights, freqs, color='black', width=0.25, label=f'Generation {gen}')\n",
    "\t\taxes[gen-1].set_yscale('log')\n",
    "\t\taxes[gen-1].set_yticks([10, 100, 1000]) # equal ticks for all subplots\n",
    "\t\t# use below line for diff ticks for each subplot.\n",
    "\t\t#axes[gen-1].set_yticks(axis_ticks[gen-1])\n",
    "\t\tplt.setp(stemlines, linestyle=\"-\", color='gray', linewidth=0.75)\n",
    "\t\tplt.setp(markers, markersize=1, label=f\"Generation {gen}\")\n",
    "\t\taxes[gen-1].legend(loc='upper left')\n",
    "\t\t# get rid of space between subplots\n",
    "\t\tplt.subplots_adjust(wspace=0, hspace=0)\n",
    "\telse:\n",
    "\t\t(markers, stemlines, baseline) = plt.stem(weights, freqs, basefmt=\"gray\",\n",
    "\t\t\t\t markerfmt=f\"{gen_colors[gen-1][0]}o\", use_line_collection=True )\n",
    "\t\tplt.setp(stemlines, linestyle=\"-\", color='gray', linewidth=0.75)\n",
    "\t\tplt.setp(markers, markersize=2, label=f\"Generation {gen}\")\n",
    "\t\t#plt.title(\"Mass spectra of simulated glucose network\")\n",
    "\t\tplt.yscale(\"log\")\n",
    "\t\tplt.legend()"
   ]
  },
  {
   "cell_type": "code",
   "execution_count": 32,
   "id": "d9036561",
   "metadata": {},
   "outputs": [
    {
     "name": "stdout",
     "output_type": "stream",
     "text": [
      "highest freq: 387\n",
      "highest freq: 387\n",
      "highest freq: 387\n",
      "highest freq: 387\n"
     ]
    },
    {
     "data": {
      "image/png": "[encoded data removed]",
      "text/plain": [
       "<Figure size 576x576 with 5 Axes>"
      ]
     },
     "metadata": {
      "needs_background": "light"
     },
     "output_type": "display_data"
    }
   ],
   "source": [
    "fig, axes = plt.subplots(5, figsize=(8,8), sharex=True, sharey=True)\n",
    "#fig.suptitle(\"Mass spectra of the model glucose reaction network\", y=0.91)\n",
    "\n",
    "# Plot exact wt vs. number of compounds\n",
    "with open('./MatchesFiles/FormoseAmmMatches.tsv') as output:\n",
    "\tlines = output.readlines()\n",
    "\tgen_smiles_dict = {}\n",
    "\tfor line in lines:\n",
    "\t\tcomps = line.split(\"\\t\")\n",
    "\t\t#print(comps)\n",
    "\t\tgen = int(comps[0][1])\n",
    "\t\t## Don't add G0, that's just initial reactants.\n",
    "\t\tif gen == 0:\n",
    "\t\t\tcontinue\n",
    "\t\tsmiles_str = comps[1]\n",
    "\t\tif gen in gen_smiles_dict:\n",
    "\t\t\tgen_smiles_dict[gen].append(smiles_str)\n",
    "\t\telse:\n",
    "\t\t\tgen_smiles_dict[gen] = [smiles_str]\n",
    "\t\n",
    "\t# List of smiles upto Nth generation\n",
    "\tcumulative_list = []\n",
    "\tfor gen, smiles_list in gen_smiles_dict.items():\n",
    "\t\tcumulative_list.extend(smiles_list)\n",
    "\tcount = 0\n",
    "\t# use this for normalization later on\n",
    "\thighest_peak = -1\n",
    "\tfor gen in range(len(gen_smiles_dict.keys()), 0, -1):\n",
    "\t\texactwt_count = count_struct_isomers(cumulative_list)\n",
    "\t\t#print(exactwt_count)\n",
    "\t\t#plot_spectra(exactwt_count, gen)\n",
    "\t\t#plot_subplots(exactwt_count, gen)\n",
    "\t\thighest_peak = max(highest_peak, max(exactwt_count.values()))\n",
    "\t\tprint(f'highest freq: {highest_peak}')\n",
    "\t\tplot_lollipop(exactwt_count, gen)\n",
    "\t\t#ax2 = fig.add_subplot(111)\n",
    "\t\t#plot_lollipop(exactwt_count, gen)\n",
    "\t\tcumulative_list = [x for x in cumulative_list if x not in gen_smiles_dict[gen]]\n",
    "\t#plt.legend(loc='upper left')\n",
    "\tplt.xlabel('Exact Mass')\n",
    "\tplt.ylabel('Cumulative Frequency')\n",
    "\tplt.tight_layout()\n",
    "\tplt.savefig('struct_isomer_freq_gray.jpg', dpi=300)\n",
    "\tplt.show()"
   ]
  },
  {
   "cell_type": "code",
   "execution_count": null,
   "id": "d9990327",
   "metadata": {},
   "outputs": [],
   "source": []
  }
 ],
 "metadata": {
  "kernelspec": {
   "display_name": "Python 3",
   "language": "python",
   "name": "python3"
  },
  "language_info": {
   "codemirror_mode": {
    "name": "ipython",
    "version": 3
   },
   "file_extension": ".py",
   "mimetype": "text/x-python",
   "name": "python",
   "nbconvert_exporter": "python",
   "pygments_lexer": "ipython3",
   "version": "3.9.5"
  }
 },
 "nbformat": 4,
 "nbformat_minor": 5
}
