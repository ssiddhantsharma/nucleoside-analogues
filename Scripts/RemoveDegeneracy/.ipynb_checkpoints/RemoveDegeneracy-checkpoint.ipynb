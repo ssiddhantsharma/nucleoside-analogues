{
 "cells": [
  {
   "cell_type": "code",
   "execution_count": 2,
   "id": "758f1aae",
   "metadata": {},
   "outputs": [],
   "source": [
    "from openbabel import openbabel"
   ]
  },
  {
   "cell_type": "code",
   "execution_count": 3,
   "id": "fb388690",
   "metadata": {},
   "outputs": [],
   "source": [
    "from rdkit import Chem\n",
    "from rdkit.Chem import rdBase\n",
    "from rdkit.Chem import Draw\n",
    "from rdkit.Chem.Draw import IPythonConsole\n",
    "from rdkit.Chem import Descriptors\n",
    "from rdkit.Chem import Crippen"
   ]
  },
  {
   "cell_type": "code",
   "execution_count": 4,
   "id": "14de3110",
   "metadata": {},
   "outputs": [],
   "source": [
    "import pandas as pd\n",
    "import matplotlib.pyplot as plt\n",
    "import numpy as np\n",
    "import scipy.stats as ss"
   ]
  },
  {
   "cell_type": "code",
   "execution_count": 5,
   "id": "5b1e0fd4",
   "metadata": {},
   "outputs": [],
   "source": [
    "def split(word):\n",
    "    return[char for char in word]"
   ]
  },
  {
   "cell_type": "code",
   "execution_count": 6,
   "id": "ac0b42a8",
   "metadata": {},
   "outputs": [],
   "source": [
    "def inchi(array):\n",
    "    Smiles = array[0] \n",
    "    mol = Chem.MolFromSmiles(Smiles)\n",
    "    dummy = Chem.inchi.MolToInchiKey(mol)#split at first layer (contains everything but stereochemical info)\n",
    "    characters = split(dummy)\n",
    "    dummy = ''\n",
    "    position = 0\n",
    "    for i in range(len(characters)):\n",
    "        if characters[i] == '-':\n",
    "            position = i\n",
    "            break\n",
    "    for i in range(position):\n",
    "        dummy += characters[i]\n",
    "    return(dummy)"
   ]
  },
  {
   "cell_type": "code",
   "execution_count": 8,
   "id": "c90a38fd",
   "metadata": {},
   "outputs": [],
   "source": [
    "def remove_degeneracy_generations(dataset):\n",
    "    df = pd.read_csv(dataset, sep='\\t')\n",
    "    \n",
    "    generation = [df['Generation'][0]]\n",
    "    smiles = [df['Smiles'][0]]\n",
    "    inchi_list = [df['Inchi'][0]]\n",
    "    \n",
    "    print(1)\n",
    "    \n",
    "    for i in range(len(df['Inchi'])):\n",
    "        if df['Inchi'][i] not in inchi_list:\n",
    "            inchi_list.append(df['Inchi'][i])\n",
    "            smiles.append(df['Smiles'][i])\n",
    "            generation.append(df['Generation'][i])\n",
    "    \n",
    "    data = {'Generation': generation, 'Smiles': smiles, 'Inchi': inchi_list}\n",
    "    output = pd.DataFrame(data)\n",
    "   \n",
    "    return(output)"
   ]
  },
  {
   "cell_type": "code",
   "execution_count": 30,
   "id": "abf7642f",
   "metadata": {},
   "outputs": [],
   "source": [
    "def remove_degeneracy(dataset):\n",
    "    df = pd.read_csv(dataset, sep='\\t')\n",
    "    \n",
    "    smiles = [df['Smiles'][0]]\n",
    "    inchi_list = [df['Inchi'][0]]\n",
    "    \n",
    "    print(1)\n",
    "    \n",
    "    for i in range(len(df['Inchi'])):\n",
    "        if df['Inchi'][i] not in inchi_list:\n",
    "            inchi_list.append(df['Inchi'][i])\n",
    "            smiles.append(df['Smiles'][i])\n",
    "    \n",
    "    data = {'Smiles': smiles, 'Inchi': inchi_list}\n",
    "    output = pd.DataFrame(data)\n",
    "   \n",
    "    return(output)"
   ]
  },
  {
   "cell_type": "code",
   "execution_count": 35,
   "id": "5bab7eb4",
   "metadata": {},
   "outputs": [],
   "source": [
    "DegenerateCHNOpath = './DegenerateNucleosideAnalogueData/CHNO_degenerate.tsv'\n",
    "DegenerateCHOpath = './DegenerateNucleosideAnalogueData/CHO_degenerate.tsv'"
   ]
  },
  {
   "cell_type": "code",
   "execution_count": 36,
   "id": "f10a3178",
   "metadata": {},
   "outputs": [],
   "source": [
    "FormoseAmmpath = './NetworkData/formose_amm_output.tsv'\n",
    "Formosepath = './NetworkData/formose_output.tsv'\n",
    "GlucoseAmmpath = './NetworkData/glucose_amm_output.tsv'\n",
    "Glucosepath = './NetworkData/glucose_degradation_output.tsv'\n",
    "PyruvicAcidpath = './NetworkData/pyruvic_output.tsv'"
   ]
  },
  {
   "cell_type": "code",
   "execution_count": 37,
   "id": "5ee803ae",
   "metadata": {},
   "outputs": [],
   "source": [
    "def apply_inchi(path, title):\n",
    "    data = pd.read_csv(path, sep='\\t')\n",
    "    data['Inchi'] = data.apply(inchi, axis=1, raw=True, result_type='expand')\n",
    "    data.to_csv(f'{title}', header=None, index=None, sep='\\t', mode='a')\n",
    "    return(data)"
   ]
  },
  {
   "cell_type": "code",
   "execution_count": 38,
   "id": "5619bb28",
   "metadata": {},
   "outputs": [],
   "source": [
    "#%%time\n",
    "#a = apply_inchi(DegenerateCHOpath, 'CHO_degenerate.tsv')"
   ]
  },
  {
   "cell_type": "code",
   "execution_count": 39,
   "id": "7c943116",
   "metadata": {},
   "outputs": [
    {
     "name": "stdout",
     "output_type": "stream",
     "text": [
      "1\n"
     ]
    },
    {
     "ename": "KeyboardInterrupt",
     "evalue": "",
     "output_type": "error",
     "traceback": [
      "\u001b[0;31m---------------------------------------------------------------------------\u001b[0m",
      "\u001b[0;31mKeyboardInterrupt\u001b[0m                         Traceback (most recent call last)",
      "\u001b[0;32m<ipython-input-39-4a04b131e276>\u001b[0m in \u001b[0;36m<module>\u001b[0;34m\u001b[0m\n\u001b[0;32m----> 1\u001b[0;31m \u001b[0mb\u001b[0m \u001b[0;34m=\u001b[0m \u001b[0mremove_degeneracy\u001b[0m\u001b[0;34m(\u001b[0m\u001b[0mDegenerateCHOpath\u001b[0m\u001b[0;34m)\u001b[0m\u001b[0;34m\u001b[0m\u001b[0;34m\u001b[0m\u001b[0m\n\u001b[0m",
      "\u001b[0;32m<ipython-input-30-8317851b2fd2>\u001b[0m in \u001b[0;36mremove_degeneracy\u001b[0;34m(dataset)\u001b[0m\n\u001b[1;32m      7\u001b[0m     \u001b[0mprint\u001b[0m\u001b[0;34m(\u001b[0m\u001b[0;36m1\u001b[0m\u001b[0;34m)\u001b[0m\u001b[0;34m\u001b[0m\u001b[0;34m\u001b[0m\u001b[0m\n\u001b[1;32m      8\u001b[0m \u001b[0;34m\u001b[0m\u001b[0m\n\u001b[0;32m----> 9\u001b[0;31m     \u001b[0;32mfor\u001b[0m \u001b[0mi\u001b[0m \u001b[0;32min\u001b[0m \u001b[0mrange\u001b[0m\u001b[0;34m(\u001b[0m\u001b[0mlen\u001b[0m\u001b[0;34m(\u001b[0m\u001b[0mdf\u001b[0m\u001b[0;34m[\u001b[0m\u001b[0;34m'Inchi'\u001b[0m\u001b[0;34m]\u001b[0m\u001b[0;34m)\u001b[0m\u001b[0;34m)\u001b[0m\u001b[0;34m:\u001b[0m\u001b[0;34m\u001b[0m\u001b[0;34m\u001b[0m\u001b[0m\n\u001b[0m\u001b[1;32m     10\u001b[0m         \u001b[0;32mif\u001b[0m \u001b[0mdf\u001b[0m\u001b[0;34m[\u001b[0m\u001b[0;34m'Inchi'\u001b[0m\u001b[0;34m]\u001b[0m\u001b[0;34m[\u001b[0m\u001b[0mi\u001b[0m\u001b[0;34m]\u001b[0m \u001b[0;32mnot\u001b[0m \u001b[0;32min\u001b[0m \u001b[0minchi_list\u001b[0m\u001b[0;34m:\u001b[0m\u001b[0;34m\u001b[0m\u001b[0;34m\u001b[0m\u001b[0m\n\u001b[1;32m     11\u001b[0m             \u001b[0minchi_list\u001b[0m\u001b[0;34m.\u001b[0m\u001b[0mappend\u001b[0m\u001b[0;34m(\u001b[0m\u001b[0mdf\u001b[0m\u001b[0;34m[\u001b[0m\u001b[0;34m'Inchi'\u001b[0m\u001b[0;34m]\u001b[0m\u001b[0;34m[\u001b[0m\u001b[0mi\u001b[0m\u001b[0;34m]\u001b[0m\u001b[0;34m)\u001b[0m\u001b[0;34m\u001b[0m\u001b[0;34m\u001b[0m\u001b[0m\n",
      "\u001b[0;31mKeyboardInterrupt\u001b[0m: "
     ]
    }
   ],
   "source": [
    "b = remove_degeneracy(DegenerateCHOpath)"
   ]
  },
  {
   "cell_type": "code",
   "execution_count": null,
   "id": "c9b98d9c",
   "metadata": {},
   "outputs": [],
   "source": [
    "b.to_csv(r'CHO_nondegenerate.tsv', header=None, index=None, sep='\\t', mode='a') "
   ]
  },
  {
   "cell_type": "code",
   "execution_count": null,
   "id": "b54565c1",
   "metadata": {},
   "outputs": [],
   "source": []
  }
 ],
 "metadata": {
  "kernelspec": {
   "display_name": "Python 3",
   "language": "python",
   "name": "python3"
  },
  "language_info": {
   "codemirror_mode": {
    "name": "ipython",
    "version": 3
   },
   "file_extension": ".py",
   "mimetype": "text/x-python",
   "name": "python",
   "nbconvert_exporter": "python",
   "pygments_lexer": "ipython3",
   "version": "3.9.5"
  }
 },
 "nbformat": 4,
 "nbformat_minor": 5
}
