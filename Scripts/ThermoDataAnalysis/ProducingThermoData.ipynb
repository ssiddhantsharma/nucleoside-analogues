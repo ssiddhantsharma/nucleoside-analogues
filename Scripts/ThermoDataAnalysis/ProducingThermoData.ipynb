{
 "cells": [
  {
   "cell_type": "code",
   "execution_count": 1,
   "id": "d05f6261",
   "metadata": {},
   "outputs": [],
   "source": [
    "#%env PATH=$PATH:~/Documents/Exeter_Careers/Year_1/Applications/BMSIS_internship/Project/nucleoside-analogues/Scripts/ThermoDataAnalysis/bin"
   ]
  },
  {
   "cell_type": "code",
   "execution_count": 2,
   "id": "a7072883",
   "metadata": {
    "scrolled": true
   },
   "outputs": [
    {
     "data": {
      "text/plain": [
       "{'TERM_PROGRAM': 'Apple_Terminal',\n",
       " 'SHELL': '/bin/bash',\n",
       " 'TERM': 'xterm-color',\n",
       " 'TMPDIR': '/var/folders/md/0kj77pss22d_nlf41c04tqr00000gp/T/',\n",
       " 'CONDA_SHLVL': '2',\n",
       " 'Apple_PubSub_Socket_Render': '/private/tmp/com.apple.launchd.Nysxer1pcY/Render',\n",
       " 'CONDA_PROMPT_MODIFIER': '(py4chemoinformatics) ',\n",
       " 'TERM_PROGRAM_VERSION': '421.2',\n",
       " 'GSETTINGS_SCHEMA_DIR_CONDA_BACKUP': '',\n",
       " 'TERM_SESSION_ID': '68925232-FC7C-44E5-B730-280EAF10C0E8',\n",
       " 'USER': 'Matthew',\n",
       " 'CONDA_EXE': '/opt/anaconda3/bin/conda',\n",
       " 'SSH_AUTH_SOCK': '/private/tmp/com.apple.launchd.XUuiH7prWY/Listeners',\n",
       " '_CE_CONDA': '',\n",
       " 'CONDA_PREFIX_1': '/opt/anaconda3',\n",
       " 'PATH': '/opt/anaconda3/envs/py4chemoinformatics/bin:/opt/anaconda3/condabin:/opt/anaconda3/envs/py4chemoinformatics/lib/python3.9/site-packages:~/Documents/Exeter_Careers/Year_1/Applications/BMSIS_internship/Project/nucleoside-analogues/Scripts/ThermoDataAnalysis/bin:/Library/Frameworks/Python.framework/Versions/3.7/bin:/usr/bin:/bin:/usr/sbin:/sbin:/usr/local/bin:/Library/TeX/texbin:/opt/X11/bin:/usr/local/git/bin',\n",
       " 'GSETTINGS_SCHEMA_DIR': '/opt/anaconda3/envs/py4chemoinformatics/share/glib-2.0/schemas',\n",
       " 'CONDA_PREFIX': '/opt/anaconda3/envs/py4chemoinformatics',\n",
       " 'PWD': '/Users/Matthew',\n",
       " 'LANG': 'en_GB.UTF-8',\n",
       " 'XPC_FLAGS': '0x0',\n",
       " '_CE_M': '',\n",
       " 'XPC_SERVICE_NAME': '0',\n",
       " 'SHLVL': '1',\n",
       " 'HOME': '/Users/Matthew',\n",
       " 'CONDA_PYTHON_EXE': '/opt/anaconda3/bin/python',\n",
       " 'PYTHONPATH': '/opt/anaconda3/envs/py4chemoinformatics/lib/python3.9/site-packages:',\n",
       " 'LOGNAME': 'Matthew',\n",
       " 'CONDA_DEFAULT_ENV': 'py4chemoinformatics',\n",
       " 'SECURITYSESSIONID': '18b17',\n",
       " '_': '/opt/anaconda3/envs/py4chemoinformatics/bin/jupyter',\n",
       " '__CF_USER_TEXT_ENCODING': '0x1F6:0x0:0x2',\n",
       " 'JPY_PARENT_PID': '61131',\n",
       " 'CLICOLOR': '1',\n",
       " 'PAGER': 'cat',\n",
       " 'GIT_PAGER': 'cat',\n",
       " 'MPLBACKEND': 'module://ipykernel.pylab.backend_inline'}"
      ]
     },
     "execution_count": 2,
     "metadata": {},
     "output_type": "execute_result"
    }
   ],
   "source": [
    "%env"
   ]
  },
  {
   "cell_type": "code",
   "execution_count": 3,
   "id": "da36a038",
   "metadata": {},
   "outputs": [],
   "source": [
    "from openbabel import openbabel"
   ]
  },
  {
   "cell_type": "code",
   "execution_count": 4,
   "id": "c71b2c5c",
   "metadata": {},
   "outputs": [],
   "source": [
    "from rdkit import Chem\n",
    "from rdkit.Chem import rdBase\n",
    "from rdkit.Chem import Draw\n",
    "from rdkit.Chem.Draw import IPythonConsole\n",
    "from rdkit.Chem import Descriptors\n",
    "from rdkit.Chem import Crippen"
   ]
  },
  {
   "cell_type": "code",
   "execution_count": 5,
   "id": "8bb71660",
   "metadata": {},
   "outputs": [],
   "source": [
    "import pandas as pd\n",
    "import matplotlib.pyplot as plt\n",
    "import numpy as np\n",
    "import scipy.stats as ss"
   ]
  },
  {
   "cell_type": "code",
   "execution_count": 16,
   "id": "aa7176f0",
   "metadata": {},
   "outputs": [],
   "source": [
    "import equilibrator_cache"
   ]
  },
  {
   "cell_type": "code",
   "execution_count": 7,
   "id": "deaa92f9",
   "metadata": {},
   "outputs": [],
   "source": [
    "from equilibrator_api import ComponentContribution, Q_"
   ]
  },
  {
   "cell_type": "code",
   "execution_count": 8,
   "id": "0ea36386",
   "metadata": {},
   "outputs": [],
   "source": [
    "CC = ComponentContribution()"
   ]
  },
  {
   "cell_type": "code",
   "execution_count": 17,
   "id": "990bbe66",
   "metadata": {},
   "outputs": [],
   "source": [
    "from equilibrator_assets.generate_compound import create_compound, get_or_create_compound"
   ]
  },
  {
   "cell_type": "code",
   "execution_count": 13,
   "id": "6c9e0c2c",
   "metadata": {},
   "outputs": [
    {
     "name": "stdout",
     "output_type": "stream",
     "text": [
      "Error: Could not find or load main class install4j.chemaxon.marvin.Calculator\r\n"
     ]
    }
   ],
   "source": [
    "!cxcalc -h"
   ]
  },
  {
   "cell_type": "code",
   "execution_count": 11,
   "id": "e02be40c",
   "metadata": {},
   "outputs": [
    {
     "ename": "CalledProcessError",
     "evalue": "Command '['/Users/Matthew/Documents/Exeter_Careers/Year_1/Applications/BMSIS_internship/Project/nucleoside-analogues/Scripts/ThermoDataAnalysis/bin/cxcalc', '--ignore-error', 'pka', '--na', '20', '--nb', '20', 'majorms', '--majortautomer', 'true', '--pH', '7.0']' returned non-zero exit status 1.",
     "output_type": "error",
     "traceback": [
      "\u001b[0;31m---------------------------------------------------------------------------\u001b[0m",
      "\u001b[0;31mCalledProcessError\u001b[0m                        Traceback (most recent call last)",
      "\u001b[0;32m<ipython-input-11-5e94b77fadec>\u001b[0m in \u001b[0;36m<module>\u001b[0;34m\u001b[0m\n\u001b[0;32m----> 1\u001b[0;31m compound_list = get_or_create_compound(\n\u001b[0m\u001b[1;32m      2\u001b[0m     CC.ccache, [\"CC(=O)O\", \"CC(O)C(=O)O\", 'CCCOP(=O)(O)O', \"OCC(N)C(O)CO\"], mol_format=\"smiles\")\n\u001b[1;32m      3\u001b[0m \u001b[0;34m\u001b[0m\u001b[0m\n\u001b[1;32m      4\u001b[0m \u001b[0;32mfor\u001b[0m \u001b[0mc\u001b[0m \u001b[0;32min\u001b[0m \u001b[0mcompound_list\u001b[0m\u001b[0;34m:\u001b[0m\u001b[0;34m\u001b[0m\u001b[0;34m\u001b[0m\u001b[0m\n\u001b[1;32m      5\u001b[0m     \u001b[0mprint\u001b[0m\u001b[0;34m(\u001b[0m\u001b[0;34m\"-\"\u001b[0m \u001b[0;34m*\u001b[0m \u001b[0;36m80\u001b[0m\u001b[0;34m)\u001b[0m\u001b[0;34m\u001b[0m\u001b[0;34m\u001b[0m\u001b[0m\n",
      "\u001b[0;32m/opt/anaconda3/envs/py4chemoinformatics/lib/python3.9/site-packages/equilibrator_assets/generate_compound.py\u001b[0m in \u001b[0;36mget_or_create_compound\u001b[0;34m(ccache, mol_strings, mol_format, connectivity_only, bypass_chemaxon, save_empty_compounds, specified_pkas, return_fails, log_df, error_log, read_only)\u001b[0m\n\u001b[1;32m    339\u001b[0m     \u001b[0;32mif\u001b[0m \u001b[0;32mnot\u001b[0m \u001b[0mread_only\u001b[0m\u001b[0;34m:\u001b[0m\u001b[0;34m\u001b[0m\u001b[0;34m\u001b[0m\u001b[0m\n\u001b[1;32m    340\u001b[0m         \u001b[0;32mif\u001b[0m \u001b[0mlen\u001b[0m\u001b[0;34m(\u001b[0m\u001b[0mmisses\u001b[0m\u001b[0;34m)\u001b[0m \u001b[0;34m>\u001b[0m \u001b[0;36m0\u001b[0m\u001b[0;34m:\u001b[0m\u001b[0;34m\u001b[0m\u001b[0;34m\u001b[0m\u001b[0m\n\u001b[0;32m--> 341\u001b[0;31m             result_df.loc[misses, \"compound\"] = create_compound(\n\u001b[0m\u001b[1;32m    342\u001b[0m                 \u001b[0mresult_df\u001b[0m\u001b[0;34m.\u001b[0m\u001b[0mloc\u001b[0m\u001b[0;34m[\u001b[0m\u001b[0mmisses\u001b[0m\u001b[0;34m,\u001b[0m \u001b[0;34m\"mol_string\"\u001b[0m\u001b[0;34m]\u001b[0m\u001b[0;34m.\u001b[0m\u001b[0mtolist\u001b[0m\u001b[0;34m(\u001b[0m\u001b[0;34m)\u001b[0m\u001b[0;34m,\u001b[0m\u001b[0;34m\u001b[0m\u001b[0;34m\u001b[0m\u001b[0m\n\u001b[1;32m    343\u001b[0m                 \u001b[0mmol_format\u001b[0m\u001b[0;34m,\u001b[0m\u001b[0;34m\u001b[0m\u001b[0;34m\u001b[0m\u001b[0m\n",
      "\u001b[0;32m/opt/anaconda3/envs/py4chemoinformatics/lib/python3.9/site-packages/equilibrator_assets/generate_compound.py\u001b[0m in \u001b[0;36mcreate_compound\u001b[0;34m(mol_strings, mol_format, bypass_chemaxon, save_empty_compounds, specified_pkas, log_df, error_log)\u001b[0m\n\u001b[1;32m    158\u001b[0m         \u001b[0;32mlambda\u001b[0m \u001b[0ms\u001b[0m\u001b[0;34m:\u001b[0m \u001b[0mreadstring\u001b[0m\u001b[0;34m(\u001b[0m\u001b[0mmol_format\u001b[0m\u001b[0;34m,\u001b[0m \u001b[0ms\u001b[0m\u001b[0;34m)\u001b[0m\u001b[0;34m.\u001b[0m\u001b[0mwrite\u001b[0m\u001b[0;34m(\u001b[0m\u001b[0;34m\"smiles\"\u001b[0m\u001b[0;34m)\u001b[0m\u001b[0;34m.\u001b[0m\u001b[0mstrip\u001b[0m\u001b[0;34m(\u001b[0m\u001b[0;34m)\u001b[0m\u001b[0;34m\u001b[0m\u001b[0;34m\u001b[0m\u001b[0m\n\u001b[1;32m    159\u001b[0m     )\n\u001b[0;32m--> 160\u001b[0;31m     molecules[\"compound_dict\"] = list(\n\u001b[0m\u001b[1;32m    161\u001b[0m         thermodynamics.get_compound_mappings(\n\u001b[1;32m    162\u001b[0m             \u001b[0mmolecules\u001b[0m\u001b[0;34m,\u001b[0m \u001b[0;34m\"foo\"\u001b[0m\u001b[0;34m,\u001b[0m \u001b[0mnum_acidic\u001b[0m\u001b[0;34m=\u001b[0m\u001b[0;36m20\u001b[0m\u001b[0;34m,\u001b[0m \u001b[0mnum_basic\u001b[0m\u001b[0;34m=\u001b[0m\u001b[0;36m20\u001b[0m\u001b[0;34m\u001b[0m\u001b[0;34m\u001b[0m\u001b[0m\n",
      "\u001b[0;32m/opt/anaconda3/envs/py4chemoinformatics/lib/python3.9/site-packages/equilibrator_assets/thermodynamics.py\u001b[0m in \u001b[0;36mget_compound_mappings\u001b[0;34m(molecules, error_log, num_acidic, num_basic, min_ph, mid_ph, max_ph)\u001b[0m\n\u001b[1;32m    203\u001b[0m \u001b[0;34m\u001b[0m\u001b[0m\n\u001b[1;32m    204\u001b[0m     \"\"\"\n\u001b[0;32m--> 205\u001b[0;31m     constants, pka_columns = chemaxon.get_dissociation_constants(\n\u001b[0m\u001b[1;32m    206\u001b[0m         \u001b[0mmolecules\u001b[0m\u001b[0;34m,\u001b[0m\u001b[0;34m\u001b[0m\u001b[0;34m\u001b[0m\u001b[0m\n\u001b[1;32m    207\u001b[0m         \u001b[0merror_log\u001b[0m\u001b[0;34m,\u001b[0m\u001b[0;34m\u001b[0m\u001b[0;34m\u001b[0m\u001b[0m\n",
      "\u001b[0;32m/opt/anaconda3/envs/py4chemoinformatics/lib/python3.9/site-packages/equilibrator_assets/chemaxon.py\u001b[0m in \u001b[0;36mget_dissociation_constants\u001b[0;34m(molecules, error_log, num_acidic, num_basic, mid_ph)\u001b[0m\n\u001b[1;32m    297\u001b[0m \u001b[0;34m\u001b[0m\u001b[0m\n\u001b[1;32m    298\u001b[0m     \u001b[0mcxcalc_input\u001b[0m \u001b[0;34m=\u001b[0m \u001b[0;34m\"\\n\"\u001b[0m\u001b[0;34m.\u001b[0m\u001b[0mjoin\u001b[0m\u001b[0;34m(\u001b[0m\u001b[0mmolecules\u001b[0m\u001b[0;34m[\u001b[0m\u001b[0;34m\"inchi\"\u001b[0m\u001b[0;34m]\u001b[0m\u001b[0;34m.\u001b[0m\u001b[0mtolist\u001b[0m\u001b[0;34m(\u001b[0m\u001b[0;34m)\u001b[0m\u001b[0;34m)\u001b[0m\u001b[0;34m\u001b[0m\u001b[0;34m\u001b[0m\u001b[0m\n\u001b[0;32m--> 299\u001b[0;31m     \u001b[0moutput\u001b[0m\u001b[0;34m,\u001b[0m \u001b[0merror\u001b[0m \u001b[0;34m=\u001b[0m \u001b[0mrun_cxcalc\u001b[0m\u001b[0;34m(\u001b[0m\u001b[0mcxcalc_input\u001b[0m\u001b[0;34m,\u001b[0m \u001b[0margs\u001b[0m\u001b[0;34m)\u001b[0m\u001b[0;34m\u001b[0m\u001b[0;34m\u001b[0m\u001b[0m\n\u001b[0m\u001b[1;32m    300\u001b[0m     \u001b[0;32mwith\u001b[0m \u001b[0mopen\u001b[0m\u001b[0;34m(\u001b[0m\u001b[0;34mf\"{str(error_log)}.log\"\u001b[0m\u001b[0;34m,\u001b[0m \u001b[0;34m\"w\"\u001b[0m\u001b[0;34m)\u001b[0m \u001b[0;32mas\u001b[0m \u001b[0mhandle\u001b[0m\u001b[0;34m:\u001b[0m\u001b[0;34m\u001b[0m\u001b[0;34m\u001b[0m\u001b[0m\n\u001b[1;32m    301\u001b[0m         \u001b[0;31m# We skip the unhelpful Java stack traces that occur every second line.\u001b[0m\u001b[0;34m\u001b[0m\u001b[0;34m\u001b[0m\u001b[0;34m\u001b[0m\u001b[0m\n",
      "\u001b[0;32m/opt/anaconda3/envs/py4chemoinformatics/lib/python3.9/site-packages/equilibrator_assets/chemaxon.py\u001b[0m in \u001b[0;36mrun_cxcalc\u001b[0;34m(mol_string, args)\u001b[0m\n\u001b[1;32m    184\u001b[0m     \u001b[0;32mtry\u001b[0m\u001b[0;34m:\u001b[0m\u001b[0;34m\u001b[0m\u001b[0;34m\u001b[0m\u001b[0m\n\u001b[1;32m    185\u001b[0m         \u001b[0mlogger\u001b[0m\u001b[0;34m.\u001b[0m\u001b[0mdebug\u001b[0m\u001b[0;34m(\u001b[0m\u001b[0;34m\"Parameters: %s | %s\"\u001b[0m\u001b[0;34m,\u001b[0m \u001b[0mmol_string\u001b[0m\u001b[0;34m,\u001b[0m \u001b[0;34m\" \"\u001b[0m\u001b[0;34m.\u001b[0m\u001b[0mjoin\u001b[0m\u001b[0;34m(\u001b[0m\u001b[0mcommand\u001b[0m\u001b[0;34m)\u001b[0m\u001b[0;34m)\u001b[0m\u001b[0;34m\u001b[0m\u001b[0;34m\u001b[0m\u001b[0m\n\u001b[0;32m--> 186\u001b[0;31m         result = subprocess.run(\n\u001b[0m\u001b[1;32m    187\u001b[0m             \u001b[0mcommand\u001b[0m\u001b[0;34m,\u001b[0m\u001b[0;34m\u001b[0m\u001b[0;34m\u001b[0m\u001b[0m\n\u001b[1;32m    188\u001b[0m             \u001b[0minput\u001b[0m\u001b[0;34m=\u001b[0m\u001b[0mmol_string\u001b[0m\u001b[0;34m,\u001b[0m\u001b[0;34m\u001b[0m\u001b[0;34m\u001b[0m\u001b[0m\n",
      "\u001b[0;32m/opt/anaconda3/envs/py4chemoinformatics/lib/python3.9/subprocess.py\u001b[0m in \u001b[0;36mrun\u001b[0;34m(input, capture_output, timeout, check, *popenargs, **kwargs)\u001b[0m\n\u001b[1;32m    526\u001b[0m         \u001b[0mretcode\u001b[0m \u001b[0;34m=\u001b[0m \u001b[0mprocess\u001b[0m\u001b[0;34m.\u001b[0m\u001b[0mpoll\u001b[0m\u001b[0;34m(\u001b[0m\u001b[0;34m)\u001b[0m\u001b[0;34m\u001b[0m\u001b[0;34m\u001b[0m\u001b[0m\n\u001b[1;32m    527\u001b[0m         \u001b[0;32mif\u001b[0m \u001b[0mcheck\u001b[0m \u001b[0;32mand\u001b[0m \u001b[0mretcode\u001b[0m\u001b[0;34m:\u001b[0m\u001b[0;34m\u001b[0m\u001b[0;34m\u001b[0m\u001b[0m\n\u001b[0;32m--> 528\u001b[0;31m             raise CalledProcessError(retcode, process.args,\n\u001b[0m\u001b[1;32m    529\u001b[0m                                      output=stdout, stderr=stderr)\n\u001b[1;32m    530\u001b[0m     \u001b[0;32mreturn\u001b[0m \u001b[0mCompletedProcess\u001b[0m\u001b[0;34m(\u001b[0m\u001b[0mprocess\u001b[0m\u001b[0;34m.\u001b[0m\u001b[0margs\u001b[0m\u001b[0;34m,\u001b[0m \u001b[0mretcode\u001b[0m\u001b[0;34m,\u001b[0m \u001b[0mstdout\u001b[0m\u001b[0;34m,\u001b[0m \u001b[0mstderr\u001b[0m\u001b[0;34m)\u001b[0m\u001b[0;34m\u001b[0m\u001b[0;34m\u001b[0m\u001b[0m\n",
      "\u001b[0;31mCalledProcessError\u001b[0m: Command '['/Users/Matthew/Documents/Exeter_Careers/Year_1/Applications/BMSIS_internship/Project/nucleoside-analogues/Scripts/ThermoDataAnalysis/bin/cxcalc', '--ignore-error', 'pka', '--na', '20', '--nb', '20', 'majorms', '--majortautomer', 'true', '--pH', '7.0']' returned non-zero exit status 1."
     ]
    }
   ],
   "source": [
    "compound_list = get_or_create_compound(\n",
    "    CC.ccache, [\"CC(=O)O\", \"CC(O)C(=O)O\", 'CCCOP(=O)(O)O', \"OCC(N)C(O)CO\"], mol_format=\"smiles\")\n",
    "\n",
    "for c in compound_list:\n",
    "    print(\"-\" * 80)\n",
    "    print(c)\n",
    "    print(f\"pK_a: {c.dissociation_constants}\")\n",
    "    print(f\"pK_Mg: {c.magnesium_dissociation_constants}\")\n",
    "    print(\"Microspecies: \")\n",
    "    for ms in c.microspecies:\n",
    "        print(f\"{ms}, ddg_over_rt = {ms.ddg_over_rt:.1f}\")"
   ]
  },
  {
   "cell_type": "code",
   "execution_count": 14,
   "id": "851de971",
   "metadata": {},
   "outputs": [],
   "source": [
    "def get_chemaxon_status() -> int:\n",
    "    r\"\"\"Determine the status of the chemaxon and cxcalc installation.\n",
    "\n",
    "    Returns a code signifying the status of the chemaxon install:\\n\n",
    "        0 - Installed with License\\n\n",
    "        1 - Installed without License\\n\n",
    "        2 - Not Installed\n",
    "\n",
    "    Returns\n",
    "    -------\n",
    "    int\n",
    "        Code specifying chemaxon status: (0) Installed with License, (1)\n",
    "        Installed without License, (2) Not Installed.\n",
    "    \"\"\"\n",
    "\n",
    "    try:\n",
    "        results = subprocess.run(\n",
    "            [CXCALC_BIN, \"CO\", \"pka\"],\n",
    "            stdout=subprocess.PIPE,\n",
    "            stderr=subprocess.PIPE,\n",
    "        )\n",
    "        if \"License\" in str(results.stderr):\n",
    "            # Installed without license\n",
    "            return 1\n",
    "        else:\n",
    "            # Installed with license\n",
    "            return 0\n",
    "\n",
    "    except OSError:\n",
    "        # Not installed\n",
    "        return 2"
   ]
  },
  {
   "cell_type": "code",
   "execution_count": 15,
   "id": "b1246a7d",
   "metadata": {},
   "outputs": [
    {
     "ename": "NameError",
     "evalue": "name 'subprocess' is not defined",
     "output_type": "error",
     "traceback": [
      "\u001b[0;31m---------------------------------------------------------------------------\u001b[0m",
      "\u001b[0;31mNameError\u001b[0m                                 Traceback (most recent call last)",
      "\u001b[0;32m<ipython-input-15-72bc758dc53b>\u001b[0m in \u001b[0;36m<module>\u001b[0;34m\u001b[0m\n\u001b[0;32m----> 1\u001b[0;31m \u001b[0mget_chemaxon_status\u001b[0m\u001b[0;34m(\u001b[0m\u001b[0;34m)\u001b[0m\u001b[0;34m\u001b[0m\u001b[0;34m\u001b[0m\u001b[0m\n\u001b[0m",
      "\u001b[0;32m<ipython-input-14-be9ee9f1c483>\u001b[0m in \u001b[0;36mget_chemaxon_status\u001b[0;34m()\u001b[0m\n\u001b[1;32m     15\u001b[0m \u001b[0;34m\u001b[0m\u001b[0m\n\u001b[1;32m     16\u001b[0m     \u001b[0;32mtry\u001b[0m\u001b[0;34m:\u001b[0m\u001b[0;34m\u001b[0m\u001b[0;34m\u001b[0m\u001b[0m\n\u001b[0;32m---> 17\u001b[0;31m         results = subprocess.run(\n\u001b[0m\u001b[1;32m     18\u001b[0m             \u001b[0;34m[\u001b[0m\u001b[0mCXCALC_BIN\u001b[0m\u001b[0;34m,\u001b[0m \u001b[0;34m\"CO\"\u001b[0m\u001b[0;34m,\u001b[0m \u001b[0;34m\"pka\"\u001b[0m\u001b[0;34m]\u001b[0m\u001b[0;34m,\u001b[0m\u001b[0;34m\u001b[0m\u001b[0;34m\u001b[0m\u001b[0m\n\u001b[1;32m     19\u001b[0m             \u001b[0mstdout\u001b[0m\u001b[0;34m=\u001b[0m\u001b[0msubprocess\u001b[0m\u001b[0;34m.\u001b[0m\u001b[0mPIPE\u001b[0m\u001b[0;34m,\u001b[0m\u001b[0;34m\u001b[0m\u001b[0;34m\u001b[0m\u001b[0m\n",
      "\u001b[0;31mNameError\u001b[0m: name 'subprocess' is not defined"
     ]
    }
   ],
   "source": [
    "get_chemaxon_status()"
   ]
  },
  {
   "cell_type": "code",
   "execution_count": null,
   "id": "b76d1e02",
   "metadata": {},
   "outputs": [],
   "source": [
    ","
   ]
  }
 ],
 "metadata": {
  "kernelspec": {
   "display_name": "Python 3",
   "language": "python",
   "name": "python3"
  },
  "language_info": {
   "codemirror_mode": {
    "name": "ipython",
    "version": 3
   },
   "file_extension": ".py",
   "mimetype": "text/x-python",
   "name": "python",
   "nbconvert_exporter": "python",
   "pygments_lexer": "ipython3",
   "version": "3.9.5"
  }
 },
 "nbformat": 4,
 "nbformat_minor": 5
}
