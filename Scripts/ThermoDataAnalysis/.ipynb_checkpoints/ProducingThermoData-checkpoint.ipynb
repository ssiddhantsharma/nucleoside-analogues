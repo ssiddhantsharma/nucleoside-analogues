{
 "cells": [
  {
   "cell_type": "code",
   "execution_count": 1,
   "id": "da36a038",
   "metadata": {},
   "outputs": [],
   "source": [
    "from openbabel import openbabel"
   ]
  },
  {
   "cell_type": "code",
   "execution_count": 2,
   "id": "c71b2c5c",
   "metadata": {},
   "outputs": [],
   "source": [
    "from rdkit import Chem\n",
    "from rdkit.Chem import rdBase\n",
    "from rdkit.Chem import Draw\n",
    "from rdkit.Chem.Draw import IPythonConsole\n",
    "from rdkit.Chem import Descriptors\n",
    "from rdkit.Chem import Crippen"
   ]
  },
  {
   "cell_type": "code",
   "execution_count": 3,
   "id": "8bb71660",
   "metadata": {},
   "outputs": [],
   "source": [
    "import pandas as pd\n",
    "import matplotlib.pyplot as plt\n",
    "import numpy as np\n",
    "import scipy.stats as ss"
   ]
  },
  {
   "cell_type": "code",
   "execution_count": 4,
   "id": "47f68833",
   "metadata": {},
   "outputs": [],
   "source": [
    "#data = pd.read_csv('./chebiId_inchi.tsv', sep='\\t')"
   ]
  },
  {
   "cell_type": "code",
   "execution_count": 5,
   "id": "212af1eb",
   "metadata": {},
   "outputs": [],
   "source": [
    "def find_chebi(array):\n",
    "    Smiles = array[1]\n",
    "    mol = Chem.MolFromSmiles(Smiles)\n",
    "    Inchi = Chem.MolToInchi(mol)\n",
    "    chebi_value = 0\n",
    "    for i in range(len(data['Inchi'])):\n",
    "        if data['Inchi'][i] == Inchi:\n",
    "            chebi_value = data['Chebi'][i]\n",
    "            break\n",
    "    return(chebi_value)"
   ]
  },
  {
   "cell_type": "code",
   "execution_count": 6,
   "id": "0b99d949",
   "metadata": {},
   "outputs": [],
   "source": [
    "#FormoseAmm = pd.read_csv('./FormoseAmmData/FormoseAmm_rels.tsv', sep='\\t')"
   ]
  },
  {
   "cell_type": "code",
   "execution_count": 7,
   "id": "39c5c3d7",
   "metadata": {},
   "outputs": [],
   "source": [
    "#%%time\n",
    "#FormoseAmm['Chebi'] = FormoseAmm.apply(find_chebi, axis=1, raw=True, result_type='expand')"
   ]
  },
  {
   "cell_type": "code",
   "execution_count": 8,
   "id": "7447d547",
   "metadata": {},
   "outputs": [],
   "source": [
    "def inchi(Smiles):\n",
    "    mol = Chem.MolFromSmiles(Smiles)\n",
    "    print(Chem.MolToInchi(mol))"
   ]
  },
  {
   "cell_type": "code",
   "execution_count": 9,
   "id": "6e442ae7",
   "metadata": {},
   "outputs": [],
   "source": [
    "from equilibrator_api import ComponentContribution, Q_"
   ]
  },
  {
   "cell_type": "code",
   "execution_count": 10,
   "id": "f62f45e4",
   "metadata": {},
   "outputs": [],
   "source": [
    "cc = ComponentContribution()\n",
    "cc.p_h = Q_(7.4)\n",
    "cc.p_mg = Q_(3.0)\n",
    "cc.ionic_strength = Q_(\"0.25M\")\n",
    "cc.temperature = Q_(\"298.15K\")"
   ]
  },
  {
   "cell_type": "code",
   "execution_count": 11,
   "id": "f3cc2260",
   "metadata": {},
   "outputs": [
    {
     "name": "stdout",
     "output_type": "stream",
     "text": [
      "ΔG'0 = (-29.14 +/- 0.30) kilojoule / mole\n"
     ]
    }
   ],
   "source": [
    "rxn = cc.parse_reaction_formula(\"kegg:C00002 + kegg:C00001 = kegg:C00008 + kegg:C00009\")\n",
    "print(f\"ΔG'0 = {cc.standard_dg_prime(rxn)}\")\n"
   ]
  },
  {
   "cell_type": "code",
   "execution_count": 21,
   "id": "8c04af26",
   "metadata": {},
   "outputs": [],
   "source": [
    "import numpy as np\n",
    "from equilibrator_api import ComponentContribution, Q_\n",
    "CC = ComponentContribution()\n",
    "\n",
    "formulas = [\n",
    "    \"kegg:C00168 + kegg:C00001 = kegg:C00266 + kegg:C00288\",  # hydroxypyruvate decarboxylase (with HCO3-)\n",
    "    \"kegg:C00022 + kegg:C00001 = kegg:C00084 + kegg:C00288\",  # pyruvate decarboxylase (with HCO3-)\n",
    "]\n",
    "reactions = list(map(CC.parse_reaction_formula, formulas))"
   ]
  },
  {
   "cell_type": "code",
   "execution_count": 30,
   "id": "d03f2b74",
   "metadata": {},
   "outputs": [
    {
     "name": "stdout",
     "output_type": "stream",
     "text": [
      "Collecting equilibrator-assets\n",
      "  Using cached equilibrator_assets-0.2.1-py2.py3-none-any.whl (26 kB)\n",
      "Requirement already satisfied: quilt in /opt/anaconda3/envs/py4chemoinformatics/lib/python3.9/site-packages (from equilibrator-assets) (2.9.15)\n",
      "Collecting importlib-resources\n",
      "  Using cached importlib_resources-5.2.0-py3-none-any.whl (27 kB)\n",
      "Requirement already satisfied: click in /opt/anaconda3/envs/py4chemoinformatics/lib/python3.9/site-packages (from equilibrator-assets) (8.0.1)\n",
      "Requirement already satisfied: requests in /opt/anaconda3/envs/py4chemoinformatics/lib/python3.9/site-packages (from equilibrator-assets) (2.25.1)\n",
      "Collecting click-log\n",
      "  Using cached click_log-0.3.2-py2.py3-none-any.whl (4.6 kB)\n",
      "Requirement already satisfied: tqdm in /opt/anaconda3/envs/py4chemoinformatics/lib/python3.9/site-packages (from equilibrator-assets) (4.61.2)\n",
      "Collecting openbabel\n",
      "  Using cached openbabel-3.1.1.1.tar.gz (82 kB)\n",
      "Requirement already satisfied: python-dateutil in /opt/anaconda3/envs/py4chemoinformatics/lib/python3.9/site-packages (from equilibrator-assets) (2.8.1)\n",
      "Requirement already satisfied: component-contribution in /opt/anaconda3/envs/py4chemoinformatics/lib/python3.9/site-packages (from equilibrator-assets) (0.4.4)\n",
      "Requirement already satisfied: equilibrator-cache in /opt/anaconda3/envs/py4chemoinformatics/lib/python3.9/site-packages (from equilibrator-assets) (0.4.3)\n",
      "Requirement already satisfied: periodictable~=1.5 in /opt/anaconda3/envs/py4chemoinformatics/lib/python3.9/site-packages (from component-contribution->equilibrator-assets) (1.6.0)\n",
      "Requirement already satisfied: uncertainties~=3.1 in /opt/anaconda3/envs/py4chemoinformatics/lib/python3.9/site-packages (from component-contribution->equilibrator-assets) (3.1.5)\n",
      "Requirement already satisfied: path~=15.0 in /opt/anaconda3/envs/py4chemoinformatics/lib/python3.9/site-packages (from component-contribution->equilibrator-assets) (15.1.2)\n",
      "Requirement already satisfied: pint~=0.14 in /opt/anaconda3/envs/py4chemoinformatics/lib/python3.9/site-packages (from equilibrator-cache->equilibrator-assets) (0.17)\n",
      "Requirement already satisfied: numpy~=1.19 in /opt/anaconda3/envs/py4chemoinformatics/lib/python3.9/site-packages (from equilibrator-cache->equilibrator-assets) (1.20.3)\n",
      "Requirement already satisfied: tenacity~=6.2 in /opt/anaconda3/envs/py4chemoinformatics/lib/python3.9/site-packages (from equilibrator-cache->equilibrator-assets) (6.3.1)\n",
      "Requirement already satisfied: pandas~=1.0 in /opt/anaconda3/envs/py4chemoinformatics/lib/python3.9/site-packages (from equilibrator-cache->equilibrator-assets) (1.2.4)\n",
      "Requirement already satisfied: python-Levenshtein-wheels~=0.13 in /opt/anaconda3/envs/py4chemoinformatics/lib/python3.9/site-packages (from equilibrator-cache->equilibrator-assets) (0.13.2)\n",
      "Requirement already satisfied: httpx~=0.16 in /opt/anaconda3/envs/py4chemoinformatics/lib/python3.9/site-packages (from equilibrator-cache->equilibrator-assets) (0.18.2)\n",
      "Requirement already satisfied: sqlalchemy<1.4,>=1.3 in /opt/anaconda3/envs/py4chemoinformatics/lib/python3.9/site-packages (from equilibrator-cache->equilibrator-assets) (1.3.24)\n",
      "Requirement already satisfied: appdirs~=1.4 in /opt/anaconda3/envs/py4chemoinformatics/lib/python3.9/site-packages (from equilibrator-cache->equilibrator-assets) (1.4.4)\n",
      "Requirement already satisfied: scipy~=1.5 in /opt/anaconda3/envs/py4chemoinformatics/lib/python3.9/site-packages (from equilibrator-cache->equilibrator-assets) (1.6.3)\n",
      "Requirement already satisfied: sniffio in /opt/anaconda3/envs/py4chemoinformatics/lib/python3.9/site-packages (from httpx~=0.16->equilibrator-cache->equilibrator-assets) (1.2.0)\n",
      "Requirement already satisfied: rfc3986[idna2008]<2,>=1.3 in /opt/anaconda3/envs/py4chemoinformatics/lib/python3.9/site-packages (from httpx~=0.16->equilibrator-cache->equilibrator-assets) (1.5.0)\n",
      "Requirement already satisfied: httpcore<0.14.0,>=0.13.3 in /opt/anaconda3/envs/py4chemoinformatics/lib/python3.9/site-packages (from httpx~=0.16->equilibrator-cache->equilibrator-assets) (0.13.6)\n",
      "Requirement already satisfied: certifi in /opt/anaconda3/envs/py4chemoinformatics/lib/python3.9/site-packages (from httpx~=0.16->equilibrator-cache->equilibrator-assets) (2021.5.30)\n",
      "Requirement already satisfied: h11<0.13,>=0.11 in /opt/anaconda3/envs/py4chemoinformatics/lib/python3.9/site-packages (from httpcore<0.14.0,>=0.13.3->httpx~=0.16->equilibrator-cache->equilibrator-assets) (0.12.0)\n",
      "Requirement already satisfied: anyio==3.* in /opt/anaconda3/envs/py4chemoinformatics/lib/python3.9/site-packages (from httpcore<0.14.0,>=0.13.3->httpx~=0.16->equilibrator-cache->equilibrator-assets) (3.2.1)\n",
      "Requirement already satisfied: idna>=2.8 in /opt/anaconda3/envs/py4chemoinformatics/lib/python3.9/site-packages (from anyio==3.*->httpcore<0.14.0,>=0.13.3->httpx~=0.16->equilibrator-cache->equilibrator-assets) (2.10)\n",
      "Requirement already satisfied: pytz>=2017.3 in /opt/anaconda3/envs/py4chemoinformatics/lib/python3.9/site-packages (from pandas~=1.0->equilibrator-cache->equilibrator-assets) (2021.1)\n",
      "Requirement already satisfied: pyparsing in /opt/anaconda3/envs/py4chemoinformatics/lib/python3.9/site-packages (from periodictable~=1.5->component-contribution->equilibrator-assets) (2.4.7)\n",
      "Requirement already satisfied: packaging in /opt/anaconda3/envs/py4chemoinformatics/lib/python3.9/site-packages (from pint~=0.14->equilibrator-cache->equilibrator-assets) (20.9)\n",
      "Requirement already satisfied: six>=1.5 in /opt/anaconda3/envs/py4chemoinformatics/lib/python3.9/site-packages (from python-dateutil->equilibrator-assets) (1.15.0)\n",
      "Requirement already satisfied: future in /opt/anaconda3/envs/py4chemoinformatics/lib/python3.9/site-packages (from uncertainties~=3.1->component-contribution->equilibrator-assets) (0.18.2)\n",
      "Requirement already satisfied: zipp>=3.1.0 in /opt/anaconda3/envs/py4chemoinformatics/lib/python3.9/site-packages (from importlib-resources->equilibrator-assets) (3.4.1)\n",
      "Requirement already satisfied: pyyaml>=3.12 in /opt/anaconda3/envs/py4chemoinformatics/lib/python3.9/site-packages (from quilt->equilibrator-assets) (5.4.1)\n",
      "Requirement already satisfied: xlrd>=1.0.0 in /opt/anaconda3/envs/py4chemoinformatics/lib/python3.9/site-packages (from quilt->equilibrator-assets) (2.0.1)\n",
      "Requirement already satisfied: pyarrow>=0.9.0 in /opt/anaconda3/envs/py4chemoinformatics/lib/python3.9/site-packages (from quilt->equilibrator-assets) (4.0.1)\n",
      "Requirement already satisfied: urllib3<1.27,>=1.21.1 in /opt/anaconda3/envs/py4chemoinformatics/lib/python3.9/site-packages (from requests->equilibrator-assets) (1.26.5)\n",
      "Requirement already satisfied: chardet<5,>=3.0.2 in /opt/anaconda3/envs/py4chemoinformatics/lib/python3.9/site-packages (from requests->equilibrator-assets) (4.0.0)\n",
      "Building wheels for collected packages: openbabel\n",
      "  Building wheel for openbabel (setup.py) ... \u001b[?25lerror\n",
      "\u001b[31m  ERROR: Command errored out with exit status 1:\n",
      "   command: /opt/anaconda3/envs/py4chemoinformatics/bin/python3.9 -u -c 'import io, os, sys, setuptools, tokenize; sys.argv[0] = '\"'\"'/private/var/folders/md/0kj77pss22d_nlf41c04tqr00000gp/T/pip-install-4o_0yjqh/openbabel_1295b7251dc44a90ab297f8601e83f1c/setup.py'\"'\"'; __file__='\"'\"'/private/var/folders/md/0kj77pss22d_nlf41c04tqr00000gp/T/pip-install-4o_0yjqh/openbabel_1295b7251dc44a90ab297f8601e83f1c/setup.py'\"'\"';f = getattr(tokenize, '\"'\"'open'\"'\"', open)(__file__) if os.path.exists(__file__) else io.StringIO('\"'\"'from setuptools import setup; setup()'\"'\"');code = f.read().replace('\"'\"'\\r\\n'\"'\"', '\"'\"'\\n'\"'\"');f.close();exec(compile(code, __file__, '\"'\"'exec'\"'\"'))' bdist_wheel -d /private/var/folders/md/0kj77pss22d_nlf41c04tqr00000gp/T/pip-wheel-mguwxd4u\n",
      "       cwd: /private/var/folders/md/0kj77pss22d_nlf41c04tqr00000gp/T/pip-install-4o_0yjqh/openbabel_1295b7251dc44a90ab297f8601e83f1c/\n",
      "  Complete output (15 lines):\n",
      "  running bdist_wheel\n",
      "  running build\n",
      "  running build_ext\n",
      "  Warning: invalid version number '3.1.1.1'.\n",
      "  Guessing Open Babel location:\n",
      "  - include_dirs: ['/opt/anaconda3/envs/py4chemoinformatics/include/python3.9', '/usr/local/include/openbabel3']\n",
      "  - library_dirs: ['/usr/local/lib']\n",
      "  building 'openbabel._openbabel' extension\n",
      "  swigging openbabel/openbabel-python.i to openbabel/openbabel-python_wrap.cpp\n",
      "  swig -python -c++ -small -O -templatereduce -naturalvar -I/opt/anaconda3/envs/py4chemoinformatics/include/python3.9 -I/usr/local/include/openbabel3 -o openbabel/openbabel-python_wrap.cpp openbabel/openbabel-python.i\n",
      "  \n",
      "  Error: SWIG failed. Is Open Babel installed?\n",
      "  You may need to manually specify the location of Open Babel include and library directories. For example:\n",
      "    python setup.py build_ext -I/usr/local/include/openbabel3 -L/usr/local/lib\n",
      "    python setup.py install\n",
      "  ----------------------------------------\u001b[0m\n",
      "\u001b[31m  ERROR: Failed building wheel for openbabel\u001b[0m\n",
      "\u001b[?25h  Running setup.py clean for openbabel\n"
     ]
    },
    {
     "name": "stdout",
     "output_type": "stream",
     "text": [
      "Failed to build openbabel\n",
      "Installing collected packages: openbabel, importlib-resources, click-log, equilibrator-assets\n",
      "    Running setup.py install for openbabel ... \u001b[?25lerror\n",
      "\u001b[31m    ERROR: Command errored out with exit status 1:\n",
      "     command: /opt/anaconda3/envs/py4chemoinformatics/bin/python3.9 -u -c 'import io, os, sys, setuptools, tokenize; sys.argv[0] = '\"'\"'/private/var/folders/md/0kj77pss22d_nlf41c04tqr00000gp/T/pip-install-4o_0yjqh/openbabel_1295b7251dc44a90ab297f8601e83f1c/setup.py'\"'\"'; __file__='\"'\"'/private/var/folders/md/0kj77pss22d_nlf41c04tqr00000gp/T/pip-install-4o_0yjqh/openbabel_1295b7251dc44a90ab297f8601e83f1c/setup.py'\"'\"';f = getattr(tokenize, '\"'\"'open'\"'\"', open)(__file__) if os.path.exists(__file__) else io.StringIO('\"'\"'from setuptools import setup; setup()'\"'\"');code = f.read().replace('\"'\"'\\r\\n'\"'\"', '\"'\"'\\n'\"'\"');f.close();exec(compile(code, __file__, '\"'\"'exec'\"'\"'))' install --record /private/var/folders/md/0kj77pss22d_nlf41c04tqr00000gp/T/pip-record-utkhlu_p/install-record.txt --single-version-externally-managed --compile --install-headers /opt/anaconda3/envs/py4chemoinformatics/include/python3.9/openbabel\n",
      "         cwd: /private/var/folders/md/0kj77pss22d_nlf41c04tqr00000gp/T/pip-install-4o_0yjqh/openbabel_1295b7251dc44a90ab297f8601e83f1c/\n",
      "    Complete output (14 lines):\n",
      "    running install\n",
      "    running build_ext\n",
      "    Warning: invalid version number '3.1.1.1'.\n",
      "    Guessing Open Babel location:\n",
      "    - include_dirs: ['/opt/anaconda3/envs/py4chemoinformatics/include/python3.9', '/usr/local/include/openbabel3']\n",
      "    - library_dirs: ['/usr/local/lib']\n",
      "    building 'openbabel._openbabel' extension\n",
      "    swigging openbabel/openbabel-python.i to openbabel/openbabel-python_wrap.cpp\n",
      "    swig -python -c++ -small -O -templatereduce -naturalvar -I/opt/anaconda3/envs/py4chemoinformatics/include/python3.9 -I/usr/local/include/openbabel3 -o openbabel/openbabel-python_wrap.cpp openbabel/openbabel-python.i\n",
      "    \n",
      "    Error: SWIG failed. Is Open Babel installed?\n",
      "    You may need to manually specify the location of Open Babel include and library directories. For example:\n",
      "      python setup.py build_ext -I/usr/local/include/openbabel3 -L/usr/local/lib\n",
      "      python setup.py install\n",
      "    ----------------------------------------\u001b[0m\n",
      "\u001b[31mERROR: Command errored out with exit status 1: /opt/anaconda3/envs/py4chemoinformatics/bin/python3.9 -u -c 'import io, os, sys, setuptools, tokenize; sys.argv[0] = '\"'\"'/private/var/folders/md/0kj77pss22d_nlf41c04tqr00000gp/T/pip-install-4o_0yjqh/openbabel_1295b7251dc44a90ab297f8601e83f1c/setup.py'\"'\"'; __file__='\"'\"'/private/var/folders/md/0kj77pss22d_nlf41c04tqr00000gp/T/pip-install-4o_0yjqh/openbabel_1295b7251dc44a90ab297f8601e83f1c/setup.py'\"'\"';f = getattr(tokenize, '\"'\"'open'\"'\"', open)(__file__) if os.path.exists(__file__) else io.StringIO('\"'\"'from setuptools import setup; setup()'\"'\"');code = f.read().replace('\"'\"'\\r\\n'\"'\"', '\"'\"'\\n'\"'\"');f.close();exec(compile(code, __file__, '\"'\"'exec'\"'\"'))' install --record /private/var/folders/md/0kj77pss22d_nlf41c04tqr00000gp/T/pip-record-utkhlu_p/install-record.txt --single-version-externally-managed --compile --install-headers /opt/anaconda3/envs/py4chemoinformatics/include/python3.9/openbabel Check the logs for full command output.\u001b[0m\n",
      "\u001b[?25h"
     ]
    }
   ],
   "source": [
    "!pip install equilibrator-assets"
   ]
  },
  {
   "cell_type": "code",
   "execution_count": 24,
   "id": "7c5a846c",
   "metadata": {},
   "outputs": [
    {
     "ename": "ModuleNotFoundError",
     "evalue": "No module named 'equilibrator_assets'",
     "output_type": "error",
     "traceback": [
      "\u001b[0;31m---------------------------------------------------------------------------\u001b[0m",
      "\u001b[0;31mModuleNotFoundError\u001b[0m                       Traceback (most recent call last)",
      "\u001b[0;32m<ipython-input-24-728dd542335f>\u001b[0m in \u001b[0;36m<module>\u001b[0;34m\u001b[0m\n\u001b[0;32m----> 1\u001b[0;31m \u001b[0;32mfrom\u001b[0m \u001b[0mequilibrator_assets\u001b[0m\u001b[0;34m.\u001b[0m\u001b[0mgenerate_compound\u001b[0m \u001b[0;32mimport\u001b[0m \u001b[0mcreate_compound\u001b[0m\u001b[0;34m,\u001b[0m \u001b[0mget_or_create_compound\u001b[0m\u001b[0;34m\u001b[0m\u001b[0;34m\u001b[0m\u001b[0m\n\u001b[0m\u001b[1;32m      2\u001b[0m \u001b[0;34m\u001b[0m\u001b[0m\n\u001b[1;32m      3\u001b[0m compound_list = get_or_create_compound(\n\u001b[1;32m      4\u001b[0m     \u001b[0mCC\u001b[0m\u001b[0;34m.\u001b[0m\u001b[0mccache\u001b[0m\u001b[0;34m,\u001b[0m\u001b[0;34m\u001b[0m\u001b[0;34m\u001b[0m\u001b[0m\n\u001b[1;32m      5\u001b[0m     [\n",
      "\u001b[0;31mModuleNotFoundError\u001b[0m: No module named 'equilibrator_assets'"
     ]
    }
   ],
   "source": [
    "from equilibrator_assets.generate_compound import create_compound, get_or_create_compound\n",
    "\n",
    "compound_list = get_or_create_compound(\n",
    "    CC.ccache,\n",
    "    [\n",
    "        \"OC([O-])=O\",  # CO2\n",
    "        \"O\",  # H2O\n",
    "        \"OCC=O\",  # Glycolaldehyde\n",
    "        \"OCC(=O)C(O)=O\",  # Hydroxypyruvate\n",
    "        \"CC(=O)C(O)=O\",  # Pyruvate\n",
    "        \"CC=O\",  # Acetaldehyde\n",
    "    ],\n",
    "    mol_format=\"smiles\",\n",
    ")\n",
    "\n",
    "mus = []\n",
    "sigma_vecs = []\n",
    "for c in compound_list:\n",
    "    mu, sigma_vec = CC.predictor.preprocess.get_compound_prediction(c)\n",
    "    mus.append(mu)\n",
    "    sigma_vecs.append(sigma_vec)\n",
    "\n",
    "mus = Q_(mus, \"kJ/mol\")\n",
    "sigma_vecs = Q_(sigma_vecs, \"kJ/mol\")"
   ]
  },
  {
   "cell_type": "code",
   "execution_count": null,
   "id": "66d7f1d6",
   "metadata": {},
   "outputs": [],
   "source": []
  }
 ],
 "metadata": {
  "kernelspec": {
   "display_name": "Python 3",
   "language": "python",
   "name": "python3"
  },
  "language_info": {
   "codemirror_mode": {
    "name": "ipython",
    "version": 3
   },
   "file_extension": ".py",
   "mimetype": "text/x-python",
   "name": "python",
   "nbconvert_exporter": "python",
   "pygments_lexer": "ipython3",
   "version": "3.9.4"
  }
 },
 "nbformat": 4,
 "nbformat_minor": 5
}
