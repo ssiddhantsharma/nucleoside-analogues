{
 "cells": [
  {
   "cell_type": "code",
   "execution_count": 77,
   "id": "0eea17e2",
   "metadata": {},
   "outputs": [],
   "source": [
    "from openbabel import openbabel"
   ]
  },
  {
   "cell_type": "code",
   "execution_count": 78,
   "id": "14e9de08",
   "metadata": {},
   "outputs": [],
   "source": [
    "from rdkit import Chem\n",
    "from rdkit.Chem import rdBase\n",
    "from rdkit.Chem import Draw\n",
    "from rdkit.Chem.Draw import IPythonConsole\n",
    "from rdkit.Chem import Descriptors\n",
    "from rdkit.Chem import Crippen\n",
    "from rdkit import RDLogger "
   ]
  },
  {
   "cell_type": "code",
   "execution_count": 79,
   "id": "2f4af5ae",
   "metadata": {},
   "outputs": [],
   "source": [
    "import pandas as pd\n",
    "import matplotlib.pyplot as plt\n",
    "import numpy as np\n",
    "import scipy.stats as ss"
   ]
  },
  {
   "cell_type": "code",
   "execution_count": 80,
   "id": "8f26735a",
   "metadata": {},
   "outputs": [],
   "source": [
    "import dataframe_image as dfi"
   ]
  },
  {
   "cell_type": "code",
   "execution_count": 83,
   "id": "3a40326a",
   "metadata": {},
   "outputs": [],
   "source": [
    "def table_maker(hits_path, network_title, num_generations):\n",
    "    database_hits = pd.read_csv(hits_path, sep='\\t')\n",
    "    gen_data = np.arange(0, num_generations+1, step=1)\n",
    "    df_data = {'Generation': gen_data}\n",
    "    df = pd.DataFrame(df_data)\n",
    "    \n",
    "    df['Whole Network'] = database_hits['Whole Network']\n",
    "    df['Computed Set'] = database_hits['Computed Set']\n",
    "    #df['% of Whole Network'] = round(((df['Computed Set'] / df['Whole Network'])*100), 2)\n",
    "    \n",
    "    df['HMDB'] = round(database_hits['HMDB'])\n",
    "    df['HMDB hits as % of Computed Set'] = round(((df['HMDB'] / df['Computed Set'])*100), 2)\n",
    "    \n",
    "    df['KEGG'] = round(database_hits['KEGG'])\n",
    "    df['KEGG hits as % of Computed Set'] = round(((df['KEGG'] / df['Computed Set'])*100), 2)\n",
    "    \n",
    "    df['ECMDB'] = round(database_hits['ECMDB'])\n",
    "    df['ECMDB hits as % of Computed Set'] = round(((df['ECMDB'] / df['Computed Set'])*100), 2)\n",
    "    \n",
    "    if df['Whole Network'][0] == 0.0:\n",
    "          df = df.drop([0])\n",
    "    \n",
    "    dfi.export(df, f'Tabulated{network_title}DatabaseMatches.png')\n",
    "    #df.to_csv(f'Tabulated{network_title}DatabaseMatches.tsv', header=None, index=None, sep='\\t', mode='a')\n",
    "    return(df)"
   ]
  },
  {
   "cell_type": "code",
   "execution_count": 88,
   "id": "71051131",
   "metadata": {},
   "outputs": [],
   "source": [
    "df = table_maker('./DatabaseMatchingScript/DatabaseMatches/FormoseDatabaseMatches.tsv', 'Formose', 5)"
   ]
  },
  {
   "cell_type": "code",
   "execution_count": 76,
   "id": "ae583238",
   "metadata": {},
   "outputs": [
    {
     "data": {
      "text/html": [
       "<div>\n",
       "<style scoped>\n",
       "    .dataframe tbody tr th:only-of-type {\n",
       "        vertical-align: middle;\n",
       "    }\n",
       "\n",
       "    .dataframe tbody tr th {\n",
       "        vertical-align: top;\n",
       "    }\n",
       "\n",
       "    .dataframe thead th {\n",
       "        text-align: right;\n",
       "    }\n",
       "</style>\n",
       "<table border=\"1\" class=\"dataframe\">\n",
       "  <thead>\n",
       "    <tr style=\"text-align: right;\">\n",
       "      <th></th>\n",
       "      <th>Generation</th>\n",
       "      <th>Whole Network</th>\n",
       "      <th>Computed Set</th>\n",
       "      <th>% of Whole Network</th>\n",
       "      <th>HMDB</th>\n",
       "      <th>HMDB hits as % of Computed Set</th>\n",
       "      <th>KEGG</th>\n",
       "      <th>KEGG hits as % of Computed Set</th>\n",
       "      <th>ECMDB</th>\n",
       "      <th>ECMDB hits as % of Computed Set</th>\n",
       "    </tr>\n",
       "  </thead>\n",
       "  <tbody>\n",
       "    <tr>\n",
       "      <th>1</th>\n",
       "      <td>1</td>\n",
       "      <td>6.0</td>\n",
       "      <td>1.0</td>\n",
       "      <td>16.67</td>\n",
       "      <td>1.0</td>\n",
       "      <td>100.00</td>\n",
       "      <td>1.0</td>\n",
       "      <td>100.00</td>\n",
       "      <td>1.0</td>\n",
       "      <td>100.00</td>\n",
       "    </tr>\n",
       "    <tr>\n",
       "      <th>2</th>\n",
       "      <td>2</td>\n",
       "      <td>25.0</td>\n",
       "      <td>2.0</td>\n",
       "      <td>8.00</td>\n",
       "      <td>1.0</td>\n",
       "      <td>50.00</td>\n",
       "      <td>1.0</td>\n",
       "      <td>50.00</td>\n",
       "      <td>1.0</td>\n",
       "      <td>50.00</td>\n",
       "    </tr>\n",
       "    <tr>\n",
       "      <th>3</th>\n",
       "      <td>3</td>\n",
       "      <td>145.0</td>\n",
       "      <td>23.0</td>\n",
       "      <td>15.86</td>\n",
       "      <td>4.0</td>\n",
       "      <td>17.39</td>\n",
       "      <td>2.0</td>\n",
       "      <td>8.70</td>\n",
       "      <td>2.0</td>\n",
       "      <td>8.70</td>\n",
       "    </tr>\n",
       "    <tr>\n",
       "      <th>4</th>\n",
       "      <td>4</td>\n",
       "      <td>1070.0</td>\n",
       "      <td>180.0</td>\n",
       "      <td>16.82</td>\n",
       "      <td>12.0</td>\n",
       "      <td>6.67</td>\n",
       "      <td>8.0</td>\n",
       "      <td>4.44</td>\n",
       "      <td>4.0</td>\n",
       "      <td>2.22</td>\n",
       "    </tr>\n",
       "    <tr>\n",
       "      <th>5</th>\n",
       "      <td>5</td>\n",
       "      <td>9081.0</td>\n",
       "      <td>1310.0</td>\n",
       "      <td>14.43</td>\n",
       "      <td>26.0</td>\n",
       "      <td>1.98</td>\n",
       "      <td>21.0</td>\n",
       "      <td>1.60</td>\n",
       "      <td>13.0</td>\n",
       "      <td>0.99</td>\n",
       "    </tr>\n",
       "    <tr>\n",
       "      <th>6</th>\n",
       "      <td>6</td>\n",
       "      <td>63280.0</td>\n",
       "      <td>4971.0</td>\n",
       "      <td>7.86</td>\n",
       "      <td>49.0</td>\n",
       "      <td>0.99</td>\n",
       "      <td>38.0</td>\n",
       "      <td>0.76</td>\n",
       "      <td>23.0</td>\n",
       "      <td>0.46</td>\n",
       "    </tr>\n",
       "  </tbody>\n",
       "</table>\n",
       "</div>"
      ],
      "text/plain": [
       "   Generation  Whole Network  Computed Set  % of Whole Network  HMDB  \\\n",
       "1           1            6.0           1.0               16.67   1.0   \n",
       "2           2           25.0           2.0                8.00   1.0   \n",
       "3           3          145.0          23.0               15.86   4.0   \n",
       "4           4         1070.0         180.0               16.82  12.0   \n",
       "5           5         9081.0        1310.0               14.43  26.0   \n",
       "6           6        63280.0        4971.0                7.86  49.0   \n",
       "\n",
       "   HMDB hits as % of Computed Set  KEGG  KEGG hits as % of Computed Set  \\\n",
       "1                          100.00   1.0                          100.00   \n",
       "2                           50.00   1.0                           50.00   \n",
       "3                           17.39   2.0                            8.70   \n",
       "4                            6.67   8.0                            4.44   \n",
       "5                            1.98  21.0                            1.60   \n",
       "6                            0.99  38.0                            0.76   \n",
       "\n",
       "   ECMDB  ECMDB hits as % of Computed Set  \n",
       "1    1.0                           100.00  \n",
       "2    1.0                            50.00  \n",
       "3    2.0                             8.70  \n",
       "4    4.0                             2.22  \n",
       "5   13.0                             0.99  \n",
       "6   23.0                             0.46  "
      ]
     },
     "execution_count": 76,
     "metadata": {},
     "output_type": "execute_result"
    }
   ],
   "source": [
    "df"
   ]
  },
  {
   "cell_type": "code",
   "execution_count": 64,
   "id": "956d5fb0",
   "metadata": {},
   "outputs": [
    {
     "data": {
      "text/plain": [
       "1"
      ]
     },
     "execution_count": 64,
     "metadata": {},
     "output_type": "execute_result"
    }
   ],
   "source": [
    "int(1.0)"
   ]
  },
  {
   "cell_type": "code",
   "execution_count": null,
   "id": "c32470af",
   "metadata": {},
   "outputs": [],
   "source": []
  }
 ],
 "metadata": {
  "kernelspec": {
   "display_name": "Python 3",
   "language": "python",
   "name": "python3"
  },
  "language_info": {
   "codemirror_mode": {
    "name": "ipython",
    "version": 3
   },
   "file_extension": ".py",
   "mimetype": "text/x-python",
   "name": "python",
   "nbconvert_exporter": "python",
   "pygments_lexer": "ipython3",
   "version": "3.9.4"
  }
 },
 "nbformat": 4,
 "nbformat_minor": 5
}
