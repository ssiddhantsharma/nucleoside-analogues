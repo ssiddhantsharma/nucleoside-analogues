{
 "cells": [
  {
   "cell_type": "code",
   "execution_count": 1,
   "id": "758f1aae",
   "metadata": {},
   "outputs": [],
   "source": [
    "from openbabel import openbabel"
   ]
  },
  {
   "cell_type": "code",
   "execution_count": 2,
   "id": "fb388690",
   "metadata": {},
   "outputs": [],
   "source": [
    "from rdkit import Chem\n",
    "from rdkit.Chem import rdBase\n",
    "from rdkit.Chem import Draw\n",
    "from rdkit.Chem.Draw import IPythonConsole\n",
    "from rdkit.Chem import Descriptors\n",
    "from rdkit.Chem import Crippen"
   ]
  },
  {
   "cell_type": "code",
   "execution_count": 3,
   "id": "14de3110",
   "metadata": {},
   "outputs": [],
   "source": [
    "import pandas as pd\n",
    "import matplotlib.pyplot as plt\n",
    "import numpy as np\n",
    "import scipy.stats as ss"
   ]
  },
  {
   "cell_type": "code",
   "execution_count": 4,
   "id": "5b1e0fd4",
   "metadata": {},
   "outputs": [],
   "source": [
    "def split(word):\n",
    "    return[char for char in word]"
   ]
  },
  {
   "cell_type": "code",
   "execution_count": 5,
   "id": "ac0b42a8",
   "metadata": {},
   "outputs": [],
   "source": [
    "def inchi(array):\n",
    "    Smiles = array[0] \n",
    "    mol = Chem.MolFromSmiles(Smiles)\n",
    "    dummy = Chem.inchi.MolToInchiKey(mol)#split at first layer (contains everything but stereochemical info)\n",
    "    characters = split(dummy)\n",
    "    dummy = ''\n",
    "    position = 0\n",
    "    for i in range(len(characters)):\n",
    "        if characters[i] == '-':\n",
    "            position = i\n",
    "            break\n",
    "    for i in range(position):\n",
    "        dummy += characters[i]\n",
    "    return(dummy)"
   ]
  },
  {
   "cell_type": "code",
   "execution_count": 6,
   "id": "e2d52d53",
   "metadata": {},
   "outputs": [],
   "source": [
    "def inchi_generations(array):\n",
    "    Smiles = array[1]\n",
    "    mol = Chem.MolFromSmiles(Smiles)\n",
    "    dummy = Chem.inchi.MolToInchiKey(mol)#split at first layer (contains everything but stereochemical info)\n",
    "    characters = split(dummy)\n",
    "    dummy = ''\n",
    "    position = 0\n",
    "    for i in range(len(characters)):\n",
    "        if characters[i] == '-':\n",
    "            position = i\n",
    "            break\n",
    "    for i in range(position):\n",
    "        dummy += characters[i]\n",
    "    return(dummy)"
   ]
  },
  {
   "cell_type": "code",
   "execution_count": 7,
   "id": "c90a38fd",
   "metadata": {},
   "outputs": [],
   "source": [
    "def remove_degeneracy_generations(dataset):\n",
    "    df = pd.read_csv(dataset, sep='\\t')\n",
    "    df['Inchi'] = df.apply(inchi_generations, axis=1, raw=True, result_type='expand')\n",
    "    \n",
    "    generation = [df['Generation'][0]]\n",
    "    smiles = [df['Smiles'][0]]\n",
    "    inchi_list = [df['Inchi'][0]]\n",
    "    \n",
    "    print(1)\n",
    "    \n",
    "    for i in range(len(df['Inchi'])):\n",
    "        if df['Inchi'][i] not in inchi_list:\n",
    "            inchi_list.append(df['Inchi'][i])\n",
    "            smiles.append(df['Smiles'][i])\n",
    "            generation.append(df['Generation'][i])\n",
    "    \n",
    "    data = {'Generation': generation, 'Smiles': smiles, 'Inchi': inchi_list}\n",
    "    output = pd.DataFrame(data)\n",
    "   \n",
    "    return(output)"
   ]
  },
  {
   "cell_type": "code",
   "execution_count": 8,
   "id": "abf7642f",
   "metadata": {},
   "outputs": [],
   "source": [
    "def remove_degeneracy(dataset):\n",
    "    df = pd.read_csv(dataset, sep='\\t')\n",
    "    df['Inchi'] = df.apply(inchi, axis=1, raw=True, result_type='expand')\n",
    "    \n",
    "    smiles = [df['Smiles'][0]]\n",
    "    inchi_list = [df['Inchi'][0]]\n",
    "    \n",
    "    print(1)\n",
    "    \n",
    "    for i in range(len(df['Inchi'])):\n",
    "        if df['Inchi'][i] not in inchi_list:\n",
    "            inchi_list.append(df['Inchi'][i])\n",
    "            smiles.append(df['Smiles'][i])\n",
    "    \n",
    "    data = {'Smiles': smiles, 'Inchi': inchi_list}\n",
    "    output = pd.DataFrame(data)\n",
    "   \n",
    "    return(output)"
   ]
  },
  {
   "cell_type": "code",
   "execution_count": 25,
   "id": "5619bb28",
   "metadata": {},
   "outputs": [
    {
     "name": "stdout",
     "output_type": "stream",
     "text": [
      "1\n",
      "CPU times: user 35min 13s, sys: 13.3 s, total: 35min 26s\n",
      "Wall time: 35min 45s\n"
     ]
    }
   ],
   "source": [
    "%%time\n",
    "a = remove_degeneracy('./CHNO_Data/Prepped_CHNO_Smiles.tsv')"
   ]
  },
  {
   "cell_type": "code",
   "execution_count": 26,
   "id": "e178e420",
   "metadata": {},
   "outputs": [
    {
     "data": {
      "text/html": [
       "<div>\n",
       "<style scoped>\n",
       "    .dataframe tbody tr th:only-of-type {\n",
       "        vertical-align: middle;\n",
       "    }\n",
       "\n",
       "    .dataframe tbody tr th {\n",
       "        vertical-align: top;\n",
       "    }\n",
       "\n",
       "    .dataframe thead th {\n",
       "        text-align: right;\n",
       "    }\n",
       "</style>\n",
       "<table border=\"1\" class=\"dataframe\">\n",
       "  <thead>\n",
       "    <tr style=\"text-align: right;\">\n",
       "      <th></th>\n",
       "      <th>Smiles</th>\n",
       "      <th>Inchi</th>\n",
       "    </tr>\n",
       "  </thead>\n",
       "  <tbody>\n",
       "    <tr>\n",
       "      <th>0</th>\n",
       "      <td>C1[C@H]([C@@H]([C@@H]([C@H]1OCOC)O)O)O[H]</td>\n",
       "      <td>DTBXEQYAJDNCDO</td>\n",
       "    </tr>\n",
       "    <tr>\n",
       "      <th>1</th>\n",
       "      <td>C1[C@H]([C@@H]([C@@H]([C@H]1OCOC)O)O)N([H])[H]</td>\n",
       "      <td>UXDGYUVYXFGMTI</td>\n",
       "    </tr>\n",
       "    <tr>\n",
       "      <th>2</th>\n",
       "      <td>[C@@H]1([C@H]([C@@H](O[C@@H]1CCOC)O[H])O)O</td>\n",
       "      <td>KLTFHVDRRCTBBL</td>\n",
       "    </tr>\n",
       "    <tr>\n",
       "      <th>3</th>\n",
       "      <td>[C@@H]1([C@H]([C@@H](O[C@@H]1CCOC)N([H])[H])O)O</td>\n",
       "      <td>KHNGSMSGCRDGCV</td>\n",
       "    </tr>\n",
       "    <tr>\n",
       "      <th>4</th>\n",
       "      <td>[C@H]1([C@@H]([C@@](C)(CCO)O[C@H]1O[H])O)O</td>\n",
       "      <td>AXXZNGSNFMYFEE</td>\n",
       "    </tr>\n",
       "    <tr>\n",
       "      <th>...</th>\n",
       "      <td>...</td>\n",
       "      <td>...</td>\n",
       "    </tr>\n",
       "    <tr>\n",
       "      <th>134021</th>\n",
       "      <td>c1cc(c(cc1OCN([H])[H])O)O</td>\n",
       "      <td>CJTDGDHSLZZTRL</td>\n",
       "    </tr>\n",
       "    <tr>\n",
       "      <th>134022</th>\n",
       "      <td>c1c(cc(cc1O)OCO[H])O</td>\n",
       "      <td>HGBCGHVOAPELOV</td>\n",
       "    </tr>\n",
       "    <tr>\n",
       "      <th>134023</th>\n",
       "      <td>c1c(cc(cc1O)OCN([H])[H])O</td>\n",
       "      <td>JUBOLHUMZGUACG</td>\n",
       "    </tr>\n",
       "    <tr>\n",
       "      <th>134024</th>\n",
       "      <td>c1c(cc(c(c1O)O)O)OCO[H]</td>\n",
       "      <td>AILYZZQFKLJSPC</td>\n",
       "    </tr>\n",
       "    <tr>\n",
       "      <th>134025</th>\n",
       "      <td>c1c(cc(c(c1O)O)O)OCN([H])[H]</td>\n",
       "      <td>WAHCFQHJZNXULC</td>\n",
       "    </tr>\n",
       "  </tbody>\n",
       "</table>\n",
       "<p>134026 rows × 2 columns</p>\n",
       "</div>"
      ],
      "text/plain": [
       "                                                 Smiles           Inchi\n",
       "0             C1[C@H]([C@@H]([C@@H]([C@H]1OCOC)O)O)O[H]  DTBXEQYAJDNCDO\n",
       "1        C1[C@H]([C@@H]([C@@H]([C@H]1OCOC)O)O)N([H])[H]  UXDGYUVYXFGMTI\n",
       "2            [C@@H]1([C@H]([C@@H](O[C@@H]1CCOC)O[H])O)O  KLTFHVDRRCTBBL\n",
       "3       [C@@H]1([C@H]([C@@H](O[C@@H]1CCOC)N([H])[H])O)O  KHNGSMSGCRDGCV\n",
       "4            [C@H]1([C@@H]([C@@](C)(CCO)O[C@H]1O[H])O)O  AXXZNGSNFMYFEE\n",
       "...                                                 ...             ...\n",
       "134021                        c1cc(c(cc1OCN([H])[H])O)O  CJTDGDHSLZZTRL\n",
       "134022                             c1c(cc(cc1O)OCO[H])O  HGBCGHVOAPELOV\n",
       "134023                        c1c(cc(cc1O)OCN([H])[H])O  JUBOLHUMZGUACG\n",
       "134024                          c1c(cc(c(c1O)O)O)OCO[H]  AILYZZQFKLJSPC\n",
       "134025                     c1c(cc(c(c1O)O)O)OCN([H])[H]  WAHCFQHJZNXULC\n",
       "\n",
       "[134026 rows x 2 columns]"
      ]
     },
     "execution_count": 26,
     "metadata": {},
     "output_type": "execute_result"
    }
   ],
   "source": [
    "a"
   ]
  },
  {
   "cell_type": "code",
   "execution_count": 27,
   "id": "c9b98d9c",
   "metadata": {},
   "outputs": [],
   "source": [
    "a.to_csv(r'CHNO_Final.tsv', header=None, index=None, sep='\\t', mode='a') "
   ]
  },
  {
   "cell_type": "code",
   "execution_count": null,
   "id": "44978631",
   "metadata": {},
   "outputs": [],
   "source": []
  }
 ],
 "metadata": {
  "kernelspec": {
   "display_name": "Python 3",
   "language": "python",
   "name": "python3"
  },
  "language_info": {
   "codemirror_mode": {
    "name": "ipython",
    "version": 3
   },
   "file_extension": ".py",
   "mimetype": "text/x-python",
   "name": "python",
   "nbconvert_exporter": "python",
   "pygments_lexer": "ipython3",
   "version": "3.9.4"
  }
 },
 "nbformat": 4,
 "nbformat_minor": 5
}
