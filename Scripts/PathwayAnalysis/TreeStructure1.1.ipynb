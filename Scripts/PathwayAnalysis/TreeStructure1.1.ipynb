{
 "cells": [
  {
   "cell_type": "code",
   "execution_count": 18,
   "id": "99017f0e",
   "metadata": {},
   "outputs": [],
   "source": [
    "from openbabel import openbabel"
   ]
  },
  {
   "cell_type": "code",
   "execution_count": 19,
   "id": "3456a4d6",
   "metadata": {},
   "outputs": [],
   "source": [
    "from rdkit import Chem\n",
    "from rdkit.Chem import rdBase\n",
    "from rdkit.Chem import Draw\n",
    "from rdkit.Chem.Draw import IPythonConsole\n",
    "from rdkit.Chem import Descriptors\n",
    "from rdkit.Chem import Crippen"
   ]
  },
  {
   "cell_type": "code",
   "execution_count": 20,
   "id": "3dd9631d",
   "metadata": {},
   "outputs": [],
   "source": [
    "import pandas as pd\n",
    "import matplotlib.pyplot as plt\n",
    "import numpy as np\n",
    "import scipy.stats as ss"
   ]
  },
  {
   "cell_type": "code",
   "execution_count": 56,
   "id": "61dfcffe",
   "metadata": {},
   "outputs": [],
   "source": [
    "from ast import literal_eval"
   ]
  },
  {
   "cell_type": "code",
   "execution_count": 21,
   "id": "41eb468f",
   "metadata": {},
   "outputs": [],
   "source": [
    "from treelib import Node, Tree"
   ]
  },
  {
   "cell_type": "code",
   "execution_count": 22,
   "id": "d1f99777",
   "metadata": {},
   "outputs": [],
   "source": [
    "class Molecule(object):\n",
    "    def __init__(self, path):\n",
    "        self.path = path"
   ]
  },
  {
   "cell_type": "code",
   "execution_count": 23,
   "id": "4ec9a3ad",
   "metadata": {},
   "outputs": [],
   "source": [
    "def split(word):\n",
    "    return[char for char in word]"
   ]
  },
  {
   "cell_type": "code",
   "execution_count": 83,
   "id": "d3528f8d",
   "metadata": {},
   "outputs": [],
   "source": [
    "def index_finder(Product, rels, path):\n",
    "    index = 0\n",
    "    for i in range(len(rels['Index'])):\n",
    "        found_index = False\n",
    "        place = literal_eval(rels['Products'][i])\n",
    "        for j in range(len(place)):\n",
    "            if place[j] == Product:\n",
    "                valid = True\n",
    "                precursors = precursor_finder(rels['Index'][i], rels)\n",
    "                for k in range(len(precursors)):\n",
    "                    if precursors[k] in path:\n",
    "                        valid = False\n",
    "                        break\n",
    "                if valid == True:\n",
    "                    found_index = True\n",
    "            if found_index == True:\n",
    "                index = rels['Index'][i]\n",
    "                print(rels['Index'][i])\n",
    "                print(precursors)\n",
    "                return(index)\n",
    "                break"
   ]
  },
  {
   "cell_type": "code",
   "execution_count": 84,
   "id": "80123cf6",
   "metadata": {},
   "outputs": [],
   "source": [
    "def precursor_finder(index, rels):\n",
    "    precursors = []\n",
    "    for i in range(len(rels['Index'])):\n",
    "        if rels['Index'][i] == index:\n",
    "            dummy = literal_eval(rels['Reagents'][i])\n",
    "            for j in range(len(dummy)):\n",
    "                precursors.append(dummy[j])\n",
    "    return(precursors)"
   ]
  },
  {
   "cell_type": "code",
   "execution_count": 85,
   "id": "83650c40",
   "metadata": {},
   "outputs": [],
   "source": [
    "def find_component(node, rels):\n",
    "    Product = node.tag\n",
    "    path = (node.data).path\n",
    "    index = index_finder(Product, rels, path)\n",
    "    precursors = precursor_finder(index, rels)\n",
    "    return(precursors)"
   ]
  },
  {
   "cell_type": "code",
   "execution_count": 86,
   "id": "eeb242e2",
   "metadata": {},
   "outputs": [],
   "source": [
    "def map_tree(Smiles, rels):\n",
    "    rels = pd.read_csv(rels, sep='\\t')\n",
    "    base_molecules = ['N', 'C=O', 'C(CO)=O', 'O'] #FormoseAmm\n",
    "    #base_molecules = ['C(C(C)=O)(O)=O', 'O'] #PyruvicAcid\n",
    "    tree = Tree()\n",
    "    tree.create_node(Smiles, 0, data=Molecule([Smiles]))\n",
    "    finished = False\n",
    "    level_counter = 0\n",
    "    node_counter = 0\n",
    "    while finished == False:\n",
    "        print(level_counter)\n",
    "        nodes = tree.all_nodes()\n",
    "        active_nodes = []\n",
    "        for i in range(len(nodes)):\n",
    "            tag = nodes[i].tag\n",
    "            level = tree.depth(nodes[i])\n",
    "            if level == level_counter and tag not in base_molecules:\n",
    "                active_nodes.append(nodes[i])\n",
    "        if active_nodes == []:\n",
    "            finished = True\n",
    "            break\n",
    "        else:\n",
    "            for i in range(len(active_nodes)):\n",
    "                precursors = find_component(active_nodes[i], rels)\n",
    "                product = active_nodes[i].identifier\n",
    "                dummy = (active_nodes[i].data).path\n",
    "                place = []\n",
    "                for k in range(len(dummy)):\n",
    "                    place.append(dummy[k])\n",
    "                for j in range(len(precursors)):\n",
    "                    node_counter +=1\n",
    "                    tree.create_node(precursors[j], node_counter, parent=product, data=Molecule(place + [precursors[j]]))\n",
    "            level_counter+=1\n",
    "    return(tree)"
   ]
  },
  {
   "cell_type": "code",
   "execution_count": 87,
   "id": "f8da44a9",
   "metadata": {},
   "outputs": [
    {
     "name": "stdout",
     "output_type": "stream",
     "text": [
      "0\n",
      "43902_0\n",
      "['C=CC(C=O)=O', 'C(C(C(C)N)O)=O']\n",
      "1\n",
      "1867_0\n",
      "['C(C(CCO)=O)=O']\n",
      "2193_0\n",
      "['C(CN)(O)=O', 'C(C(C(C)=O)O)=O']\n",
      "2\n",
      "90_0\n",
      "['C(C(C(CO)O)O)=O']\n",
      "63_0\n",
      "['C=O', 'O', 'C(CN)=O']\n",
      "96_0\n",
      "['C(C(C(CO)O)O)=O']\n",
      "3\n",
      "7_0\n",
      "['C(CO)=O', 'C(CO)=O']\n",
      "10_0\n",
      "['N', 'C(CO)=O']\n",
      "7_0\n",
      "['C(CO)=O', 'C(CO)=O']\n",
      "4\n",
      "CPU times: user 10.6 s, sys: 67.3 ms, total: 10.7 s\n",
      "Wall time: 10.7 s\n"
     ]
    }
   ],
   "source": [
    "%%time\n",
    "a = map_tree('C(C(C(C)NCCC(C=O)=O)O)=O', './ProcessedRels/FormoseAmmProcessedRels.tsv')"
   ]
  },
  {
   "cell_type": "code",
   "execution_count": 88,
   "id": "5bb693e5",
   "metadata": {},
   "outputs": [
    {
     "name": "stdout",
     "output_type": "stream",
     "text": [
      "C(C(C(C)NCCC(C=O)=O)O)=O\n",
      "├── C(C(C(C)N)O)=O\n",
      "│   ├── C(C(C(C)=O)O)=O\n",
      "│   │   └── C(C(C(CO)O)O)=O\n",
      "│   │       ├── C(CO)=O\n",
      "│   │       └── C(CO)=O\n",
      "│   └── C(CN)(O)=O\n",
      "│       ├── C(CN)=O\n",
      "│       │   ├── C(CO)=O\n",
      "│       │   └── N\n",
      "│       ├── C=O\n",
      "│       └── O\n",
      "└── C=CC(C=O)=O\n",
      "    └── C(C(CCO)=O)=O\n",
      "        └── C(C(C(CO)O)O)=O\n",
      "            ├── C(CO)=O\n",
      "            └── C(CO)=O\n",
      "\n"
     ]
    }
   ],
   "source": [
    "a.show()"
   ]
  },
  {
   "cell_type": "code",
   "execution_count": 81,
   "id": "711246e7",
   "metadata": {
    "scrolled": true
   },
   "outputs": [
    {
     "name": "stdout",
     "output_type": "stream",
     "text": [
      "['C(C(CO)O)=O']\n",
      "├── ['C(C(CO)O)=O', 'C(CO)=O']\n",
      "└── ['C(C(CO)O)=O', 'C=O']\n",
      "\n"
     ]
    }
   ],
   "source": [
    "a.show(data_property='path')"
   ]
  },
  {
   "cell_type": "code",
   "execution_count": null,
   "id": "e958a098",
   "metadata": {},
   "outputs": [],
   "source": []
  }
 ],
 "metadata": {
  "kernelspec": {
   "display_name": "Python 3",
   "language": "python",
   "name": "python3"
  },
  "language_info": {
   "codemirror_mode": {
    "name": "ipython",
    "version": 3
   },
   "file_extension": ".py",
   "mimetype": "text/x-python",
   "name": "python",
   "nbconvert_exporter": "python",
   "pygments_lexer": "ipython3",
   "version": "3.9.5"
  }
 },
 "nbformat": 4,
 "nbformat_minor": 5
}
