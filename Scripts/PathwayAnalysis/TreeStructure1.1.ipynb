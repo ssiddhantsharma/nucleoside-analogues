{
 "cells": [
  {
   "cell_type": "code",
   "execution_count": 2,
   "id": "99017f0e",
   "metadata": {},
   "outputs": [],
   "source": [
    "from openbabel import openbabel"
   ]
  },
  {
   "cell_type": "code",
   "execution_count": 3,
   "id": "3456a4d6",
   "metadata": {},
   "outputs": [],
   "source": [
    "from rdkit import Chem\n",
    "from rdkit.Chem import rdBase\n",
    "from rdkit.Chem import Draw\n",
    "from rdkit.Chem.Draw import IPythonConsole\n",
    "from rdkit.Chem import Descriptors\n",
    "from rdkit.Chem import Crippen"
   ]
  },
  {
   "cell_type": "code",
   "execution_count": 4,
   "id": "3dd9631d",
   "metadata": {},
   "outputs": [],
   "source": [
    "import pandas as pd\n",
    "import matplotlib.pyplot as plt\n",
    "import numpy as np\n",
    "import scipy.stats as ss"
   ]
  },
  {
   "cell_type": "code",
   "execution_count": 5,
   "id": "61dfcffe",
   "metadata": {},
   "outputs": [],
   "source": [
    "from ast import literal_eval"
   ]
  },
  {
   "cell_type": "code",
   "execution_count": 6,
   "id": "41eb468f",
   "metadata": {},
   "outputs": [],
   "source": [
    "from treelib import Node, Tree"
   ]
  },
  {
   "cell_type": "code",
   "execution_count": 7,
   "id": "d1f99777",
   "metadata": {},
   "outputs": [],
   "source": [
    "class Molecule(object):\n",
    "    def __init__(self, path):\n",
    "        self.path = path"
   ]
  },
  {
   "cell_type": "code",
   "execution_count": 8,
   "id": "4ec9a3ad",
   "metadata": {},
   "outputs": [],
   "source": [
    "def split(word):\n",
    "    return[char for char in word]"
   ]
  },
  {
   "cell_type": "code",
   "execution_count": 9,
   "id": "d3528f8d",
   "metadata": {},
   "outputs": [],
   "source": [
    "def index_finder(Product, rels, path):\n",
    "    index = 0\n",
    "    for i in range(len(rels['Index'])):\n",
    "        found_index = False\n",
    "        place = literal_eval(rels['Products'][i])\n",
    "        for j in range(len(place)):\n",
    "            if place[j] == Product:\n",
    "                valid = True\n",
    "                precursors = precursor_finder(rels['Index'][i], rels)\n",
    "                for k in range(len(precursors)):\n",
    "                    if precursors[k] in path:\n",
    "                        valid = False\n",
    "                        break\n",
    "                if valid == True:\n",
    "                    found_index = True\n",
    "            if found_index == True:\n",
    "                index = rels['Index'][i]\n",
    "                print(rels['Index'][i])\n",
    "                print(precursors)\n",
    "                return(index)\n",
    "                break"
   ]
  },
  {
   "cell_type": "code",
   "execution_count": 10,
   "id": "80123cf6",
   "metadata": {},
   "outputs": [],
   "source": [
    "def precursor_finder(index, rels):\n",
    "    precursors = []\n",
    "    for i in range(len(rels['Index'])):\n",
    "        if rels['Index'][i] == index:\n",
    "            dummy = literal_eval(rels['Reagents'][i])\n",
    "            for j in range(len(dummy)):\n",
    "                precursors.append(dummy[j])\n",
    "    return(precursors)"
   ]
  },
  {
   "cell_type": "code",
   "execution_count": 15,
   "id": "83650c40",
   "metadata": {},
   "outputs": [],
   "source": [
    "def find_component(node, rels):\n",
    "    Product = node.tag\n",
    "    path = (node.data).path\n",
    "    print(path)\n",
    "    index = index_finder(Product, rels, path)\n",
    "    precursors = precursor_finder(index, rels)\n",
    "    return(precursors)"
   ]
  },
  {
   "cell_type": "code",
   "execution_count": 16,
   "id": "eeb242e2",
   "metadata": {},
   "outputs": [],
   "source": [
    "def map_tree(Smiles, rels):\n",
    "    rels = pd.read_csv(rels, sep='\\t')\n",
    "    base_molecules = ['N', 'C=O', 'C(CO)=O', 'O'] #FormoseAmm\n",
    "    #base_molecules = ['C(C(C)=O)(O)=O', 'O'] #PyruvicAcid\n",
    "    tree = Tree()\n",
    "    tree.create_node(Smiles, 0, data=Molecule([Smiles]))\n",
    "    finished = False\n",
    "    level_counter = 0\n",
    "    node_counter = 0\n",
    "    while finished == False:\n",
    "        print(level_counter)\n",
    "        nodes = tree.all_nodes()\n",
    "        active_nodes = []\n",
    "        for i in range(len(nodes)):\n",
    "            tag = nodes[i].tag\n",
    "            level = tree.depth(nodes[i])\n",
    "            if level == level_counter and tag not in base_molecules:\n",
    "                active_nodes.append(nodes[i])\n",
    "        if active_nodes == []:\n",
    "            finished = True\n",
    "            break\n",
    "        else:\n",
    "            for i in range(len(active_nodes)):\n",
    "                precursors = find_component(active_nodes[i], rels)\n",
    "                product = active_nodes[i].identifier\n",
    "                dummy = (active_nodes[i].data).path\n",
    "                place = []\n",
    "                for k in range(len(dummy)):\n",
    "                    place.append(dummy[k])\n",
    "                for j in range(len(precursors)):\n",
    "                    node_counter +=1\n",
    "                    tree.create_node(precursors[j], node_counter, parent=product, data=Molecule(place + [precursors[j]]))\n",
    "            level_counter+=1\n",
    "    return(tree)"
   ]
  },
  {
   "cell_type": "code",
   "execution_count": 18,
   "id": "f8da44a9",
   "metadata": {},
   "outputs": [
    {
     "name": "stdout",
     "output_type": "stream",
     "text": [
      "0\n",
      "['C(O)=O']\n",
      "13_0\n",
      "['C=O', 'C=O', 'O']\n",
      "1\n",
      "CPU times: user 1.38 s, sys: 40.6 ms, total: 1.42 s\n",
      "Wall time: 1.43 s\n"
     ]
    }
   ],
   "source": [
    "%%time\n",
    "a = map_tree('C(O)=O', './ProcessedRels/FormoseAmmProcessedRels.tsv')"
   ]
  },
  {
   "cell_type": "code",
   "execution_count": 19,
   "id": "5bb693e5",
   "metadata": {},
   "outputs": [
    {
     "name": "stdout",
     "output_type": "stream",
     "text": [
      "['C(O)=O']\n",
      "├── ['C(O)=O', 'C=O']\n",
      "├── ['C(O)=O', 'C=O']\n",
      "└── ['C(O)=O', 'O']\n",
      "\n"
     ]
    }
   ],
   "source": [
    "a.show(data_property='path')"
   ]
  },
  {
   "cell_type": "code",
   "execution_count": 81,
   "id": "711246e7",
   "metadata": {
    "scrolled": true
   },
   "outputs": [
    {
     "name": "stdout",
     "output_type": "stream",
     "text": [
      "['C(C(CO)O)=O']\n",
      "├── ['C(C(CO)O)=O', 'C(CO)=O']\n",
      "└── ['C(C(CO)O)=O', 'C=O']\n",
      "\n"
     ]
    }
   ],
   "source": [
    "a.show(data_property='path')"
   ]
  },
  {
   "cell_type": "code",
   "execution_count": null,
   "id": "e958a098",
   "metadata": {},
   "outputs": [],
   "source": []
  }
 ],
 "metadata": {
  "kernelspec": {
   "display_name": "Python 3",
   "language": "python",
   "name": "python3"
  },
  "language_info": {
   "codemirror_mode": {
    "name": "ipython",
    "version": 3
   },
   "file_extension": ".py",
   "mimetype": "text/x-python",
   "name": "python",
   "nbconvert_exporter": "python",
   "pygments_lexer": "ipython3",
   "version": "3.9.5"
  }
 },
 "nbformat": 4,
 "nbformat_minor": 5
}
