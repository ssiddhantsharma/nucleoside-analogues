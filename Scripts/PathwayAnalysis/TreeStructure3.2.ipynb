{
 "cells": [
  {
   "cell_type": "markdown",
   "id": "e93c2f86",
   "metadata": {},
   "source": [
    "Calculating all paths, energies (suitable for SMILES strings)"
   ]
  },
  {
   "cell_type": "code",
   "execution_count": 1,
   "id": "99017f0e",
   "metadata": {},
   "outputs": [],
   "source": [
    "from openbabel import openbabel"
   ]
  },
  {
   "cell_type": "code",
   "execution_count": 2,
   "id": "3456a4d6",
   "metadata": {},
   "outputs": [],
   "source": [
    "from rdkit import Chem\n",
    "from rdkit.Chem import rdBase\n",
    "from rdkit.Chem import Draw\n",
    "from rdkit.Chem.Draw import IPythonConsole\n",
    "from rdkit.Chem import Descriptors\n",
    "from rdkit.Chem import Crippen"
   ]
  },
  {
   "cell_type": "code",
   "execution_count": 3,
   "id": "3dd9631d",
   "metadata": {},
   "outputs": [],
   "source": [
    "import pandas as pd\n",
    "import matplotlib.pyplot as plt\n",
    "import numpy as np\n",
    "import scipy.stats as ss"
   ]
  },
  {
   "cell_type": "code",
   "execution_count": 4,
   "id": "1830b879",
   "metadata": {},
   "outputs": [],
   "source": [
    "from treelib import Node, Tree"
   ]
  },
  {
   "cell_type": "code",
   "execution_count": 5,
   "id": "c9706eb3",
   "metadata": {},
   "outputs": [],
   "source": [
    "from ast import literal_eval"
   ]
  },
  {
   "cell_type": "code",
   "execution_count": 6,
   "id": "558cf8ba",
   "metadata": {},
   "outputs": [],
   "source": [
    "class Molecule(object):\n",
    "    def __init__(self, path):\n",
    "        self.path = path"
   ]
  },
  {
   "cell_type": "code",
   "execution_count": 106,
   "id": "4ec9a3ad",
   "metadata": {},
   "outputs": [],
   "source": [
    "def split(word):\n",
    "    return[char for char in word]"
   ]
  },
  {
   "cell_type": "code",
   "execution_count": 107,
   "id": "58e7f2ac",
   "metadata": {},
   "outputs": [],
   "source": [
    "def tree_copier(tree, identifier_factor):\n",
    "    tree_copy = Tree()\n",
    "    nodes = tree.all_nodes()\n",
    "    for i in range(len(nodes)):\n",
    "        dummy_tag = nodes[i].tag\n",
    "        dummy_identifier = nodes[i].identifier\n",
    "        dummy_data = nodes[i].data\n",
    "        try:\n",
    "            dummy_parent = (tree.parent(dummy_identifier)).identifier \n",
    "        except:\n",
    "            dummy_parent = -1\n",
    "        if dummy_parent == -1:\n",
    "            tree_copy.create_node(dummy_tag, (dummy_identifier+identifier_factor), data = dummy_data)\n",
    "        else:\n",
    "            tree_copy.create_node(dummy_tag, (dummy_identifier+identifier_factor), parent=(dummy_parent+identifier_factor), data = dummy_data)\n",
    "    return(tree_copy)"
   ]
  },
  {
   "cell_type": "code",
   "execution_count": 108,
   "id": "d3528f8d",
   "metadata": {},
   "outputs": [],
   "source": [
    "def index_finder(Product, rels, path):\n",
    "    indexes = []\n",
    "    for i in range(len(rels['Index'])):\n",
    "        if rels['Energy Change'][i] != 'NaN':\n",
    "            if rels['Energy Change'][i] < 0: \n",
    "                place = literal_eval(rels['Products'][i])\n",
    "                for j in range(len(place)):\n",
    "                    if place[j] == Product:\n",
    "                        indexes.append(rels['Index'][i])\n",
    "    valid_indexes = []\n",
    "    for i in range(len(indexes)):\n",
    "        valid = True\n",
    "        precursors = precursor_finder(indexes[i], rels)\n",
    "        for j in range(len(precursors)):\n",
    "            if precursors[j] in path:\n",
    "                valid = False\n",
    "                break\n",
    "        if valid == True:\n",
    "            valid_indexes.append(indexes[i])\n",
    "    return(valid_indexes)"
   ]
  },
  {
   "cell_type": "code",
   "execution_count": 109,
   "id": "80123cf6",
   "metadata": {},
   "outputs": [],
   "source": [
    "def precursor_finder(index, rels):\n",
    "    precursors = []\n",
    "    for i in range(len(rels['Index'])):\n",
    "        if rels['Index'][i] == index:\n",
    "            dummy = literal_eval(rels['Reagents'][i])\n",
    "            for j in range(len(dummy)):\n",
    "                precursors.append(dummy[j])\n",
    "    return(precursors)"
   ]
  },
  {
   "cell_type": "code",
   "execution_count": 110,
   "id": "83650c40",
   "metadata": {},
   "outputs": [],
   "source": [
    "def find_component(node, rels):\n",
    "    Product = node.tag\n",
    "    path = (node.data).path\n",
    "    indexes = index_finder(Product, rels, path)\n",
    "    precursors = []\n",
    "    for i in range(len(indexes)):\n",
    "        precursors.append(precursor_finder(indexes[i], rels))\n",
    "    return(indexes, precursors)"
   ]
  },
  {
   "cell_type": "code",
   "execution_count": 187,
   "id": "eeb242e2",
   "metadata": {},
   "outputs": [],
   "source": [
    "def map_tree(Smiles, rels, max_trees):\n",
    "    #rels = pd.read_csv(rels, sep='\\t')\n",
    "    #base_molecules = ['F', 'G', 'H', 'I', 'J', 'K']\n",
    "    #base_molecules = ['N', 'C=O', 'C(CO)=O', 'O'] #FormoseAmm\n",
    "    base_molecules = ['C=O', 'C(CO)=O', 'O'] #Formose\n",
    "    all_trees = []\n",
    "    tree_statuses = []\n",
    "    tree1 = Tree()\n",
    "    tree1.create_node(Smiles, 0, data=Molecule([Smiles]))\n",
    "    all_trees.append(tree1)\n",
    "    tree_statuses.append(False)\n",
    "    reactions = [[]]\n",
    "    \n",
    "    complete = False\n",
    "    early_complete = False\n",
    "    while complete == False and early_complete == False:\n",
    "        for i in range(len(all_trees)):\n",
    "            if tree_statuses[i] == False:\n",
    "                finished = False\n",
    "                current_nodes = all_trees[i].all_nodes()\n",
    "                current_depths = []\n",
    "                for j in range(len(current_nodes)):\n",
    "                    current_depths.append(all_trees[i].depth(current_nodes[j]))\n",
    "                level_counter = max(current_depths)\n",
    "                node_counter = len(current_nodes)-1\n",
    "                while finished == False:\n",
    "                    nodes = all_trees[i].all_nodes()\n",
    "                    active_nodes = []\n",
    "                    nodes_with_children = []\n",
    "                    for k in range(len(nodes)):\n",
    "                        try:     \n",
    "                            temp = (all_trees[i].parent(nodes[k].identifier)).identifier\n",
    "                        except:\n",
    "                            temp = -1\n",
    "                        if temp != -1:\n",
    "                            nodes_with_children.append(temp)\n",
    "                    for k in range(len(nodes)):\n",
    "                        tag = nodes[k].tag\n",
    "                        level = all_trees[i].depth(nodes[k])\n",
    "                        if nodes[k].identifier not in nodes_with_children and tag not in base_molecules:\n",
    "                            active_nodes.append(nodes[k])\n",
    "                    if active_nodes == []:\n",
    "                        finished = True\n",
    "                        break\n",
    "                    else:\n",
    "                        for z in range(len(active_nodes)):\n",
    "                            indexes, precursors = find_component(active_nodes[z], rels)\n",
    "                            if len(precursors) == 0:\n",
    "                                all_trees[i] = 'NaN'\n",
    "                                finished = True\n",
    "                                break\n",
    "                            else:\n",
    "                                product = active_nodes[z].identifier\n",
    "                                dummy = (active_nodes[z].data).path\n",
    "                                place = []\n",
    "                                num_trees = len(all_trees)\n",
    "                                for m in range(len(dummy)):\n",
    "                                    place.append(dummy[m])\n",
    "                                if len(precursors) > 1:\n",
    "                                    for p in range(1, len(precursors)):\n",
    "                                        tree = tree_copier(all_trees[i], (num_trees*1000))\n",
    "                                        dummy_product = product \n",
    "                                        tree_statuses.append(False)\n",
    "                                        dummy_node_counter = num_trees*1000 + node_counter\n",
    "                                        for q in range(len(precursors[p])):\n",
    "                                            dummy_node_counter += 1\n",
    "                                            tree.create_node(precursors[p][q], dummy_node_counter, parent=(product+num_trees*1000), data=Molecule(place + [precursors[p][q]])) \n",
    "                                        all_trees.append(tree)\n",
    "                                        reactions.append(reactions[i] + [indexes[p]])\n",
    "                                        num_trees+=1\n",
    "                                for n in range(len(precursors[0])):\n",
    "                                    node_counter +=1\n",
    "                                    all_trees[i].create_node(precursors[0][n], node_counter, parent=product, data=Molecule(place + [precursors[0][n]])) \n",
    "                                reactions[i].append(indexes[0])\n",
    "            if finished == True:\n",
    "                tree_statuses[i] = True\n",
    "        #print(f'No. trees = {len(all_trees)}')\n",
    "        num_complete_trees = 0\n",
    "        for i in range(len(tree_statuses)):\n",
    "            if tree_statuses[i] == True and all_trees[i] != 'NaN':\n",
    "                num_complete_trees += 1\n",
    "        #print(f'No. complete trees = {num_complete_trees}')    \n",
    "        final_trees = []\n",
    "        final_reactions = []\n",
    "        if num_complete_trees >= max_trees:\n",
    "            early_complete = True\n",
    "        else:\n",
    "            dummy = True\n",
    "            for i in range(len(tree_statuses)):\n",
    "                if tree_statuses[i] == False:\n",
    "                    dummy = False\n",
    "            if dummy == True:\n",
    "                complete = True\n",
    "    if early_complete == True or complete == True:\n",
    "        final_trees = []\n",
    "        final_reactions = []\n",
    "        for i in range(len(all_trees)):\n",
    "            if tree_statuses[i] == True and all_trees[i] != 'NaN':\n",
    "                final_trees.append(all_trees[i])\n",
    "                final_reactions.append(reactions[i])\n",
    "        final_energies = []\n",
    "        EnergyChanges = []\n",
    "        ReactionIDs = []\n",
    "        for i in range(len(rels['Index'])):\n",
    "            EnergyChanges.append(rels['Energy Change'][i])\n",
    "            ReactionIDs.append(rels['Index'][i])\n",
    "        for i in range(len(final_trees)):\n",
    "            dummy = 0\n",
    "            for j in range(len(final_reactions[i])):\n",
    "                dummy += EnergyChanges[ReactionIDs.index(final_reactions[i][j])].round(2)\n",
    "            final_energies.append(dummy)\n",
    "        data = {'Tree':final_trees, 'Reaction IDs':final_reactions, 'Energy Change':final_energies}\n",
    "    df = pd.DataFrame(data)\n",
    "    #df.to_csv('Testdf.csv', header=None, index=None, sep='\\t', mode='a')\n",
    "    return(final_trees, final_reactions, final_energies)"
   ]
  },
  {
   "cell_type": "code",
   "execution_count": 188,
   "id": "089b698f",
   "metadata": {},
   "outputs": [],
   "source": [
    "def gen_finder(string):\n",
    "    string = list(string)\n",
    "    return(int(string[1]))"
   ]
  },
  {
   "cell_type": "code",
   "execution_count": 205,
   "id": "6e510fbb",
   "metadata": {},
   "outputs": [],
   "source": [
    "def pathway_finder(matches_file, network, min_generation, max_generation): \n",
    "    matches_data = pd.read_csv(matches_file, sep='\\t')\n",
    "    rels_data = []\n",
    "    for i in range(min_generation, max_generation+1):\n",
    "        rels_data.append(pd.read_csv(f'./RelsDataWithThermo/{network}/{network}_{i}RelsWithThermo.tsv', sep='\\t'))\n",
    "    all_smiles = []\n",
    "    all_inchi = []\n",
    "    all_gen = []\n",
    "    all_trees = []\n",
    "    all_energies = []\n",
    "    all_reactions = []\n",
    "    for i in range(100, 101): #len(matches_data['Generation'])\n",
    "        gen = gen_finder(matches_data['Generation'][i])\n",
    "        trees, reactions, energies = map_tree(matches_data['Smiles'][i], rels_data[gen-1], 10e10)\n",
    "        all_trees.append(trees)\n",
    "        all_energies.append(energies)\n",
    "        all_reactions.append(reactions)\n",
    "        all_smiles.append(matches_data['Smiles'][i])\n",
    "        all_inchi.append(matches_data['Inchi'][i])\n",
    "        all_gen.append(matches_data['Generation'][i])\n",
    "            \n",
    "    data = {'Generation':all_gen, 'Smiles':all_smiles, 'Inchi':all_inchi, 'Pathways':all_trees, 'Path Energies':all_energies, 'Reaction IDs':all_reactions}\n",
    "    df = pd.DataFrame(data)\n",
    "    return(df)\n",
    "    "
   ]
  },
  {
   "cell_type": "code",
   "execution_count": 206,
   "id": "64fe2721",
   "metadata": {},
   "outputs": [
    {
     "ename": "KeyboardInterrupt",
     "evalue": "",
     "output_type": "error",
     "traceback": [
      "\u001b[0;31m---------------------------------------------------------------------------\u001b[0m",
      "\u001b[0;31mKeyboardInterrupt\u001b[0m                         Traceback (most recent call last)",
      "\u001b[0;32m<timed exec>\u001b[0m in \u001b[0;36m<module>\u001b[0;34m\u001b[0m\n",
      "\u001b[0;32m<ipython-input-205-8f04715fa8c3>\u001b[0m in \u001b[0;36mpathway_finder\u001b[0;34m(matches_file, network, min_generation, max_generation)\u001b[0m\n\u001b[1;32m     12\u001b[0m     \u001b[0;32mfor\u001b[0m \u001b[0mi\u001b[0m \u001b[0;32min\u001b[0m \u001b[0mrange\u001b[0m\u001b[0;34m(\u001b[0m\u001b[0;36m100\u001b[0m\u001b[0;34m,\u001b[0m \u001b[0;36m101\u001b[0m\u001b[0;34m)\u001b[0m\u001b[0;34m:\u001b[0m \u001b[0;31m#len(matches_data['Generation'])\u001b[0m\u001b[0;34m\u001b[0m\u001b[0;34m\u001b[0m\u001b[0m\n\u001b[1;32m     13\u001b[0m         \u001b[0mgen\u001b[0m \u001b[0;34m=\u001b[0m \u001b[0mgen_finder\u001b[0m\u001b[0;34m(\u001b[0m\u001b[0mmatches_data\u001b[0m\u001b[0;34m[\u001b[0m\u001b[0;34m'Generation'\u001b[0m\u001b[0;34m]\u001b[0m\u001b[0;34m[\u001b[0m\u001b[0mi\u001b[0m\u001b[0;34m]\u001b[0m\u001b[0;34m)\u001b[0m\u001b[0;34m\u001b[0m\u001b[0;34m\u001b[0m\u001b[0m\n\u001b[0;32m---> 14\u001b[0;31m         \u001b[0mtrees\u001b[0m\u001b[0;34m,\u001b[0m \u001b[0mreactions\u001b[0m\u001b[0;34m,\u001b[0m \u001b[0menergies\u001b[0m \u001b[0;34m=\u001b[0m \u001b[0mmap_tree\u001b[0m\u001b[0;34m(\u001b[0m\u001b[0mmatches_data\u001b[0m\u001b[0;34m[\u001b[0m\u001b[0;34m'Smiles'\u001b[0m\u001b[0;34m]\u001b[0m\u001b[0;34m[\u001b[0m\u001b[0mi\u001b[0m\u001b[0;34m]\u001b[0m\u001b[0;34m,\u001b[0m \u001b[0mrels_data\u001b[0m\u001b[0;34m[\u001b[0m\u001b[0mgen\u001b[0m\u001b[0;34m-\u001b[0m\u001b[0;36m1\u001b[0m\u001b[0;34m]\u001b[0m\u001b[0;34m,\u001b[0m \u001b[0;36m10e10\u001b[0m\u001b[0;34m)\u001b[0m\u001b[0;34m\u001b[0m\u001b[0;34m\u001b[0m\u001b[0m\n\u001b[0m\u001b[1;32m     15\u001b[0m         \u001b[0mall_trees\u001b[0m\u001b[0;34m.\u001b[0m\u001b[0mappend\u001b[0m\u001b[0;34m(\u001b[0m\u001b[0mtrees\u001b[0m\u001b[0;34m)\u001b[0m\u001b[0;34m\u001b[0m\u001b[0;34m\u001b[0m\u001b[0m\n\u001b[1;32m     16\u001b[0m         \u001b[0mall_energies\u001b[0m\u001b[0;34m.\u001b[0m\u001b[0mappend\u001b[0m\u001b[0;34m(\u001b[0m\u001b[0menergies\u001b[0m\u001b[0;34m)\u001b[0m\u001b[0;34m\u001b[0m\u001b[0;34m\u001b[0m\u001b[0m\n",
      "\u001b[0;32m<ipython-input-187-ace3ee2b0f50>\u001b[0m in \u001b[0;36mmap_tree\u001b[0;34m(Smiles, rels, max_trees)\u001b[0m\n\u001b[1;32m     45\u001b[0m                     \u001b[0;32melse\u001b[0m\u001b[0;34m:\u001b[0m\u001b[0;34m\u001b[0m\u001b[0;34m\u001b[0m\u001b[0m\n\u001b[1;32m     46\u001b[0m                         \u001b[0;32mfor\u001b[0m \u001b[0mz\u001b[0m \u001b[0;32min\u001b[0m \u001b[0mrange\u001b[0m\u001b[0;34m(\u001b[0m\u001b[0mlen\u001b[0m\u001b[0;34m(\u001b[0m\u001b[0mactive_nodes\u001b[0m\u001b[0;34m)\u001b[0m\u001b[0;34m)\u001b[0m\u001b[0;34m:\u001b[0m\u001b[0;34m\u001b[0m\u001b[0;34m\u001b[0m\u001b[0m\n\u001b[0;32m---> 47\u001b[0;31m                             \u001b[0mindexes\u001b[0m\u001b[0;34m,\u001b[0m \u001b[0mprecursors\u001b[0m \u001b[0;34m=\u001b[0m \u001b[0mfind_component\u001b[0m\u001b[0;34m(\u001b[0m\u001b[0mactive_nodes\u001b[0m\u001b[0;34m[\u001b[0m\u001b[0mz\u001b[0m\u001b[0;34m]\u001b[0m\u001b[0;34m,\u001b[0m \u001b[0mrels\u001b[0m\u001b[0;34m)\u001b[0m\u001b[0;34m\u001b[0m\u001b[0;34m\u001b[0m\u001b[0m\n\u001b[0m\u001b[1;32m     48\u001b[0m                             \u001b[0;32mif\u001b[0m \u001b[0mlen\u001b[0m\u001b[0;34m(\u001b[0m\u001b[0mprecursors\u001b[0m\u001b[0;34m)\u001b[0m \u001b[0;34m==\u001b[0m \u001b[0;36m0\u001b[0m\u001b[0;34m:\u001b[0m\u001b[0;34m\u001b[0m\u001b[0;34m\u001b[0m\u001b[0m\n\u001b[1;32m     49\u001b[0m                                 \u001b[0mall_trees\u001b[0m\u001b[0;34m[\u001b[0m\u001b[0mi\u001b[0m\u001b[0;34m]\u001b[0m \u001b[0;34m=\u001b[0m \u001b[0;34m'NaN'\u001b[0m\u001b[0;34m\u001b[0m\u001b[0;34m\u001b[0m\u001b[0m\n",
      "\u001b[0;32m<ipython-input-110-3b1be979740d>\u001b[0m in \u001b[0;36mfind_component\u001b[0;34m(node, rels)\u001b[0m\n\u001b[1;32m      5\u001b[0m     \u001b[0mprecursors\u001b[0m \u001b[0;34m=\u001b[0m \u001b[0;34m[\u001b[0m\u001b[0;34m]\u001b[0m\u001b[0;34m\u001b[0m\u001b[0;34m\u001b[0m\u001b[0m\n\u001b[1;32m      6\u001b[0m     \u001b[0;32mfor\u001b[0m \u001b[0mi\u001b[0m \u001b[0;32min\u001b[0m \u001b[0mrange\u001b[0m\u001b[0;34m(\u001b[0m\u001b[0mlen\u001b[0m\u001b[0;34m(\u001b[0m\u001b[0mindexes\u001b[0m\u001b[0;34m)\u001b[0m\u001b[0;34m)\u001b[0m\u001b[0;34m:\u001b[0m\u001b[0;34m\u001b[0m\u001b[0;34m\u001b[0m\u001b[0m\n\u001b[0;32m----> 7\u001b[0;31m         \u001b[0mprecursors\u001b[0m\u001b[0;34m.\u001b[0m\u001b[0mappend\u001b[0m\u001b[0;34m(\u001b[0m\u001b[0mprecursor_finder\u001b[0m\u001b[0;34m(\u001b[0m\u001b[0mindexes\u001b[0m\u001b[0;34m[\u001b[0m\u001b[0mi\u001b[0m\u001b[0;34m]\u001b[0m\u001b[0;34m,\u001b[0m \u001b[0mrels\u001b[0m\u001b[0;34m)\u001b[0m\u001b[0;34m)\u001b[0m\u001b[0;34m\u001b[0m\u001b[0;34m\u001b[0m\u001b[0m\n\u001b[0m\u001b[1;32m      8\u001b[0m     \u001b[0;32mreturn\u001b[0m\u001b[0;34m(\u001b[0m\u001b[0mindexes\u001b[0m\u001b[0;34m,\u001b[0m \u001b[0mprecursors\u001b[0m\u001b[0;34m)\u001b[0m\u001b[0;34m\u001b[0m\u001b[0;34m\u001b[0m\u001b[0m\n",
      "\u001b[0;32m<ipython-input-109-fdf6edf49f9f>\u001b[0m in \u001b[0;36mprecursor_finder\u001b[0;34m(index, rels)\u001b[0m\n\u001b[1;32m      2\u001b[0m     \u001b[0mprecursors\u001b[0m \u001b[0;34m=\u001b[0m \u001b[0;34m[\u001b[0m\u001b[0;34m]\u001b[0m\u001b[0;34m\u001b[0m\u001b[0;34m\u001b[0m\u001b[0m\n\u001b[1;32m      3\u001b[0m     \u001b[0;32mfor\u001b[0m \u001b[0mi\u001b[0m \u001b[0;32min\u001b[0m \u001b[0mrange\u001b[0m\u001b[0;34m(\u001b[0m\u001b[0mlen\u001b[0m\u001b[0;34m(\u001b[0m\u001b[0mrels\u001b[0m\u001b[0;34m[\u001b[0m\u001b[0;34m'Index'\u001b[0m\u001b[0;34m]\u001b[0m\u001b[0;34m)\u001b[0m\u001b[0;34m)\u001b[0m\u001b[0;34m:\u001b[0m\u001b[0;34m\u001b[0m\u001b[0;34m\u001b[0m\u001b[0m\n\u001b[0;32m----> 4\u001b[0;31m         \u001b[0;32mif\u001b[0m \u001b[0mrels\u001b[0m\u001b[0;34m[\u001b[0m\u001b[0;34m'Index'\u001b[0m\u001b[0;34m]\u001b[0m\u001b[0;34m[\u001b[0m\u001b[0mi\u001b[0m\u001b[0;34m]\u001b[0m \u001b[0;34m==\u001b[0m \u001b[0mindex\u001b[0m\u001b[0;34m:\u001b[0m\u001b[0;34m\u001b[0m\u001b[0;34m\u001b[0m\u001b[0m\n\u001b[0m\u001b[1;32m      5\u001b[0m             \u001b[0mdummy\u001b[0m \u001b[0;34m=\u001b[0m \u001b[0mliteral_eval\u001b[0m\u001b[0;34m(\u001b[0m\u001b[0mrels\u001b[0m\u001b[0;34m[\u001b[0m\u001b[0;34m'Reagents'\u001b[0m\u001b[0;34m]\u001b[0m\u001b[0;34m[\u001b[0m\u001b[0mi\u001b[0m\u001b[0;34m]\u001b[0m\u001b[0;34m)\u001b[0m\u001b[0;34m\u001b[0m\u001b[0;34m\u001b[0m\u001b[0m\n\u001b[1;32m      6\u001b[0m             \u001b[0;32mfor\u001b[0m \u001b[0mj\u001b[0m \u001b[0;32min\u001b[0m \u001b[0mrange\u001b[0m\u001b[0;34m(\u001b[0m\u001b[0mlen\u001b[0m\u001b[0;34m(\u001b[0m\u001b[0mdummy\u001b[0m\u001b[0;34m)\u001b[0m\u001b[0;34m)\u001b[0m\u001b[0;34m:\u001b[0m\u001b[0;34m\u001b[0m\u001b[0;34m\u001b[0m\u001b[0m\n",
      "\u001b[0;32m/opt/anaconda3/envs/py4chemoinformatics/lib/python3.9/site-packages/pandas/core/series.py\u001b[0m in \u001b[0;36m__getitem__\u001b[0;34m(self, key)\u001b[0m\n\u001b[1;32m    851\u001b[0m \u001b[0;34m\u001b[0m\u001b[0m\n\u001b[1;32m    852\u001b[0m         \u001b[0;32melif\u001b[0m \u001b[0mkey_is_scalar\u001b[0m\u001b[0;34m:\u001b[0m\u001b[0;34m\u001b[0m\u001b[0;34m\u001b[0m\u001b[0m\n\u001b[0;32m--> 853\u001b[0;31m             \u001b[0;32mreturn\u001b[0m \u001b[0mself\u001b[0m\u001b[0;34m.\u001b[0m\u001b[0m_get_value\u001b[0m\u001b[0;34m(\u001b[0m\u001b[0mkey\u001b[0m\u001b[0;34m)\u001b[0m\u001b[0;34m\u001b[0m\u001b[0;34m\u001b[0m\u001b[0m\n\u001b[0m\u001b[1;32m    854\u001b[0m \u001b[0;34m\u001b[0m\u001b[0m\n\u001b[1;32m    855\u001b[0m         \u001b[0;32mif\u001b[0m \u001b[0mis_hashable\u001b[0m\u001b[0;34m(\u001b[0m\u001b[0mkey\u001b[0m\u001b[0;34m)\u001b[0m\u001b[0;34m:\u001b[0m\u001b[0;34m\u001b[0m\u001b[0;34m\u001b[0m\u001b[0m\n",
      "\u001b[0;32m/opt/anaconda3/envs/py4chemoinformatics/lib/python3.9/site-packages/pandas/core/series.py\u001b[0m in \u001b[0;36m_get_value\u001b[0;34m(self, label, takeable)\u001b[0m\n\u001b[1;32m    959\u001b[0m \u001b[0;34m\u001b[0m\u001b[0m\n\u001b[1;32m    960\u001b[0m         \u001b[0;31m# Similar to Index.get_value, but we do not fall back to positional\u001b[0m\u001b[0;34m\u001b[0m\u001b[0;34m\u001b[0m\u001b[0;34m\u001b[0m\u001b[0m\n\u001b[0;32m--> 961\u001b[0;31m         \u001b[0mloc\u001b[0m \u001b[0;34m=\u001b[0m \u001b[0mself\u001b[0m\u001b[0;34m.\u001b[0m\u001b[0mindex\u001b[0m\u001b[0;34m.\u001b[0m\u001b[0mget_loc\u001b[0m\u001b[0;34m(\u001b[0m\u001b[0mlabel\u001b[0m\u001b[0;34m)\u001b[0m\u001b[0;34m\u001b[0m\u001b[0;34m\u001b[0m\u001b[0m\n\u001b[0m\u001b[1;32m    962\u001b[0m         \u001b[0;32mreturn\u001b[0m \u001b[0mself\u001b[0m\u001b[0;34m.\u001b[0m\u001b[0mindex\u001b[0m\u001b[0;34m.\u001b[0m\u001b[0m_get_values_for_loc\u001b[0m\u001b[0;34m(\u001b[0m\u001b[0mself\u001b[0m\u001b[0;34m,\u001b[0m \u001b[0mloc\u001b[0m\u001b[0;34m,\u001b[0m \u001b[0mlabel\u001b[0m\u001b[0;34m)\u001b[0m\u001b[0;34m\u001b[0m\u001b[0;34m\u001b[0m\u001b[0m\n\u001b[1;32m    963\u001b[0m \u001b[0;34m\u001b[0m\u001b[0m\n",
      "\u001b[0;32m/opt/anaconda3/envs/py4chemoinformatics/lib/python3.9/site-packages/pandas/core/indexes/range.py\u001b[0m in \u001b[0;36mget_loc\u001b[0;34m(self, key, method, tolerance)\u001b[0m\n\u001b[1;32m    349\u001b[0m                 \u001b[0mnew_key\u001b[0m \u001b[0;34m=\u001b[0m \u001b[0mint\u001b[0m\u001b[0;34m(\u001b[0m\u001b[0mkey\u001b[0m\u001b[0;34m)\u001b[0m\u001b[0;34m\u001b[0m\u001b[0;34m\u001b[0m\u001b[0m\n\u001b[1;32m    350\u001b[0m                 \u001b[0;32mtry\u001b[0m\u001b[0;34m:\u001b[0m\u001b[0;34m\u001b[0m\u001b[0;34m\u001b[0m\u001b[0m\n\u001b[0;32m--> 351\u001b[0;31m                     \u001b[0;32mreturn\u001b[0m \u001b[0mself\u001b[0m\u001b[0;34m.\u001b[0m\u001b[0m_range\u001b[0m\u001b[0;34m.\u001b[0m\u001b[0mindex\u001b[0m\u001b[0;34m(\u001b[0m\u001b[0mnew_key\u001b[0m\u001b[0;34m)\u001b[0m\u001b[0;34m\u001b[0m\u001b[0;34m\u001b[0m\u001b[0m\n\u001b[0m\u001b[1;32m    352\u001b[0m                 \u001b[0;32mexcept\u001b[0m \u001b[0mValueError\u001b[0m \u001b[0;32mas\u001b[0m \u001b[0merr\u001b[0m\u001b[0;34m:\u001b[0m\u001b[0;34m\u001b[0m\u001b[0;34m\u001b[0m\u001b[0m\n\u001b[1;32m    353\u001b[0m                     \u001b[0;32mraise\u001b[0m \u001b[0mKeyError\u001b[0m\u001b[0;34m(\u001b[0m\u001b[0mkey\u001b[0m\u001b[0;34m)\u001b[0m \u001b[0;32mfrom\u001b[0m \u001b[0merr\u001b[0m\u001b[0;34m\u001b[0m\u001b[0;34m\u001b[0m\u001b[0m\n",
      "\u001b[0;31mKeyboardInterrupt\u001b[0m: "
     ]
    }
   ],
   "source": [
    "%%time\n",
    "a = pathway_finder('./MatchesFiles/FormoseMatches.tsv', 'Formose', 1, 5)"
   ]
  },
  {
   "cell_type": "code",
   "execution_count": 22,
   "id": "228b0e7b",
   "metadata": {},
   "outputs": [
    {
     "data": {
      "text/plain": [
       "0    [28_0, 4_0]\n",
       "1    [28_0, 4_1]\n",
       "Name: Reaction IDs, dtype: object"
      ]
     },
     "execution_count": 22,
     "metadata": {},
     "output_type": "execute_result"
    }
   ],
   "source": [
    "a['Reaction IDs']"
   ]
  },
  {
   "cell_type": "code",
   "execution_count": 23,
   "id": "5762be7c",
   "metadata": {},
   "outputs": [
    {
     "data": {
      "text/plain": [
       "0   -63.01\n",
       "1   -63.01\n",
       "Name: Energy Change, dtype: float64"
      ]
     },
     "execution_count": 23,
     "metadata": {},
     "output_type": "execute_result"
    }
   ],
   "source": [
    "a['Energy Change']"
   ]
  },
  {
   "cell_type": "code",
   "execution_count": 59,
   "id": "0c66ba2d",
   "metadata": {},
   "outputs": [],
   "source": [
    "def parser(string): #read in paths from csv file and display nicely\n",
    "    chars = list(string)\n",
    "    newline_indexes = []\n",
    "    for i in range(len(chars)):\n",
    "        if chars[i] == '\\n':\n",
    "            newline_indexes.append(i)\n",
    "    dummy = ''\n",
    "    for i in range(0, newline_indexes[0]):\n",
    "        dummy += chars[i]\n",
    "    print(dummy)\n",
    "    for i in range(len(newline_indexes)-1):\n",
    "        dummy = ''\n",
    "        for j in range(newline_indexes[i]+1, newline_indexes[i+1]):\n",
    "            dummy += chars[j]\n",
    "        print(dummy)"
   ]
  },
  {
   "cell_type": "code",
   "execution_count": 572,
   "id": "1799933d",
   "metadata": {},
   "outputs": [],
   "source": [
    "df1 = pd.read_csv('./TestDF.csv', sep='\\t')"
   ]
  },
  {
   "cell_type": "code",
   "execution_count": 575,
   "id": "e4f2ce32",
   "metadata": {},
   "outputs": [
    {
     "name": "stdout",
     "output_type": "stream",
     "text": [
      "A\n",
      "├── D\n",
      "│   └── I\n",
      "└── E\n",
      "    └── K\n"
     ]
    }
   ],
   "source": [
    "parser(df1['Tree'][0])"
   ]
  }
 ],
 "metadata": {
  "kernelspec": {
   "display_name": "Python 3",
   "language": "python",
   "name": "python3"
  },
  "language_info": {
   "codemirror_mode": {
    "name": "ipython",
    "version": 3
   },
   "file_extension": ".py",
   "mimetype": "text/x-python",
   "name": "python",
   "nbconvert_exporter": "python",
   "pygments_lexer": "ipython3",
   "version": "3.9.5"
  }
 },
 "nbformat": 4,
 "nbformat_minor": 5
}
