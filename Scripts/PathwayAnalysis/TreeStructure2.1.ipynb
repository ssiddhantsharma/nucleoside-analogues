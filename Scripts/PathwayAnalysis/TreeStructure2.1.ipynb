{
 "cells": [
  {
   "cell_type": "markdown",
   "id": "6611096a",
   "metadata": {},
   "source": [
    "Using updated rels files, energies"
   ]
  },
  {
   "cell_type": "code",
   "execution_count": 1,
   "id": "99017f0e",
   "metadata": {},
   "outputs": [],
   "source": [
    "from openbabel import openbabel"
   ]
  },
  {
   "cell_type": "code",
   "execution_count": 2,
   "id": "3456a4d6",
   "metadata": {},
   "outputs": [],
   "source": [
    "from rdkit import Chem\n",
    "from rdkit.Chem import rdBase\n",
    "from rdkit.Chem import Draw\n",
    "from rdkit.Chem.Draw import IPythonConsole\n",
    "from rdkit.Chem import Descriptors\n",
    "from rdkit.Chem import Crippen"
   ]
  },
  {
   "cell_type": "code",
   "execution_count": 3,
   "id": "3dd9631d",
   "metadata": {},
   "outputs": [],
   "source": [
    "import pandas as pd\n",
    "import matplotlib.pyplot as plt\n",
    "import numpy as np\n",
    "import scipy.stats as ss"
   ]
  },
  {
   "cell_type": "code",
   "execution_count": 4,
   "id": "1830b879",
   "metadata": {},
   "outputs": [],
   "source": [
    "from treelib import Node, Tree"
   ]
  },
  {
   "cell_type": "code",
   "execution_count": 19,
   "id": "c9706eb3",
   "metadata": {},
   "outputs": [],
   "source": [
    "from ast import literal_eval"
   ]
  },
  {
   "cell_type": "code",
   "execution_count": 25,
   "id": "558cf8ba",
   "metadata": {},
   "outputs": [],
   "source": [
    "class Molecule(object):\n",
    "    def __init__(self, path):\n",
    "        self.path = path"
   ]
  },
  {
   "cell_type": "code",
   "execution_count": 6,
   "id": "4ec9a3ad",
   "metadata": {},
   "outputs": [],
   "source": [
    "def split(word):\n",
    "    return[char for char in word]"
   ]
  },
  {
   "cell_type": "code",
   "execution_count": 29,
   "id": "d3528f8d",
   "metadata": {},
   "outputs": [],
   "source": [
    "def index_finder(Product, rels, path):\n",
    "    indexes = []\n",
    "    energies = []\n",
    "    for i in range(len(rels['Index'])):\n",
    "        place = literal_eval(rels['Products'][i])\n",
    "        for j in range(len(place)):\n",
    "            if place[j] == Product:\n",
    "                indexes.append(rels['Index'][i])\n",
    "                energies.append(rels['Energy Change'][i])\n",
    "    final_index = 0\n",
    "    final_energy = 10e10\n",
    "    for i in range(len(indexes)):\n",
    "        if energies[i] < final_energy:\n",
    "            valid = True\n",
    "            precursors = precursor_finder(indexes[i], rels)\n",
    "            for j in range(len(precursors)):\n",
    "                if precursors[j] in path:\n",
    "                    valid = False\n",
    "                    break\n",
    "            if valid == True:\n",
    "                final_index = indexes[i]\n",
    "                final_energy = energies[i] \n",
    "    return(final_index, final_energy)"
   ]
  },
  {
   "cell_type": "code",
   "execution_count": 31,
   "id": "80123cf6",
   "metadata": {},
   "outputs": [],
   "source": [
    "def precursor_finder(index, rels):\n",
    "    precursors = []\n",
    "    for i in range(len(rels['Index'])):\n",
    "        if rels['Index'][i] == index:\n",
    "            dummy = literal_eval(rels['Reagents'][i])\n",
    "            for j in range(len(dummy)):\n",
    "                precursors.append(dummy[j])\n",
    "    return(precursors)"
   ]
  },
  {
   "cell_type": "code",
   "execution_count": 32,
   "id": "83650c40",
   "metadata": {},
   "outputs": [],
   "source": [
    "def find_component(node, rels):\n",
    "    Product = node.tag\n",
    "    path = split((node.data).path)\n",
    "    index, energy_change = index_finder(Product, rels, path)\n",
    "    precursors = precursor_finder(index, rels)\n",
    "    return(precursors, energy_change)"
   ]
  },
  {
   "cell_type": "code",
   "execution_count": 37,
   "id": "eeb242e2",
   "metadata": {},
   "outputs": [],
   "source": [
    "def map_tree(Smiles, rels):\n",
    "    rels = pd.read_csv(rels, sep='\\t')\n",
    "    base_molecules = ['A', 'B', 'C']\n",
    "    tree = Tree()\n",
    "    tree.create_node(Smiles, 0, data=Molecule(Smiles))\n",
    "    \n",
    "    finished = False\n",
    "    level_counter = 0\n",
    "    node_counter = 0\n",
    "    path_energy = 0\n",
    "    while finished == False:\n",
    "        nodes = tree.all_nodes()\n",
    "        active_nodes = []\n",
    "        for i in range(len(nodes)):\n",
    "            tag = nodes[i].tag\n",
    "            level = tree.depth(nodes[i])\n",
    "            if level == level_counter and tag not in base_molecules:\n",
    "                active_nodes.append(nodes[i])\n",
    "        if active_nodes == []:\n",
    "            finished = True\n",
    "            break\n",
    "        else:\n",
    "            for i in range(len(active_nodes)):\n",
    "                precursors, energy_change = find_component(active_nodes[i], rels)\n",
    "                path_energy += energy_change\n",
    "                product = active_nodes[i].identifier\n",
    "                dummy = (active_nodes[i].data).path\n",
    "                place = []\n",
    "                for k in range(len(dummy)):\n",
    "                    place.append(dummy[k])\n",
    "                for j in range(len(precursors)):\n",
    "                    node_counter +=1\n",
    "                    tree.create_node(precursors[j], node_counter, parent=product, data=Molecule(place + [precursors[j]]))\n",
    "            level_counter+=1\n",
    "    return(tree, path_energy)"
   ]
  },
  {
   "cell_type": "code",
   "execution_count": 46,
   "id": "f8da44a9",
   "metadata": {},
   "outputs": [],
   "source": [
    "a, b = map_tree('F', './TestProcessedRels.tsv')"
   ]
  },
  {
   "cell_type": "code",
   "execution_count": 47,
   "id": "711246e7",
   "metadata": {},
   "outputs": [
    {
     "name": "stdout",
     "output_type": "stream",
     "text": [
      "F\n",
      "└── Z\n",
      "    └── A\n",
      "\n"
     ]
    }
   ],
   "source": [
    "a.show()"
   ]
  },
  {
   "cell_type": "code",
   "execution_count": 48,
   "id": "479797c7",
   "metadata": {},
   "outputs": [
    {
     "name": "stdout",
     "output_type": "stream",
     "text": [
      "F\n",
      "└── ['F', 'Z']\n",
      "    └── ['F', 'Z', 'A']\n",
      "\n"
     ]
    }
   ],
   "source": [
    "a.show(data_property='path')"
   ]
  },
  {
   "cell_type": "code",
   "execution_count": 49,
   "id": "afbc68f3",
   "metadata": {},
   "outputs": [
    {
     "data": {
      "text/plain": [
       "2"
      ]
     },
     "execution_count": 49,
     "metadata": {},
     "output_type": "execute_result"
    }
   ],
   "source": [
    "b"
   ]
  },
  {
   "cell_type": "code",
   "execution_count": null,
   "id": "1e58f7fe",
   "metadata": {},
   "outputs": [],
   "source": []
  }
 ],
 "metadata": {
  "kernelspec": {
   "display_name": "Python 3",
   "language": "python",
   "name": "python3"
  },
  "language_info": {
   "codemirror_mode": {
    "name": "ipython",
    "version": 3
   },
   "file_extension": ".py",
   "mimetype": "text/x-python",
   "name": "python",
   "nbconvert_exporter": "python",
   "pygments_lexer": "ipython3",
   "version": "3.9.5"
  }
 },
 "nbformat": 4,
 "nbformat_minor": 5
}
