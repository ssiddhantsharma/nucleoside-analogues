{
 "cells": [
  {
   "cell_type": "code",
   "execution_count": 49,
   "id": "239ae4f4",
   "metadata": {},
   "outputs": [],
   "source": [
    "from openbabel import openbabel"
   ]
  },
  {
   "cell_type": "code",
   "execution_count": 50,
   "id": "c642b5ca",
   "metadata": {},
   "outputs": [],
   "source": [
    "from rdkit import Chem\n",
    "from rdkit.Chem import rdBase\n",
    "from rdkit.Chem import Draw\n",
    "from rdkit.Chem.Draw import IPythonConsole\n",
    "from rdkit.Chem import Descriptors\n",
    "from rdkit.Chem import Crippen\n",
    "from rdkit import RDLogger    "
   ]
  },
  {
   "cell_type": "code",
   "execution_count": 51,
   "id": "235d7df0",
   "metadata": {},
   "outputs": [],
   "source": [
    "import pandas as pd\n",
    "import matplotlib.pyplot as plt\n",
    "import numpy as np\n",
    "import scipy.stats as ss"
   ]
  },
  {
   "cell_type": "code",
   "execution_count": 52,
   "id": "91504511",
   "metadata": {},
   "outputs": [],
   "source": [
    "RDLogger.DisableLog('rdApp.*')  "
   ]
  },
  {
   "cell_type": "code",
   "execution_count": 53,
   "id": "0d5bfee4",
   "metadata": {},
   "outputs": [],
   "source": [
    "path1 = './Matches_Files/NoStereoFormoseAmm.tsv'\n",
    "path2 = './Matches_Files/NoStereoFormoseFinal_CHNO.tsv'\n",
    "path3 = './Matches_Files/NoStereoGlucoseAmm.txt'\n",
    "path4 = './Matches_Files/NoStereoGlucoseFinal_CHNO.txt'\n",
    "path5 = './Matches_Files/NoStereoPyruvicAcid_CHNO.txt'"
   ]
  },
  {
   "cell_type": "code",
   "execution_count": 54,
   "id": "e7b6d347",
   "metadata": {},
   "outputs": [],
   "source": [
    "formoseammpath = './OriginalNetworkData/formose_amm_output.tsv'\n",
    "formosepath = './OriginalNetworkData/formose_output.tsv'\n",
    "glucoseammpath = './OriginalNetworkData/glucose_amm_output.tsv'\n",
    "glucosepath = './OriginalNetworkData/glucose_degradation_output.tsv'\n",
    "pyruvicacidpath = './OriginalNetworkData/pyruvic_output.tsv'"
   ]
  },
  {
   "cell_type": "code",
   "execution_count": 55,
   "id": "f958cebd",
   "metadata": {},
   "outputs": [],
   "source": [
    "hmdbpath = \"./Databases/hmdb.sdf\"\n",
    "hmdb=Chem.SDMolSupplier(hmdbpath)  # Load sdf"
   ]
  },
  {
   "cell_type": "code",
   "execution_count": 56,
   "id": "e51bc8ea",
   "metadata": {},
   "outputs": [],
   "source": [
    "keggpath = './Databases/kegg.tsv'"
   ]
  },
  {
   "cell_type": "code",
   "execution_count": 57,
   "id": "9d79c7a1",
   "metadata": {},
   "outputs": [],
   "source": [
    "ecmdbpath = './Databases/ecmdbResaved.sdf'"
   ]
  },
  {
   "cell_type": "code",
   "execution_count": 58,
   "id": "889376d1",
   "metadata": {},
   "outputs": [],
   "source": [
    "def molweight(array, position):\n",
    "    Smi = array[position]\n",
    "    mol = Chem.MolFromSmiles(Smi)\n",
    "    weight = Descriptors.ExactMolWt(mol)\n",
    "    return(weight)"
   ]
  },
  {
   "cell_type": "code",
   "execution_count": 59,
   "id": "312d2a29",
   "metadata": {},
   "outputs": [],
   "source": [
    "def maximum_mass(matches, position):\n",
    "    matches_data = pd.read_csv(matches, sep='\\t')\n",
    "    matches_data['Molecular Weight'] = matches_data.apply(molweight, axis=1, raw=True, result_type='expand', args=[position])\n",
    "    max_mass = max(matches_data['Molecular Weight'])\n",
    "    return(max_mass)"
   ]
  },
  {
   "cell_type": "code",
   "execution_count": 60,
   "id": "7fd34d34",
   "metadata": {},
   "outputs": [],
   "source": [
    "def db_parse(smiles_list, matches, position):\n",
    "    max_mass = maximum_mass(matches, position)\n",
    "    valid_smiles = []\n",
    "    for i in range(len(smiles_list)):\n",
    "        try:\n",
    "            mol = Chem.MolFromSmiles(smiles_list[i])\n",
    "            weight = Descriptors.ExactMolWt(mol)\n",
    "            if weight <= max_mass:\n",
    "                valid_smiles.append(smiles_list[i])\n",
    "        except:\n",
    "            print()\n",
    "    valid_data = {'Smiles': valid_smiles}\n",
    "    df = pd.DataFrame(valid_data)\n",
    "    return(df)"
   ]
  },
  {
   "cell_type": "code",
   "execution_count": 61,
   "id": "2f5403a2",
   "metadata": {},
   "outputs": [],
   "source": [
    "def split(word):\n",
    "    return[char for char in word]"
   ]
  },
  {
   "cell_type": "code",
   "execution_count": 62,
   "id": "39d27f8d",
   "metadata": {},
   "outputs": [],
   "source": [
    "def inchi(array):\n",
    "    Smiles = array[0] \n",
    "    mol = Chem.MolFromSmiles(Smiles)\n",
    "    dummy = Chem.inchi.MolToInchiKey(mol)#split at first layer (contains everything but stereochemical info)\n",
    "    characters = split(dummy)\n",
    "    dummy = ''\n",
    "    position = 0\n",
    "    for i in range(len(characters)):\n",
    "        if characters[i] == '-':\n",
    "            position = i\n",
    "            break\n",
    "    for i in range(position):\n",
    "        dummy += characters[i]\n",
    "    return(dummy)"
   ]
  },
  {
   "cell_type": "code",
   "execution_count": 63,
   "id": "53bbf339",
   "metadata": {
    "scrolled": true
   },
   "outputs": [],
   "source": [
    "def inchi_generations(array):\n",
    "    Smiles = array[1]\n",
    "    mol = Chem.MolFromSmiles(Smiles)\n",
    "    dummy = Chem.inchi.MolToInchiKey(mol)#split at first layer (contains everything but stereochemical info)\n",
    "    characters = split(dummy)\n",
    "    dummy = ''\n",
    "    position = 0\n",
    "    for i in range(len(characters)):\n",
    "        if characters[i] == '-':\n",
    "            position = i\n",
    "            break\n",
    "    for i in range(position):\n",
    "        dummy += characters[i]\n",
    "    return(dummy)"
   ]
  },
  {
   "cell_type": "code",
   "execution_count": 64,
   "id": "6340543a",
   "metadata": {},
   "outputs": [],
   "source": [
    "def prep_data(library_set, test_set): #input filepaths for the 2 sets as tsv files\n",
    "    test_data = pd.read_csv(test_set, sep='\\t')\n",
    "    library_data = library_set\n",
    "    test_data['Inchi'] = test_data.apply(inchi_generations, axis=1, raw=True, result_type='expand')\n",
    "    library_data['Inchi'] = library_data.apply(inchi, axis=1, raw=True, result_type='expand')\n",
    "    #Using degeneracy removed datasets with Inchikey already found \n",
    "    return(library_data, test_data)"
   ]
  },
  {
   "cell_type": "code",
   "execution_count": 65,
   "id": "85c2f9e4",
   "metadata": {},
   "outputs": [],
   "source": [
    "def find_matches(library_set, test_set):\n",
    "    library_data, test_data = prep_data(library_set, test_set)\n",
    "    test_codes = []\n",
    "    for i in range(len(test_data['Inchi'])):\n",
    "        test_codes.append(test_data['Inchi'][i])\n",
    "    library_codes = []\n",
    "    for i in range(len(library_data['Inchi'])):\n",
    "        library_codes.append(library_data['Inchi'][i])\n",
    "    matches = []\n",
    "    for i in range(len(test_codes)):\n",
    "        if test_codes[i] in library_codes:\n",
    "            matches.append(test_codes[i])\n",
    "    test_smiles = []\n",
    "    library_smiles = []\n",
    "    matches_generations = []\n",
    "    for i in range(len(matches)):\n",
    "        for j in range(len(test_data['Inchi'])):\n",
    "            if matches[i] == test_data['Inchi'][j]:\n",
    "                test_smiles.append(test_data['Smiles'][j])\n",
    "                matches_generations.append(test_data['Generation'][j])\n",
    "                break\n",
    "        #for k in range(len(library_data['Inchi'])):\n",
    "            #if matches[i] == library_data['Inchi'][k]:\n",
    "                #library_smiles.append(library_data['Smiles'][k])\n",
    "    #matches_data = {'Generation': matches_generations, 'Test Smiles': test_smiles, 'Library Smiles': library_smiles, 'Inchi': matches}\n",
    "    matches_data = {'Generation': matches_generations, 'Smiles': test_smiles, 'Inchi': matches}\n",
    "    library_test_matches = pd.DataFrame(matches_data)\n",
    "    return(library_test_matches)"
   ]
  },
  {
   "cell_type": "code",
   "execution_count": 66,
   "id": "60a72837",
   "metadata": {},
   "outputs": [],
   "source": [
    "def prep_databasefromSDF(db_path, matches_path, position):\n",
    "    db = Chem.SDMolSupplier(db_path)\n",
    "    dbsmiles = []\n",
    "    for mol in db:\n",
    "        try:\n",
    "            dbsmiles.append(Chem.MolToSmiles(mol)) \n",
    "        except:\n",
    "            pass\n",
    "    df = db_parse(dbsmiles, matches_path, position)\n",
    "    return(df)"
   ]
  },
  {
   "cell_type": "code",
   "execution_count": 67,
   "id": "2e086274",
   "metadata": {},
   "outputs": [],
   "source": [
    "def prep_databasefromTSV(db_path, matches_path, position):\n",
    "    db = pd.read_csv(db_path, sep='\\t')\n",
    "    dbsmiles = []\n",
    "    for i in range(len(db['Smiles'])):\n",
    "        dbsmiles.append(db['Smiles'][i])\n",
    "    df = db_parse(dbsmiles, matches_path, position)\n",
    "    return(df)"
   ]
  },
  {
   "cell_type": "code",
   "execution_count": 68,
   "id": "a989930b",
   "metadata": {},
   "outputs": [],
   "source": [
    "def generations_counter(input_data, num_generations):\n",
    "    gen_data = np.zeros(num_generations+1)\n",
    "    value_data = np.zeros(num_generations+1)\n",
    "    \n",
    "    for i in range(len(gen_data)):\n",
    "        gen_data[i] = i\n",
    "        \n",
    "    for i in range(len(input_data['Generation'])):\n",
    "        dummy = split(input_data['Generation'][i])\n",
    "        value = int(dummy[-1])\n",
    "        value_data[value]+=1\n",
    "    \n",
    "    final_value_data = np.zeros(num_generations+1)\n",
    "    final_value_data[0] = value_data[0]\n",
    "    for i in range(1, len(value_data)):\n",
    "        final_value_data[i] += value_data[i]\n",
    "        for j in range(i):\n",
    "            final_value_data[i] += value_data[j]\n",
    "    \n",
    "    return(gen_data, final_value_data)"
   ]
  },
  {
   "cell_type": "code",
   "execution_count": 69,
   "id": "ce6d9a17",
   "metadata": {},
   "outputs": [],
   "source": [
    "def generations_plot(input_data, num_generations):\n",
    "    gen_data, final_value_data = generations_counter(input_data, num_generations)\n",
    "    plt.plot(gen_data, final_value_data, linestyle='--', marker='o')"
   ]
  },
  {
   "cell_type": "code",
   "execution_count": 70,
   "id": "6da9feba",
   "metadata": {},
   "outputs": [],
   "source": [
    "def database_data(prepped_db1, prepped_db2, prepped_db3, matches_path, network_path, num_generations):\n",
    "    db_matches1 = find_matches(prepped_db1, matches_path)\n",
    "    db_matches2 = find_matches(prepped_db2, matches_path)\n",
    "    db_matches3 = find_matches(prepped_db3, matches_path)\n",
    "    \n",
    "    gen_data1, final_value_data1 = generations_counter(db_matches1, num_generations)\n",
    "    gen_data2, final_value_data2 = generations_counter(db_matches2, num_generations)\n",
    "    gen_data3, final_value_data3 = generations_counter(db_matches3, num_generations)\n",
    "    gen_data4, final_value_data4 = generations_counter(pd.read_csv(matches_path, sep='\\t'), num_generations)\n",
    "    gen_data5, final_value_data5 = generations_counter(pd.read_csv(network_path, sep='\\t'), num_generations)\n",
    "    \n",
    "    database = {'Generation': gen_data1, 'HMDB': final_value_data1, 'Kegg': final_value_data2, 'ECMDB': final_value_data3, 'Computed Set': final_value_data4, 'Whole Network': final_value_data5}\n",
    "    df = pd.DataFrame(database)\n",
    "    return(df)"
   ]
  },
  {
   "cell_type": "code",
   "execution_count": 71,
   "id": "b5302202",
   "metadata": {},
   "outputs": [],
   "source": [
    "def database_maker(matches_path, network_path, num_generations, network_title):\n",
    "    prepped_db2 = prep_databasefromTSV(keggpath, matches_path, 1)\n",
    "    print(1)\n",
    "    prepped_db3 = prep_databasefromSDF(ecmdbpath, matches_path, 1)\n",
    "    print(2)\n",
    "    prepped_db1 = prep_databasefromSDF(hmdbpath, matches_path, 1)\n",
    "    print(3)\n",
    "\n",
    "    df = database_data(prepped_db1, prepped_db2, prepped_db3, matches_path, network_path, num_generations)\n",
    "    df.to_csv(f'{network_title}DatabaseMatches.tsv', header=None, index=None, sep='\\t', mode='a')\n",
    "    return(df)"
   ]
  },
  {
   "cell_type": "code",
   "execution_count": 76,
   "id": "0431eafe",
   "metadata": {
    "scrolled": true
   },
   "outputs": [
    {
     "name": "stdout",
     "output_type": "stream",
     "text": [
      "\n",
      "\n",
      "\n",
      "\n",
      "\n",
      "1\n",
      "2\n",
      "\n",
      "\n",
      "3\n",
      "CPU times: user 2min 27s, sys: 1.25 s, total: 2min 28s\n",
      "Wall time: 2min 30s\n"
     ]
    }
   ],
   "source": [
    "%%time\n",
    "df = database_maker(path5, pyruvicacidpath, 6, 'PyruvicAcid')"
   ]
  },
  {
   "cell_type": "code",
   "execution_count": 41,
   "id": "09ba58dc",
   "metadata": {},
   "outputs": [],
   "source": [
    "def database_plotter(hits_path, network_title, num_generations):\n",
    "    my_csv = pd.read_csv(hits_path, sep='\\t')\n",
    "    x_values = my_csv['Generation']\n",
    "    fig = plt.figure(figsize=(6.5,6.5))\n",
    "    plt.plot(x_values, my_csv['Computed Set'], 'ro-', label='Computed Set',linewidth=3.5, markerfacecolor='black', markeredgewidth=2,\n",
    "         markersize=8,)\n",
    "    plt.plot(x_values, my_csv['HMDB'], 'bo-', label='HMDB', linewidth=1.5, markerfacecolor='black', markeredgewidth=2,\n",
    "         markersize=7,)\n",
    "    plt.plot(x_values, my_csv['KEGG'], 'go-', label='KEGG', linewidth=1.5, markerfacecolor='black', markeredgewidth=2,\n",
    "         markersize=7,)\n",
    "    plt.plot(x_values, my_csv['ECMDB'], 'mo-', label='ECMDB', linewidth=1.5, markerfacecolor='black', markeredgewidth=2,\n",
    "         markersize=7,)\n",
    "    plt.legend(loc='upper left', bbox_to_anchor=(0.02, 0.99), fontsize=11)\n",
    "    plt.xticks(np.arange(0, num_generations+1, step=1))\n",
    "    axes = plt.gca()\n",
    "    #axes.set_xlim([xmin,xmax])\n",
    "    axes.set_ylim([-1,10e3])\n",
    "    plt.ylabel('Number of molecules', fontsize=14)\n",
    "    plt.xlabel('Generation', fontsize=14)\n",
    "    plt.yscale('symlog')\n",
    "    plt.title(f'Plot of {network_title} matches hits with HMDB, KEGG and ECMDB databases')\n",
    "    plt.show()"
   ]
  },
  {
   "cell_type": "code",
   "execution_count": 81,
   "id": "fea33fdf",
   "metadata": {},
   "outputs": [
    {
     "data": {
      "image/png": "[encoded data removed]",
      "text/plain": [
       "<Figure size 468x468 with 1 Axes>"
      ]
     },
     "metadata": {
      "needs_background": "light"
     },
     "output_type": "display_data"
    },
    {
     "name": "stdout",
     "output_type": "stream",
     "text": [
      "CPU times: user 189 ms, sys: 8.33 ms, total: 198 ms\n",
      "Wall time: 205 ms\n"
     ]
    }
   ],
   "source": [
    "%%time\n",
    "database_plotter('./DatabaseMatches/PyruvicAcidDatabaseMatches.tsv', 'Pyruvic Acid', 6)"
   ]
  },
  {
   "cell_type": "code",
   "execution_count": null,
   "id": "a3b0f5e1",
   "metadata": {},
   "outputs": [],
   "source": []
  }
 ],
 "metadata": {
  "kernelspec": {
   "display_name": "Python 3",
   "language": "python",
   "name": "python3"
  },
  "language_info": {
   "codemirror_mode": {
    "name": "ipython",
    "version": 3
   },
   "file_extension": ".py",
   "mimetype": "text/x-python",
   "name": "python",
   "nbconvert_exporter": "python",
   "pygments_lexer": "ipython3",
   "version": "3.9.4"
  }
 },
 "nbformat": 4,
 "nbformat_minor": 5
}
