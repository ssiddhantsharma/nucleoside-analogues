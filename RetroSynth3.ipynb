{
 "cells": [
  {
   "cell_type": "code",
   "execution_count": 1,
   "id": "37c97d0e",
   "metadata": {},
   "outputs": [],
   "source": [
    "from openbabel import openbabel"
   ]
  },
  {
   "cell_type": "code",
   "execution_count": 2,
   "id": "bd863c85",
   "metadata": {},
   "outputs": [],
   "source": [
    "from rdkit import Chem\n",
    "from rdkit.Chem import rdBase\n",
    "from rdkit.Chem import Draw\n",
    "from rdkit.Chem.Draw import IPythonConsole\n",
    "from rdkit.Chem import Descriptors\n",
    "from rdkit.Chem import Crippen"
   ]
  },
  {
   "cell_type": "code",
   "execution_count": 3,
   "id": "d55ba704",
   "metadata": {},
   "outputs": [],
   "source": [
    "import pandas as pd\n",
    "import matplotlib.pyplot as plt\n",
    "import numpy as np\n",
    "import scipy.stats as ss"
   ]
  },
  {
   "cell_type": "code",
   "execution_count": 4,
   "id": "c3dc75d7",
   "metadata": {},
   "outputs": [],
   "source": [
    "#matches_data = pd.read_csv('./MatchedDataNoStereo/FormoseAmm/NoStereoFormoseAmm.tsv', sep='\\t')"
   ]
  },
  {
   "cell_type": "code",
   "execution_count": 5,
   "id": "29aefeb6",
   "metadata": {},
   "outputs": [],
   "source": [
    "#FormoseAmm_rels = pd.read_csv('./FormoseAmmData/FormoseAmm_rels.tsv', sep='\\t')"
   ]
  },
  {
   "cell_type": "code",
   "execution_count": 6,
   "id": "4dbe1d9d",
   "metadata": {},
   "outputs": [],
   "source": [
    "def split(word):\n",
    "    return[char for char in word]"
   ]
  },
  {
   "cell_type": "code",
   "execution_count": 7,
   "id": "82cec11b",
   "metadata": {},
   "outputs": [],
   "source": [
    "def index_finder(Smiles, pathway, rels_data):\n",
    "    index = 0\n",
    "    rule = 0\n",
    "    for i in range(len(rels_data['Reagent'])):\n",
    "        if rels_data['Reagent'][i] == Smiles and rels_data['Formed/Produced'][i] == 1 and precursor_finder(rels_data['Index'][i], rels_data) not in pathway and precursor_finder(rels_data['Index'][i], rels_data) != rels_data['Reagent'][i]:\n",
    "            index = rels_data['Index'][i] \n",
    "            rule = rels_data['Rule'][i]\n",
    "            break\n",
    "    return(index, rule)"
   ]
  },
  {
   "cell_type": "code",
   "execution_count": 8,
   "id": "6d8f9c06",
   "metadata": {},
   "outputs": [],
   "source": [
    "def precursor_finder(index, rels_data):\n",
    "    precursor = 0\n",
    "    for i in range(len(rels_data['Index'])):\n",
    "        if rels_data['Index'][i] == index and rels_data['Formed/Produced'][i] == -1:\n",
    "            precursor = rels_data['Reagent'][i]\n",
    "            break\n",
    "    return(precursor)"
   ]
  },
  {
   "cell_type": "code",
   "execution_count": 9,
   "id": "ec4dc8cb",
   "metadata": {},
   "outputs": [],
   "source": [
    "def pathway_finder(Smiles, rels_data):\n",
    "    pathway = [Smiles]\n",
    "    #G0 = ['N', 'C=O', 'C(CO)=O', 'O']\n",
    "    G0 = ['C=O', 'C(CO)=O']\n",
    "    pathway_complete = False\n",
    "    while pathway_complete == False:\n",
    "        index = 0\n",
    "        rule = 0\n",
    "        index, rule = index_finder(pathway[-1], pathway, rels_data)\n",
    "        if index == 0 or pathway[-1] in G0:\n",
    "            pathway_complete == True\n",
    "            break\n",
    "        else:\n",
    "            precursor = precursor_finder(index, rels_data)\n",
    "            precursors = []\n",
    "            products = []\n",
    "            for i in range(len(rels_data['Index'])):\n",
    "                if rels_data['Index'][i] == index and rels_data['Formed/Produced'][i] == -1:\n",
    "                    precursors.append(rels_data['Reagent'][i])\n",
    "                elif rels_data['Index'][i] == index and rels_data['Formed/Produced'][i] == 1:\n",
    "                    products.append(rels_data['Reagent'][i])\n",
    "            reagents = ''\n",
    "            if len(precursors) == 0:\n",
    "                reagents += f'{precursors}[0]'\n",
    "            else:\n",
    "                for i in range(len(precursors)-1):\n",
    "                    reagents += f'{precursors[i]} + '\n",
    "                reagents += f'{precursors[-1]}'\n",
    "            produced = ''\n",
    "            if len(products) == 0:\n",
    "                produced += f'{products}[0]'\n",
    "            else:\n",
    "                for i in range(len(products)-1):\n",
    "                    produced += f'{products[i]} + '\n",
    "                produced += f'{products[-1]}'\n",
    "            pathway.append([index, rule, reagents, '->', produced])\n",
    "            pathway.append(precursor)\n",
    "    return(pathway)"
   ]
  },
  {
   "cell_type": "code",
   "execution_count": 10,
   "id": "a653dfa7",
   "metadata": {},
   "outputs": [],
   "source": [
    "def pathways(matches, rels):\n",
    "    matches_data = pd.read_csv(matches, sep='\\t')\n",
    "    rels_data = pd.read_csv(rels, sep='\\t')\n",
    "    pathways = []\n",
    "    for i in range(1): #len(matches_data['Smiles'])\n",
    "        pathways.append((pathway_finder(matches_data['Smiles'][i], rels_data)))\n",
    "        print(i)\n",
    "    #G0 = ['N', 'C=O', 'C(CO)=O', 'O']\n",
    "    G0 = ['C=O', 'C(CO)=O']\n",
    "    counter = 0\n",
    "    for i in range(len(pathways)): \n",
    "        if pathways[i][-1] not in G0:\n",
    "            counter +=1\n",
    "    print(f'Errors = {counter}')\n",
    "    print(f'No. matches = {len(pathways)}')\n",
    "    #matches_data['Pathways'] = pathways\n",
    "    return(pathways)"
   ]
  },
  {
   "cell_type": "code",
   "execution_count": 25,
   "id": "5aa51797",
   "metadata": {},
   "outputs": [
    {
     "name": "stdout",
     "output_type": "stream",
     "text": [
      "0\n",
      "Errors = 0\n",
      "No. matches = 1\n",
      "CPU times: user 21.7 s, sys: 78.6 ms, total: 21.8 s\n",
      "Wall time: 21.9 s\n"
     ]
    }
   ],
   "source": [
    "%%time\n",
    "a = pathways('./MatchedDataNoStereo/PyruvicAcid/NoStereoPyruvicAcid_CHNO.tsv', './PyruvicAcidData/PyruvicAcid_rels.tsv')\n",
    "#df.to_csv(r'PyruvicAcidPathways.tsv', header=None, index=None, sep='\\t', mode='a') "
   ]
  },
  {
   "cell_type": "code",
   "execution_count": 26,
   "id": "b08360a0",
   "metadata": {},
   "outputs": [
    {
     "data": {
      "text/plain": [
       "[['C(C(CO)O)(O)=O',\n",
       "  ['5_0', 'Hydration of C(=O)C', 'C(C(C)=O)(O)=O + O', '->', 'C(C(CO)O)(O)=O'],\n",
       "  'C(C(C)=O)(O)=O',\n",
       "  ['23_0',\n",
       "   'Retro Aldol',\n",
       "   'C(C(C)(CC(C(O)=O)=O)O)(O)=O',\n",
       "   '->',\n",
       "   'C(C(C)=O)(O)=O + C(C(C)=O)(O)=O'],\n",
       "  'C(C(C)(CC(C(O)=O)=O)O)(O)=O',\n",
       "  ['150_0',\n",
       "   'Benzilic Acid Rearrangement',\n",
       "   'O + C(C(O)=O)(CC(C(C)=O)=O)=O',\n",
       "   '->',\n",
       "   'C(C(C)(CC(C(O)=O)=O)O)(O)=O'],\n",
       "  'O',\n",
       "  ['153_0',\n",
       "   'Benzilic Acid Rearrangement (inverse)',\n",
       "   'C(C(C)(CC=O)O)(O)=O',\n",
       "   '->',\n",
       "   'O + C(CC(C(C)=O)=O)=O'],\n",
       "  'C(C(C)(CC=O)O)(O)=O',\n",
       "  ['973_0',\n",
       "   'Retro Aldol',\n",
       "   'C(C(CO)C(C(O)=O)(C)O)=O',\n",
       "   '->',\n",
       "   'C(C(C)(CC=O)O)(O)=O + C=O'],\n",
       "  'C(C(CO)C(C(O)=O)(C)O)=O',\n",
       "  ['8845_0',\n",
       "   'Retro Aldol',\n",
       "   'C(C(CO)(CO)C(C(O)=O)(C)O)=O',\n",
       "   '->',\n",
       "   'C=O + C(C(CO)C(C(O)=O)(C)O)=O'],\n",
       "  'C(C(CO)(CO)C(C(O)=O)(C)O)=O',\n",
       "  ['1509_0',\n",
       "   'Knoevenagel C',\n",
       "   'C=O + C(C(CO)C(C(O)=O)(C)O)=O',\n",
       "   '->',\n",
       "   'C(C(CO)(CO)C(C(O)=O)(C)O)=O'],\n",
       "  'C=O']]"
      ]
     },
     "execution_count": 26,
     "metadata": {},
     "output_type": "execute_result"
    }
   ],
   "source": [
    "a"
   ]
  },
  {
   "cell_type": "code",
   "execution_count": 15,
   "id": "5f9975fa",
   "metadata": {},
   "outputs": [],
   "source": [
    "FormoseAmm = pd.read_csv('./FormoseAmmData/FormoseAmm_rels.tsv', sep='\\t')"
   ]
  },
  {
   "cell_type": "code",
   "execution_count": 23,
   "id": "2f69fbf5",
   "metadata": {},
   "outputs": [],
   "source": [
    "indexes = []\n",
    "for i in range(len(FormoseAmm['Reagent'])):\n",
    "    if FormoseAmm['Reagent'][i] == 'C(C(C(C(C(CO)O)O)O)N)=O' and FormoseAmm['Formed/Produced'][i] == 1:\n",
    "        indexes.append(FormoseAmm['Index'][i])"
   ]
  },
  {
   "cell_type": "code",
   "execution_count": 24,
   "id": "2d57cab1",
   "metadata": {},
   "outputs": [
    {
     "data": {
      "text/plain": [
       "['21_0',\n",
       " '21_1',\n",
       " '17530_0',\n",
       " '29108_0',\n",
       " '34477_0',\n",
       " '34478_0',\n",
       " '34479_0',\n",
       " '34480_0',\n",
       " '34481_0',\n",
       " '34482_0',\n",
       " '34483_0',\n",
       " '34484_0',\n",
       " '34485_0',\n",
       " '34486_0',\n",
       " '34487_0',\n",
       " '34488_0',\n",
       " '34489_0',\n",
       " '34490_0',\n",
       " '34491_0',\n",
       " '34492_0',\n",
       " '34493_0',\n",
       " '34494_0',\n",
       " '34495_0',\n",
       " '34496_0',\n",
       " '34497_0',\n",
       " '34498_0',\n",
       " '34499_0',\n",
       " '34500_0',\n",
       " '34501_0',\n",
       " '34502_0',\n",
       " '34503_0',\n",
       " '34504_0',\n",
       " '34505_0',\n",
       " '34506_0',\n",
       " '41743_0',\n",
       " '41743_1',\n",
       " '41902_0',\n",
       " '41904_0',\n",
       " '41906_0',\n",
       " '41912_0',\n",
       " '42032_0',\n",
       " '42033_0',\n",
       " '49754_0',\n",
       " '51429_0',\n",
       " '51440_0',\n",
       " '51444_0',\n",
       " '53311_0',\n",
       " '53584_0',\n",
       " '53846_0',\n",
       " '54394_0',\n",
       " '54513_0',\n",
       " '54632_0',\n",
       " '73436_0',\n",
       " '73438_0',\n",
       " '73440_0',\n",
       " '73442_0',\n",
       " '73444_0',\n",
       " '73446_0',\n",
       " '73448_0',\n",
       " '73450_0',\n",
       " '73452_0',\n",
       " '73454_0',\n",
       " '73456_0',\n",
       " '73458_0',\n",
       " '73460_0',\n",
       " '73462_0',\n",
       " '73464_0',\n",
       " '73466_0',\n",
       " '73468_0',\n",
       " '73470_0',\n",
       " '73472_0',\n",
       " '73474_0',\n",
       " '73476_0',\n",
       " '73478_0',\n",
       " '73480_0',\n",
       " '73482_0',\n",
       " '73484_0',\n",
       " '73486_0',\n",
       " '73488_0',\n",
       " '73490_0',\n",
       " '73492_0',\n",
       " '73494_0',\n",
       " '97721_0']"
      ]
     },
     "execution_count": 24,
     "metadata": {},
     "output_type": "execute_result"
    }
   ],
   "source": [
    "indexes"
   ]
  },
  {
   "cell_type": "code",
   "execution_count": null,
   "id": "b38b9441",
   "metadata": {},
   "outputs": [],
   "source": []
  }
 ],
 "metadata": {
  "kernelspec": {
   "display_name": "Python 3",
   "language": "python",
   "name": "python3"
  },
  "language_info": {
   "codemirror_mode": {
    "name": "ipython",
    "version": 3
   },
   "file_extension": ".py",
   "mimetype": "text/x-python",
   "name": "python",
   "nbconvert_exporter": "python",
   "pygments_lexer": "ipython3",
   "version": "3.9.4"
  }
 },
 "nbformat": 4,
 "nbformat_minor": 5
}
