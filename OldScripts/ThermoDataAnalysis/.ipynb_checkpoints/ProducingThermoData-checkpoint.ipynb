{
 "cells": [
  {
   "cell_type": "code",
   "execution_count": null,
   "id": "d05f6261",
   "metadata": {},
   "outputs": [],
   "source": [
    "#%env PATH=$PATH:~/Documents/Exeter_Careers/Year_1/Applications/BMSIS_internship/Project/nucleoside-analogues/Scripts/ThermoDataAnalysis/bin"
   ]
  },
  {
   "cell_type": "code",
   "execution_count": 1,
   "id": "a7072883",
   "metadata": {
    "scrolled": true
   },
   "outputs": [
    {
     "data": {
      "text/plain": [
       "{'TERM_PROGRAM': 'Apple_Terminal',\n",
       " 'SHELL': '/bin/bash',\n",
       " 'TERM': 'xterm-color',\n",
       " 'TMPDIR': '/var/folders/md/0kj77pss22d_nlf41c04tqr00000gp/T/',\n",
       " 'CONDA_SHLVL': '2',\n",
       " 'Apple_PubSub_Socket_Render': '/private/tmp/com.apple.launchd.Nysxer1pcY/Render',\n",
       " 'CONDA_PROMPT_MODIFIER': '(py4chemoinformatics) ',\n",
       " 'TERM_PROGRAM_VERSION': '421.2',\n",
       " 'GSETTINGS_SCHEMA_DIR_CONDA_BACKUP': '',\n",
       " 'TERM_SESSION_ID': '0458D69F-6E79-4E88-BF43-ED5D9A1951EB',\n",
       " 'USER': 'Matthew',\n",
       " 'CONDA_EXE': '/opt/anaconda3/bin/conda',\n",
       " 'SSH_AUTH_SOCK': '/private/tmp/com.apple.launchd.XUuiH7prWY/Listeners',\n",
       " '_CE_CONDA': '',\n",
       " 'CONDA_PREFIX_1': '/opt/anaconda3',\n",
       " 'PATH': '/opt/anaconda3/envs/py4chemoinformatics/bin:/opt/anaconda3/condabin:/opt/anaconda3/envs/py4chemoinformatics/lib/python3.9/site-packages:/Library/Frameworks/Python.framework/Versions/3.7/bin:/usr/bin:/bin:/usr/sbin:/sbin:/usr/local/bin:/Library/TeX/texbin:/opt/X11/bin:/usr/local/git/bin',\n",
       " 'GSETTINGS_SCHEMA_DIR': '/opt/anaconda3/envs/py4chemoinformatics/share/glib-2.0/schemas',\n",
       " 'CONDA_PREFIX': '/opt/anaconda3/envs/py4chemoinformatics',\n",
       " 'PWD': '/Users/Matthew',\n",
       " 'LANG': 'en_GB.UTF-8',\n",
       " 'XPC_FLAGS': '0x0',\n",
       " '_CE_M': '',\n",
       " 'XPC_SERVICE_NAME': '0',\n",
       " 'SHLVL': '1',\n",
       " 'HOME': '/Users/Matthew',\n",
       " 'CONDA_PYTHON_EXE': '/opt/anaconda3/bin/python',\n",
       " 'PYTHONPATH': '/opt/anaconda3/envs/py4chemoinformatics/lib/python3.9/site-packages:',\n",
       " 'LOGNAME': 'Matthew',\n",
       " 'CONDA_DEFAULT_ENV': 'py4chemoinformatics',\n",
       " 'SECURITYSESSIONID': '18b17',\n",
       " '_': '/opt/anaconda3/envs/py4chemoinformatics/bin/jupyter',\n",
       " '__CF_USER_TEXT_ENCODING': '0x1F6:0x0:0x2',\n",
       " 'JPY_PARENT_PID': '60406',\n",
       " 'CLICOLOR': '1',\n",
       " 'PAGER': 'cat',\n",
       " 'GIT_PAGER': 'cat',\n",
       " 'MPLBACKEND': 'module://ipykernel.pylab.backend_inline'}"
      ]
     },
     "execution_count": 1,
     "metadata": {},
     "output_type": "execute_result"
    }
   ],
   "source": [
    "%env"
   ]
  },
  {
   "cell_type": "code",
   "execution_count": null,
   "id": "0b8f4e78",
   "metadata": {},
   "outputs": [],
   "source": [
    "%env | grep PATH"
   ]
  },
  {
   "cell_type": "code",
   "execution_count": null,
   "id": "85f0e13d",
   "metadata": {},
   "outputs": [],
   "source": [
    "cxcalc"
   ]
  },
  {
   "cell_type": "code",
   "execution_count": null,
   "id": "da36a038",
   "metadata": {},
   "outputs": [],
   "source": [
    "from openbabel import openbabel"
   ]
  },
  {
   "cell_type": "code",
   "execution_count": null,
   "id": "c71b2c5c",
   "metadata": {},
   "outputs": [],
   "source": [
    "from rdkit import Chem\n",
    "from rdkit.Chem import rdBase\n",
    "from rdkit.Chem import Draw\n",
    "from rdkit.Chem.Draw import IPythonConsole\n",
    "from rdkit.Chem import Descriptors\n",
    "from rdkit.Chem import Crippen"
   ]
  },
  {
   "cell_type": "code",
   "execution_count": null,
   "id": "8bb71660",
   "metadata": {},
   "outputs": [],
   "source": [
    "import pandas as pd\n",
    "import matplotlib.pyplot as plt\n",
    "import numpy as np\n",
    "import scipy.stats as ss"
   ]
  },
  {
   "cell_type": "code",
   "execution_count": null,
   "id": "aa7176f0",
   "metadata": {},
   "outputs": [],
   "source": [
    "import equilibrator_cache"
   ]
  },
  {
   "cell_type": "code",
   "execution_count": null,
   "id": "deaa92f9",
   "metadata": {},
   "outputs": [],
   "source": [
    "from equilibrator_api import ComponentContribution, Q_"
   ]
  },
  {
   "cell_type": "code",
   "execution_count": null,
   "id": "0ea36386",
   "metadata": {},
   "outputs": [],
   "source": [
    "CC = ComponentContribution()"
   ]
  },
  {
   "cell_type": "code",
   "execution_count": null,
   "id": "990bbe66",
   "metadata": {},
   "outputs": [],
   "source": [
    "from equilibrator_assets.generate_compound import create_compound, get_or_create_compound"
   ]
  },
  {
   "cell_type": "code",
   "execution_count": null,
   "id": "e02be40c",
   "metadata": {},
   "outputs": [],
   "source": [
    "compound_list = get_or_create_compound(\n",
    "    CC.ccache, [\"CC(=O)O\", \"CC(O)C(=O)O\", 'CCCOP(=O)(O)O', \"OCC(N)C(O)CO\"], mol_format=\"smiles\")\n",
    "\n",
    "for c in compound_list:\n",
    "    print(\"-\" * 80)\n",
    "    print(c)\n",
    "    print(f\"pK_a: {c.dissociation_constants}\")\n",
    "    print(f\"pK_Mg: {c.magnesium_dissociation_constants}\")\n",
    "    print(\"Microspecies: \")\n",
    "    for ms in c.microspecies:\n",
    "        print(f\"{ms}, ddg_over_rt = {ms.ddg_over_rt:.1f}\")"
   ]
  },
  {
   "cell_type": "code",
   "execution_count": null,
   "id": "b1246a7d",
   "metadata": {},
   "outputs": [],
   "source": []
  }
 ],
 "metadata": {
  "kernelspec": {
   "display_name": "Python 3",
   "language": "python",
   "name": "python3"
  },
  "language_info": {
   "codemirror_mode": {
    "name": "ipython",
    "version": 3
   },
   "file_extension": ".py",
   "mimetype": "text/x-python",
   "name": "python",
   "nbconvert_exporter": "python",
   "pygments_lexer": "ipython3",
   "version": "3.9.5"
  }
 },
 "nbformat": 4,
 "nbformat_minor": 5
}
