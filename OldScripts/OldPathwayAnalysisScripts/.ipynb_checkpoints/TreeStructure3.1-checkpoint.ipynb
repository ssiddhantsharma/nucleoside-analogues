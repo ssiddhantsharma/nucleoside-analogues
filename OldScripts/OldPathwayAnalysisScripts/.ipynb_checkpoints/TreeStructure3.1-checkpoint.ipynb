{
 "cells": [
  {
   "cell_type": "markdown",
   "id": "e599f5b8",
   "metadata": {},
   "source": [
    "Calculating all paths, energies"
   ]
  },
  {
   "cell_type": "code",
   "execution_count": 1,
   "id": "99017f0e",
   "metadata": {},
   "outputs": [],
   "source": [
    "from openbabel import openbabel"
   ]
  },
  {
   "cell_type": "code",
   "execution_count": 2,
   "id": "3456a4d6",
   "metadata": {},
   "outputs": [],
   "source": [
    "from rdkit import Chem\n",
    "from rdkit.Chem import rdBase\n",
    "from rdkit.Chem import Draw\n",
    "from rdkit.Chem.Draw import IPythonConsole\n",
    "from rdkit.Chem import Descriptors\n",
    "from rdkit.Chem import Crippen"
   ]
  },
  {
   "cell_type": "code",
   "execution_count": 3,
   "id": "3dd9631d",
   "metadata": {},
   "outputs": [],
   "source": [
    "import pandas as pd\n",
    "import matplotlib.pyplot as plt\n",
    "import numpy as np\n",
    "import scipy.stats as ss"
   ]
  },
  {
   "cell_type": "code",
   "execution_count": 4,
   "id": "1830b879",
   "metadata": {},
   "outputs": [],
   "source": [
    "from treelib import Node, Tree"
   ]
  },
  {
   "cell_type": "code",
   "execution_count": 5,
   "id": "c9706eb3",
   "metadata": {},
   "outputs": [],
   "source": [
    "from ast import literal_eval"
   ]
  },
  {
   "cell_type": "code",
   "execution_count": 6,
   "id": "558cf8ba",
   "metadata": {},
   "outputs": [],
   "source": [
    "class Molecule(object):\n",
    "    def __init__(self, path):\n",
    "        self.path = path"
   ]
  },
  {
   "cell_type": "code",
   "execution_count": 7,
   "id": "4ec9a3ad",
   "metadata": {},
   "outputs": [],
   "source": [
    "def split(word):\n",
    "    return[char for char in word]"
   ]
  },
  {
   "cell_type": "code",
   "execution_count": 8,
   "id": "8f8e4da5",
   "metadata": {},
   "outputs": [],
   "source": [
    "def tree_copier(tree, identifier_factor):\n",
    "    tree_copy = Tree()\n",
    "    nodes = tree.all_nodes()\n",
    "    for i in range(len(nodes)):\n",
    "        dummy_tag = nodes[i].tag\n",
    "        dummy_identifier = nodes[i].identifier\n",
    "        dummy_data = nodes[i].data\n",
    "        try:\n",
    "            dummy_parent = (tree.parent(dummy_identifier)).identifier \n",
    "        except:\n",
    "            dummy_parent = -1\n",
    "        if dummy_parent == -1:\n",
    "            tree_copy.create_node(dummy_tag, (dummy_identifier+identifier_factor), data = dummy_data)\n",
    "        else:\n",
    "            tree_copy.create_node(dummy_tag, (dummy_identifier+identifier_factor), parent=(dummy_parent+identifier_factor), data = dummy_data)\n",
    "    return(tree_copy)"
   ]
  },
  {
   "cell_type": "code",
   "execution_count": 9,
   "id": "d3528f8d",
   "metadata": {},
   "outputs": [],
   "source": [
    "def index_finder(Product, rels, path):\n",
    "    indexes = []\n",
    "    energies = []\n",
    "    for i in range(len(rels['Index'])):\n",
    "        place = literal_eval(rels['Products'][i])\n",
    "        for j in range(len(place)):\n",
    "            if place[j] == Product:\n",
    "                indexes.append(rels['Index'][i])\n",
    "                energies.append(rels['Energy Change'][i])\n",
    "    valid_indexes = []\n",
    "    valid_energies = []\n",
    "    for i in range(len(indexes)):\n",
    "        valid = True\n",
    "        precursors = precursor_finder(indexes[i], rels)\n",
    "        for j in range(len(precursors)):\n",
    "            if precursors[j] in path:\n",
    "                valid = False\n",
    "                break\n",
    "        if valid == True:\n",
    "            valid_indexes.append(indexes[i])\n",
    "            valid_energies.append(energies[i]) \n",
    "    return(valid_indexes, valid_energies)"
   ]
  },
  {
   "cell_type": "code",
   "execution_count": 10,
   "id": "80123cf6",
   "metadata": {},
   "outputs": [],
   "source": [
    "def precursor_finder(index, rels):\n",
    "    precursors = []\n",
    "    for i in range(len(rels['Index'])):\n",
    "        if rels['Index'][i] == index:\n",
    "            dummy = literal_eval(rels['Reagents'][i])\n",
    "            for j in range(len(dummy)):\n",
    "                precursors.append(dummy[j])\n",
    "    return(precursors)"
   ]
  },
  {
   "cell_type": "code",
   "execution_count": 11,
   "id": "83650c40",
   "metadata": {},
   "outputs": [],
   "source": [
    "def find_component(node, rels):\n",
    "    Product = node.tag\n",
    "    path = split((node.data).path)\n",
    "    indexes, energy_changes = index_finder(Product, rels, path)\n",
    "    precursors = []\n",
    "    for i in range(len(indexes)):\n",
    "        precursors.append(precursor_finder(indexes[i], rels))\n",
    "    return(precursors, energy_changes)"
   ]
  },
  {
   "cell_type": "code",
   "execution_count": 12,
   "id": "eeb242e2",
   "metadata": {},
   "outputs": [],
   "source": [
    "def map_tree(Smiles, rels):\n",
    "    rels = pd.read_csv(rels, sep='\\t')\n",
    "    #base_molecules = ['N', 'C=O', 'C(CO)=O', 'O'] #FormoseAmm\n",
    "    base_molecules = ['C=O', 'C(CO)=O', 'O'] #Formose\n",
    "    #base_molecules = ['N', 'C(C(C(C(C(CO)O)O)O)O)=O', 'O'] #GlucoseAmm\n",
    "    #base_molecules = ['C(C(C(C(C(CO)O)O)O)O)=O', 'O'] #Glucose\n",
    "    #base_molecules = ['C(C(C)=O)(O)=O', 'O'] #PyruvicAcid\n",
    "    all_trees = []\n",
    "    all_energies = []\n",
    "    tree_statuses = []\n",
    "    tree1 = Tree()\n",
    "    tree1.create_node(Smiles, 0, data=Molecule(Smiles))\n",
    "    all_trees.append(tree1)\n",
    "    all_energies.append(0)\n",
    "    tree_statuses.append(False)\n",
    "    \n",
    "    complete = False\n",
    "    while complete == False:\n",
    "        for i in range(len(all_trees)):\n",
    "            if tree_statuses[i] == False:\n",
    "                finished = False\n",
    "            current_nodes = all_trees[i].all_nodes()\n",
    "            current_depths = []\n",
    "            for j in range(len(current_nodes)):\n",
    "                current_depths.append(all_trees[i].depth(current_nodes[j]))\n",
    "            level_counter = max(current_depths)\n",
    "            node_counter = len(current_nodes)-1\n",
    "            path_energy = all_energies[i]\n",
    "            while finished == False:\n",
    "                nodes = all_trees[i].all_nodes()\n",
    "                active_nodes = []\n",
    "                nodes_with_children = []\n",
    "                for k in range(len(nodes)):\n",
    "                    try:     \n",
    "                        temp = (all_trees[i].parent(nodes[k].identifier)).identifier\n",
    "                    except:\n",
    "                        temp = -1\n",
    "                    if temp != -1:\n",
    "                        nodes_with_children.append(temp)\n",
    "                for k in range(len(nodes)):\n",
    "                    tag = nodes[k].tag\n",
    "                    level = all_trees[i].depth(nodes[k])\n",
    "                    if nodes[k].identifier not in nodes_with_children and tag not in base_molecules:\n",
    "                        active_nodes.append(nodes[k])\n",
    "                if active_nodes == []:\n",
    "                    finished = True\n",
    "                    all_energies[i] = path_energy\n",
    "                    break\n",
    "                else:\n",
    "                    for z in range(len(active_nodes)):\n",
    "                        precursors, energy_changes = find_component(active_nodes[z], rels)\n",
    "                        product = active_nodes[z].identifier\n",
    "                        dummy = (active_nodes[z].data).path\n",
    "                        place = []\n",
    "                        num_trees = len(all_trees)\n",
    "                        for m in range(len(dummy)):\n",
    "                            place.append(dummy[m])\n",
    "                        if len(precursors) > 1:\n",
    "                            for p in range(1, len(precursors)):\n",
    "                                tree = tree_copier(all_trees[i], (num_trees*1000))\n",
    "                                dummy_energy = path_energy\n",
    "                                dummy_product = product \n",
    "                                all_energies.append(dummy_energy + energy_changes[p])\n",
    "                                tree_statuses.append(False)\n",
    "                                dummy_node_counter = num_trees*1000 + node_counter\n",
    "                                for q in range(len(precursors[p])):\n",
    "                                    dummy_node_counter += 1\n",
    "                                    tree.create_node(precursors[p][q], dummy_node_counter, parent=(product+num_trees*1000), data=Molecule(place + [precursors[p][q]])) \n",
    "                                all_trees.append(tree)\n",
    "                                num_trees+=1\n",
    "                        path_energy += energy_changes[0]\n",
    "                        for n in range(len(precursors[0])):\n",
    "                            node_counter +=1\n",
    "                            all_trees[i].create_node(precursors[0][n], node_counter, parent=product, data=Molecule(place + [precursors[0][n]])) \n",
    "                    level_counter+=1\n",
    "            if finished == True:\n",
    "                tree_statuses[i] = True\n",
    "        #for i in range(len(all_trees)):\n",
    "            #all_trees[i].show()\n",
    "        #print(tree_statuses)\n",
    "        dummy = True\n",
    "        for i in range(len(tree_statuses)):\n",
    "            if tree_statuses[i] == False:\n",
    "                dummy = False\n",
    "        if dummy == True:\n",
    "            complete = True\n",
    "        data = {'Tree':all_trees, 'Path Energy':all_energies}\n",
    "        df = pd.DataFrame(data)\n",
    "        df.to_csv('Testdf.csv', header=None, index=None, sep='\\t', mode='a')\n",
    "    return(df)"
   ]
  },
  {
   "cell_type": "code",
   "execution_count": 13,
   "id": "f8da44a9",
   "metadata": {},
   "outputs": [
    {
     "name": "stdout",
     "output_type": "stream",
     "text": [
      "CPU times: user 9.26 ms, sys: 2.62 ms, total: 11.9 ms\n",
      "Wall time: 19.2 ms\n"
     ]
    }
   ],
   "source": [
    "%%time\n",
    "a = map_tree('C(C(C(CO)O)O)=O', './RelsDataWithThermo/Formose/Formose_1RelsWithThermo.tsv')"
   ]
  },
  {
   "cell_type": "code",
   "execution_count": 34,
   "id": "0e733e56",
   "metadata": {},
   "outputs": [
    {
     "data": {
      "text/plain": [
       "-16.39"
      ]
     },
     "execution_count": 34,
     "metadata": {},
     "output_type": "execute_result"
    }
   ],
   "source": [
    "a['Path Energy'][1]"
   ]
  },
  {
   "cell_type": "code",
   "execution_count": 37,
   "id": "efb56542",
   "metadata": {
    "scrolled": true
   },
   "outputs": [
    {
     "name": "stdout",
     "output_type": "stream",
     "text": [
      "C(C(C(CO)O)O)=O\n",
      "├── ['C', '(', 'C', '(', 'C', '(', 'C', 'O', ')', 'O', ')', 'O', ')', '=', 'O', 'C(CO)=O']\n",
      "└── ['C', '(', 'C', '(', 'C', '(', 'C', 'O', ')', 'O', ')', 'O', ')', '=', 'O', 'C(CO)=O']\n",
      "\n"
     ]
    }
   ],
   "source": [
    "a['Tree'][0].show(data_property='path')"
   ]
  },
  {
   "cell_type": "code",
   "execution_count": 59,
   "id": "4973e52e",
   "metadata": {},
   "outputs": [],
   "source": [
    "def parser(string): #read in paths from csv file and display nicely\n",
    "    chars = list(string)\n",
    "    newline_indexes = []\n",
    "    for i in range(len(chars)):\n",
    "        if chars[i] == '\\n':\n",
    "            newline_indexes.append(i)\n",
    "    dummy = ''\n",
    "    for i in range(0, newline_indexes[0]):\n",
    "        dummy += chars[i]\n",
    "    print(dummy)\n",
    "    for i in range(len(newline_indexes)-1):\n",
    "        dummy = ''\n",
    "        for j in range(newline_indexes[i]+1, newline_indexes[i+1]):\n",
    "            dummy += chars[j]\n",
    "        print(dummy)"
   ]
  },
  {
   "cell_type": "code",
   "execution_count": 572,
   "id": "90f200de",
   "metadata": {},
   "outputs": [],
   "source": [
    "df1 = pd.read_csv('./TestDF.csv', sep='\\t')"
   ]
  },
  {
   "cell_type": "code",
   "execution_count": 575,
   "id": "a621d92b",
   "metadata": {},
   "outputs": [
    {
     "name": "stdout",
     "output_type": "stream",
     "text": [
      "A\n",
      "├── D\n",
      "│   └── I\n",
      "└── E\n",
      "    └── K\n"
     ]
    }
   ],
   "source": [
    "parser(df1['Tree'][0])"
   ]
  },
  {
   "cell_type": "code",
   "execution_count": null,
   "id": "66037efd",
   "metadata": {},
   "outputs": [],
   "source": []
  }
 ],
 "metadata": {
  "kernelspec": {
   "display_name": "Python 3",
   "language": "python",
   "name": "python3"
  },
  "language_info": {
   "codemirror_mode": {
    "name": "ipython",
    "version": 3
   },
   "file_extension": ".py",
   "mimetype": "text/x-python",
   "name": "python",
   "nbconvert_exporter": "python",
   "pygments_lexer": "ipython3",
   "version": "3.9.5"
  }
 },
 "nbformat": 4,
 "nbformat_minor": 5
}
