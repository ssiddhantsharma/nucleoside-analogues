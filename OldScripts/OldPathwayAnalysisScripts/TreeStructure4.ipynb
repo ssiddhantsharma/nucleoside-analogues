{
 "cells": [
  {
   "cell_type": "markdown",
   "id": "030b4672",
   "metadata": {},
   "source": [
    "Calculating a path for each input molecule, no energy"
   ]
  },
  {
   "cell_type": "code",
   "execution_count": 1,
   "id": "99017f0e",
   "metadata": {},
   "outputs": [],
   "source": [
    "from openbabel import openbabel"
   ]
  },
  {
   "cell_type": "code",
   "execution_count": 2,
   "id": "3456a4d6",
   "metadata": {},
   "outputs": [],
   "source": [
    "from rdkit import Chem\n",
    "from rdkit.Chem import rdBase\n",
    "from rdkit.Chem import Draw\n",
    "from rdkit.Chem.Draw import IPythonConsole\n",
    "from rdkit.Chem import Descriptors\n",
    "from rdkit.Chem import Crippen"
   ]
  },
  {
   "cell_type": "code",
   "execution_count": 3,
   "id": "3dd9631d",
   "metadata": {},
   "outputs": [],
   "source": [
    "import pandas as pd\n",
    "import matplotlib.pyplot as plt\n",
    "import numpy as np\n",
    "import scipy.stats as ss"
   ]
  },
  {
   "cell_type": "code",
   "execution_count": 4,
   "id": "61dfcffe",
   "metadata": {},
   "outputs": [],
   "source": [
    "from ast import literal_eval"
   ]
  },
  {
   "cell_type": "code",
   "execution_count": 5,
   "id": "41eb468f",
   "metadata": {},
   "outputs": [],
   "source": [
    "from treelib import Node, Tree"
   ]
  },
  {
   "cell_type": "code",
   "execution_count": 6,
   "id": "d1f99777",
   "metadata": {},
   "outputs": [],
   "source": [
    "class Molecule(object):\n",
    "    def __init__(self, path):\n",
    "        self.path = path"
   ]
  },
  {
   "cell_type": "code",
   "execution_count": 7,
   "id": "4ec9a3ad",
   "metadata": {},
   "outputs": [],
   "source": [
    "def split(word):\n",
    "    return[char for char in word]"
   ]
  },
  {
   "cell_type": "code",
   "execution_count": 8,
   "id": "d3528f8d",
   "metadata": {},
   "outputs": [],
   "source": [
    "def index_finder(Product, rels, path):\n",
    "    index = 0\n",
    "    for i in range(len(rels['Index'])):\n",
    "        found_index = False\n",
    "        place = literal_eval(rels['Products'][i])\n",
    "        for j in range(len(place)):\n",
    "            if place[j] == Product:\n",
    "                valid = True\n",
    "                precursors = precursor_finder(rels['Index'][i], rels)\n",
    "                for k in range(len(precursors)):\n",
    "                    if precursors[k] in path:\n",
    "                        valid = False\n",
    "                        break\n",
    "                if valid == True:\n",
    "                    found_index = True\n",
    "            if found_index == True:\n",
    "                index = rels['Index'][i]\n",
    "                return(index)\n",
    "                break"
   ]
  },
  {
   "cell_type": "code",
   "execution_count": 9,
   "id": "80123cf6",
   "metadata": {},
   "outputs": [],
   "source": [
    "def precursor_finder(index, rels):\n",
    "    precursors = []\n",
    "    for i in range(len(rels['Index'])):\n",
    "        if rels['Index'][i] == index:\n",
    "            dummy = literal_eval(rels['Reagents'][i])\n",
    "            for j in range(len(dummy)):\n",
    "                precursors.append(dummy[j])\n",
    "    return(precursors)"
   ]
  },
  {
   "cell_type": "code",
   "execution_count": 10,
   "id": "83650c40",
   "metadata": {},
   "outputs": [],
   "source": [
    "def find_component(node, rels):\n",
    "    Product = node.tag\n",
    "    path = (node.data).path\n",
    "    index = index_finder(Product, rels, path)\n",
    "    precursors = precursor_finder(index, rels)\n",
    "    return(precursors)"
   ]
  },
  {
   "cell_type": "code",
   "execution_count": 15,
   "id": "eeb242e2",
   "metadata": {},
   "outputs": [],
   "source": [
    "def map_tree(matches_data, rels, name):\n",
    "    \n",
    "    data = pd.read_csv(matches_data, sep='\\t')\n",
    "    molecules = []\n",
    "    generations = []\n",
    "    inchi = []\n",
    "    for i in range(5): #len(data['Smiles'])\n",
    "        molecules.append(data['Smiles'][i])\n",
    "        generations.append(data['Generation'][i])\n",
    "        inchi.append(data['Inchi'][i])\n",
    "        \n",
    "    rels = pd.read_csv(rels, sep='\\t')\n",
    "    #base_molecules = ['N', 'C=O', 'C(CO)=O', 'O'] #FormoseAmm\n",
    "    #base_molecules = ['C=O', 'C(CO)=O', 'O'] #Formose\n",
    "    #base_molecules = ['N', 'C(C(C(C(C(CO)O)O)O)O)=O', 'O'] #GlucoseAmm\n",
    "    #base_molecules = ['C(C(C(C(C(CO)O)O)O)O)=O', 'O'] #Glucose\n",
    "    base_molecules = ['C(C(C)=O)(O)=O', 'O'] #PyruvicAcid\n",
    "    trees = []\n",
    "    \n",
    "    for i in range(5): #len(molecules)\n",
    "        print(i)\n",
    "        tree = Tree()\n",
    "        tree.create_node(molecules[i], 0, data=Molecule([molecules[i]]))\n",
    "        finished = False\n",
    "        level_counter = 0\n",
    "        node_counter = 0\n",
    "        while finished == False:\n",
    "            nodes = tree.all_nodes()\n",
    "            active_nodes = []\n",
    "            for i in range(len(nodes)):\n",
    "                tag = nodes[i].tag\n",
    "                level = tree.depth(nodes[i])\n",
    "                if level == level_counter and tag not in base_molecules:\n",
    "                    active_nodes.append(nodes[i])\n",
    "            if active_nodes == []:\n",
    "                finished = True\n",
    "                break\n",
    "            else:\n",
    "                error_status = False\n",
    "                for i in range(len(active_nodes)):\n",
    "                    precursors = find_component(active_nodes[i], rels)\n",
    "                    if precursors == []:\n",
    "                        trees.append('NaN')\n",
    "                        error_status = True\n",
    "                        break\n",
    "                    else:\n",
    "                        product = active_nodes[i].identifier\n",
    "                        dummy = (active_nodes[i].data).path\n",
    "                        place = []\n",
    "                        for k in range(len(dummy)):\n",
    "                            place.append(dummy[k])\n",
    "                        for j in range(len(precursors)):\n",
    "                            node_counter +=1\n",
    "                            tree.create_node(precursors[j], node_counter, parent=product, data=Molecule(place + [precursors[j]]))\n",
    "                level_counter+=1\n",
    "            if error_status == True:\n",
    "                break\n",
    "        trees.append(tree)\n",
    "    errors = 0\n",
    "    for i in range(len(trees)):\n",
    "        if trees[i] == 'NaN':\n",
    "            errors +=1\n",
    "    data = {'Generation':generations, 'Smiles':molecules, 'Inchi':inchi, 'Path':trees}\n",
    "    df = pd.DataFrame(data)\n",
    "    df.to_csv(f'{name}Trees.tsv', header=None, index=None, sep='\\t', mode='a')\n",
    "    print(f'No. Errors = {errors}')\n",
    "    return(df)"
   ]
  },
  {
   "cell_type": "code",
   "execution_count": 16,
   "id": "f8da44a9",
   "metadata": {},
   "outputs": [
    {
     "name": "stdout",
     "output_type": "stream",
     "text": [
      "0\n",
      "1\n",
      "2\n",
      "3\n",
      "4\n",
      "No. Errors = 0\n",
      "CPU times: user 70.2 ms, sys: 4.69 ms, total: 74.9 ms\n",
      "Wall time: 79.2 ms\n"
     ]
    }
   ],
   "source": [
    "%%time\n",
    "a = map_tree('./MatchesFiles/PyruvicAcidMatches.tsv', './ProcessedRels/PyruvicAcid/PyruvicAcid_3ProcessedRels.tsv', 'PyruvicAcid')"
   ]
  },
  {
   "cell_type": "code",
   "execution_count": 20,
   "id": "06f8f9f2",
   "metadata": {},
   "outputs": [
    {
     "name": "stdout",
     "output_type": "stream",
     "text": [
      "C(C(CO)O)(O)=O\n",
      "├── C(C(C)=O)(O)=O\n",
      "└── O\n",
      "\n"
     ]
    }
   ],
   "source": [
    "a['Path'][0].show()"
   ]
  },
  {
   "cell_type": "code",
   "execution_count": 143,
   "id": "5bb693e5",
   "metadata": {},
   "outputs": [],
   "source": [
    "data = pd.read_csv('./MatchesFiles/FormoseMatches.tsv', sep='\\t')"
   ]
  },
  {
   "cell_type": "code",
   "execution_count": 144,
   "id": "713bdb5b",
   "metadata": {},
   "outputs": [],
   "source": [
    "molecules = []\n",
    "generations = []\n",
    "inchi = []\n",
    "trees = []\n",
    "for i in range(len(data['Smiles'])):\n",
    "    molecules.append(data['Smiles'][i])\n",
    "    generations.append(data['Generation'][i])\n",
    "    inchi.append(data['Inchi'][i])\n",
    "    trees.append(a['Path'][i])\n",
    "dictionary = {'Generation':generations, 'Smiles':molecules, 'Inchi':inchi, 'Path':trees}\n",
    "df = pd.DataFrame(dictionary)\n",
    "df.to_csv('Testdf2.csv', header=None, index=None, sep='\\t', mode='a')"
   ]
  },
  {
   "cell_type": "code",
   "execution_count": 142,
   "id": "711246e7",
   "metadata": {
    "scrolled": true
   },
   "outputs": [
    {
     "name": "stdout",
     "output_type": "stream",
     "text": [
      "C1(C(C(C(C=1)=O)O)O)C(CO)O\n",
      "└── C1(C(C(C(C(CO)O)(C1)O)O)O)=O\n",
      "    └── C(C(C(C(C(CO)O)=O)O)O)(C)=O\n",
      "        ├── C(C(C)=O)=O\n",
      "        │   └── C(C(CO)O)=O\n",
      "        │       ├── C(CO)=O\n",
      "        │       └── C=O\n",
      "        └── C(CO)(C(CO)O)=O\n",
      "            └── C(C(C(CO)O)O)=O\n",
      "                ├── C(CO)=O\n",
      "                └── C(CO)=O\n",
      "\n"
     ]
    }
   ],
   "source": [
    "a['Path'][2345].show()"
   ]
  },
  {
   "cell_type": "code",
   "execution_count": 94,
   "id": "e958a098",
   "metadata": {},
   "outputs": [],
   "source": [
    "def parser(string): #read in paths from csv file and display nicely\n",
    "    chars = list(string)\n",
    "    newline_indexes = []\n",
    "    for i in range(len(chars)):\n",
    "        if chars[i] == '\\n':\n",
    "            newline_indexes.append(i)\n",
    "    dummy = ''\n",
    "    for i in range(0, newline_indexes[0]):\n",
    "        dummy += chars[i]\n",
    "    print(dummy)\n",
    "    for i in range(len(newline_indexes)-1):\n",
    "        dummy = ''\n",
    "        for j in range(newline_indexes[i]+1, newline_indexes[i+1]):\n",
    "            dummy += chars[j]\n",
    "        print(dummy)"
   ]
  },
  {
   "cell_type": "code",
   "execution_count": 134,
   "id": "d2b386e5",
   "metadata": {},
   "outputs": [],
   "source": [
    "df1 = pd.read_csv('./TestDF.csv', sep='\\t')"
   ]
  },
  {
   "cell_type": "code",
   "execution_count": 136,
   "id": "a67a8c9c",
   "metadata": {},
   "outputs": [
    {
     "name": "stdout",
     "output_type": "stream",
     "text": [
      "C(C1(CC(C(C(C1)=O)O)O)O)=O\n",
      "└── C(C)(C(C(CC(C=O)=O)O)O)=O\n",
      "    ├── C(C(C(C)=O)O)=O\n",
      "    │   └── C(C(C(CO)O)O)=O\n",
      "    │       ├── C(CO)=O\n",
      "    │       └── C(CO)=O\n",
      "    └── C(C(C)=O)=O\n",
      "        └── C(C(CO)O)=O\n",
      "            ├── C(CO)=O\n",
      "            └── C=O\n"
     ]
    }
   ],
   "source": [
    "parser(df1['Tree'][99])"
   ]
  },
  {
   "cell_type": "code",
   "execution_count": null,
   "id": "dad77181",
   "metadata": {},
   "outputs": [],
   "source": []
  }
 ],
 "metadata": {
  "kernelspec": {
   "display_name": "Python 3",
   "language": "python",
   "name": "python3"
  },
  "language_info": {
   "codemirror_mode": {
    "name": "ipython",
    "version": 3
   },
   "file_extension": ".py",
   "mimetype": "text/x-python",
   "name": "python",
   "nbconvert_exporter": "python",
   "pygments_lexer": "ipython3",
   "version": "3.9.5"
  }
 },
 "nbformat": 4,
 "nbformat_minor": 5
}
