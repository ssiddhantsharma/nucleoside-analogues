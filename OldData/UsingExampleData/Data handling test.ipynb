{
 "cells": [
  {
   "cell_type": "code",
   "execution_count": 1,
   "id": "703e274e",
   "metadata": {},
   "outputs": [],
   "source": [
    "from openbabel import openbabel"
   ]
  },
  {
   "cell_type": "code",
   "execution_count": 1,
   "id": "f3bbcb44",
   "metadata": {},
   "outputs": [],
   "source": [
    "from rdkit import Chem\n",
    "from rdkit.Chem import rdBase\n",
    "from rdkit.Chem import Draw\n",
    "from rdkit.Chem.Draw import IPythonConsole\n",
    "from rdkit.Chem import Descriptors"
   ]
  },
  {
   "cell_type": "code",
   "execution_count": 2,
   "id": "a6eeb489",
   "metadata": {},
   "outputs": [],
   "source": [
    "import pandas as pd"
   ]
  },
  {
   "cell_type": "code",
   "execution_count": 3,
   "id": "73bf6530",
   "metadata": {},
   "outputs": [],
   "source": [
    "data = pd.read_csv('glucose_amm_output.tsv', sep='\\t')"
   ]
  },
  {
   "cell_type": "code",
   "execution_count": 4,
   "id": "7f056496",
   "metadata": {},
   "outputs": [
    {
     "data": {
      "text/html": [
       "<div>\n",
       "<style scoped>\n",
       "    .dataframe tbody tr th:only-of-type {\n",
       "        vertical-align: middle;\n",
       "    }\n",
       "\n",
       "    .dataframe tbody tr th {\n",
       "        vertical-align: top;\n",
       "    }\n",
       "\n",
       "    .dataframe thead th {\n",
       "        text-align: right;\n",
       "    }\n",
       "</style>\n",
       "<table border=\"1\" class=\"dataframe\">\n",
       "  <thead>\n",
       "    <tr style=\"text-align: right;\">\n",
       "      <th></th>\n",
       "      <th>Generation</th>\n",
       "      <th>Smiles</th>\n",
       "    </tr>\n",
       "  </thead>\n",
       "  <tbody>\n",
       "    <tr>\n",
       "      <th>0</th>\n",
       "      <td>G0</td>\n",
       "      <td>N</td>\n",
       "    </tr>\n",
       "    <tr>\n",
       "      <th>1</th>\n",
       "      <td>G0</td>\n",
       "      <td>O</td>\n",
       "    </tr>\n",
       "    <tr>\n",
       "      <th>2</th>\n",
       "      <td>G0</td>\n",
       "      <td>C(C(C(C(C(CO)O)O)O)O)=O</td>\n",
       "    </tr>\n",
       "    <tr>\n",
       "      <th>3</th>\n",
       "      <td>G1</td>\n",
       "      <td>C(CO)=O</td>\n",
       "    </tr>\n",
       "    <tr>\n",
       "      <th>4</th>\n",
       "      <td>G1</td>\n",
       "      <td>C(C(C(CO)O)O)=O</td>\n",
       "    </tr>\n",
       "    <tr>\n",
       "      <th>...</th>\n",
       "      <td>...</td>\n",
       "      <td>...</td>\n",
       "    </tr>\n",
       "    <tr>\n",
       "      <th>26121</th>\n",
       "      <td>G4</td>\n",
       "      <td>C(C(CO)O)=NC=CC=O</td>\n",
       "    </tr>\n",
       "    <tr>\n",
       "      <th>26122</th>\n",
       "      <td>G4</td>\n",
       "      <td>C(C(CO)O)=NC(C=O)=C</td>\n",
       "    </tr>\n",
       "    <tr>\n",
       "      <th>26123</th>\n",
       "      <td>G4</td>\n",
       "      <td>C(C(C(CC=CC=O)=O)O)=O</td>\n",
       "    </tr>\n",
       "    <tr>\n",
       "      <th>26124</th>\n",
       "      <td>G4</td>\n",
       "      <td>C(CC=CC(C(C=O)O)=O)=O</td>\n",
       "    </tr>\n",
       "    <tr>\n",
       "      <th>26125</th>\n",
       "      <td>G4</td>\n",
       "      <td>C(CC=CC=O)=O</td>\n",
       "    </tr>\n",
       "  </tbody>\n",
       "</table>\n",
       "<p>26126 rows × 2 columns</p>\n",
       "</div>"
      ],
      "text/plain": [
       "      Generation                   Smiles\n",
       "0             G0                        N\n",
       "1             G0                        O\n",
       "2             G0  C(C(C(C(C(CO)O)O)O)O)=O\n",
       "3             G1                  C(CO)=O\n",
       "4             G1          C(C(C(CO)O)O)=O\n",
       "...          ...                      ...\n",
       "26121         G4        C(C(CO)O)=NC=CC=O\n",
       "26122         G4      C(C(CO)O)=NC(C=O)=C\n",
       "26123         G4    C(C(C(CC=CC=O)=O)O)=O\n",
       "26124         G4    C(CC=CC(C(C=O)O)=O)=O\n",
       "26125         G4             C(CC=CC=O)=O\n",
       "\n",
       "[26126 rows x 2 columns]"
      ]
     },
     "execution_count": 4,
     "metadata": {},
     "output_type": "execute_result"
    }
   ],
   "source": [
    "data"
   ]
  },
  {
   "cell_type": "code",
   "execution_count": 9,
   "id": "cf3baaea",
   "metadata": {},
   "outputs": [
    {
     "data": {
      "text/plain": [
       "True"
      ]
     },
     "execution_count": 9,
     "metadata": {},
     "output_type": "execute_result"
    }
   ],
   "source": [
    "obConversion = openbabel.OBConversion()\n",
    "obConversion.SetInAndOutFormats(\"smi\", \"sdf\")"
   ]
  },
  {
   "cell_type": "code",
   "execution_count": 15,
   "id": "10191b20",
   "metadata": {},
   "outputs": [],
   "source": [
    "mol = openbabel.OBMol()"
   ]
  },
  {
   "cell_type": "code",
   "execution_count": 16,
   "id": "fdcad4d4",
   "metadata": {},
   "outputs": [],
   "source": [
    "smiles = data['Smiles'][0]"
   ]
  },
  {
   "cell_type": "code",
   "execution_count": 17,
   "id": "0dfdde82",
   "metadata": {},
   "outputs": [
    {
     "data": {
      "text/plain": [
       "True"
      ]
     },
     "execution_count": 17,
     "metadata": {},
     "output_type": "execute_result"
    }
   ],
   "source": [
    "obConversion.ReadString(mol, smiles)"
   ]
  },
  {
   "cell_type": "code",
   "execution_count": 18,
   "id": "707922ba",
   "metadata": {},
   "outputs": [
    {
     "name": "stdout",
     "output_type": "stream",
     "text": [
      "1\n"
     ]
    }
   ],
   "source": [
    "print(mol.NumAtoms())"
   ]
  },
  {
   "cell_type": "code",
   "execution_count": 19,
   "id": "d1c2dc98",
   "metadata": {},
   "outputs": [
    {
     "data": {
      "text/plain": [
       "True"
      ]
     },
     "execution_count": 19,
     "metadata": {},
     "output_type": "execute_result"
    }
   ],
   "source": [
    "mol.AddHydrogens()"
   ]
  },
  {
   "cell_type": "code",
   "execution_count": 20,
   "id": "e4e1d257",
   "metadata": {},
   "outputs": [
    {
     "name": "stdout",
     "output_type": "stream",
     "text": [
      "4\n"
     ]
    }
   ],
   "source": [
    "print(mol.NumAtoms())"
   ]
  },
  {
   "cell_type": "code",
   "execution_count": 21,
   "id": "9e93889e",
   "metadata": {},
   "outputs": [],
   "source": [
    "outSDF = obConversion.WriteString(mol)"
   ]
  },
  {
   "cell_type": "code",
   "execution_count": 22,
   "id": "2fe9cfd4",
   "metadata": {},
   "outputs": [
    {
     "name": "stdout",
     "output_type": "stream",
     "text": [
      "\n",
      " OpenBabel06192117002D\n",
      "\n",
      "  4  3  0  0  0  0  0  0  0  0999 V2000\n",
      "    0.0000    0.0000    0.0000 N   0  0  0  0  0  0  0  0  0  0  0  0\n",
      "    0.0000    0.0000    0.0000 H   0  0  0  0  0  0  0  0  0  0  0  0\n",
      "    0.0000    0.0000    0.0000 H   0  0  0  0  0  0  0  0  0  0  0  0\n",
      "    0.0000    0.0000    0.0000 H   0  0  0  0  0  0  0  0  0  0  0  0\n",
      "  1  2  1  0  0  0  0\n",
      "  1  3  1  0  0  0  0\n",
      "  1  4  1  0  0  0  0\n",
      "M  END\n",
      "$$$$\n",
      "\n"
     ]
    }
   ],
   "source": [
    "print(outSDF)"
   ]
  },
  {
   "cell_type": "code",
   "execution_count": null,
   "id": "9f5f5257",
   "metadata": {},
   "outputs": [],
   "source": []
  }
 ],
 "metadata": {
  "kernelspec": {
   "display_name": "Python 3",
   "language": "python",
   "name": "python3"
  },
  "language_info": {
   "codemirror_mode": {
    "name": "ipython",
    "version": 3
   },
   "file_extension": ".py",
   "mimetype": "text/x-python",
   "name": "python",
   "nbconvert_exporter": "python",
   "pygments_lexer": "ipython3",
   "version": "3.9.4"
  }
 },
 "nbformat": 4,
 "nbformat_minor": 5
}
