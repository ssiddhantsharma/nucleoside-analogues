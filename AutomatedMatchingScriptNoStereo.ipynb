{
 "cells": [
  {
   "cell_type": "code",
   "execution_count": 1,
   "id": "0f2038fe",
   "metadata": {},
   "outputs": [],
   "source": [
    "from openbabel import openbabel"
   ]
  },
  {
   "cell_type": "code",
   "execution_count": 2,
   "id": "dc2be9c4",
   "metadata": {},
   "outputs": [],
   "source": [
    "from rdkit import Chem\n",
    "from rdkit.Chem import rdBase\n",
    "from rdkit.Chem import Draw\n",
    "from rdkit.Chem.Draw import IPythonConsole\n",
    "from rdkit.Chem import Descriptors\n",
    "from rdkit.Chem import Crippen"
   ]
  },
  {
   "cell_type": "code",
   "execution_count": 3,
   "id": "a0e9e889",
   "metadata": {},
   "outputs": [],
   "source": [
    "import pandas as pd\n",
    "import matplotlib.pyplot as plt\n",
    "import numpy as np\n",
    "import scipy.stats as ss"
   ]
  },
  {
   "cell_type": "code",
   "execution_count": 4,
   "id": "7fcec3c8",
   "metadata": {},
   "outputs": [],
   "source": [
    "def split(word):\n",
    "    return[char for char in word]"
   ]
  },
  {
   "cell_type": "code",
   "execution_count": 5,
   "id": "be4f45dc",
   "metadata": {},
   "outputs": [],
   "source": [
    "def inchi(array):\n",
    "    Smiles = array[0] \n",
    "    mol = Chem.MolFromSmiles(Smiles)\n",
    "    dummy = Chem.inchi.MolToInchiKey(mol)#split at first layer (contains everything but stereochemical info)\n",
    "    characters = split(dummy)\n",
    "    dummy = ''\n",
    "    position = 0\n",
    "    for i in range(len(characters)):\n",
    "        if characters[i] == '-':\n",
    "            position = i\n",
    "            break\n",
    "    for i in range(position):\n",
    "        dummy += characters[i]\n",
    "    return(dummy)"
   ]
  },
  {
   "cell_type": "code",
   "execution_count": 6,
   "id": "78653f4a",
   "metadata": {},
   "outputs": [],
   "source": [
    "def inchi_generations(array):\n",
    "    Smiles = array[1]\n",
    "    mol = Chem.MolFromSmiles(Smiles)\n",
    "    dummy = Chem.inchi.MolToInchiKey(mol)#split at first layer (contains everything but stereochemical info)\n",
    "    characters = split(dummy)\n",
    "    dummy = ''\n",
    "    position = 0\n",
    "    for i in range(len(characters)):\n",
    "        if characters[i] == '-':\n",
    "            position = i\n",
    "            break\n",
    "    for i in range(position):\n",
    "        dummy += characters[i]\n",
    "    return(dummy)"
   ]
  },
  {
   "cell_type": "markdown",
   "id": "0221bca6",
   "metadata": {},
   "source": [
    "## Nucleoside matching"
   ]
  },
  {
   "cell_type": "code",
   "execution_count": 7,
   "id": "c00af47e",
   "metadata": {},
   "outputs": [],
   "source": [
    "def prep_data(library_set, test_set): #input filepaths for the 2 sets as tsv files\n",
    "    library_data = pd.read_csv(library_set, sep='\\t')\n",
    "    test_data = pd.read_csv(test_set, sep='\\t')\n",
    "    print(1)\n",
    "    test_data['Inchi'] = test_data.apply(inchi_generations, axis=1, raw=True, result_type='expand')\n",
    "    print(2)\n",
    "    #library_data['Inchi'] = library_data.apply(inchi, axis=1, raw=True, result_type='expand')\n",
    "    #Using degeneracy removed datasets with Inchikey already found \n",
    "    return(library_data, test_data)"
   ]
  },
  {
   "cell_type": "code",
   "execution_count": 8,
   "id": "5c953abb",
   "metadata": {},
   "outputs": [],
   "source": [
    "def find_matches(library_set, test_set):\n",
    "    library_data, test_data = prep_data(library_set, test_set)\n",
    "    print(3)\n",
    "    test_codes = []\n",
    "    for i in range(len(test_data['Inchi'])):\n",
    "        test_codes.append(test_data['Inchi'][i])\n",
    "    library_codes = []\n",
    "    for i in range(len(library_data['Inchi'])):\n",
    "        library_codes.append(library_data['Inchi'][i])\n",
    "    print(4)\n",
    "    matches = []\n",
    "    for i in range(len(test_codes)):\n",
    "        if test_codes[i] in library_codes:\n",
    "            matches.append(test_codes[i])\n",
    "    print(5)\n",
    "    test_smiles = []\n",
    "    #library_smiles = []\n",
    "    matches_generations = []\n",
    "    for i in range(len(matches)):\n",
    "        for j in range(len(test_data['Inchi'])):\n",
    "            if matches[i] == test_data['Inchi'][j]:\n",
    "                test_smiles.append(test_data['Smiles'][j])\n",
    "                matches_generations.append(test_data['Generation'][j])\n",
    "        #for k in range(len(library_data['Inchi'])):\n",
    "            #if matches[i] == library_data['Inchi'][k]:\n",
    "                #library_smiles.append(library_data['Smiles'][k])\n",
    "    #matches_data = {'Generation': matches_generations, 'Test Smiles': test_smiles, 'Library Smiles': library_smiles, 'Inchi': matches}\n",
    "    matches_data = {'Generation': matches_generations, 'Smiles': test_smiles, 'Inchi': matches}\n",
    "    library_test_matches = pd.DataFrame(matches_data)\n",
    "    return(library_test_matches)"
   ]
  },
  {
   "cell_type": "code",
   "execution_count": 9,
   "id": "6d9fa084",
   "metadata": {},
   "outputs": [
    {
     "name": "stdout",
     "output_type": "stream",
     "text": [
      "CPU times: user 1e+03 ns, sys: 1e+03 ns, total: 2 µs\n",
      "Wall time: 4.05 µs\n"
     ]
    }
   ],
   "source": [
    "%%time\n",
    "#a = find_matches('./CHO_Data/CHO_Final.tsv', './PyruvicAcidData/pyruvic_output.tsv')"
   ]
  },
  {
   "cell_type": "code",
   "execution_count": 10,
   "id": "bfe14cd1",
   "metadata": {},
   "outputs": [],
   "source": [
    "#a"
   ]
  },
  {
   "cell_type": "code",
   "execution_count": 11,
   "id": "4db10143",
   "metadata": {},
   "outputs": [],
   "source": [
    "#a.to_csv(r'NoStereoPyruvicAcid_CHNO.tsv', header=None, index=None, sep='\\t', mode='a') "
   ]
  },
  {
   "cell_type": "markdown",
   "id": "5d9cca4b",
   "metadata": {},
   "source": [
    "## Testing dask"
   ]
  },
  {
   "cell_type": "code",
   "execution_count": 12,
   "id": "9506ba2d",
   "metadata": {},
   "outputs": [],
   "source": [
    "#pip install dask"
   ]
  },
  {
   "cell_type": "code",
   "execution_count": 13,
   "id": "d8678d5a",
   "metadata": {},
   "outputs": [],
   "source": [
    "import dask.dataframe as dd"
   ]
  },
  {
   "cell_type": "code",
   "execution_count": 24,
   "id": "73773632",
   "metadata": {},
   "outputs": [],
   "source": [
    "def inchi_apply(df):\n",
    "    return(df.apply(inchi, axis=1, raw=True, result_type='expand'))"
   ]
  },
  {
   "cell_type": "code",
   "execution_count": 25,
   "id": "7301d454",
   "metadata": {},
   "outputs": [],
   "source": [
    "def inchi_generations_apply(df):\n",
    "    return(df.apply(inchi_generations, axis=1, raw=True, result_type='expand'))"
   ]
  },
  {
   "cell_type": "code",
   "execution_count": 54,
   "id": "c11c5401",
   "metadata": {},
   "outputs": [],
   "source": [
    "def prep_data_dask(library_set, test_set): #input filepaths for the 2 sets as tsv files\n",
    "    num_cores = 2\n",
    "    library_data = pd.read_csv(library_set, sep='\\t')\n",
    "    test_data = pd.read_csv(test_set, sep='\\t')\n",
    "    test_data_ddf = dd.from_pandas(test_data, npartitions=num_cores)\n",
    "    library_data_ddf = dd.from_pandas(library_data, npartitions=num_cores)\n",
    "    print(1)\n",
    "    test_data['Inchi'] = test_data_ddf.map_partitions(inchi_generations_apply, meta='float').compute(scheduler='processes')\n",
    "    print(2)\n",
    "    library_data['Inchi'] = library_data_ddf.map_partitions(inchi_apply, meta='float').compute(scheduler='processes')\n",
    "    return(library_data, test_data)"
   ]
  },
  {
   "cell_type": "code",
   "execution_count": 55,
   "id": "027d7e54",
   "metadata": {},
   "outputs": [],
   "source": [
    "def matches_search(df, library_codes):\n",
    "    test_codes = []\n",
    "    for i in range(len(df['Inchi'])):\n",
    "        if df['Inchi'][i] in library_codes:\n",
    "            test_codes.append(df['Inchi'][i])\n",
    "    return(test_codes)"
   ]
  },
  {
   "cell_type": "code",
   "execution_count": 64,
   "id": "94a76bbf",
   "metadata": {},
   "outputs": [],
   "source": [
    "def find_matches_dask(library_set, test_set):\n",
    "    num_cores = 2\n",
    "    library_data, test_data = prep_data_dask(library_set, test_set)\n",
    "    print(3)\n",
    "    library_codes = []\n",
    "    for i in range(len(library_data['Inchi'])):\n",
    "        library_codes.append(library_data['Inchi'][i])\n",
    "    print(4)\n",
    "    test_data_ddf = dd.from_pandas(test_data, npartitions=num_cores)\n",
    "    matches = []\n",
    "    matches_data = {'Matches': matches}\n",
    "    df = pd.DataFrame(matches_data)\n",
    "    df['Matches'] = test_data_ddf.map_partitions(matches_search, library_codes, meta='float'). compute(scheduler='processes')\n",
    "    print(5)\n",
    "    test_smiles = []\n",
    "    #library_smiles = []\n",
    "    matches_generations = []\n",
    "    for i in range(len(matches)):\n",
    "        for j in range(len(test_data['Inchi'])):\n",
    "            if matches[i] == test_data['Inchi'][j]:\n",
    "                test_smiles.append(test_data['Smiles'][j])\n",
    "                matches_generations.append(test_data['Generation'][j])\n",
    "        #for k in range(len(library_data['Inchi'])):\n",
    "            #if matches[i] == library_data['Inchi'][k]:\n",
    "                #library_smiles.append(library_data['Smiles'][k])\n",
    "    #matches_data = {'Generation': matches_generations, 'Test Smiles': test_smiles, 'Library Smiles': library_smiles, 'Inchi': matches}\n",
    "    matches = []\n",
    "    for i in range(len(df['Matches'])):\n",
    "        matches.append(df['Matches'][i])\n",
    "    matches_data = {'Generation': matches_generations, 'Smiles': test_smiles, 'Inchi': matches}\n",
    "    library_test_matches = pd.DataFrame(matches_data)\n",
    "    print(library_test_matches)"
   ]
  },
  {
   "cell_type": "code",
   "execution_count": 65,
   "id": "7a2fa5d6",
   "metadata": {},
   "outputs": [
    {
     "name": "stdout",
     "output_type": "stream",
     "text": [
      "1\n",
      "2\n",
      "3\n",
      "4\n"
     ]
    },
    {
     "ename": "KeyError",
     "evalue": "0\n\nTraceback\n---------\n  File \"/opt/anaconda3/envs/py4chemoinformatics/lib/python3.9/site-packages/dask/local.py\", line 223, in execute_task\n    result = _execute_task(task, data)\n  File \"/opt/anaconda3/envs/py4chemoinformatics/lib/python3.9/site-packages/dask/core.py\", line 121, in _execute_task\n    return func(*(_execute_task(a, cache) for a in args))\n  File \"/opt/anaconda3/envs/py4chemoinformatics/lib/python3.9/site-packages/dask/optimization.py\", line 969, in __call__\n    return core.get(self.dsk, self.outkey, dict(zip(self.inkeys, args)))\n  File \"/opt/anaconda3/envs/py4chemoinformatics/lib/python3.9/site-packages/dask/core.py\", line 151, in get\n    result = _execute_task(task, cache)\n  File \"/opt/anaconda3/envs/py4chemoinformatics/lib/python3.9/site-packages/dask/core.py\", line 121, in _execute_task\n    return func(*(_execute_task(a, cache) for a in args))\n  File \"/opt/anaconda3/envs/py4chemoinformatics/lib/python3.9/site-packages/dask/utils.py\", line 35, in apply\n    return func(*args, **kwargs)\n  File \"/opt/anaconda3/envs/py4chemoinformatics/lib/python3.9/site-packages/dask/dataframe/core.py\", line 5775, in apply_and_enforce\n    df = func(*args, **kwargs)\n  File \"<ipython-input-55-d1aa50b42497>\", line 4, in matches_search\n  File \"/opt/anaconda3/envs/py4chemoinformatics/lib/python3.9/site-packages/pandas/core/series.py\", line 853, in __getitem__\n    return self._get_value(key)\n  File \"/opt/anaconda3/envs/py4chemoinformatics/lib/python3.9/site-packages/pandas/core/series.py\", line 961, in _get_value\n    loc = self.index.get_loc(label)\n  File \"/opt/anaconda3/envs/py4chemoinformatics/lib/python3.9/site-packages/pandas/core/indexes/range.py\", line 353, in get_loc\n    raise KeyError(key) from err\n",
     "output_type": "error",
     "traceback": [
      "\u001b[0;31m---------------------------------------------------------------------------\u001b[0m",
      "\u001b[0;31mKeyError\u001b[0m                                  Traceback (most recent call last)",
      "\u001b[0;32m<timed eval>\u001b[0m in \u001b[0;36m<module>\u001b[0;34m\u001b[0m\n",
      "\u001b[0;32m<ipython-input-64-97e48b70d52d>\u001b[0m in \u001b[0;36mfind_matches_dask\u001b[0;34m(library_set, test_set)\u001b[0m\n\u001b[1;32m     11\u001b[0m     \u001b[0mmatches_data\u001b[0m \u001b[0;34m=\u001b[0m \u001b[0;34m{\u001b[0m\u001b[0;34m'Matches'\u001b[0m\u001b[0;34m:\u001b[0m \u001b[0mmatches\u001b[0m\u001b[0;34m}\u001b[0m\u001b[0;34m\u001b[0m\u001b[0;34m\u001b[0m\u001b[0m\n\u001b[1;32m     12\u001b[0m     \u001b[0mdf\u001b[0m \u001b[0;34m=\u001b[0m \u001b[0mpd\u001b[0m\u001b[0;34m.\u001b[0m\u001b[0mDataFrame\u001b[0m\u001b[0;34m(\u001b[0m\u001b[0mmatches_data\u001b[0m\u001b[0;34m)\u001b[0m\u001b[0;34m\u001b[0m\u001b[0;34m\u001b[0m\u001b[0m\n\u001b[0;32m---> 13\u001b[0;31m     \u001b[0mdf\u001b[0m\u001b[0;34m[\u001b[0m\u001b[0;34m'Matches'\u001b[0m\u001b[0;34m]\u001b[0m \u001b[0;34m=\u001b[0m \u001b[0mtest_data_ddf\u001b[0m\u001b[0;34m.\u001b[0m\u001b[0mmap_partitions\u001b[0m\u001b[0;34m(\u001b[0m\u001b[0mmatches_search\u001b[0m\u001b[0;34m,\u001b[0m \u001b[0mlibrary_codes\u001b[0m\u001b[0;34m,\u001b[0m \u001b[0mmeta\u001b[0m\u001b[0;34m=\u001b[0m\u001b[0;34m'float'\u001b[0m\u001b[0;34m)\u001b[0m\u001b[0;34m.\u001b[0m \u001b[0mcompute\u001b[0m\u001b[0;34m(\u001b[0m\u001b[0mscheduler\u001b[0m\u001b[0;34m=\u001b[0m\u001b[0;34m'processes'\u001b[0m\u001b[0;34m)\u001b[0m\u001b[0;34m\u001b[0m\u001b[0;34m\u001b[0m\u001b[0m\n\u001b[0m\u001b[1;32m     14\u001b[0m     \u001b[0mprint\u001b[0m\u001b[0;34m(\u001b[0m\u001b[0;36m5\u001b[0m\u001b[0;34m)\u001b[0m\u001b[0;34m\u001b[0m\u001b[0;34m\u001b[0m\u001b[0m\n\u001b[1;32m     15\u001b[0m     \u001b[0mtest_smiles\u001b[0m \u001b[0;34m=\u001b[0m \u001b[0;34m[\u001b[0m\u001b[0;34m]\u001b[0m\u001b[0;34m\u001b[0m\u001b[0;34m\u001b[0m\u001b[0m\n",
      "\u001b[0;32m/opt/anaconda3/envs/py4chemoinformatics/lib/python3.9/site-packages/dask/base.py\u001b[0m in \u001b[0;36mcompute\u001b[0;34m(self, **kwargs)\u001b[0m\n\u001b[1;32m    283\u001b[0m         \u001b[0mdask\u001b[0m\u001b[0;34m.\u001b[0m\u001b[0mbase\u001b[0m\u001b[0;34m.\u001b[0m\u001b[0mcompute\u001b[0m\u001b[0;34m\u001b[0m\u001b[0;34m\u001b[0m\u001b[0m\n\u001b[1;32m    284\u001b[0m         \"\"\"\n\u001b[0;32m--> 285\u001b[0;31m         \u001b[0;34m(\u001b[0m\u001b[0mresult\u001b[0m\u001b[0;34m,\u001b[0m\u001b[0;34m)\u001b[0m \u001b[0;34m=\u001b[0m \u001b[0mcompute\u001b[0m\u001b[0;34m(\u001b[0m\u001b[0mself\u001b[0m\u001b[0;34m,\u001b[0m \u001b[0mtraverse\u001b[0m\u001b[0;34m=\u001b[0m\u001b[0;32mFalse\u001b[0m\u001b[0;34m,\u001b[0m \u001b[0;34m**\u001b[0m\u001b[0mkwargs\u001b[0m\u001b[0;34m)\u001b[0m\u001b[0;34m\u001b[0m\u001b[0;34m\u001b[0m\u001b[0m\n\u001b[0m\u001b[1;32m    286\u001b[0m         \u001b[0;32mreturn\u001b[0m \u001b[0mresult\u001b[0m\u001b[0;34m\u001b[0m\u001b[0;34m\u001b[0m\u001b[0m\n\u001b[1;32m    287\u001b[0m \u001b[0;34m\u001b[0m\u001b[0m\n",
      "\u001b[0;32m/opt/anaconda3/envs/py4chemoinformatics/lib/python3.9/site-packages/dask/base.py\u001b[0m in \u001b[0;36mcompute\u001b[0;34m(*args, **kwargs)\u001b[0m\n\u001b[1;32m    565\u001b[0m         \u001b[0mpostcomputes\u001b[0m\u001b[0;34m.\u001b[0m\u001b[0mappend\u001b[0m\u001b[0;34m(\u001b[0m\u001b[0mx\u001b[0m\u001b[0;34m.\u001b[0m\u001b[0m__dask_postcompute__\u001b[0m\u001b[0;34m(\u001b[0m\u001b[0;34m)\u001b[0m\u001b[0;34m)\u001b[0m\u001b[0;34m\u001b[0m\u001b[0;34m\u001b[0m\u001b[0m\n\u001b[1;32m    566\u001b[0m \u001b[0;34m\u001b[0m\u001b[0m\n\u001b[0;32m--> 567\u001b[0;31m     \u001b[0mresults\u001b[0m \u001b[0;34m=\u001b[0m \u001b[0mschedule\u001b[0m\u001b[0;34m(\u001b[0m\u001b[0mdsk\u001b[0m\u001b[0;34m,\u001b[0m \u001b[0mkeys\u001b[0m\u001b[0;34m,\u001b[0m \u001b[0;34m**\u001b[0m\u001b[0mkwargs\u001b[0m\u001b[0;34m)\u001b[0m\u001b[0;34m\u001b[0m\u001b[0;34m\u001b[0m\u001b[0m\n\u001b[0m\u001b[1;32m    568\u001b[0m     \u001b[0;32mreturn\u001b[0m \u001b[0mrepack\u001b[0m\u001b[0;34m(\u001b[0m\u001b[0;34m[\u001b[0m\u001b[0mf\u001b[0m\u001b[0;34m(\u001b[0m\u001b[0mr\u001b[0m\u001b[0;34m,\u001b[0m \u001b[0;34m*\u001b[0m\u001b[0ma\u001b[0m\u001b[0;34m)\u001b[0m \u001b[0;32mfor\u001b[0m \u001b[0mr\u001b[0m\u001b[0;34m,\u001b[0m \u001b[0;34m(\u001b[0m\u001b[0mf\u001b[0m\u001b[0;34m,\u001b[0m \u001b[0ma\u001b[0m\u001b[0;34m)\u001b[0m \u001b[0;32min\u001b[0m \u001b[0mzip\u001b[0m\u001b[0;34m(\u001b[0m\u001b[0mresults\u001b[0m\u001b[0;34m,\u001b[0m \u001b[0mpostcomputes\u001b[0m\u001b[0;34m)\u001b[0m\u001b[0;34m]\u001b[0m\u001b[0;34m)\u001b[0m\u001b[0;34m\u001b[0m\u001b[0;34m\u001b[0m\u001b[0m\n\u001b[1;32m    569\u001b[0m \u001b[0;34m\u001b[0m\u001b[0m\n",
      "\u001b[0;32m/opt/anaconda3/envs/py4chemoinformatics/lib/python3.9/site-packages/dask/multiprocessing.py\u001b[0m in \u001b[0;36mget\u001b[0;34m(dsk, keys, num_workers, func_loads, func_dumps, optimize_graph, pool, chunksize, **kwargs)\u001b[0m\n\u001b[1;32m    217\u001b[0m     \u001b[0;32mtry\u001b[0m\u001b[0;34m:\u001b[0m\u001b[0;34m\u001b[0m\u001b[0;34m\u001b[0m\u001b[0m\n\u001b[1;32m    218\u001b[0m         \u001b[0;31m# Run\u001b[0m\u001b[0;34m\u001b[0m\u001b[0;34m\u001b[0m\u001b[0;34m\u001b[0m\u001b[0m\n\u001b[0;32m--> 219\u001b[0;31m         result = get_async(\n\u001b[0m\u001b[1;32m    220\u001b[0m             \u001b[0mpool\u001b[0m\u001b[0;34m.\u001b[0m\u001b[0msubmit\u001b[0m\u001b[0;34m,\u001b[0m\u001b[0;34m\u001b[0m\u001b[0;34m\u001b[0m\u001b[0m\n\u001b[1;32m    221\u001b[0m             \u001b[0mpool\u001b[0m\u001b[0;34m.\u001b[0m\u001b[0m_max_workers\u001b[0m\u001b[0;34m,\u001b[0m\u001b[0;34m\u001b[0m\u001b[0;34m\u001b[0m\u001b[0m\n",
      "\u001b[0;32m/opt/anaconda3/envs/py4chemoinformatics/lib/python3.9/site-packages/dask/local.py\u001b[0m in \u001b[0;36mget_async\u001b[0;34m(submit, num_workers, dsk, result, cache, get_id, rerun_exceptions_locally, pack_exception, raise_exception, callbacks, dumps, loads, chunksize, **kwargs)\u001b[0m\n\u001b[1;32m    512\u001b[0m                             \u001b[0m_execute_task\u001b[0m\u001b[0;34m(\u001b[0m\u001b[0mtask\u001b[0m\u001b[0;34m,\u001b[0m \u001b[0mdata\u001b[0m\u001b[0;34m)\u001b[0m  \u001b[0;31m# Re-execute locally\u001b[0m\u001b[0;34m\u001b[0m\u001b[0;34m\u001b[0m\u001b[0m\n\u001b[1;32m    513\u001b[0m                         \u001b[0;32melse\u001b[0m\u001b[0;34m:\u001b[0m\u001b[0;34m\u001b[0m\u001b[0;34m\u001b[0m\u001b[0m\n\u001b[0;32m--> 514\u001b[0;31m                             \u001b[0mraise_exception\u001b[0m\u001b[0;34m(\u001b[0m\u001b[0mexc\u001b[0m\u001b[0;34m,\u001b[0m \u001b[0mtb\u001b[0m\u001b[0;34m)\u001b[0m\u001b[0;34m\u001b[0m\u001b[0;34m\u001b[0m\u001b[0m\n\u001b[0m\u001b[1;32m    515\u001b[0m                     \u001b[0mres\u001b[0m\u001b[0;34m,\u001b[0m \u001b[0mworker_id\u001b[0m \u001b[0;34m=\u001b[0m \u001b[0mloads\u001b[0m\u001b[0;34m(\u001b[0m\u001b[0mres_info\u001b[0m\u001b[0;34m)\u001b[0m\u001b[0;34m\u001b[0m\u001b[0;34m\u001b[0m\u001b[0m\n\u001b[1;32m    516\u001b[0m                     \u001b[0mstate\u001b[0m\u001b[0;34m[\u001b[0m\u001b[0;34m\"cache\"\u001b[0m\u001b[0;34m]\u001b[0m\u001b[0;34m[\u001b[0m\u001b[0mkey\u001b[0m\u001b[0;34m]\u001b[0m \u001b[0;34m=\u001b[0m \u001b[0mres\u001b[0m\u001b[0;34m\u001b[0m\u001b[0;34m\u001b[0m\u001b[0m\n",
      "\u001b[0;32m/opt/anaconda3/envs/py4chemoinformatics/lib/python3.9/site-packages/dask/multiprocessing.py\u001b[0m in \u001b[0;36mreraise\u001b[0;34m(exc, tb)\u001b[0m\n\u001b[1;32m    107\u001b[0m     \u001b[0;32mdef\u001b[0m \u001b[0mreraise\u001b[0m\u001b[0;34m(\u001b[0m\u001b[0mexc\u001b[0m\u001b[0;34m,\u001b[0m \u001b[0mtb\u001b[0m\u001b[0;34m)\u001b[0m\u001b[0;34m:\u001b[0m\u001b[0;34m\u001b[0m\u001b[0;34m\u001b[0m\u001b[0m\n\u001b[1;32m    108\u001b[0m         \u001b[0mexc\u001b[0m \u001b[0;34m=\u001b[0m \u001b[0mremote_exception\u001b[0m\u001b[0;34m(\u001b[0m\u001b[0mexc\u001b[0m\u001b[0;34m,\u001b[0m \u001b[0mtb\u001b[0m\u001b[0;34m)\u001b[0m\u001b[0;34m\u001b[0m\u001b[0;34m\u001b[0m\u001b[0m\n\u001b[0;32m--> 109\u001b[0;31m         \u001b[0;32mraise\u001b[0m \u001b[0mexc\u001b[0m\u001b[0;34m\u001b[0m\u001b[0;34m\u001b[0m\u001b[0m\n\u001b[0m\u001b[1;32m    110\u001b[0m \u001b[0;34m\u001b[0m\u001b[0m\n\u001b[1;32m    111\u001b[0m \u001b[0;34m\u001b[0m\u001b[0m\n",
      "\u001b[0;31mKeyError\u001b[0m: 0\n\nTraceback\n---------\n  File \"/opt/anaconda3/envs/py4chemoinformatics/lib/python3.9/site-packages/dask/local.py\", line 223, in execute_task\n    result = _execute_task(task, data)\n  File \"/opt/anaconda3/envs/py4chemoinformatics/lib/python3.9/site-packages/dask/core.py\", line 121, in _execute_task\n    return func(*(_execute_task(a, cache) for a in args))\n  File \"/opt/anaconda3/envs/py4chemoinformatics/lib/python3.9/site-packages/dask/optimization.py\", line 969, in __call__\n    return core.get(self.dsk, self.outkey, dict(zip(self.inkeys, args)))\n  File \"/opt/anaconda3/envs/py4chemoinformatics/lib/python3.9/site-packages/dask/core.py\", line 151, in get\n    result = _execute_task(task, cache)\n  File \"/opt/anaconda3/envs/py4chemoinformatics/lib/python3.9/site-packages/dask/core.py\", line 121, in _execute_task\n    return func(*(_execute_task(a, cache) for a in args))\n  File \"/opt/anaconda3/envs/py4chemoinformatics/lib/python3.9/site-packages/dask/utils.py\", line 35, in apply\n    return func(*args, **kwargs)\n  File \"/opt/anaconda3/envs/py4chemoinformatics/lib/python3.9/site-packages/dask/dataframe/core.py\", line 5775, in apply_and_enforce\n    df = func(*args, **kwargs)\n  File \"<ipython-input-55-d1aa50b42497>\", line 4, in matches_search\n  File \"/opt/anaconda3/envs/py4chemoinformatics/lib/python3.9/site-packages/pandas/core/series.py\", line 853, in __getitem__\n    return self._get_value(key)\n  File \"/opt/anaconda3/envs/py4chemoinformatics/lib/python3.9/site-packages/pandas/core/series.py\", line 961, in _get_value\n    loc = self.index.get_loc(label)\n  File \"/opt/anaconda3/envs/py4chemoinformatics/lib/python3.9/site-packages/pandas/core/indexes/range.py\", line 353, in get_loc\n    raise KeyError(key) from err\n"
     ]
    }
   ],
   "source": [
    "%%time\n",
    "find_matches_dask('./CHNO_Data/Prepped_CHNO_Smiles.tsv', './PyruvicAcidData/pyruvic_output.tsv')"
   ]
  }
 ],
 "metadata": {
  "kernelspec": {
   "display_name": "Python 3",
   "language": "python",
   "name": "python3"
  },
  "language_info": {
   "codemirror_mode": {
    "name": "ipython",
    "version": 3
   },
   "file_extension": ".py",
   "mimetype": "text/x-python",
   "name": "python",
   "nbconvert_exporter": "python",
   "pygments_lexer": "ipython3",
   "version": "3.9.4"
  }
 },
 "nbformat": 4,
 "nbformat_minor": 5
}
