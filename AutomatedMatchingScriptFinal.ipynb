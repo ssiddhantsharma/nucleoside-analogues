{
 "cells": [
  {
   "cell_type": "markdown",
   "id": "837f04bd",
   "metadata": {},
   "source": [
    "## Automated matching script"
   ]
  },
  {
   "cell_type": "code",
   "execution_count": 1,
   "id": "b853e2d9",
   "metadata": {},
   "outputs": [],
   "source": [
    "from openbabel import openbabel"
   ]
  },
  {
   "cell_type": "code",
   "execution_count": 2,
   "id": "51f3c04a",
   "metadata": {},
   "outputs": [],
   "source": [
    "from rdkit import Chem\n",
    "from rdkit.Chem import rdBase\n",
    "from rdkit.Chem import Draw\n",
    "from rdkit.Chem.Draw import IPythonConsole\n",
    "from rdkit.Chem import Descriptors\n",
    "from rdkit.Chem import Crippen"
   ]
  },
  {
   "cell_type": "code",
   "execution_count": 3,
   "id": "3afeab3e",
   "metadata": {},
   "outputs": [],
   "source": [
    "import pandas as pd\n",
    "import matplotlib.pyplot as plt\n",
    "import numpy as np\n",
    "import scipy.stats as ss"
   ]
  },
  {
   "cell_type": "code",
   "execution_count": 4,
   "id": "4e25a91e",
   "metadata": {},
   "outputs": [],
   "source": [
    "def inchi(array):\n",
    "    Smiles = array[0] #if no generations\n",
    "    mol = Chem.MolFromSmiles(Smiles)\n",
    "    dummy = Chem.inchi.MolToInchiKey(mol)\n",
    "    return(dummy)"
   ]
  },
  {
   "cell_type": "code",
   "execution_count": 5,
   "id": "96a1d998",
   "metadata": {},
   "outputs": [],
   "source": [
    "def inchi_generations(array):\n",
    "    Smiles = array[1] # if generations\n",
    "    mol = Chem.MolFromSmiles(Smiles)\n",
    "    dummy = Chem.inchi.MolToInchiKey(mol)\n",
    "    return(dummy)"
   ]
  },
  {
   "cell_type": "code",
   "execution_count": 6,
   "id": "7e133602",
   "metadata": {},
   "outputs": [],
   "source": [
    "def prep_data(library_set, test_set): #input filepaths for the 2 sets as tsv files\n",
    "    library_data = pd.read_csv(library_set, sep='\\t')\n",
    "    test_data = pd.read_csv(test_set, sep='\\t')\n",
    "    print(1)\n",
    "    test_data['Inchi'] = test_data.apply(inchi_generations, axis=1, raw=True, result_type='expand')\n",
    "    print(2)\n",
    "    library_data['Inchi'] = library_data.apply(inchi, axis=1, raw=True, result_type='expand')\n",
    "    return(library_data, test_data)"
   ]
  },
  {
   "cell_type": "code",
   "execution_count": 7,
   "id": "d605e3e7",
   "metadata": {},
   "outputs": [],
   "source": [
    "def find_matches(library_set, test_set):\n",
    "    library_data, test_data = prep_data(library_set, test_set)\n",
    "    print(3)\n",
    "    test_codes = []\n",
    "    for i in range(len(test_data['Inchi'])):\n",
    "        test_codes.append(test_data['Inchi'][i])\n",
    "    library_codes = []\n",
    "    for i in range(len(library_data['Inchi'])):\n",
    "        library_codes.append(library_data['Inchi'][i])\n",
    "    print(4)\n",
    "    matches = []\n",
    "    for i in range(len(test_codes)):\n",
    "        if test_codes[i] in library_codes:\n",
    "            matches.append(test_codes[i])\n",
    "    matches_smiles = []\n",
    "    matches_generations = []\n",
    "    for i in range(len(matches)):\n",
    "        for j in range(len(test_data['Inchi'])):\n",
    "            if matches[i] == test_data['Inchi'][j]:\n",
    "                matches_smiles.append(test_data['Smiles'][j])\n",
    "                matches_generations.append(test_data['Generation'][j])\n",
    "    matches_data = {'Generation': matches_generations, 'Smiles': matches_smiles, 'Inchi': matches}\n",
    "    library_test_matches = pd.DataFrame(matches_data)\n",
    "    return(library_test_matches)"
   ]
  },
  {
   "cell_type": "code",
   "execution_count": 10,
   "id": "f8d01805",
   "metadata": {},
   "outputs": [
    {
     "name": "stdout",
     "output_type": "stream",
     "text": [
      "1\n",
      "2\n",
      "3\n",
      "4\n"
     ]
    }
   ],
   "source": [
    "a = find_matches('./CHNO_Data/Sample1000_CHNO.tsv', './FormoseAmmData/Sample1000_FormoseAmm.tsv')"
   ]
  },
  {
   "cell_type": "code",
   "execution_count": null,
   "id": "bf025073",
   "metadata": {},
   "outputs": [],
   "source": []
  }
 ],
 "metadata": {
  "kernelspec": {
   "display_name": "Python 3",
   "language": "python",
   "name": "python3"
  },
  "language_info": {
   "codemirror_mode": {
    "name": "ipython",
    "version": 3
   },
   "file_extension": ".py",
   "mimetype": "text/x-python",
   "name": "python",
   "nbconvert_exporter": "python",
   "pygments_lexer": "ipython3",
   "version": "3.9.4"
  }
 },
 "nbformat": 4,
 "nbformat_minor": 5
}
